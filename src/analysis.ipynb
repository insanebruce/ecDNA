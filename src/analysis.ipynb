{
 "metadata": {
  "language_info": {
   "codemirror_mode": {
    "name": "ipython",
    "version": 3
   },
   "file_extension": ".py",
   "mimetype": "text/x-python",
   "name": "python",
   "nbconvert_exporter": "python",
   "pygments_lexer": "ipython3",
   "version": "3.7.9-final"
  },
  "orig_nbformat": 2,
  "kernelspec": {
   "name": "python3",
   "display_name": "Python 3.7.9 64-bit ('base': conda)",
   "metadata": {
    "interpreter": {
     "hash": "f4d158fe5c13320a4e2fe03fb6b58c599830bfe52ddb82e7f2ffc7060a530f40"
    }
   }
  }
 },
 "nbformat": 4,
 "nbformat_minor": 2,
 "cells": [
  {
   "source": [
    "# CSE 280A Project"
   ],
   "cell_type": "markdown",
   "metadata": {}
  },
  {
   "cell_type": "code",
   "execution_count": 64,
   "metadata": {},
   "outputs": [],
   "source": [
    "import pandas as pd\n",
    "import numpy as np\n",
    "from scipy import stats\n",
    "from collections import Counter\n",
    "import matplotlib\n",
    "import matplotlib.pyplot as plt"
   ]
  },
  {
   "cell_type": "code",
   "execution_count": 2,
   "metadata": {},
   "outputs": [
    {
     "output_type": "stream",
     "name": "stdout",
     "text": [
      "(3212, 7)\n"
     ]
    },
    {
     "output_type": "execute_result",
     "data": {
      "text/plain": [
       "  study patient_barcode sample_barcode  min_cnv  number_amp_region  \\\n",
       "0  PCWG         DO51086       SA530559        4                 30   \n",
       "1  PCWG         DO48759       SA515463        4                  5   \n",
       "2  PCWG         DO48916       SA517420        4                  0   \n",
       "3  PCWG         DO51046       SA530430        4                  2   \n",
       "4  PCWG         DO45251       SA501507        4                  3   \n",
       "\n",
       "  sample_classification_nam_2019 sample_classification  \n",
       "0                            NaN          Non-circular  \n",
       "1                            NaN          Non-circular  \n",
       "2                            NaN      No SCNA detected  \n",
       "3                            NaN      No SCNA detected  \n",
       "4                            NaN              Circular  "
      ],
      "text/html": "<div>\n<style scoped>\n    .dataframe tbody tr th:only-of-type {\n        vertical-align: middle;\n    }\n\n    .dataframe tbody tr th {\n        vertical-align: top;\n    }\n\n    .dataframe thead th {\n        text-align: right;\n    }\n</style>\n<table border=\"1\" class=\"dataframe\">\n  <thead>\n    <tr style=\"text-align: right;\">\n      <th></th>\n      <th>study</th>\n      <th>patient_barcode</th>\n      <th>sample_barcode</th>\n      <th>min_cnv</th>\n      <th>number_amp_region</th>\n      <th>sample_classification_nam_2019</th>\n      <th>sample_classification</th>\n    </tr>\n  </thead>\n  <tbody>\n    <tr>\n      <th>0</th>\n      <td>PCWG</td>\n      <td>DO51086</td>\n      <td>SA530559</td>\n      <td>4</td>\n      <td>30</td>\n      <td>NaN</td>\n      <td>Non-circular</td>\n    </tr>\n    <tr>\n      <th>1</th>\n      <td>PCWG</td>\n      <td>DO48759</td>\n      <td>SA515463</td>\n      <td>4</td>\n      <td>5</td>\n      <td>NaN</td>\n      <td>Non-circular</td>\n    </tr>\n    <tr>\n      <th>2</th>\n      <td>PCWG</td>\n      <td>DO48916</td>\n      <td>SA517420</td>\n      <td>4</td>\n      <td>0</td>\n      <td>NaN</td>\n      <td>No SCNA detected</td>\n    </tr>\n    <tr>\n      <th>3</th>\n      <td>PCWG</td>\n      <td>DO51046</td>\n      <td>SA530430</td>\n      <td>4</td>\n      <td>2</td>\n      <td>NaN</td>\n      <td>No SCNA detected</td>\n    </tr>\n    <tr>\n      <th>4</th>\n      <td>PCWG</td>\n      <td>DO45251</td>\n      <td>SA501507</td>\n      <td>4</td>\n      <td>3</td>\n      <td>NaN</td>\n      <td>Circular</td>\n    </tr>\n  </tbody>\n</table>\n</div>"
     },
     "metadata": {},
     "execution_count": 2
    }
   ],
   "source": [
    "## Load the reference file (classification for each sample)\n",
    "ref = pd.read_csv(\"../data/pcaa-master-platinum_set_2020.tsv\", sep=\"\\t\", header=0, usecols=[0,7,8,12,13,28,32])\n",
    "print(ref.shape)\n",
    "ref.head()"
   ]
  },
  {
   "cell_type": "code",
   "execution_count": 3,
   "metadata": {},
   "outputs": [
    {
     "output_type": "stream",
     "name": "stdout",
     "text": [
      "(1921, 7)\n"
     ]
    },
    {
     "output_type": "execute_result",
     "data": {
      "text/plain": [
       "     study patient_barcode   sample_barcode  min_cnv  number_amp_region  \\\n",
       "1291  TCGA    TCGA-02-2483  TCGA-02-2483-01        1                 20   \n",
       "1292  TCGA    TCGA-02-2485  TCGA-02-2485-01        1                 33   \n",
       "1293  TCGA    TCGA-04-1331  TCGA-04-1331-01        1                  4   \n",
       "1294  TCGA    TCGA-04-1347  TCGA-04-1347-01        1                 12   \n",
       "1295  TCGA    TCGA-04-1349  TCGA-04-1349-01        1                 26   \n",
       "\n",
       "     sample_classification_nam_2019 sample_classification  \n",
       "1291                         Distal    Heavily-rearranged  \n",
       "1292                       Circular              Circular  \n",
       "1293                         Linear          Non-circular  \n",
       "1294                       Circular              Circular  \n",
       "1295                         Distal    Heavily-rearranged  "
      ],
      "text/html": "<div>\n<style scoped>\n    .dataframe tbody tr th:only-of-type {\n        vertical-align: middle;\n    }\n\n    .dataframe tbody tr th {\n        vertical-align: top;\n    }\n\n    .dataframe thead th {\n        text-align: right;\n    }\n</style>\n<table border=\"1\" class=\"dataframe\">\n  <thead>\n    <tr style=\"text-align: right;\">\n      <th></th>\n      <th>study</th>\n      <th>patient_barcode</th>\n      <th>sample_barcode</th>\n      <th>min_cnv</th>\n      <th>number_amp_region</th>\n      <th>sample_classification_nam_2019</th>\n      <th>sample_classification</th>\n    </tr>\n  </thead>\n  <tbody>\n    <tr>\n      <th>1291</th>\n      <td>TCGA</td>\n      <td>TCGA-02-2483</td>\n      <td>TCGA-02-2483-01</td>\n      <td>1</td>\n      <td>20</td>\n      <td>Distal</td>\n      <td>Heavily-rearranged</td>\n    </tr>\n    <tr>\n      <th>1292</th>\n      <td>TCGA</td>\n      <td>TCGA-02-2485</td>\n      <td>TCGA-02-2485-01</td>\n      <td>1</td>\n      <td>33</td>\n      <td>Circular</td>\n      <td>Circular</td>\n    </tr>\n    <tr>\n      <th>1293</th>\n      <td>TCGA</td>\n      <td>TCGA-04-1331</td>\n      <td>TCGA-04-1331-01</td>\n      <td>1</td>\n      <td>4</td>\n      <td>Linear</td>\n      <td>Non-circular</td>\n    </tr>\n    <tr>\n      <th>1294</th>\n      <td>TCGA</td>\n      <td>TCGA-04-1347</td>\n      <td>TCGA-04-1347-01</td>\n      <td>1</td>\n      <td>12</td>\n      <td>Circular</td>\n      <td>Circular</td>\n    </tr>\n    <tr>\n      <th>1295</th>\n      <td>TCGA</td>\n      <td>TCGA-04-1349</td>\n      <td>TCGA-04-1349-01</td>\n      <td>1</td>\n      <td>26</td>\n      <td>Distal</td>\n      <td>Heavily-rearranged</td>\n    </tr>\n  </tbody>\n</table>\n</div>"
     },
     "metadata": {},
     "execution_count": 3
    }
   ],
   "source": [
    "## Only keep TCGA samples\n",
    "ref = ref[ref['study'] == 'TCGA']\n",
    "print(ref.shape)\n",
    "ref.head()"
   ]
  },
  {
   "cell_type": "code",
   "execution_count": 4,
   "metadata": {},
   "outputs": [
    {
     "output_type": "stream",
     "name": "stdout",
     "text": [
      "(315, 10955)\n"
     ]
    },
    {
     "output_type": "execute_result",
     "data": {
      "text/plain": [
       "  track_name track_type TCGA-ER-A195 TCGA-XK-AAJA TCGA-CH-5788   TCGA-OR-A5JX  \\\n",
       "0        APC        CNA   homdel_rec   homdel_rec   homdel_rec  Amplification   \n",
       "1   ARHGEF12        CNA          NaN          NaN          NaN            NaN   \n",
       "2        ATM        CNA          NaN          NaN          NaN            NaN   \n",
       "3     BCL11B        CNA          NaN          NaN          NaN            NaN   \n",
       "4        BLM        CNA          NaN          NaN          NaN            NaN   \n",
       "\n",
       "    TCGA-CJ-4886 TCGA-EQ-A4SO TCGA-CE-A3MD TCGA-DM-A28K  ... TCGA-97-A4M2  \\\n",
       "0  Amplification          NaN          NaN   homdel_rec  ...          NaN   \n",
       "1            NaN          NaN          NaN          NaN  ...          NaN   \n",
       "2            NaN          NaN          NaN          NaN  ...          NaN   \n",
       "3            NaN          NaN          NaN          NaN  ...          NaN   \n",
       "4            NaN          NaN          NaN          NaN  ...          NaN   \n",
       "\n",
       "  TCGA-97-7552 TCGA-97-8552 TCGA-98-A53C TCGA-98-A53D TCGA-98-A53H  \\\n",
       "0          NaN          NaN          NaN          NaN          NaN   \n",
       "1          NaN          NaN          NaN          NaN          NaN   \n",
       "2          NaN          NaN          NaN          NaN          NaN   \n",
       "3          NaN          NaN          NaN          NaN          NaN   \n",
       "4          NaN          NaN          NaN          NaN          NaN   \n",
       "\n",
       "  TCGA-99-AA5R TCGA-13-2066 TCGA-BP-4345 TCGA-OR-A5OG  \n",
       "0          NaN          NaN          NaN          NaN  \n",
       "1          NaN          NaN          NaN          NaN  \n",
       "2          NaN          NaN          NaN          NaN  \n",
       "3          NaN          NaN          NaN          NaN  \n",
       "4          NaN          NaN          NaN          NaN  \n",
       "\n",
       "[5 rows x 10955 columns]"
      ],
      "text/html": "<div>\n<style scoped>\n    .dataframe tbody tr th:only-of-type {\n        vertical-align: middle;\n    }\n\n    .dataframe tbody tr th {\n        vertical-align: top;\n    }\n\n    .dataframe thead th {\n        text-align: right;\n    }\n</style>\n<table border=\"1\" class=\"dataframe\">\n  <thead>\n    <tr style=\"text-align: right;\">\n      <th></th>\n      <th>track_name</th>\n      <th>track_type</th>\n      <th>TCGA-ER-A195</th>\n      <th>TCGA-XK-AAJA</th>\n      <th>TCGA-CH-5788</th>\n      <th>TCGA-OR-A5JX</th>\n      <th>TCGA-CJ-4886</th>\n      <th>TCGA-EQ-A4SO</th>\n      <th>TCGA-CE-A3MD</th>\n      <th>TCGA-DM-A28K</th>\n      <th>...</th>\n      <th>TCGA-97-A4M2</th>\n      <th>TCGA-97-7552</th>\n      <th>TCGA-97-8552</th>\n      <th>TCGA-98-A53C</th>\n      <th>TCGA-98-A53D</th>\n      <th>TCGA-98-A53H</th>\n      <th>TCGA-99-AA5R</th>\n      <th>TCGA-13-2066</th>\n      <th>TCGA-BP-4345</th>\n      <th>TCGA-OR-A5OG</th>\n    </tr>\n  </thead>\n  <tbody>\n    <tr>\n      <th>0</th>\n      <td>APC</td>\n      <td>CNA</td>\n      <td>homdel_rec</td>\n      <td>homdel_rec</td>\n      <td>homdel_rec</td>\n      <td>Amplification</td>\n      <td>Amplification</td>\n      <td>NaN</td>\n      <td>NaN</td>\n      <td>homdel_rec</td>\n      <td>...</td>\n      <td>NaN</td>\n      <td>NaN</td>\n      <td>NaN</td>\n      <td>NaN</td>\n      <td>NaN</td>\n      <td>NaN</td>\n      <td>NaN</td>\n      <td>NaN</td>\n      <td>NaN</td>\n      <td>NaN</td>\n    </tr>\n    <tr>\n      <th>1</th>\n      <td>ARHGEF12</td>\n      <td>CNA</td>\n      <td>NaN</td>\n      <td>NaN</td>\n      <td>NaN</td>\n      <td>NaN</td>\n      <td>NaN</td>\n      <td>NaN</td>\n      <td>NaN</td>\n      <td>NaN</td>\n      <td>...</td>\n      <td>NaN</td>\n      <td>NaN</td>\n      <td>NaN</td>\n      <td>NaN</td>\n      <td>NaN</td>\n      <td>NaN</td>\n      <td>NaN</td>\n      <td>NaN</td>\n      <td>NaN</td>\n      <td>NaN</td>\n    </tr>\n    <tr>\n      <th>2</th>\n      <td>ATM</td>\n      <td>CNA</td>\n      <td>NaN</td>\n      <td>NaN</td>\n      <td>NaN</td>\n      <td>NaN</td>\n      <td>NaN</td>\n      <td>NaN</td>\n      <td>NaN</td>\n      <td>NaN</td>\n      <td>...</td>\n      <td>NaN</td>\n      <td>NaN</td>\n      <td>NaN</td>\n      <td>NaN</td>\n      <td>NaN</td>\n      <td>NaN</td>\n      <td>NaN</td>\n      <td>NaN</td>\n      <td>NaN</td>\n      <td>NaN</td>\n    </tr>\n    <tr>\n      <th>3</th>\n      <td>BCL11B</td>\n      <td>CNA</td>\n      <td>NaN</td>\n      <td>NaN</td>\n      <td>NaN</td>\n      <td>NaN</td>\n      <td>NaN</td>\n      <td>NaN</td>\n      <td>NaN</td>\n      <td>NaN</td>\n      <td>...</td>\n      <td>NaN</td>\n      <td>NaN</td>\n      <td>NaN</td>\n      <td>NaN</td>\n      <td>NaN</td>\n      <td>NaN</td>\n      <td>NaN</td>\n      <td>NaN</td>\n      <td>NaN</td>\n      <td>NaN</td>\n    </tr>\n    <tr>\n      <th>4</th>\n      <td>BLM</td>\n      <td>CNA</td>\n      <td>NaN</td>\n      <td>NaN</td>\n      <td>NaN</td>\n      <td>NaN</td>\n      <td>NaN</td>\n      <td>NaN</td>\n      <td>NaN</td>\n      <td>NaN</td>\n      <td>...</td>\n      <td>NaN</td>\n      <td>NaN</td>\n      <td>NaN</td>\n      <td>NaN</td>\n      <td>NaN</td>\n      <td>NaN</td>\n      <td>NaN</td>\n      <td>NaN</td>\n      <td>NaN</td>\n      <td>NaN</td>\n    </tr>\n  </tbody>\n</table>\n<p>5 rows × 10955 columns</p>\n</div>"
     },
     "metadata": {},
     "execution_count": 4
    }
   ],
   "source": [
    "## Load the oncoprint matrix after querying genes against all TCGA studies\n",
    "res = pd.read_csv(\"../data/PATIENT_DATA_oncoprint.tsv\", sep=\"\\t\", header=0, skiprows=[1,2,3,4])\n",
    "print(res.shape)\n",
    "res.head()"
   ]
  },
  {
   "cell_type": "code",
   "execution_count": 32,
   "metadata": {},
   "outputs": [
    {
     "output_type": "stream",
     "name": "stdout",
     "text": [
      "(4, 10955)\n"
     ]
    },
    {
     "output_type": "execute_result",
     "data": {
      "text/plain": [
       "                             track_name track_type  \\\n",
       "0                       Study of origin   CLINICAL   \n",
       "1                 # Samples per Patient   CLINICAL   \n",
       "2  Profiled for copy number alterations   CLINICAL   \n",
       "3                Profiled for mutations   CLINICAL   \n",
       "\n",
       "                                      TCGA-ER-A195  \\\n",
       "0  Skin Cutaneous Melanoma (TCGA, PanCancer Atlas)   \n",
       "1                                                1   \n",
       "2                                              Yes   \n",
       "3                                              Yes   \n",
       "\n",
       "                                      TCGA-XK-AAJA  \\\n",
       "0  Prostate Adenocarcinoma (TCGA, PanCancer Atlas)   \n",
       "1                                                1   \n",
       "2                                              Yes   \n",
       "3                                              Yes   \n",
       "\n",
       "                                      TCGA-CH-5788  \\\n",
       "0  Prostate Adenocarcinoma (TCGA, PanCancer Atlas)   \n",
       "1                                                1   \n",
       "2                                              Yes   \n",
       "3                                              Yes   \n",
       "\n",
       "                                       TCGA-OR-A5JX  \\\n",
       "0  Adrenocortical Carcinoma (TCGA, PanCancer Atlas)   \n",
       "1                                                 1   \n",
       "2                                               Yes   \n",
       "3                                               Yes   \n",
       "\n",
       "                                        TCGA-CJ-4886  \\\n",
       "0  Kidney Renal Clear Cell Carcinoma (TCGA, PanCa...   \n",
       "1                                                  1   \n",
       "2                                                Yes   \n",
       "3                                                Yes   \n",
       "\n",
       "                                     TCGA-EQ-A4SO  \\\n",
       "0  Stomach Adenocarcinoma (TCGA, PanCancer Atlas)   \n",
       "1                                               1   \n",
       "2                                             Yes   \n",
       "3                                             Yes   \n",
       "\n",
       "                                TCGA-CE-A3MD  \\\n",
       "0  Thyroid Carcinoma (TCGA, PanCancer Atlas)   \n",
       "1                                          1   \n",
       "2                                        Yes   \n",
       "3                                        Yes   \n",
       "\n",
       "                                        TCGA-DM-A28K  ...  \\\n",
       "0  Colorectal Adenocarcinoma (TCGA, PanCancer Atlas)  ...   \n",
       "1                                                  1  ...   \n",
       "2                                                Yes  ...   \n",
       "3                                                Yes  ...   \n",
       "\n",
       "                                  TCGA-97-A4M2  \\\n",
       "0  Lung Adenocarcinoma (TCGA, PanCancer Atlas)   \n",
       "1                                            1   \n",
       "2                                          Yes   \n",
       "3                                          Yes   \n",
       "\n",
       "                                  TCGA-97-7552  \\\n",
       "0  Lung Adenocarcinoma (TCGA, PanCancer Atlas)   \n",
       "1                                            1   \n",
       "2                                          Yes   \n",
       "3                                          Yes   \n",
       "\n",
       "                                  TCGA-97-8552  \\\n",
       "0  Lung Adenocarcinoma (TCGA, PanCancer Atlas)   \n",
       "1                                            1   \n",
       "2                                          Yes   \n",
       "3                                          Yes   \n",
       "\n",
       "                                        TCGA-98-A53C  \\\n",
       "0  Lung Squamous Cell Carcinoma (TCGA, PanCancer ...   \n",
       "1                                                  1   \n",
       "2                                                Yes   \n",
       "3                                                Yes   \n",
       "\n",
       "                                        TCGA-98-A53D  \\\n",
       "0  Lung Squamous Cell Carcinoma (TCGA, PanCancer ...   \n",
       "1                                                  1   \n",
       "2                                                Yes   \n",
       "3                                                NaN   \n",
       "\n",
       "                                        TCGA-98-A53H  \\\n",
       "0  Lung Squamous Cell Carcinoma (TCGA, PanCancer ...   \n",
       "1                                                  1   \n",
       "2                                                Yes   \n",
       "3                                                Yes   \n",
       "\n",
       "                                  TCGA-99-AA5R  \\\n",
       "0  Lung Adenocarcinoma (TCGA, PanCancer Atlas)   \n",
       "1                                            1   \n",
       "2                                          Yes   \n",
       "3                                          Yes   \n",
       "\n",
       "                                        TCGA-13-2066  \\\n",
       "0  Ovarian Serous Cystadenocarcinoma (TCGA, PanCa...   \n",
       "1                                                  1   \n",
       "2                                                NaN   \n",
       "3                                                NaN   \n",
       "\n",
       "                                        TCGA-BP-4345  \\\n",
       "0  Kidney Renal Clear Cell Carcinoma (TCGA, PanCa...   \n",
       "1                                                  1   \n",
       "2                                                NaN   \n",
       "3                                                NaN   \n",
       "\n",
       "                                       TCGA-OR-A5OG  \n",
       "0  Adrenocortical Carcinoma (TCGA, PanCancer Atlas)  \n",
       "1                                                 1  \n",
       "2                                               NaN  \n",
       "3                                               NaN  \n",
       "\n",
       "[4 rows x 10955 columns]"
      ],
      "text/html": "<div>\n<style scoped>\n    .dataframe tbody tr th:only-of-type {\n        vertical-align: middle;\n    }\n\n    .dataframe tbody tr th {\n        vertical-align: top;\n    }\n\n    .dataframe thead th {\n        text-align: right;\n    }\n</style>\n<table border=\"1\" class=\"dataframe\">\n  <thead>\n    <tr style=\"text-align: right;\">\n      <th></th>\n      <th>track_name</th>\n      <th>track_type</th>\n      <th>TCGA-ER-A195</th>\n      <th>TCGA-XK-AAJA</th>\n      <th>TCGA-CH-5788</th>\n      <th>TCGA-OR-A5JX</th>\n      <th>TCGA-CJ-4886</th>\n      <th>TCGA-EQ-A4SO</th>\n      <th>TCGA-CE-A3MD</th>\n      <th>TCGA-DM-A28K</th>\n      <th>...</th>\n      <th>TCGA-97-A4M2</th>\n      <th>TCGA-97-7552</th>\n      <th>TCGA-97-8552</th>\n      <th>TCGA-98-A53C</th>\n      <th>TCGA-98-A53D</th>\n      <th>TCGA-98-A53H</th>\n      <th>TCGA-99-AA5R</th>\n      <th>TCGA-13-2066</th>\n      <th>TCGA-BP-4345</th>\n      <th>TCGA-OR-A5OG</th>\n    </tr>\n  </thead>\n  <tbody>\n    <tr>\n      <th>0</th>\n      <td>Study of origin</td>\n      <td>CLINICAL</td>\n      <td>Skin Cutaneous Melanoma (TCGA, PanCancer Atlas)</td>\n      <td>Prostate Adenocarcinoma (TCGA, PanCancer Atlas)</td>\n      <td>Prostate Adenocarcinoma (TCGA, PanCancer Atlas)</td>\n      <td>Adrenocortical Carcinoma (TCGA, PanCancer Atlas)</td>\n      <td>Kidney Renal Clear Cell Carcinoma (TCGA, PanCa...</td>\n      <td>Stomach Adenocarcinoma (TCGA, PanCancer Atlas)</td>\n      <td>Thyroid Carcinoma (TCGA, PanCancer Atlas)</td>\n      <td>Colorectal Adenocarcinoma (TCGA, PanCancer Atlas)</td>\n      <td>...</td>\n      <td>Lung Adenocarcinoma (TCGA, PanCancer Atlas)</td>\n      <td>Lung Adenocarcinoma (TCGA, PanCancer Atlas)</td>\n      <td>Lung Adenocarcinoma (TCGA, PanCancer Atlas)</td>\n      <td>Lung Squamous Cell Carcinoma (TCGA, PanCancer ...</td>\n      <td>Lung Squamous Cell Carcinoma (TCGA, PanCancer ...</td>\n      <td>Lung Squamous Cell Carcinoma (TCGA, PanCancer ...</td>\n      <td>Lung Adenocarcinoma (TCGA, PanCancer Atlas)</td>\n      <td>Ovarian Serous Cystadenocarcinoma (TCGA, PanCa...</td>\n      <td>Kidney Renal Clear Cell Carcinoma (TCGA, PanCa...</td>\n      <td>Adrenocortical Carcinoma (TCGA, PanCancer Atlas)</td>\n    </tr>\n    <tr>\n      <th>1</th>\n      <td># Samples per Patient</td>\n      <td>CLINICAL</td>\n      <td>1</td>\n      <td>1</td>\n      <td>1</td>\n      <td>1</td>\n      <td>1</td>\n      <td>1</td>\n      <td>1</td>\n      <td>1</td>\n      <td>...</td>\n      <td>1</td>\n      <td>1</td>\n      <td>1</td>\n      <td>1</td>\n      <td>1</td>\n      <td>1</td>\n      <td>1</td>\n      <td>1</td>\n      <td>1</td>\n      <td>1</td>\n    </tr>\n    <tr>\n      <th>2</th>\n      <td>Profiled for copy number alterations</td>\n      <td>CLINICAL</td>\n      <td>Yes</td>\n      <td>Yes</td>\n      <td>Yes</td>\n      <td>Yes</td>\n      <td>Yes</td>\n      <td>Yes</td>\n      <td>Yes</td>\n      <td>Yes</td>\n      <td>...</td>\n      <td>Yes</td>\n      <td>Yes</td>\n      <td>Yes</td>\n      <td>Yes</td>\n      <td>Yes</td>\n      <td>Yes</td>\n      <td>Yes</td>\n      <td>NaN</td>\n      <td>NaN</td>\n      <td>NaN</td>\n    </tr>\n    <tr>\n      <th>3</th>\n      <td>Profiled for mutations</td>\n      <td>CLINICAL</td>\n      <td>Yes</td>\n      <td>Yes</td>\n      <td>Yes</td>\n      <td>Yes</td>\n      <td>Yes</td>\n      <td>Yes</td>\n      <td>Yes</td>\n      <td>Yes</td>\n      <td>...</td>\n      <td>Yes</td>\n      <td>Yes</td>\n      <td>Yes</td>\n      <td>Yes</td>\n      <td>NaN</td>\n      <td>Yes</td>\n      <td>Yes</td>\n      <td>NaN</td>\n      <td>NaN</td>\n      <td>NaN</td>\n    </tr>\n  </tbody>\n</table>\n<p>4 rows × 10955 columns</p>\n</div>"
     },
     "metadata": {},
     "execution_count": 32
    }
   ],
   "source": [
    "## Additional information of the oncoprint matrix\n",
    "info = pd.read_csv(\"../data/PATIENT_DATA_oncoprint.tsv\", sep=\"\\t\", header=0, skiprows=lambda x: x not in range(5))\n",
    "print(info.shape)\n",
    "info.head()"
   ]
  },
  {
   "cell_type": "code",
   "execution_count": 5,
   "metadata": {},
   "outputs": [
    {
     "output_type": "stream",
     "name": "stdout",
     "text": [
      "(315, 1902)\n"
     ]
    },
    {
     "output_type": "execute_result",
     "data": {
      "text/plain": [
       "  track_name track_type TCGA-CH-5788 TCGA-FS-A1ZG TCGA-DD-A3A8 TCGA-AD-6964  \\\n",
       "0        APC        CNA   homdel_rec   homdel_rec   homdel_rec   homdel_rec   \n",
       "1   ARHGEF12        CNA          NaN          NaN          NaN          NaN   \n",
       "2        ATM        CNA          NaN          NaN          NaN          NaN   \n",
       "3     BCL11B        CNA          NaN          NaN          NaN          NaN   \n",
       "4        BLM        CNA          NaN          NaN          NaN          NaN   \n",
       "\n",
       "  TCGA-A2-A0EY TCGA-EJ-7784 TCGA-EJ-5531 TCGA-CH-5748  ... TCGA-VD-A8K8  \\\n",
       "0   homdel_rec   homdel_rec   homdel_rec   homdel_rec  ...          NaN   \n",
       "1          NaN          NaN          NaN          NaN  ...          NaN   \n",
       "2          NaN          NaN          NaN          NaN  ...          NaN   \n",
       "3          NaN          NaN          NaN          NaN  ...          NaN   \n",
       "4          NaN          NaN          NaN          NaN  ...          NaN   \n",
       "\n",
       "  TCGA-VD-A8KA TCGA-VD-A8KD TCGA-VD-A8KE TCGA-VD-A8KF TCGA-VD-A8KH  \\\n",
       "0          NaN          NaN          NaN          NaN          NaN   \n",
       "1          NaN          NaN          NaN          NaN          NaN   \n",
       "2          NaN          NaN          NaN          NaN          NaN   \n",
       "3          NaN          NaN          NaN          NaN          NaN   \n",
       "4          NaN          NaN          NaN          NaN          NaN   \n",
       "\n",
       "  TCGA-VD-A8KL TCGA-VD-A8KN TCGA-VD-AA8O TCGA-VD-AA8P  \n",
       "0          NaN          NaN          NaN          NaN  \n",
       "1          NaN          NaN          NaN          NaN  \n",
       "2          NaN          NaN          NaN          NaN  \n",
       "3          NaN          NaN          NaN          NaN  \n",
       "4          NaN          NaN          NaN          NaN  \n",
       "\n",
       "[5 rows x 1902 columns]"
      ],
      "text/html": "<div>\n<style scoped>\n    .dataframe tbody tr th:only-of-type {\n        vertical-align: middle;\n    }\n\n    .dataframe tbody tr th {\n        vertical-align: top;\n    }\n\n    .dataframe thead th {\n        text-align: right;\n    }\n</style>\n<table border=\"1\" class=\"dataframe\">\n  <thead>\n    <tr style=\"text-align: right;\">\n      <th></th>\n      <th>track_name</th>\n      <th>track_type</th>\n      <th>TCGA-CH-5788</th>\n      <th>TCGA-FS-A1ZG</th>\n      <th>TCGA-DD-A3A8</th>\n      <th>TCGA-AD-6964</th>\n      <th>TCGA-A2-A0EY</th>\n      <th>TCGA-EJ-7784</th>\n      <th>TCGA-EJ-5531</th>\n      <th>TCGA-CH-5748</th>\n      <th>...</th>\n      <th>TCGA-VD-A8K8</th>\n      <th>TCGA-VD-A8KA</th>\n      <th>TCGA-VD-A8KD</th>\n      <th>TCGA-VD-A8KE</th>\n      <th>TCGA-VD-A8KF</th>\n      <th>TCGA-VD-A8KH</th>\n      <th>TCGA-VD-A8KL</th>\n      <th>TCGA-VD-A8KN</th>\n      <th>TCGA-VD-AA8O</th>\n      <th>TCGA-VD-AA8P</th>\n    </tr>\n  </thead>\n  <tbody>\n    <tr>\n      <th>0</th>\n      <td>APC</td>\n      <td>CNA</td>\n      <td>homdel_rec</td>\n      <td>homdel_rec</td>\n      <td>homdel_rec</td>\n      <td>homdel_rec</td>\n      <td>homdel_rec</td>\n      <td>homdel_rec</td>\n      <td>homdel_rec</td>\n      <td>homdel_rec</td>\n      <td>...</td>\n      <td>NaN</td>\n      <td>NaN</td>\n      <td>NaN</td>\n      <td>NaN</td>\n      <td>NaN</td>\n      <td>NaN</td>\n      <td>NaN</td>\n      <td>NaN</td>\n      <td>NaN</td>\n      <td>NaN</td>\n    </tr>\n    <tr>\n      <th>1</th>\n      <td>ARHGEF12</td>\n      <td>CNA</td>\n      <td>NaN</td>\n      <td>NaN</td>\n      <td>NaN</td>\n      <td>NaN</td>\n      <td>NaN</td>\n      <td>NaN</td>\n      <td>NaN</td>\n      <td>NaN</td>\n      <td>...</td>\n      <td>NaN</td>\n      <td>NaN</td>\n      <td>NaN</td>\n      <td>NaN</td>\n      <td>NaN</td>\n      <td>NaN</td>\n      <td>NaN</td>\n      <td>NaN</td>\n      <td>NaN</td>\n      <td>NaN</td>\n    </tr>\n    <tr>\n      <th>2</th>\n      <td>ATM</td>\n      <td>CNA</td>\n      <td>NaN</td>\n      <td>NaN</td>\n      <td>NaN</td>\n      <td>NaN</td>\n      <td>NaN</td>\n      <td>NaN</td>\n      <td>NaN</td>\n      <td>NaN</td>\n      <td>...</td>\n      <td>NaN</td>\n      <td>NaN</td>\n      <td>NaN</td>\n      <td>NaN</td>\n      <td>NaN</td>\n      <td>NaN</td>\n      <td>NaN</td>\n      <td>NaN</td>\n      <td>NaN</td>\n      <td>NaN</td>\n    </tr>\n    <tr>\n      <th>3</th>\n      <td>BCL11B</td>\n      <td>CNA</td>\n      <td>NaN</td>\n      <td>NaN</td>\n      <td>NaN</td>\n      <td>NaN</td>\n      <td>NaN</td>\n      <td>NaN</td>\n      <td>NaN</td>\n      <td>NaN</td>\n      <td>...</td>\n      <td>NaN</td>\n      <td>NaN</td>\n      <td>NaN</td>\n      <td>NaN</td>\n      <td>NaN</td>\n      <td>NaN</td>\n      <td>NaN</td>\n      <td>NaN</td>\n      <td>NaN</td>\n      <td>NaN</td>\n    </tr>\n    <tr>\n      <th>4</th>\n      <td>BLM</td>\n      <td>CNA</td>\n      <td>NaN</td>\n      <td>NaN</td>\n      <td>NaN</td>\n      <td>NaN</td>\n      <td>NaN</td>\n      <td>NaN</td>\n      <td>NaN</td>\n      <td>NaN</td>\n      <td>...</td>\n      <td>NaN</td>\n      <td>NaN</td>\n      <td>NaN</td>\n      <td>NaN</td>\n      <td>NaN</td>\n      <td>NaN</td>\n      <td>NaN</td>\n      <td>NaN</td>\n      <td>NaN</td>\n      <td>NaN</td>\n    </tr>\n  </tbody>\n</table>\n<p>5 rows × 1902 columns</p>\n</div>"
     },
     "metadata": {},
     "execution_count": 5
    }
   ],
   "source": [
    "## Filter samples out - only keep samples/patients with ecDNA classification\n",
    "res = res[['track_name', 'track_type'] + res.columns[res.columns.isin(ref['patient_barcode'])].tolist()]\n",
    "print(res.shape)\n",
    "res.head()\n"
   ]
  },
  {
   "cell_type": "code",
   "execution_count": 42,
   "metadata": {},
   "outputs": [],
   "source": [
    "## Group the columns into ecDNA+ vs ecDNA-\n",
    "## Strategy 1: ecDNA- = Non-circular; ecDNA+ = otherwise\n",
    "# ecdna_neg = ref[ref['sample_classification'] == 'Non-circular']['patient_barcode']\n",
    "# ecdna_pos = ref[ref['sample_classification'] != 'Non-circular']['patient_barcode']\n",
    "# pos1 = list(res.columns[res.columns.isin(ecdna_pos)])\n",
    "# print(\"Oncoprint1: {}, {}\".format(pos1[-1], len(pos1)))\n",
    "# cols_met1 = ['track_name', 'track_type'] + pos1 + list(res.columns[res.columns.isin(ecdna_neg)])\n",
    "# df1 = res[cols_met1]\n",
    "# print(df1.shape)\n",
    "# df1.head()"
   ]
  },
  {
   "cell_type": "code",
   "execution_count": 39,
   "metadata": {},
   "outputs": [],
   "source": [
    "## Save this oncoprint matrix\n",
    "# df1.to_csv(\"../data/oncoprint_1.tsv\", sep=\"\\t\", index=False)"
   ]
  },
  {
   "cell_type": "code",
   "execution_count": 105,
   "metadata": {},
   "outputs": [],
   "source": [
    "# ## Strategy 2: ecDNA+ = Circular; ecDNA- = otherwise\n",
    "# ecdna_pos = ref[ref['sample_classification'] == 'Circular']['patient_barcode']\n",
    "# ecdna_neg = ref[ref['sample_classification'] != 'Circular']['patient_barcode']\n",
    "# pos = res.columns[res.columns.isin(ecdna_pos)].tolist()\n",
    "# print(\"Oncoprint: {}, {}\".format(pos[-1], len(pos)))\n",
    "# cols_met = ['track_name', 'track_type'] + pos + res.columns[res.columns.isin(ecdna_neg)].tolist()\n",
    "# df = res[cols_met]\n",
    "# print(df.shape)\n",
    "# df.head()"
   ]
  },
  {
   "cell_type": "code",
   "execution_count": 49,
   "metadata": {},
   "outputs": [],
   "source": [
    "## Save this oncoprint matrix\n",
    "# df.to_csv(\"../data/oncoprint.tsv\", sep=\"\\t\", index=False)"
   ]
  },
  {
   "cell_type": "code",
   "execution_count": 6,
   "metadata": {},
   "outputs": [
    {
     "output_type": "stream",
     "name": "stdout",
     "text": [
      "(1900, 7)\n"
     ]
    },
    {
     "output_type": "execute_result",
     "data": {
      "text/plain": [
       "     study patient_barcode   sample_barcode  min_cnv  number_amp_region  \\\n",
       "1291  TCGA    TCGA-02-2483  TCGA-02-2483-01        1                 20   \n",
       "1292  TCGA    TCGA-02-2485  TCGA-02-2485-01        1                 33   \n",
       "1293  TCGA    TCGA-04-1331  TCGA-04-1331-01        1                  4   \n",
       "1294  TCGA    TCGA-04-1347  TCGA-04-1347-01        1                 12   \n",
       "1295  TCGA    TCGA-04-1349  TCGA-04-1349-01        1                 26   \n",
       "\n",
       "     sample_classification_nam_2019 sample_classification  \n",
       "1291                         Distal    Heavily-rearranged  \n",
       "1292                       Circular              Circular  \n",
       "1293                         Linear          Non-circular  \n",
       "1294                       Circular              Circular  \n",
       "1295                         Distal    Heavily-rearranged  "
      ],
      "text/html": "<div>\n<style scoped>\n    .dataframe tbody tr th:only-of-type {\n        vertical-align: middle;\n    }\n\n    .dataframe tbody tr th {\n        vertical-align: top;\n    }\n\n    .dataframe thead th {\n        text-align: right;\n    }\n</style>\n<table border=\"1\" class=\"dataframe\">\n  <thead>\n    <tr style=\"text-align: right;\">\n      <th></th>\n      <th>study</th>\n      <th>patient_barcode</th>\n      <th>sample_barcode</th>\n      <th>min_cnv</th>\n      <th>number_amp_region</th>\n      <th>sample_classification_nam_2019</th>\n      <th>sample_classification</th>\n    </tr>\n  </thead>\n  <tbody>\n    <tr>\n      <th>1291</th>\n      <td>TCGA</td>\n      <td>TCGA-02-2483</td>\n      <td>TCGA-02-2483-01</td>\n      <td>1</td>\n      <td>20</td>\n      <td>Distal</td>\n      <td>Heavily-rearranged</td>\n    </tr>\n    <tr>\n      <th>1292</th>\n      <td>TCGA</td>\n      <td>TCGA-02-2485</td>\n      <td>TCGA-02-2485-01</td>\n      <td>1</td>\n      <td>33</td>\n      <td>Circular</td>\n      <td>Circular</td>\n    </tr>\n    <tr>\n      <th>1293</th>\n      <td>TCGA</td>\n      <td>TCGA-04-1331</td>\n      <td>TCGA-04-1331-01</td>\n      <td>1</td>\n      <td>4</td>\n      <td>Linear</td>\n      <td>Non-circular</td>\n    </tr>\n    <tr>\n      <th>1294</th>\n      <td>TCGA</td>\n      <td>TCGA-04-1347</td>\n      <td>TCGA-04-1347-01</td>\n      <td>1</td>\n      <td>12</td>\n      <td>Circular</td>\n      <td>Circular</td>\n    </tr>\n    <tr>\n      <th>1295</th>\n      <td>TCGA</td>\n      <td>TCGA-04-1349</td>\n      <td>TCGA-04-1349-01</td>\n      <td>1</td>\n      <td>26</td>\n      <td>Distal</td>\n      <td>Heavily-rearranged</td>\n    </tr>\n  </tbody>\n</table>\n</div>"
     },
     "metadata": {},
     "execution_count": 6
    }
   ],
   "source": [
    "ref2 = ref[ref['patient_barcode'].isin(res.columns)]\n",
    "print(ref2.shape)\n",
    "ref2.head()"
   ]
  },
  {
   "cell_type": "code",
   "execution_count": 7,
   "metadata": {},
   "outputs": [
    {
     "output_type": "execute_result",
     "data": {
      "text/plain": [
       "Counter({'Heavily-rearranged': 190,\n",
       "         'Circular': 335,\n",
       "         'Non-circular': 165,\n",
       "         'No SCNA detected': 1041,\n",
       "         'BFB': 169})"
      ]
     },
     "metadata": {},
     "execution_count": 7
    }
   ],
   "source": [
    "cnt = Counter(ref2['sample_classification'])\n",
    "cnt"
   ]
  },
  {
   "cell_type": "code",
   "execution_count": 8,
   "metadata": {},
   "outputs": [
    {
     "output_type": "execute_result",
     "data": {
      "text/plain": [
       "{'CNA': {'Amplification', 'Deep Deletion', 'amp_rec', 'homdel_rec'},\n",
       " 'MUTATIONS': {'Inframe Mutation (putative driver)',\n",
       "  'Inframe Mutation (putative passenger)',\n",
       "  'Missense Mutation (putative driver)',\n",
       "  'Missense Mutation (putative passenger)',\n",
       "  'Truncating mutation (putative driver)',\n",
       "  'Truncating mutation (putative passenger)',\n",
       "  'splice',\n",
       "  'splice_rec'},\n",
       " 'MRNA': set(),\n",
       " 'PROTEIN': set(),\n",
       " 'FUSION': {'Fusion'}}"
      ]
     },
     "metadata": {},
     "execution_count": 8
    }
   ],
   "source": [
    "## Collect all possible entries for each track type\n",
    "entry = {}\n",
    "for track in res['track_type'].unique():\n",
    "    entry[track] = set()\n",
    "    df_sub = res[res['track_type'] == track]\n",
    "    for i in range(2, len(res.columns)):\n",
    "        entry[track] = entry[track].union(set(df_sub[df_sub.columns[i]].dropna().unique()))\n",
    "entry\n"
   ]
  },
  {
   "cell_type": "code",
   "execution_count": 9,
   "metadata": {},
   "outputs": [
    {
     "output_type": "stream",
     "name": "stdout",
     "text": [
      "(252, 1902)\n(189, 1902)\n"
     ]
    },
    {
     "output_type": "execute_result",
     "data": {
      "text/plain": [
       "  track_name track_type TCGA-CH-5788 TCGA-FS-A1ZG TCGA-DD-A3A8 TCGA-AD-6964  \\\n",
       "0        APC        CNA   homdel_rec   homdel_rec   homdel_rec   homdel_rec   \n",
       "1   ARHGEF12        CNA          NaN          NaN          NaN          NaN   \n",
       "2        ATM        CNA          NaN          NaN          NaN          NaN   \n",
       "3     BCL11B        CNA          NaN          NaN          NaN          NaN   \n",
       "4        BLM        CNA          NaN          NaN          NaN          NaN   \n",
       "\n",
       "  TCGA-A2-A0EY TCGA-EJ-7784 TCGA-EJ-5531 TCGA-CH-5748  ... TCGA-VD-A8K8  \\\n",
       "0   homdel_rec   homdel_rec   homdel_rec   homdel_rec  ...          NaN   \n",
       "1          NaN          NaN          NaN          NaN  ...          NaN   \n",
       "2          NaN          NaN          NaN          NaN  ...          NaN   \n",
       "3          NaN          NaN          NaN          NaN  ...          NaN   \n",
       "4          NaN          NaN          NaN          NaN  ...          NaN   \n",
       "\n",
       "  TCGA-VD-A8KA TCGA-VD-A8KD TCGA-VD-A8KE TCGA-VD-A8KF TCGA-VD-A8KH  \\\n",
       "0          NaN          NaN          NaN          NaN          NaN   \n",
       "1          NaN          NaN          NaN          NaN          NaN   \n",
       "2          NaN          NaN          NaN          NaN          NaN   \n",
       "3          NaN          NaN          NaN          NaN          NaN   \n",
       "4          NaN          NaN          NaN          NaN          NaN   \n",
       "\n",
       "  TCGA-VD-A8KL TCGA-VD-A8KN TCGA-VD-AA8O TCGA-VD-AA8P  \n",
       "0          NaN          NaN          NaN          NaN  \n",
       "1          NaN          NaN          NaN          NaN  \n",
       "2          NaN          NaN          NaN          NaN  \n",
       "3          NaN          NaN          NaN          NaN  \n",
       "4          NaN          NaN          NaN          NaN  \n",
       "\n",
       "[5 rows x 1902 columns]"
      ],
      "text/html": "<div>\n<style scoped>\n    .dataframe tbody tr th:only-of-type {\n        vertical-align: middle;\n    }\n\n    .dataframe tbody tr th {\n        vertical-align: top;\n    }\n\n    .dataframe thead th {\n        text-align: right;\n    }\n</style>\n<table border=\"1\" class=\"dataframe\">\n  <thead>\n    <tr style=\"text-align: right;\">\n      <th></th>\n      <th>track_name</th>\n      <th>track_type</th>\n      <th>TCGA-CH-5788</th>\n      <th>TCGA-FS-A1ZG</th>\n      <th>TCGA-DD-A3A8</th>\n      <th>TCGA-AD-6964</th>\n      <th>TCGA-A2-A0EY</th>\n      <th>TCGA-EJ-7784</th>\n      <th>TCGA-EJ-5531</th>\n      <th>TCGA-CH-5748</th>\n      <th>...</th>\n      <th>TCGA-VD-A8K8</th>\n      <th>TCGA-VD-A8KA</th>\n      <th>TCGA-VD-A8KD</th>\n      <th>TCGA-VD-A8KE</th>\n      <th>TCGA-VD-A8KF</th>\n      <th>TCGA-VD-A8KH</th>\n      <th>TCGA-VD-A8KL</th>\n      <th>TCGA-VD-A8KN</th>\n      <th>TCGA-VD-AA8O</th>\n      <th>TCGA-VD-AA8P</th>\n    </tr>\n  </thead>\n  <tbody>\n    <tr>\n      <th>0</th>\n      <td>APC</td>\n      <td>CNA</td>\n      <td>homdel_rec</td>\n      <td>homdel_rec</td>\n      <td>homdel_rec</td>\n      <td>homdel_rec</td>\n      <td>homdel_rec</td>\n      <td>homdel_rec</td>\n      <td>homdel_rec</td>\n      <td>homdel_rec</td>\n      <td>...</td>\n      <td>NaN</td>\n      <td>NaN</td>\n      <td>NaN</td>\n      <td>NaN</td>\n      <td>NaN</td>\n      <td>NaN</td>\n      <td>NaN</td>\n      <td>NaN</td>\n      <td>NaN</td>\n      <td>NaN</td>\n    </tr>\n    <tr>\n      <th>1</th>\n      <td>ARHGEF12</td>\n      <td>CNA</td>\n      <td>NaN</td>\n      <td>NaN</td>\n      <td>NaN</td>\n      <td>NaN</td>\n      <td>NaN</td>\n      <td>NaN</td>\n      <td>NaN</td>\n      <td>NaN</td>\n      <td>...</td>\n      <td>NaN</td>\n      <td>NaN</td>\n      <td>NaN</td>\n      <td>NaN</td>\n      <td>NaN</td>\n      <td>NaN</td>\n      <td>NaN</td>\n      <td>NaN</td>\n      <td>NaN</td>\n      <td>NaN</td>\n    </tr>\n    <tr>\n      <th>2</th>\n      <td>ATM</td>\n      <td>CNA</td>\n      <td>NaN</td>\n      <td>NaN</td>\n      <td>NaN</td>\n      <td>NaN</td>\n      <td>NaN</td>\n      <td>NaN</td>\n      <td>NaN</td>\n      <td>NaN</td>\n      <td>...</td>\n      <td>NaN</td>\n      <td>NaN</td>\n      <td>NaN</td>\n      <td>NaN</td>\n      <td>NaN</td>\n      <td>NaN</td>\n      <td>NaN</td>\n      <td>NaN</td>\n      <td>NaN</td>\n      <td>NaN</td>\n    </tr>\n    <tr>\n      <th>3</th>\n      <td>BCL11B</td>\n      <td>CNA</td>\n      <td>NaN</td>\n      <td>NaN</td>\n      <td>NaN</td>\n      <td>NaN</td>\n      <td>NaN</td>\n      <td>NaN</td>\n      <td>NaN</td>\n      <td>NaN</td>\n      <td>...</td>\n      <td>NaN</td>\n      <td>NaN</td>\n      <td>NaN</td>\n      <td>NaN</td>\n      <td>NaN</td>\n      <td>NaN</td>\n      <td>NaN</td>\n      <td>NaN</td>\n      <td>NaN</td>\n      <td>NaN</td>\n    </tr>\n    <tr>\n      <th>4</th>\n      <td>BLM</td>\n      <td>CNA</td>\n      <td>NaN</td>\n      <td>NaN</td>\n      <td>NaN</td>\n      <td>NaN</td>\n      <td>NaN</td>\n      <td>NaN</td>\n      <td>NaN</td>\n      <td>NaN</td>\n      <td>...</td>\n      <td>NaN</td>\n      <td>NaN</td>\n      <td>NaN</td>\n      <td>NaN</td>\n      <td>NaN</td>\n      <td>NaN</td>\n      <td>NaN</td>\n      <td>NaN</td>\n      <td>NaN</td>\n      <td>NaN</td>\n    </tr>\n  </tbody>\n</table>\n<p>5 rows × 1902 columns</p>\n</div>"
     },
     "metadata": {},
     "execution_count": 9
    }
   ],
   "source": [
    "## Since the mRNA track and Protein track are empty, we delete these data\n",
    "res = res[res['track_type'] != 'MRNA']\n",
    "print(res.shape)\n",
    "res = res[res['track_type'] != 'PROTEIN']\n",
    "print(res.shape)\n",
    "res.head()"
   ]
  },
  {
   "cell_type": "code",
   "execution_count": 10,
   "metadata": {},
   "outputs": [
    {
     "output_type": "stream",
     "name": "stdout",
     "text": [
      "Oncoprint: TCGA-G2-A2EK, 335\n(189, 1902)\n"
     ]
    },
    {
     "output_type": "execute_result",
     "data": {
      "text/plain": [
       "  track_name track_type TCGA-D3-A2JC   TCGA-DX-A23R TCGA-05-4402 TCGA-D7-6528  \\\n",
       "0        APC        CNA   homdel_rec  Amplification          NaN          NaN   \n",
       "1   ARHGEF12        CNA          NaN            NaN          NaN          NaN   \n",
       "2        ATM        CNA          NaN            NaN          NaN          NaN   \n",
       "3     BCL11B        CNA          NaN            NaN          NaN          NaN   \n",
       "4        BLM        CNA          NaN            NaN          NaN          NaN   \n",
       "\n",
       "  TCGA-A6-2677 TCGA-CV-6948 TCGA-A6-5656 TCGA-BR-4267  ... TCGA-VD-A8K8  \\\n",
       "0          NaN          NaN          NaN          NaN  ...          NaN   \n",
       "1          NaN          NaN          NaN          NaN  ...          NaN   \n",
       "2          NaN          NaN          NaN          NaN  ...          NaN   \n",
       "3          NaN          NaN          NaN          NaN  ...          NaN   \n",
       "4          NaN          NaN          NaN          NaN  ...          NaN   \n",
       "\n",
       "  TCGA-VD-A8KA TCGA-VD-A8KD TCGA-VD-A8KE TCGA-VD-A8KF TCGA-VD-A8KH  \\\n",
       "0          NaN          NaN          NaN          NaN          NaN   \n",
       "1          NaN          NaN          NaN          NaN          NaN   \n",
       "2          NaN          NaN          NaN          NaN          NaN   \n",
       "3          NaN          NaN          NaN          NaN          NaN   \n",
       "4          NaN          NaN          NaN          NaN          NaN   \n",
       "\n",
       "  TCGA-VD-A8KL TCGA-VD-A8KN TCGA-VD-AA8O TCGA-VD-AA8P  \n",
       "0          NaN          NaN          NaN          NaN  \n",
       "1          NaN          NaN          NaN          NaN  \n",
       "2          NaN          NaN          NaN          NaN  \n",
       "3          NaN          NaN          NaN          NaN  \n",
       "4          NaN          NaN          NaN          NaN  \n",
       "\n",
       "[5 rows x 1902 columns]"
      ],
      "text/html": "<div>\n<style scoped>\n    .dataframe tbody tr th:only-of-type {\n        vertical-align: middle;\n    }\n\n    .dataframe tbody tr th {\n        vertical-align: top;\n    }\n\n    .dataframe thead th {\n        text-align: right;\n    }\n</style>\n<table border=\"1\" class=\"dataframe\">\n  <thead>\n    <tr style=\"text-align: right;\">\n      <th></th>\n      <th>track_name</th>\n      <th>track_type</th>\n      <th>TCGA-D3-A2JC</th>\n      <th>TCGA-DX-A23R</th>\n      <th>TCGA-05-4402</th>\n      <th>TCGA-D7-6528</th>\n      <th>TCGA-A6-2677</th>\n      <th>TCGA-CV-6948</th>\n      <th>TCGA-A6-5656</th>\n      <th>TCGA-BR-4267</th>\n      <th>...</th>\n      <th>TCGA-VD-A8K8</th>\n      <th>TCGA-VD-A8KA</th>\n      <th>TCGA-VD-A8KD</th>\n      <th>TCGA-VD-A8KE</th>\n      <th>TCGA-VD-A8KF</th>\n      <th>TCGA-VD-A8KH</th>\n      <th>TCGA-VD-A8KL</th>\n      <th>TCGA-VD-A8KN</th>\n      <th>TCGA-VD-AA8O</th>\n      <th>TCGA-VD-AA8P</th>\n    </tr>\n  </thead>\n  <tbody>\n    <tr>\n      <th>0</th>\n      <td>APC</td>\n      <td>CNA</td>\n      <td>homdel_rec</td>\n      <td>Amplification</td>\n      <td>NaN</td>\n      <td>NaN</td>\n      <td>NaN</td>\n      <td>NaN</td>\n      <td>NaN</td>\n      <td>NaN</td>\n      <td>...</td>\n      <td>NaN</td>\n      <td>NaN</td>\n      <td>NaN</td>\n      <td>NaN</td>\n      <td>NaN</td>\n      <td>NaN</td>\n      <td>NaN</td>\n      <td>NaN</td>\n      <td>NaN</td>\n      <td>NaN</td>\n    </tr>\n    <tr>\n      <th>1</th>\n      <td>ARHGEF12</td>\n      <td>CNA</td>\n      <td>NaN</td>\n      <td>NaN</td>\n      <td>NaN</td>\n      <td>NaN</td>\n      <td>NaN</td>\n      <td>NaN</td>\n      <td>NaN</td>\n      <td>NaN</td>\n      <td>...</td>\n      <td>NaN</td>\n      <td>NaN</td>\n      <td>NaN</td>\n      <td>NaN</td>\n      <td>NaN</td>\n      <td>NaN</td>\n      <td>NaN</td>\n      <td>NaN</td>\n      <td>NaN</td>\n      <td>NaN</td>\n    </tr>\n    <tr>\n      <th>2</th>\n      <td>ATM</td>\n      <td>CNA</td>\n      <td>NaN</td>\n      <td>NaN</td>\n      <td>NaN</td>\n      <td>NaN</td>\n      <td>NaN</td>\n      <td>NaN</td>\n      <td>NaN</td>\n      <td>NaN</td>\n      <td>...</td>\n      <td>NaN</td>\n      <td>NaN</td>\n      <td>NaN</td>\n      <td>NaN</td>\n      <td>NaN</td>\n      <td>NaN</td>\n      <td>NaN</td>\n      <td>NaN</td>\n      <td>NaN</td>\n      <td>NaN</td>\n    </tr>\n    <tr>\n      <th>3</th>\n      <td>BCL11B</td>\n      <td>CNA</td>\n      <td>NaN</td>\n      <td>NaN</td>\n      <td>NaN</td>\n      <td>NaN</td>\n      <td>NaN</td>\n      <td>NaN</td>\n      <td>NaN</td>\n      <td>NaN</td>\n      <td>...</td>\n      <td>NaN</td>\n      <td>NaN</td>\n      <td>NaN</td>\n      <td>NaN</td>\n      <td>NaN</td>\n      <td>NaN</td>\n      <td>NaN</td>\n      <td>NaN</td>\n      <td>NaN</td>\n      <td>NaN</td>\n    </tr>\n    <tr>\n      <th>4</th>\n      <td>BLM</td>\n      <td>CNA</td>\n      <td>NaN</td>\n      <td>NaN</td>\n      <td>NaN</td>\n      <td>NaN</td>\n      <td>NaN</td>\n      <td>NaN</td>\n      <td>NaN</td>\n      <td>NaN</td>\n      <td>...</td>\n      <td>NaN</td>\n      <td>NaN</td>\n      <td>NaN</td>\n      <td>NaN</td>\n      <td>NaN</td>\n      <td>NaN</td>\n      <td>NaN</td>\n      <td>NaN</td>\n      <td>NaN</td>\n      <td>NaN</td>\n    </tr>\n  </tbody>\n</table>\n<p>5 rows × 1902 columns</p>\n</div>"
     },
     "metadata": {},
     "execution_count": 10
    }
   ],
   "source": [
    "## Strategy 1: ecDNA+ = Circular; ecDNA- = otherwise\n",
    "ecdna_pos = ref[ref['sample_classification'] == 'Circular']['patient_barcode']\n",
    "ecdna_neg = ref[ref['sample_classification'] != 'Circular']['patient_barcode']\n",
    "pos = res.columns[res.columns.isin(ecdna_pos)].tolist()\n",
    "n_pos = len(pos)\n",
    "print(\"Oncoprint: {}, {}\".format(pos[-1], n_pos)\n",
    "cols_met = ['track_name', 'track_type'] + pos + res.columns[res.columns.isin(ecdna_neg)].tolist()\n",
    "df = res[cols_met]\n",
    "print(df.shape)\n",
    "df.head()"
   ]
  },
  {
   "cell_type": "code",
   "execution_count": 101,
   "metadata": {},
   "outputs": [],
   "source": [
    "## Save this oncoprint matrix\n",
    "df.to_csv(\"../data/oncoprint1.tsv\", sep=\"\\t\", index=False)"
   ]
  },
  {
   "cell_type": "code",
   "execution_count": 21,
   "metadata": {},
   "outputs": [
    {
     "output_type": "stream",
     "name": "stdout",
     "text": [
      "Oncoprint: TCGA-G2-A2EK, 335\n(189, 1378)\n"
     ]
    },
    {
     "output_type": "execute_result",
     "data": {
      "text/plain": [
       "  track_name track_type TCGA-D3-A2JC   TCGA-DX-A23R TCGA-05-4402 TCGA-D7-6528  \\\n",
       "0        APC        CNA   homdel_rec  Amplification          NaN          NaN   \n",
       "1   ARHGEF12        CNA          NaN            NaN          NaN          NaN   \n",
       "2        ATM        CNA          NaN            NaN          NaN          NaN   \n",
       "3     BCL11B        CNA          NaN            NaN          NaN          NaN   \n",
       "4        BLM        CNA          NaN            NaN          NaN          NaN   \n",
       "\n",
       "  TCGA-A6-2677 TCGA-CV-6948 TCGA-A6-5656 TCGA-BR-4267  ... TCGA-VD-A8K7  \\\n",
       "0          NaN          NaN          NaN          NaN  ...          NaN   \n",
       "1          NaN          NaN          NaN          NaN  ...          NaN   \n",
       "2          NaN          NaN          NaN          NaN  ...          NaN   \n",
       "3          NaN          NaN          NaN          NaN  ...          NaN   \n",
       "4          NaN          NaN          NaN          NaN  ...          NaN   \n",
       "\n",
       "  TCGA-VD-A8KA TCGA-VD-A8KD TCGA-VD-A8KE TCGA-VD-A8KF TCGA-VD-A8KH  \\\n",
       "0          NaN          NaN          NaN          NaN          NaN   \n",
       "1          NaN          NaN          NaN          NaN          NaN   \n",
       "2          NaN          NaN          NaN          NaN          NaN   \n",
       "3          NaN          NaN          NaN          NaN          NaN   \n",
       "4          NaN          NaN          NaN          NaN          NaN   \n",
       "\n",
       "  TCGA-VD-A8KL TCGA-VD-A8KN TCGA-VD-AA8O TCGA-VD-AA8P  \n",
       "0          NaN          NaN          NaN          NaN  \n",
       "1          NaN          NaN          NaN          NaN  \n",
       "2          NaN          NaN          NaN          NaN  \n",
       "3          NaN          NaN          NaN          NaN  \n",
       "4          NaN          NaN          NaN          NaN  \n",
       "\n",
       "[5 rows x 1378 columns]"
      ],
      "text/html": "<div>\n<style scoped>\n    .dataframe tbody tr th:only-of-type {\n        vertical-align: middle;\n    }\n\n    .dataframe tbody tr th {\n        vertical-align: top;\n    }\n\n    .dataframe thead th {\n        text-align: right;\n    }\n</style>\n<table border=\"1\" class=\"dataframe\">\n  <thead>\n    <tr style=\"text-align: right;\">\n      <th></th>\n      <th>track_name</th>\n      <th>track_type</th>\n      <th>TCGA-D3-A2JC</th>\n      <th>TCGA-DX-A23R</th>\n      <th>TCGA-05-4402</th>\n      <th>TCGA-D7-6528</th>\n      <th>TCGA-A6-2677</th>\n      <th>TCGA-CV-6948</th>\n      <th>TCGA-A6-5656</th>\n      <th>TCGA-BR-4267</th>\n      <th>...</th>\n      <th>TCGA-VD-A8K7</th>\n      <th>TCGA-VD-A8KA</th>\n      <th>TCGA-VD-A8KD</th>\n      <th>TCGA-VD-A8KE</th>\n      <th>TCGA-VD-A8KF</th>\n      <th>TCGA-VD-A8KH</th>\n      <th>TCGA-VD-A8KL</th>\n      <th>TCGA-VD-A8KN</th>\n      <th>TCGA-VD-AA8O</th>\n      <th>TCGA-VD-AA8P</th>\n    </tr>\n  </thead>\n  <tbody>\n    <tr>\n      <th>0</th>\n      <td>APC</td>\n      <td>CNA</td>\n      <td>homdel_rec</td>\n      <td>Amplification</td>\n      <td>NaN</td>\n      <td>NaN</td>\n      <td>NaN</td>\n      <td>NaN</td>\n      <td>NaN</td>\n      <td>NaN</td>\n      <td>...</td>\n      <td>NaN</td>\n      <td>NaN</td>\n      <td>NaN</td>\n      <td>NaN</td>\n      <td>NaN</td>\n      <td>NaN</td>\n      <td>NaN</td>\n      <td>NaN</td>\n      <td>NaN</td>\n      <td>NaN</td>\n    </tr>\n    <tr>\n      <th>1</th>\n      <td>ARHGEF12</td>\n      <td>CNA</td>\n      <td>NaN</td>\n      <td>NaN</td>\n      <td>NaN</td>\n      <td>NaN</td>\n      <td>NaN</td>\n      <td>NaN</td>\n      <td>NaN</td>\n      <td>NaN</td>\n      <td>...</td>\n      <td>NaN</td>\n      <td>NaN</td>\n      <td>NaN</td>\n      <td>NaN</td>\n      <td>NaN</td>\n      <td>NaN</td>\n      <td>NaN</td>\n      <td>NaN</td>\n      <td>NaN</td>\n      <td>NaN</td>\n    </tr>\n    <tr>\n      <th>2</th>\n      <td>ATM</td>\n      <td>CNA</td>\n      <td>NaN</td>\n      <td>NaN</td>\n      <td>NaN</td>\n      <td>NaN</td>\n      <td>NaN</td>\n      <td>NaN</td>\n      <td>NaN</td>\n      <td>NaN</td>\n      <td>...</td>\n      <td>NaN</td>\n      <td>NaN</td>\n      <td>NaN</td>\n      <td>NaN</td>\n      <td>NaN</td>\n      <td>NaN</td>\n      <td>NaN</td>\n      <td>NaN</td>\n      <td>NaN</td>\n      <td>NaN</td>\n    </tr>\n    <tr>\n      <th>3</th>\n      <td>BCL11B</td>\n      <td>CNA</td>\n      <td>NaN</td>\n      <td>NaN</td>\n      <td>NaN</td>\n      <td>NaN</td>\n      <td>NaN</td>\n      <td>NaN</td>\n      <td>NaN</td>\n      <td>NaN</td>\n      <td>...</td>\n      <td>NaN</td>\n      <td>NaN</td>\n      <td>NaN</td>\n      <td>NaN</td>\n      <td>NaN</td>\n      <td>NaN</td>\n      <td>NaN</td>\n      <td>NaN</td>\n      <td>NaN</td>\n      <td>NaN</td>\n    </tr>\n    <tr>\n      <th>4</th>\n      <td>BLM</td>\n      <td>CNA</td>\n      <td>NaN</td>\n      <td>NaN</td>\n      <td>NaN</td>\n      <td>NaN</td>\n      <td>NaN</td>\n      <td>NaN</td>\n      <td>NaN</td>\n      <td>NaN</td>\n      <td>...</td>\n      <td>NaN</td>\n      <td>NaN</td>\n      <td>NaN</td>\n      <td>NaN</td>\n      <td>NaN</td>\n      <td>NaN</td>\n      <td>NaN</td>\n      <td>NaN</td>\n      <td>NaN</td>\n      <td>NaN</td>\n    </tr>\n  </tbody>\n</table>\n<p>5 rows × 1378 columns</p>\n</div>"
     },
     "metadata": {},
     "execution_count": 21
    }
   ],
   "source": [
    "## Strategy 2: ecDNA+ = Circular; ecDNA- = no SCNA detected\n",
    "ecdna_pos = ref[ref['sample_classification'] == 'Circular']['patient_barcode']\n",
    "ecdna_neg = ref[ref['sample_classification'] == 'No SCNA detected']['patient_barcode']\n",
    "pos = res.columns[res.columns.isin(ecdna_pos)].tolist()\n",
    "print(\"Oncoprint: {}, {}\".format(pos[-1], len(pos)))\n",
    "neg = res.columns[res.columns.isin(ecdna_neg)].tolist()\n",
    "n_neg2 = len(neg) \n",
    "cols_met = ['track_name', 'track_type'] + pos + neg\n",
    "df2 = res[cols_met]\n",
    "print(df2.shape)\n",
    "df2.head()"
   ]
  },
  {
   "cell_type": "code",
   "execution_count": 104,
   "metadata": {},
   "outputs": [],
   "source": [
    "## Save this oncoprint matrix\n",
    "df2.to_csv(\"../data/oncoprint2.tsv\", sep=\"\\t\", index=False)"
   ]
  },
  {
   "source": [
    "## Using the strategy 1 matrix\n",
    "\n",
    "### 1) Loss of Function"
   ],
   "cell_type": "markdown",
   "metadata": {}
  },
  {
   "cell_type": "code",
   "execution_count": 13,
   "metadata": {},
   "outputs": [
    {
     "output_type": "stream",
     "name": "stdout",
     "text": [
      "(189, 1902)\n"
     ]
    },
    {
     "output_type": "execute_result",
     "data": {
      "text/plain": [
       "  track_name track_type TCGA-D3-A2JC   TCGA-DX-A23R TCGA-05-4402 TCGA-D7-6528  \\\n",
       "0        APC        CNA   homdel_rec  Amplification          NaN          NaN   \n",
       "1   ARHGEF12        CNA          NaN            NaN          NaN          NaN   \n",
       "2        ATM        CNA          NaN            NaN          NaN          NaN   \n",
       "3     BCL11B        CNA          NaN            NaN          NaN          NaN   \n",
       "4        BLM        CNA          NaN            NaN          NaN          NaN   \n",
       "\n",
       "  TCGA-A6-2677 TCGA-CV-6948 TCGA-A6-5656 TCGA-BR-4267  ... TCGA-VD-A8K8  \\\n",
       "0          NaN          NaN          NaN          NaN  ...          NaN   \n",
       "1          NaN          NaN          NaN          NaN  ...          NaN   \n",
       "2          NaN          NaN          NaN          NaN  ...          NaN   \n",
       "3          NaN          NaN          NaN          NaN  ...          NaN   \n",
       "4          NaN          NaN          NaN          NaN  ...          NaN   \n",
       "\n",
       "  TCGA-VD-A8KA TCGA-VD-A8KD TCGA-VD-A8KE TCGA-VD-A8KF TCGA-VD-A8KH  \\\n",
       "0          NaN          NaN          NaN          NaN          NaN   \n",
       "1          NaN          NaN          NaN          NaN          NaN   \n",
       "2          NaN          NaN          NaN          NaN          NaN   \n",
       "3          NaN          NaN          NaN          NaN          NaN   \n",
       "4          NaN          NaN          NaN          NaN          NaN   \n",
       "\n",
       "  TCGA-VD-A8KL TCGA-VD-A8KN TCGA-VD-AA8O TCGA-VD-AA8P  \n",
       "0          NaN          NaN          NaN          NaN  \n",
       "1          NaN          NaN          NaN          NaN  \n",
       "2          NaN          NaN          NaN          NaN  \n",
       "3          NaN          NaN          NaN          NaN  \n",
       "4          NaN          NaN          NaN          NaN  \n",
       "\n",
       "[5 rows x 1902 columns]"
      ],
      "text/html": "<div>\n<style scoped>\n    .dataframe tbody tr th:only-of-type {\n        vertical-align: middle;\n    }\n\n    .dataframe tbody tr th {\n        vertical-align: top;\n    }\n\n    .dataframe thead th {\n        text-align: right;\n    }\n</style>\n<table border=\"1\" class=\"dataframe\">\n  <thead>\n    <tr style=\"text-align: right;\">\n      <th></th>\n      <th>track_name</th>\n      <th>track_type</th>\n      <th>TCGA-D3-A2JC</th>\n      <th>TCGA-DX-A23R</th>\n      <th>TCGA-05-4402</th>\n      <th>TCGA-D7-6528</th>\n      <th>TCGA-A6-2677</th>\n      <th>TCGA-CV-6948</th>\n      <th>TCGA-A6-5656</th>\n      <th>TCGA-BR-4267</th>\n      <th>...</th>\n      <th>TCGA-VD-A8K8</th>\n      <th>TCGA-VD-A8KA</th>\n      <th>TCGA-VD-A8KD</th>\n      <th>TCGA-VD-A8KE</th>\n      <th>TCGA-VD-A8KF</th>\n      <th>TCGA-VD-A8KH</th>\n      <th>TCGA-VD-A8KL</th>\n      <th>TCGA-VD-A8KN</th>\n      <th>TCGA-VD-AA8O</th>\n      <th>TCGA-VD-AA8P</th>\n    </tr>\n  </thead>\n  <tbody>\n    <tr>\n      <th>0</th>\n      <td>APC</td>\n      <td>CNA</td>\n      <td>homdel_rec</td>\n      <td>Amplification</td>\n      <td>NaN</td>\n      <td>NaN</td>\n      <td>NaN</td>\n      <td>NaN</td>\n      <td>NaN</td>\n      <td>NaN</td>\n      <td>...</td>\n      <td>NaN</td>\n      <td>NaN</td>\n      <td>NaN</td>\n      <td>NaN</td>\n      <td>NaN</td>\n      <td>NaN</td>\n      <td>NaN</td>\n      <td>NaN</td>\n      <td>NaN</td>\n      <td>NaN</td>\n    </tr>\n    <tr>\n      <th>1</th>\n      <td>ARHGEF12</td>\n      <td>CNA</td>\n      <td>NaN</td>\n      <td>NaN</td>\n      <td>NaN</td>\n      <td>NaN</td>\n      <td>NaN</td>\n      <td>NaN</td>\n      <td>NaN</td>\n      <td>NaN</td>\n      <td>...</td>\n      <td>NaN</td>\n      <td>NaN</td>\n      <td>NaN</td>\n      <td>NaN</td>\n      <td>NaN</td>\n      <td>NaN</td>\n      <td>NaN</td>\n      <td>NaN</td>\n      <td>NaN</td>\n      <td>NaN</td>\n    </tr>\n    <tr>\n      <th>2</th>\n      <td>ATM</td>\n      <td>CNA</td>\n      <td>NaN</td>\n      <td>NaN</td>\n      <td>NaN</td>\n      <td>NaN</td>\n      <td>NaN</td>\n      <td>NaN</td>\n      <td>NaN</td>\n      <td>NaN</td>\n      <td>...</td>\n      <td>NaN</td>\n      <td>NaN</td>\n      <td>NaN</td>\n      <td>NaN</td>\n      <td>NaN</td>\n      <td>NaN</td>\n      <td>NaN</td>\n      <td>NaN</td>\n      <td>NaN</td>\n      <td>NaN</td>\n    </tr>\n    <tr>\n      <th>3</th>\n      <td>BCL11B</td>\n      <td>CNA</td>\n      <td>NaN</td>\n      <td>NaN</td>\n      <td>NaN</td>\n      <td>NaN</td>\n      <td>NaN</td>\n      <td>NaN</td>\n      <td>NaN</td>\n      <td>NaN</td>\n      <td>...</td>\n      <td>NaN</td>\n      <td>NaN</td>\n      <td>NaN</td>\n      <td>NaN</td>\n      <td>NaN</td>\n      <td>NaN</td>\n      <td>NaN</td>\n      <td>NaN</td>\n      <td>NaN</td>\n      <td>NaN</td>\n    </tr>\n    <tr>\n      <th>4</th>\n      <td>BLM</td>\n      <td>CNA</td>\n      <td>NaN</td>\n      <td>NaN</td>\n      <td>NaN</td>\n      <td>NaN</td>\n      <td>NaN</td>\n      <td>NaN</td>\n      <td>NaN</td>\n      <td>NaN</td>\n      <td>...</td>\n      <td>NaN</td>\n      <td>NaN</td>\n      <td>NaN</td>\n      <td>NaN</td>\n      <td>NaN</td>\n      <td>NaN</td>\n      <td>NaN</td>\n      <td>NaN</td>\n      <td>NaN</td>\n      <td>NaN</td>\n    </tr>\n  </tbody>\n</table>\n<p>5 rows × 1902 columns</p>\n</div>"
     },
     "metadata": {},
     "execution_count": 13
    }
   ],
   "source": [
    "print(df.shape)\n",
    "df.head()"
   ]
  },
  {
   "cell_type": "code",
   "execution_count": 59,
   "metadata": {},
   "outputs": [
    {
     "output_type": "stream",
     "name": "stdout",
     "text": [
      "335 ecDNA+ samples; 1565 ecDNA- samples\n"
     ]
    }
   ],
   "source": [
    "## Convert the oncoprint matrix into a numerical matrix\n",
    "genes = df['track_name'].unique()\n",
    "n_gene = len(genes)\n",
    "n_neg = df.shape[1] - 2 - n_pos\n",
    "print(\"{} ecDNA+ samples; {} ecDNA- samples\".format(n_pos, n_neg))\n",
    "L1 = np.zeros(shape=(len(genes), df.shape[1]-2))"
   ]
  },
  {
   "cell_type": "code",
   "execution_count": 24,
   "metadata": {},
   "outputs": [],
   "source": [
    "G1 = np.zeros(shape=(len(genes), df.shape[1]-2))"
   ]
  },
  {
   "cell_type": "code",
   "execution_count": 23,
   "metadata": {},
   "outputs": [
    {
     "output_type": "execute_result",
     "data": {
      "text/plain": [
       "{'CNA': {'Amplification', 'Deep Deletion', 'amp_rec', 'homdel_rec'},\n",
       " 'MUTATIONS': {'Inframe Mutation (putative driver)',\n",
       "  'Inframe Mutation (putative passenger)',\n",
       "  'Missense Mutation (putative driver)',\n",
       "  'Missense Mutation (putative passenger)',\n",
       "  'Truncating mutation (putative driver)',\n",
       "  'Truncating mutation (putative passenger)',\n",
       "  'splice',\n",
       "  'splice_rec'},\n",
       " 'MRNA': set(),\n",
       " 'PROTEIN': set(),\n",
       " 'FUSION': {'Fusion'}}"
      ]
     },
     "metadata": {},
     "execution_count": 23
    }
   ],
   "source": [
    "## All possible mutations\n",
    "entry"
   ]
  },
  {
   "cell_type": "code",
   "execution_count": 39,
   "metadata": {},
   "outputs": [],
   "source": [
    "## List of LoF mutations\n",
    "loss = ['Truncating mutation (putative driver)', 'Truncating mutation (putative passenger)', \\\n",
    "        'Missense Mutation (putative driver)', 'Inframe Mutation (putative driver)', \\\n",
    "        'Deep Deletion', 'homdel_rec']"
   ]
  },
  {
   "cell_type": "code",
   "execution_count": 40,
   "metadata": {},
   "outputs": [],
   "source": [
    "## List of GoF mutations\n",
    "gain = ['Amplification', 'amp_rec']"
   ]
  },
  {
   "cell_type": "code",
   "execution_count": 37,
   "metadata": {},
   "outputs": [],
   "source": [
    "## Iterate over each genes\n",
    "gene = 'APC'\n",
    "df_sel = df[(df['track_name'] == gene) & (df['track_type'] != 'FUSION')]\n",
    "for col in df_sel.columns[2:]:\n"
   ]
  },
  {
   "cell_type": "code",
   "execution_count": null,
   "metadata": {},
   "outputs": [],
   "source": [
    "## Iterate over each genes & ignore FUSION at this moment\n",
    "for i in range(n_gene):\n",
    "    df_sel = df[(df['track_name'] == genes[i]) & (df['track_type'] != 'FUSION')]\n",
    "    for j in range(2, df.shape[2]):\n",
    "        ## Either way to count LoF\n",
    "        L1[i,j-2] = sum(df_sel[df_sel.columns[j]].isin(loss)).     # method 1\n",
    "        # L1[i,j-2] = df_sel[df_sel.columns[j]].isin(loss).any()   # method 2\n"
   ]
  },
  {
   "cell_type": "code",
   "execution_count": null,
   "metadata": {},
   "outputs": [],
   "source": [
    "## Construct the contigency table and perform statistical tests\n",
    "## i.e.    ecDNA+ | ecDNA-  \n",
    "## Loss | \n",
    "## Not  |\n",
    "## Sum up rows and generate 2 matrices where rows are genes, and columns are counts\n",
    "loss_pos = np.sum(L1[:,:n_pos], axis=1)\n",
    "loss_neg = np.sum(L1[:,n_pos:], axis=1)\n",
    "\n",
    "fisher, chi2 = np.zeros(n_gene), np.zeros(n_gene)\n",
    "alpha = 0.05\n",
    "for i in genes:\n",
    "    # depends on how we computed the frequencies of mutations\n",
    "    # e.g. method 2\n",
    "    contigency_table = np.array([[loss_pos[i], loss_neg[i]], \\\n",
    "                                 [n_pos - loss_pos[i], n_neg - loss_neg[i]]])\n",
    "    # one-sided if our hypothesis is that LoF mutations is MORE frequent in ecDNA+ samples \n",
    "    # since we only have tumor supressor genes\n",
    "    _, fisher[i] = stats.fisher_exact(contigency_table, alternative=\"greater\")\n",
    "    _, chi2[i], _, _ = stats.chi2_contingency(contigency_table)"
   ]
  },
  {
   "cell_type": "code",
   "execution_count": null,
   "metadata": {},
   "outputs": [],
   "source": [
    "## Compute the magnitude = log(#LoF / #not LoF)\n",
    "magnitude = np.zeros(n_gene)\n",
    "for i in range(n_gene):\n",
    "    magnitude[i] = np.log2(sum(L1[i,:]) / (n_pos + n_neg - sum(L1[i,:])))"
   ]
  },
  {
   "cell_type": "code",
   "execution_count": null,
   "metadata": {},
   "outputs": [],
   "source": [
    "## Volcano plot\n",
    "f, ax = plt.subplots(figsize=(12,8))\n",
    "fisher = -np.log10(fisher)\n",
    "chi2 = -np.log10(chi2)\n",
    "ax.scatter(magnitude, fisher)\n",
    "ax.plot(magnitude, [-np.log10(alpha)] * n_gene, color='red', linestyle='dashed')\n",
    "ax.set_xlabel('$\\log_2(#LoF / #non-LoF)$')\n",
    "ax.set_ylabel('$-\\log_10$(P-value)')\n",
    "ax.set_title('P-values vs. Magnitude')\n",
    "plt.show()\n"
   ]
  },
  {
   "cell_type": "code",
   "execution_count": null,
   "metadata": {},
   "outputs": [],
   "source": []
  }
 ]
}