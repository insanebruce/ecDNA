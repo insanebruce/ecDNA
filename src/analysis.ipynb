{
 "metadata": {
  "language_info": {
   "codemirror_mode": {
    "name": "ipython",
    "version": 3
   },
   "file_extension": ".py",
   "mimetype": "text/x-python",
   "name": "python",
   "nbconvert_exporter": "python",
   "pygments_lexer": "ipython3",
   "version": "3.7.9-final"
  },
  "orig_nbformat": 2,
  "kernelspec": {
   "name": "python3",
   "display_name": "Python 3.7.9 64-bit ('base': conda)",
   "metadata": {
    "interpreter": {
     "hash": "f4d158fe5c13320a4e2fe03fb6b58c599830bfe52ddb82e7f2ffc7060a530f40"
    }
   }
  }
 },
 "nbformat": 4,
 "nbformat_minor": 2,
 "cells": [
  {
   "source": [
    "# CSE 280A Project"
   ],
   "cell_type": "markdown",
   "metadata": {}
  },
  {
   "cell_type": "code",
   "execution_count": 9,
   "metadata": {},
   "outputs": [],
   "source": [
    "import pandas as pd\n",
    "import numpy as np\n",
    "from scipy import stats\n",
    "from collections import Counter\n",
    "import matplotlib\n",
    "import matplotlib.pyplot as plt\n",
    "import statsmodels.stats.multitest as smm"
   ]
  },
  {
   "cell_type": "code",
   "execution_count": 10,
   "metadata": {},
   "outputs": [
    {
     "output_type": "stream",
     "name": "stdout",
     "text": [
      "(3212, 7)\n"
     ]
    },
    {
     "output_type": "execute_result",
     "data": {
      "text/plain": [
       "  study patient_barcode  ... sample_classification_nam_2019  sample_classification\n",
       "0  PCWG         DO51086  ...                            NaN           Non-circular\n",
       "1  PCWG         DO48759  ...                            NaN           Non-circular\n",
       "2  PCWG         DO48916  ...                            NaN       No SCNA detected\n",
       "3  PCWG         DO51046  ...                            NaN       No SCNA detected\n",
       "4  PCWG         DO45251  ...                            NaN               Circular\n",
       "\n",
       "[5 rows x 7 columns]"
      ],
      "text/html": "<div>\n<style scoped>\n    .dataframe tbody tr th:only-of-type {\n        vertical-align: middle;\n    }\n\n    .dataframe tbody tr th {\n        vertical-align: top;\n    }\n\n    .dataframe thead th {\n        text-align: right;\n    }\n</style>\n<table border=\"1\" class=\"dataframe\">\n  <thead>\n    <tr style=\"text-align: right;\">\n      <th></th>\n      <th>study</th>\n      <th>patient_barcode</th>\n      <th>sample_barcode</th>\n      <th>min_cnv</th>\n      <th>number_amp_region</th>\n      <th>sample_classification_nam_2019</th>\n      <th>sample_classification</th>\n    </tr>\n  </thead>\n  <tbody>\n    <tr>\n      <th>0</th>\n      <td>PCWG</td>\n      <td>DO51086</td>\n      <td>SA530559</td>\n      <td>4</td>\n      <td>30</td>\n      <td>NaN</td>\n      <td>Non-circular</td>\n    </tr>\n    <tr>\n      <th>1</th>\n      <td>PCWG</td>\n      <td>DO48759</td>\n      <td>SA515463</td>\n      <td>4</td>\n      <td>5</td>\n      <td>NaN</td>\n      <td>Non-circular</td>\n    </tr>\n    <tr>\n      <th>2</th>\n      <td>PCWG</td>\n      <td>DO48916</td>\n      <td>SA517420</td>\n      <td>4</td>\n      <td>0</td>\n      <td>NaN</td>\n      <td>No SCNA detected</td>\n    </tr>\n    <tr>\n      <th>3</th>\n      <td>PCWG</td>\n      <td>DO51046</td>\n      <td>SA530430</td>\n      <td>4</td>\n      <td>2</td>\n      <td>NaN</td>\n      <td>No SCNA detected</td>\n    </tr>\n    <tr>\n      <th>4</th>\n      <td>PCWG</td>\n      <td>DO45251</td>\n      <td>SA501507</td>\n      <td>4</td>\n      <td>3</td>\n      <td>NaN</td>\n      <td>Circular</td>\n    </tr>\n  </tbody>\n</table>\n</div>"
     },
     "metadata": {},
     "execution_count": 10
    }
   ],
   "source": [
    "## Load the reference file (classification for each sample)\n",
    "ref = pd.read_csv(\"../data/pcaa-master-platinum_set_2020.tsv\", sep=\"\\t\", header=0, usecols=[0,7,8,12,13,28,32])\n",
    "print(ref.shape)\n",
    "ref.head()"
   ]
  },
  {
   "cell_type": "code",
   "execution_count": 11,
   "metadata": {},
   "outputs": [
    {
     "output_type": "stream",
     "name": "stdout",
     "text": [
      "(1921, 7)\n"
     ]
    },
    {
     "output_type": "execute_result",
     "data": {
      "text/plain": [
       "     study patient_barcode  ... sample_classification_nam_2019  sample_classification\n",
       "1291  TCGA    TCGA-02-2483  ...                         Distal     Heavily-rearranged\n",
       "1292  TCGA    TCGA-02-2485  ...                       Circular               Circular\n",
       "1293  TCGA    TCGA-04-1331  ...                         Linear           Non-circular\n",
       "1294  TCGA    TCGA-04-1347  ...                       Circular               Circular\n",
       "1295  TCGA    TCGA-04-1349  ...                         Distal     Heavily-rearranged\n",
       "\n",
       "[5 rows x 7 columns]"
      ],
      "text/html": "<div>\n<style scoped>\n    .dataframe tbody tr th:only-of-type {\n        vertical-align: middle;\n    }\n\n    .dataframe tbody tr th {\n        vertical-align: top;\n    }\n\n    .dataframe thead th {\n        text-align: right;\n    }\n</style>\n<table border=\"1\" class=\"dataframe\">\n  <thead>\n    <tr style=\"text-align: right;\">\n      <th></th>\n      <th>study</th>\n      <th>patient_barcode</th>\n      <th>sample_barcode</th>\n      <th>min_cnv</th>\n      <th>number_amp_region</th>\n      <th>sample_classification_nam_2019</th>\n      <th>sample_classification</th>\n    </tr>\n  </thead>\n  <tbody>\n    <tr>\n      <th>1291</th>\n      <td>TCGA</td>\n      <td>TCGA-02-2483</td>\n      <td>TCGA-02-2483-01</td>\n      <td>1</td>\n      <td>20</td>\n      <td>Distal</td>\n      <td>Heavily-rearranged</td>\n    </tr>\n    <tr>\n      <th>1292</th>\n      <td>TCGA</td>\n      <td>TCGA-02-2485</td>\n      <td>TCGA-02-2485-01</td>\n      <td>1</td>\n      <td>33</td>\n      <td>Circular</td>\n      <td>Circular</td>\n    </tr>\n    <tr>\n      <th>1293</th>\n      <td>TCGA</td>\n      <td>TCGA-04-1331</td>\n      <td>TCGA-04-1331-01</td>\n      <td>1</td>\n      <td>4</td>\n      <td>Linear</td>\n      <td>Non-circular</td>\n    </tr>\n    <tr>\n      <th>1294</th>\n      <td>TCGA</td>\n      <td>TCGA-04-1347</td>\n      <td>TCGA-04-1347-01</td>\n      <td>1</td>\n      <td>12</td>\n      <td>Circular</td>\n      <td>Circular</td>\n    </tr>\n    <tr>\n      <th>1295</th>\n      <td>TCGA</td>\n      <td>TCGA-04-1349</td>\n      <td>TCGA-04-1349-01</td>\n      <td>1</td>\n      <td>26</td>\n      <td>Distal</td>\n      <td>Heavily-rearranged</td>\n    </tr>\n  </tbody>\n</table>\n</div>"
     },
     "metadata": {},
     "execution_count": 11
    }
   ],
   "source": [
    "## Only keep TCGA samples\n",
    "ref = ref[ref['study'] == 'TCGA']\n",
    "print(ref.shape)\n",
    "ref.head()"
   ]
  },
  {
   "cell_type": "code",
   "execution_count": 12,
   "metadata": {},
   "outputs": [
    {
     "output_type": "stream",
     "name": "stdout",
     "text": [
      "(315, 10955)\n"
     ]
    },
    {
     "output_type": "execute_result",
     "data": {
      "text/plain": [
       "  track_name track_type TCGA-ER-A195  ... TCGA-13-2066 TCGA-BP-4345 TCGA-OR-A5OG\n",
       "0        APC        CNA   homdel_rec  ...          NaN          NaN          NaN\n",
       "1   ARHGEF12        CNA          NaN  ...          NaN          NaN          NaN\n",
       "2        ATM        CNA          NaN  ...          NaN          NaN          NaN\n",
       "3     BCL11B        CNA          NaN  ...          NaN          NaN          NaN\n",
       "4        BLM        CNA          NaN  ...          NaN          NaN          NaN\n",
       "\n",
       "[5 rows x 10955 columns]"
      ],
      "text/html": "<div>\n<style scoped>\n    .dataframe tbody tr th:only-of-type {\n        vertical-align: middle;\n    }\n\n    .dataframe tbody tr th {\n        vertical-align: top;\n    }\n\n    .dataframe thead th {\n        text-align: right;\n    }\n</style>\n<table border=\"1\" class=\"dataframe\">\n  <thead>\n    <tr style=\"text-align: right;\">\n      <th></th>\n      <th>track_name</th>\n      <th>track_type</th>\n      <th>TCGA-ER-A195</th>\n      <th>TCGA-XK-AAJA</th>\n      <th>TCGA-CH-5788</th>\n      <th>TCGA-OR-A5JX</th>\n      <th>TCGA-CJ-4886</th>\n      <th>TCGA-EQ-A4SO</th>\n      <th>TCGA-CE-A3MD</th>\n      <th>TCGA-DM-A28K</th>\n      <th>TCGA-AY-6197</th>\n      <th>TCGA-AZ-6599</th>\n      <th>TCGA-FS-A1ZG</th>\n      <th>TCGA-AH-6903</th>\n      <th>TCGA-DD-A3A8</th>\n      <th>TCGA-HU-8604</th>\n      <th>TCGA-AA-3848</th>\n      <th>TCGA-EI-6510</th>\n      <th>TCGA-DM-A280</th>\n      <th>TCGA-5M-AATA</th>\n      <th>TCGA-CK-6751</th>\n      <th>TCGA-DD-A4NP</th>\n      <th>TCGA-VQ-A8DV</th>\n      <th>TCGA-D3-A8GQ</th>\n      <th>TCGA-BB-4217</th>\n      <th>TCGA-AD-6964</th>\n      <th>TCGA-95-7039</th>\n      <th>TCGA-BR-8368</th>\n      <th>TCGA-63-A5MW</th>\n      <th>TCGA-YL-A8SH</th>\n      <th>TCGA-A2-A0EY</th>\n      <th>TCGA-EJ-7784</th>\n      <th>TCGA-49-AAR2</th>\n      <th>TCGA-VQ-AA64</th>\n      <th>TCGA-GU-AATQ</th>\n      <th>TCGA-KC-A7F3</th>\n      <th>TCGA-EJ-5531</th>\n      <th>TCGA-S3-AA10</th>\n      <th>TCGA-CH-5748</th>\n      <th>TCGA-KK-A8IB</th>\n      <th>...</th>\n      <th>TCGA-ZG-A8QW</th>\n      <th>TCGA-ZG-A8QY</th>\n      <th>TCGA-ZG-A9LS</th>\n      <th>TCGA-ZG-A9LU</th>\n      <th>TCGA-ZG-A9ND</th>\n      <th>TCGA-ZH-A8Y6</th>\n      <th>TCGA-ZJ-A8QQ</th>\n      <th>TCGA-ZJ-A8QR</th>\n      <th>TCGA-ZJ-AAX8</th>\n      <th>TCGA-ZJ-AAXA</th>\n      <th>TCGA-ZJ-AB0H</th>\n      <th>TCGA-ZL-A9V6</th>\n      <th>TCGA-ZM-AA0D</th>\n      <th>TCGA-ZM-AA0E</th>\n      <th>TCGA-ZM-AA0F</th>\n      <th>TCGA-ZM-AA0H</th>\n      <th>TCGA-ZM-AA0N</th>\n      <th>TCGA-ZN-A9VQ</th>\n      <th>TCGA-ZN-A9VU</th>\n      <th>TCGA-ZP-A9D0</th>\n      <th>TCGA-ZS-A9CE</th>\n      <th>TCGA-ZT-A8OM</th>\n      <th>TCGA-ZU-A8S4</th>\n      <th>TCGA-91-A4BD</th>\n      <th>TCGA-91-6849</th>\n      <th>TCGA-91-8497</th>\n      <th>TCGA-93-7347</th>\n      <th>TCGA-93-7348</th>\n      <th>TCGA-95-7948</th>\n      <th>TCGA-96-A4JL</th>\n      <th>TCGA-97-A4M2</th>\n      <th>TCGA-97-7552</th>\n      <th>TCGA-97-8552</th>\n      <th>TCGA-98-A53C</th>\n      <th>TCGA-98-A53D</th>\n      <th>TCGA-98-A53H</th>\n      <th>TCGA-99-AA5R</th>\n      <th>TCGA-13-2066</th>\n      <th>TCGA-BP-4345</th>\n      <th>TCGA-OR-A5OG</th>\n    </tr>\n  </thead>\n  <tbody>\n    <tr>\n      <th>0</th>\n      <td>APC</td>\n      <td>CNA</td>\n      <td>homdel_rec</td>\n      <td>homdel_rec</td>\n      <td>homdel_rec</td>\n      <td>Amplification</td>\n      <td>Amplification</td>\n      <td>NaN</td>\n      <td>NaN</td>\n      <td>homdel_rec</td>\n      <td>homdel_rec</td>\n      <td>homdel_rec</td>\n      <td>homdel_rec</td>\n      <td>homdel_rec</td>\n      <td>homdel_rec</td>\n      <td>homdel_rec</td>\n      <td>homdel_rec</td>\n      <td>homdel_rec</td>\n      <td>homdel_rec</td>\n      <td>homdel_rec</td>\n      <td>homdel_rec</td>\n      <td>homdel_rec</td>\n      <td>homdel_rec</td>\n      <td>homdel_rec</td>\n      <td>homdel_rec</td>\n      <td>homdel_rec</td>\n      <td>homdel_rec</td>\n      <td>homdel_rec</td>\n      <td>homdel_rec</td>\n      <td>homdel_rec</td>\n      <td>homdel_rec</td>\n      <td>homdel_rec</td>\n      <td>homdel_rec</td>\n      <td>homdel_rec</td>\n      <td>homdel_rec</td>\n      <td>homdel_rec</td>\n      <td>homdel_rec</td>\n      <td>homdel_rec</td>\n      <td>homdel_rec</td>\n      <td>homdel_rec</td>\n      <td>...</td>\n      <td>NaN</td>\n      <td>NaN</td>\n      <td>NaN</td>\n      <td>NaN</td>\n      <td>NaN</td>\n      <td>NaN</td>\n      <td>NaN</td>\n      <td>NaN</td>\n      <td>NaN</td>\n      <td>NaN</td>\n      <td>NaN</td>\n      <td>NaN</td>\n      <td>NaN</td>\n      <td>NaN</td>\n      <td>NaN</td>\n      <td>NaN</td>\n      <td>NaN</td>\n      <td>NaN</td>\n      <td>NaN</td>\n      <td>NaN</td>\n      <td>NaN</td>\n      <td>NaN</td>\n      <td>NaN</td>\n      <td>NaN</td>\n      <td>NaN</td>\n      <td>NaN</td>\n      <td>NaN</td>\n      <td>NaN</td>\n      <td>NaN</td>\n      <td>NaN</td>\n      <td>NaN</td>\n      <td>NaN</td>\n      <td>NaN</td>\n      <td>NaN</td>\n      <td>NaN</td>\n      <td>NaN</td>\n      <td>NaN</td>\n      <td>NaN</td>\n      <td>NaN</td>\n      <td>NaN</td>\n    </tr>\n    <tr>\n      <th>1</th>\n      <td>ARHGEF12</td>\n      <td>CNA</td>\n      <td>NaN</td>\n      <td>NaN</td>\n      <td>NaN</td>\n      <td>NaN</td>\n      <td>NaN</td>\n      <td>NaN</td>\n      <td>NaN</td>\n      <td>NaN</td>\n      <td>NaN</td>\n      <td>NaN</td>\n      <td>NaN</td>\n      <td>NaN</td>\n      <td>NaN</td>\n      <td>NaN</td>\n      <td>NaN</td>\n      <td>NaN</td>\n      <td>NaN</td>\n      <td>NaN</td>\n      <td>NaN</td>\n      <td>NaN</td>\n      <td>NaN</td>\n      <td>Deep Deletion</td>\n      <td>Deep Deletion</td>\n      <td>NaN</td>\n      <td>NaN</td>\n      <td>NaN</td>\n      <td>NaN</td>\n      <td>NaN</td>\n      <td>NaN</td>\n      <td>NaN</td>\n      <td>NaN</td>\n      <td>NaN</td>\n      <td>NaN</td>\n      <td>NaN</td>\n      <td>NaN</td>\n      <td>NaN</td>\n      <td>NaN</td>\n      <td>NaN</td>\n      <td>...</td>\n      <td>NaN</td>\n      <td>NaN</td>\n      <td>NaN</td>\n      <td>NaN</td>\n      <td>NaN</td>\n      <td>NaN</td>\n      <td>NaN</td>\n      <td>NaN</td>\n      <td>NaN</td>\n      <td>NaN</td>\n      <td>NaN</td>\n      <td>NaN</td>\n      <td>NaN</td>\n      <td>NaN</td>\n      <td>NaN</td>\n      <td>NaN</td>\n      <td>NaN</td>\n      <td>NaN</td>\n      <td>NaN</td>\n      <td>NaN</td>\n      <td>NaN</td>\n      <td>NaN</td>\n      <td>NaN</td>\n      <td>NaN</td>\n      <td>NaN</td>\n      <td>NaN</td>\n      <td>NaN</td>\n      <td>NaN</td>\n      <td>NaN</td>\n      <td>NaN</td>\n      <td>NaN</td>\n      <td>NaN</td>\n      <td>NaN</td>\n      <td>NaN</td>\n      <td>NaN</td>\n      <td>NaN</td>\n      <td>NaN</td>\n      <td>NaN</td>\n      <td>NaN</td>\n      <td>NaN</td>\n    </tr>\n    <tr>\n      <th>2</th>\n      <td>ATM</td>\n      <td>CNA</td>\n      <td>NaN</td>\n      <td>NaN</td>\n      <td>NaN</td>\n      <td>NaN</td>\n      <td>NaN</td>\n      <td>NaN</td>\n      <td>NaN</td>\n      <td>NaN</td>\n      <td>NaN</td>\n      <td>NaN</td>\n      <td>NaN</td>\n      <td>NaN</td>\n      <td>NaN</td>\n      <td>NaN</td>\n      <td>NaN</td>\n      <td>NaN</td>\n      <td>NaN</td>\n      <td>NaN</td>\n      <td>NaN</td>\n      <td>NaN</td>\n      <td>NaN</td>\n      <td>homdel_rec</td>\n      <td>homdel_rec</td>\n      <td>NaN</td>\n      <td>NaN</td>\n      <td>NaN</td>\n      <td>NaN</td>\n      <td>NaN</td>\n      <td>NaN</td>\n      <td>NaN</td>\n      <td>NaN</td>\n      <td>NaN</td>\n      <td>NaN</td>\n      <td>NaN</td>\n      <td>NaN</td>\n      <td>NaN</td>\n      <td>NaN</td>\n      <td>NaN</td>\n      <td>...</td>\n      <td>NaN</td>\n      <td>NaN</td>\n      <td>NaN</td>\n      <td>NaN</td>\n      <td>NaN</td>\n      <td>NaN</td>\n      <td>NaN</td>\n      <td>NaN</td>\n      <td>NaN</td>\n      <td>NaN</td>\n      <td>NaN</td>\n      <td>NaN</td>\n      <td>NaN</td>\n      <td>NaN</td>\n      <td>NaN</td>\n      <td>NaN</td>\n      <td>NaN</td>\n      <td>NaN</td>\n      <td>NaN</td>\n      <td>NaN</td>\n      <td>NaN</td>\n      <td>NaN</td>\n      <td>NaN</td>\n      <td>NaN</td>\n      <td>NaN</td>\n      <td>NaN</td>\n      <td>NaN</td>\n      <td>NaN</td>\n      <td>NaN</td>\n      <td>NaN</td>\n      <td>NaN</td>\n      <td>NaN</td>\n      <td>NaN</td>\n      <td>NaN</td>\n      <td>NaN</td>\n      <td>NaN</td>\n      <td>NaN</td>\n      <td>NaN</td>\n      <td>NaN</td>\n      <td>NaN</td>\n    </tr>\n    <tr>\n      <th>3</th>\n      <td>BCL11B</td>\n      <td>CNA</td>\n      <td>NaN</td>\n      <td>NaN</td>\n      <td>NaN</td>\n      <td>NaN</td>\n      <td>NaN</td>\n      <td>NaN</td>\n      <td>NaN</td>\n      <td>NaN</td>\n      <td>NaN</td>\n      <td>NaN</td>\n      <td>NaN</td>\n      <td>NaN</td>\n      <td>NaN</td>\n      <td>NaN</td>\n      <td>NaN</td>\n      <td>NaN</td>\n      <td>NaN</td>\n      <td>NaN</td>\n      <td>NaN</td>\n      <td>NaN</td>\n      <td>NaN</td>\n      <td>NaN</td>\n      <td>NaN</td>\n      <td>NaN</td>\n      <td>NaN</td>\n      <td>NaN</td>\n      <td>NaN</td>\n      <td>NaN</td>\n      <td>NaN</td>\n      <td>NaN</td>\n      <td>NaN</td>\n      <td>NaN</td>\n      <td>NaN</td>\n      <td>NaN</td>\n      <td>NaN</td>\n      <td>NaN</td>\n      <td>NaN</td>\n      <td>NaN</td>\n      <td>...</td>\n      <td>NaN</td>\n      <td>NaN</td>\n      <td>NaN</td>\n      <td>NaN</td>\n      <td>NaN</td>\n      <td>NaN</td>\n      <td>NaN</td>\n      <td>NaN</td>\n      <td>NaN</td>\n      <td>NaN</td>\n      <td>NaN</td>\n      <td>NaN</td>\n      <td>NaN</td>\n      <td>NaN</td>\n      <td>NaN</td>\n      <td>NaN</td>\n      <td>NaN</td>\n      <td>NaN</td>\n      <td>NaN</td>\n      <td>NaN</td>\n      <td>NaN</td>\n      <td>NaN</td>\n      <td>NaN</td>\n      <td>NaN</td>\n      <td>NaN</td>\n      <td>NaN</td>\n      <td>NaN</td>\n      <td>NaN</td>\n      <td>NaN</td>\n      <td>NaN</td>\n      <td>NaN</td>\n      <td>NaN</td>\n      <td>NaN</td>\n      <td>NaN</td>\n      <td>NaN</td>\n      <td>NaN</td>\n      <td>NaN</td>\n      <td>NaN</td>\n      <td>NaN</td>\n      <td>NaN</td>\n    </tr>\n    <tr>\n      <th>4</th>\n      <td>BLM</td>\n      <td>CNA</td>\n      <td>NaN</td>\n      <td>NaN</td>\n      <td>NaN</td>\n      <td>NaN</td>\n      <td>NaN</td>\n      <td>NaN</td>\n      <td>NaN</td>\n      <td>NaN</td>\n      <td>NaN</td>\n      <td>NaN</td>\n      <td>NaN</td>\n      <td>NaN</td>\n      <td>NaN</td>\n      <td>NaN</td>\n      <td>NaN</td>\n      <td>NaN</td>\n      <td>NaN</td>\n      <td>NaN</td>\n      <td>NaN</td>\n      <td>NaN</td>\n      <td>NaN</td>\n      <td>NaN</td>\n      <td>NaN</td>\n      <td>NaN</td>\n      <td>NaN</td>\n      <td>NaN</td>\n      <td>NaN</td>\n      <td>NaN</td>\n      <td>NaN</td>\n      <td>NaN</td>\n      <td>NaN</td>\n      <td>NaN</td>\n      <td>NaN</td>\n      <td>NaN</td>\n      <td>NaN</td>\n      <td>NaN</td>\n      <td>NaN</td>\n      <td>NaN</td>\n      <td>...</td>\n      <td>NaN</td>\n      <td>NaN</td>\n      <td>NaN</td>\n      <td>NaN</td>\n      <td>NaN</td>\n      <td>NaN</td>\n      <td>NaN</td>\n      <td>NaN</td>\n      <td>NaN</td>\n      <td>NaN</td>\n      <td>NaN</td>\n      <td>NaN</td>\n      <td>NaN</td>\n      <td>NaN</td>\n      <td>NaN</td>\n      <td>NaN</td>\n      <td>NaN</td>\n      <td>NaN</td>\n      <td>NaN</td>\n      <td>NaN</td>\n      <td>NaN</td>\n      <td>NaN</td>\n      <td>NaN</td>\n      <td>NaN</td>\n      <td>NaN</td>\n      <td>NaN</td>\n      <td>NaN</td>\n      <td>NaN</td>\n      <td>NaN</td>\n      <td>NaN</td>\n      <td>NaN</td>\n      <td>NaN</td>\n      <td>NaN</td>\n      <td>NaN</td>\n      <td>NaN</td>\n      <td>NaN</td>\n      <td>NaN</td>\n      <td>NaN</td>\n      <td>NaN</td>\n      <td>NaN</td>\n    </tr>\n  </tbody>\n</table>\n<p>5 rows × 10955 columns</p>\n</div>"
     },
     "metadata": {},
     "execution_count": 12
    }
   ],
   "source": [
    "## Load the oncoprint matrix after querying genes against all TCGA studies\n",
    "res = pd.read_csv(\"../data/PATIENT_DATA_oncoprint.tsv\", sep=\"\\t\", header=0, skiprows=[1,2,3,4])\n",
    "print(res.shape)\n",
    "res.head()"
   ]
  },
  {
   "cell_type": "code",
   "execution_count": 13,
   "metadata": {},
   "outputs": [
    {
     "output_type": "stream",
     "name": "stdout",
     "text": [
      "(4, 10955)\n"
     ]
    },
    {
     "output_type": "execute_result",
     "data": {
      "text/plain": [
       "                             track_name  ...                                      TCGA-OR-A5OG\n",
       "0                       Study of origin  ...  Adrenocortical Carcinoma (TCGA, PanCancer Atlas)\n",
       "1                 # Samples per Patient  ...                                                 1\n",
       "2  Profiled for copy number alterations  ...                                               NaN\n",
       "3                Profiled for mutations  ...                                               NaN\n",
       "\n",
       "[4 rows x 10955 columns]"
      ],
      "text/html": "<div>\n<style scoped>\n    .dataframe tbody tr th:only-of-type {\n        vertical-align: middle;\n    }\n\n    .dataframe tbody tr th {\n        vertical-align: top;\n    }\n\n    .dataframe thead th {\n        text-align: right;\n    }\n</style>\n<table border=\"1\" class=\"dataframe\">\n  <thead>\n    <tr style=\"text-align: right;\">\n      <th></th>\n      <th>track_name</th>\n      <th>track_type</th>\n      <th>TCGA-ER-A195</th>\n      <th>TCGA-XK-AAJA</th>\n      <th>TCGA-CH-5788</th>\n      <th>TCGA-OR-A5JX</th>\n      <th>TCGA-CJ-4886</th>\n      <th>TCGA-EQ-A4SO</th>\n      <th>TCGA-CE-A3MD</th>\n      <th>TCGA-DM-A28K</th>\n      <th>TCGA-AY-6197</th>\n      <th>TCGA-AZ-6599</th>\n      <th>TCGA-FS-A1ZG</th>\n      <th>TCGA-AH-6903</th>\n      <th>TCGA-DD-A3A8</th>\n      <th>TCGA-HU-8604</th>\n      <th>TCGA-AA-3848</th>\n      <th>TCGA-EI-6510</th>\n      <th>TCGA-DM-A280</th>\n      <th>TCGA-5M-AATA</th>\n      <th>TCGA-CK-6751</th>\n      <th>TCGA-DD-A4NP</th>\n      <th>TCGA-VQ-A8DV</th>\n      <th>TCGA-D3-A8GQ</th>\n      <th>TCGA-BB-4217</th>\n      <th>TCGA-AD-6964</th>\n      <th>TCGA-95-7039</th>\n      <th>TCGA-BR-8368</th>\n      <th>TCGA-63-A5MW</th>\n      <th>TCGA-YL-A8SH</th>\n      <th>TCGA-A2-A0EY</th>\n      <th>TCGA-EJ-7784</th>\n      <th>TCGA-49-AAR2</th>\n      <th>TCGA-VQ-AA64</th>\n      <th>TCGA-GU-AATQ</th>\n      <th>TCGA-KC-A7F3</th>\n      <th>TCGA-EJ-5531</th>\n      <th>TCGA-S3-AA10</th>\n      <th>TCGA-CH-5748</th>\n      <th>TCGA-KK-A8IB</th>\n      <th>...</th>\n      <th>TCGA-ZG-A8QW</th>\n      <th>TCGA-ZG-A8QY</th>\n      <th>TCGA-ZG-A9LS</th>\n      <th>TCGA-ZG-A9LU</th>\n      <th>TCGA-ZG-A9ND</th>\n      <th>TCGA-ZH-A8Y6</th>\n      <th>TCGA-ZJ-A8QQ</th>\n      <th>TCGA-ZJ-A8QR</th>\n      <th>TCGA-ZJ-AAX8</th>\n      <th>TCGA-ZJ-AAXA</th>\n      <th>TCGA-ZJ-AB0H</th>\n      <th>TCGA-ZL-A9V6</th>\n      <th>TCGA-ZM-AA0D</th>\n      <th>TCGA-ZM-AA0E</th>\n      <th>TCGA-ZM-AA0F</th>\n      <th>TCGA-ZM-AA0H</th>\n      <th>TCGA-ZM-AA0N</th>\n      <th>TCGA-ZN-A9VQ</th>\n      <th>TCGA-ZN-A9VU</th>\n      <th>TCGA-ZP-A9D0</th>\n      <th>TCGA-ZS-A9CE</th>\n      <th>TCGA-ZT-A8OM</th>\n      <th>TCGA-ZU-A8S4</th>\n      <th>TCGA-91-A4BD</th>\n      <th>TCGA-91-6849</th>\n      <th>TCGA-91-8497</th>\n      <th>TCGA-93-7347</th>\n      <th>TCGA-93-7348</th>\n      <th>TCGA-95-7948</th>\n      <th>TCGA-96-A4JL</th>\n      <th>TCGA-97-A4M2</th>\n      <th>TCGA-97-7552</th>\n      <th>TCGA-97-8552</th>\n      <th>TCGA-98-A53C</th>\n      <th>TCGA-98-A53D</th>\n      <th>TCGA-98-A53H</th>\n      <th>TCGA-99-AA5R</th>\n      <th>TCGA-13-2066</th>\n      <th>TCGA-BP-4345</th>\n      <th>TCGA-OR-A5OG</th>\n    </tr>\n  </thead>\n  <tbody>\n    <tr>\n      <th>0</th>\n      <td>Study of origin</td>\n      <td>CLINICAL</td>\n      <td>Skin Cutaneous Melanoma (TCGA, PanCancer Atlas)</td>\n      <td>Prostate Adenocarcinoma (TCGA, PanCancer Atlas)</td>\n      <td>Prostate Adenocarcinoma (TCGA, PanCancer Atlas)</td>\n      <td>Adrenocortical Carcinoma (TCGA, PanCancer Atlas)</td>\n      <td>Kidney Renal Clear Cell Carcinoma (TCGA, PanCa...</td>\n      <td>Stomach Adenocarcinoma (TCGA, PanCancer Atlas)</td>\n      <td>Thyroid Carcinoma (TCGA, PanCancer Atlas)</td>\n      <td>Colorectal Adenocarcinoma (TCGA, PanCancer Atlas)</td>\n      <td>Colorectal Adenocarcinoma (TCGA, PanCancer Atlas)</td>\n      <td>Colorectal Adenocarcinoma (TCGA, PanCancer Atlas)</td>\n      <td>Skin Cutaneous Melanoma (TCGA, PanCancer Atlas)</td>\n      <td>Colorectal Adenocarcinoma (TCGA, PanCancer Atlas)</td>\n      <td>Liver Hepatocellular Carcinoma (TCGA, PanCance...</td>\n      <td>Stomach Adenocarcinoma (TCGA, PanCancer Atlas)</td>\n      <td>Colorectal Adenocarcinoma (TCGA, PanCancer Atlas)</td>\n      <td>Colorectal Adenocarcinoma (TCGA, PanCancer Atlas)</td>\n      <td>Colorectal Adenocarcinoma (TCGA, PanCancer Atlas)</td>\n      <td>Colorectal Adenocarcinoma (TCGA, PanCancer Atlas)</td>\n      <td>Colorectal Adenocarcinoma (TCGA, PanCancer Atlas)</td>\n      <td>Liver Hepatocellular Carcinoma (TCGA, PanCance...</td>\n      <td>Stomach Adenocarcinoma (TCGA, PanCancer Atlas)</td>\n      <td>Skin Cutaneous Melanoma (TCGA, PanCancer Atlas)</td>\n      <td>Head and Neck Squamous Cell Carcinoma (TCGA, P...</td>\n      <td>Colorectal Adenocarcinoma (TCGA, PanCancer Atlas)</td>\n      <td>Lung Adenocarcinoma (TCGA, PanCancer Atlas)</td>\n      <td>Stomach Adenocarcinoma (TCGA, PanCancer Atlas)</td>\n      <td>Lung Squamous Cell Carcinoma (TCGA, PanCancer ...</td>\n      <td>Prostate Adenocarcinoma (TCGA, PanCancer Atlas)</td>\n      <td>Breast Invasive Carcinoma (TCGA, PanCancer Atlas)</td>\n      <td>Prostate Adenocarcinoma (TCGA, PanCancer Atlas)</td>\n      <td>Lung Adenocarcinoma (TCGA, PanCancer Atlas)</td>\n      <td>Stomach Adenocarcinoma (TCGA, PanCancer Atlas)</td>\n      <td>Bladder Urothelial Carcinoma (TCGA, PanCancer ...</td>\n      <td>Prostate Adenocarcinoma (TCGA, PanCancer Atlas)</td>\n      <td>Prostate Adenocarcinoma (TCGA, PanCancer Atlas)</td>\n      <td>Breast Invasive Carcinoma (TCGA, PanCancer Atlas)</td>\n      <td>Prostate Adenocarcinoma (TCGA, PanCancer Atlas)</td>\n      <td>Prostate Adenocarcinoma (TCGA, PanCancer Atlas)</td>\n      <td>...</td>\n      <td>Prostate Adenocarcinoma (TCGA, PanCancer Atlas)</td>\n      <td>Prostate Adenocarcinoma (TCGA, PanCancer Atlas)</td>\n      <td>Prostate Adenocarcinoma (TCGA, PanCancer Atlas)</td>\n      <td>Prostate Adenocarcinoma (TCGA, PanCancer Atlas)</td>\n      <td>Prostate Adenocarcinoma (TCGA, PanCancer Atlas)</td>\n      <td>Cholangiocarcinoma (TCGA, PanCancer Atlas)</td>\n      <td>Cervical Squamous Cell Carcinoma (TCGA, PanCan...</td>\n      <td>Cervical Squamous Cell Carcinoma (TCGA, PanCan...</td>\n      <td>Cervical Squamous Cell Carcinoma (TCGA, PanCan...</td>\n      <td>Cervical Squamous Cell Carcinoma (TCGA, PanCan...</td>\n      <td>Cervical Squamous Cell Carcinoma (TCGA, PanCan...</td>\n      <td>Thymoma (TCGA, PanCancer Atlas)</td>\n      <td>Testicular Germ Cell Tumors (TCGA, PanCancer A...</td>\n      <td>Testicular Germ Cell Tumors (TCGA, PanCancer A...</td>\n      <td>Testicular Germ Cell Tumors (TCGA, PanCancer A...</td>\n      <td>Testicular Germ Cell Tumors (TCGA, PanCancer A...</td>\n      <td>Testicular Germ Cell Tumors (TCGA, PanCancer A...</td>\n      <td>Mesothelioma (TCGA, PanCancer Atlas)</td>\n      <td>Mesothelioma (TCGA, PanCancer Atlas)</td>\n      <td>Liver Hepatocellular Carcinoma (TCGA, PanCance...</td>\n      <td>Liver Hepatocellular Carcinoma (TCGA, PanCance...</td>\n      <td>Thymoma (TCGA, PanCancer Atlas)</td>\n      <td>Cholangiocarcinoma (TCGA, PanCancer Atlas)</td>\n      <td>Lung Adenocarcinoma (TCGA, PanCancer Atlas)</td>\n      <td>Lung Adenocarcinoma (TCGA, PanCancer Atlas)</td>\n      <td>Lung Adenocarcinoma (TCGA, PanCancer Atlas)</td>\n      <td>Lung Adenocarcinoma (TCGA, PanCancer Atlas)</td>\n      <td>Lung Adenocarcinoma (TCGA, PanCancer Atlas)</td>\n      <td>Lung Adenocarcinoma (TCGA, PanCancer Atlas)</td>\n      <td>Lung Squamous Cell Carcinoma (TCGA, PanCancer ...</td>\n      <td>Lung Adenocarcinoma (TCGA, PanCancer Atlas)</td>\n      <td>Lung Adenocarcinoma (TCGA, PanCancer Atlas)</td>\n      <td>Lung Adenocarcinoma (TCGA, PanCancer Atlas)</td>\n      <td>Lung Squamous Cell Carcinoma (TCGA, PanCancer ...</td>\n      <td>Lung Squamous Cell Carcinoma (TCGA, PanCancer ...</td>\n      <td>Lung Squamous Cell Carcinoma (TCGA, PanCancer ...</td>\n      <td>Lung Adenocarcinoma (TCGA, PanCancer Atlas)</td>\n      <td>Ovarian Serous Cystadenocarcinoma (TCGA, PanCa...</td>\n      <td>Kidney Renal Clear Cell Carcinoma (TCGA, PanCa...</td>\n      <td>Adrenocortical Carcinoma (TCGA, PanCancer Atlas)</td>\n    </tr>\n    <tr>\n      <th>1</th>\n      <td># Samples per Patient</td>\n      <td>CLINICAL</td>\n      <td>1</td>\n      <td>1</td>\n      <td>1</td>\n      <td>1</td>\n      <td>1</td>\n      <td>1</td>\n      <td>1</td>\n      <td>1</td>\n      <td>1</td>\n      <td>1</td>\n      <td>1</td>\n      <td>1</td>\n      <td>1</td>\n      <td>1</td>\n      <td>1</td>\n      <td>1</td>\n      <td>1</td>\n      <td>1</td>\n      <td>1</td>\n      <td>1</td>\n      <td>1</td>\n      <td>1</td>\n      <td>1</td>\n      <td>1</td>\n      <td>1</td>\n      <td>1</td>\n      <td>1</td>\n      <td>1</td>\n      <td>1</td>\n      <td>1</td>\n      <td>1</td>\n      <td>1</td>\n      <td>1</td>\n      <td>1</td>\n      <td>1</td>\n      <td>1</td>\n      <td>1</td>\n      <td>1</td>\n      <td>...</td>\n      <td>1</td>\n      <td>1</td>\n      <td>1</td>\n      <td>1</td>\n      <td>1</td>\n      <td>1</td>\n      <td>1</td>\n      <td>1</td>\n      <td>1</td>\n      <td>1</td>\n      <td>1</td>\n      <td>1</td>\n      <td>1</td>\n      <td>1</td>\n      <td>1</td>\n      <td>1</td>\n      <td>1</td>\n      <td>1</td>\n      <td>1</td>\n      <td>1</td>\n      <td>1</td>\n      <td>1</td>\n      <td>1</td>\n      <td>1</td>\n      <td>1</td>\n      <td>1</td>\n      <td>1</td>\n      <td>1</td>\n      <td>1</td>\n      <td>1</td>\n      <td>1</td>\n      <td>1</td>\n      <td>1</td>\n      <td>1</td>\n      <td>1</td>\n      <td>1</td>\n      <td>1</td>\n      <td>1</td>\n      <td>1</td>\n      <td>1</td>\n    </tr>\n    <tr>\n      <th>2</th>\n      <td>Profiled for copy number alterations</td>\n      <td>CLINICAL</td>\n      <td>Yes</td>\n      <td>Yes</td>\n      <td>Yes</td>\n      <td>Yes</td>\n      <td>Yes</td>\n      <td>Yes</td>\n      <td>Yes</td>\n      <td>Yes</td>\n      <td>Yes</td>\n      <td>Yes</td>\n      <td>Yes</td>\n      <td>Yes</td>\n      <td>Yes</td>\n      <td>Yes</td>\n      <td>Yes</td>\n      <td>Yes</td>\n      <td>Yes</td>\n      <td>Yes</td>\n      <td>Yes</td>\n      <td>Yes</td>\n      <td>Yes</td>\n      <td>Yes</td>\n      <td>Yes</td>\n      <td>Yes</td>\n      <td>Yes</td>\n      <td>Yes</td>\n      <td>Yes</td>\n      <td>Yes</td>\n      <td>Yes</td>\n      <td>Yes</td>\n      <td>Yes</td>\n      <td>Yes</td>\n      <td>Yes</td>\n      <td>Yes</td>\n      <td>Yes</td>\n      <td>Yes</td>\n      <td>Yes</td>\n      <td>Yes</td>\n      <td>...</td>\n      <td>Yes</td>\n      <td>Yes</td>\n      <td>Yes</td>\n      <td>Yes</td>\n      <td>Yes</td>\n      <td>Yes</td>\n      <td>NaN</td>\n      <td>Yes</td>\n      <td>Yes</td>\n      <td>Yes</td>\n      <td>Yes</td>\n      <td>Yes</td>\n      <td>Yes</td>\n      <td>Yes</td>\n      <td>Yes</td>\n      <td>Yes</td>\n      <td>Yes</td>\n      <td>Yes</td>\n      <td>Yes</td>\n      <td>Yes</td>\n      <td>Yes</td>\n      <td>Yes</td>\n      <td>Yes</td>\n      <td>Yes</td>\n      <td>Yes</td>\n      <td>Yes</td>\n      <td>Yes</td>\n      <td>Yes</td>\n      <td>Yes</td>\n      <td>Yes</td>\n      <td>Yes</td>\n      <td>Yes</td>\n      <td>Yes</td>\n      <td>Yes</td>\n      <td>Yes</td>\n      <td>Yes</td>\n      <td>Yes</td>\n      <td>NaN</td>\n      <td>NaN</td>\n      <td>NaN</td>\n    </tr>\n    <tr>\n      <th>3</th>\n      <td>Profiled for mutations</td>\n      <td>CLINICAL</td>\n      <td>Yes</td>\n      <td>Yes</td>\n      <td>Yes</td>\n      <td>Yes</td>\n      <td>Yes</td>\n      <td>Yes</td>\n      <td>Yes</td>\n      <td>Yes</td>\n      <td>Yes</td>\n      <td>Yes</td>\n      <td>Yes</td>\n      <td>Yes</td>\n      <td>Yes</td>\n      <td>Yes</td>\n      <td>Yes</td>\n      <td>Yes</td>\n      <td>Yes</td>\n      <td>Yes</td>\n      <td>Yes</td>\n      <td>Yes</td>\n      <td>Yes</td>\n      <td>Yes</td>\n      <td>Yes</td>\n      <td>Yes</td>\n      <td>Yes</td>\n      <td>Yes</td>\n      <td>Yes</td>\n      <td>Yes</td>\n      <td>Yes</td>\n      <td>Yes</td>\n      <td>Yes</td>\n      <td>Yes</td>\n      <td>Yes</td>\n      <td>Yes</td>\n      <td>Yes</td>\n      <td>Yes</td>\n      <td>Yes</td>\n      <td>Yes</td>\n      <td>...</td>\n      <td>Yes</td>\n      <td>Yes</td>\n      <td>Yes</td>\n      <td>Yes</td>\n      <td>Yes</td>\n      <td>Yes</td>\n      <td>Yes</td>\n      <td>Yes</td>\n      <td>Yes</td>\n      <td>Yes</td>\n      <td>Yes</td>\n      <td>Yes</td>\n      <td>Yes</td>\n      <td>Yes</td>\n      <td>Yes</td>\n      <td>Yes</td>\n      <td>Yes</td>\n      <td>Yes</td>\n      <td>Yes</td>\n      <td>Yes</td>\n      <td>Yes</td>\n      <td>Yes</td>\n      <td>Yes</td>\n      <td>Yes</td>\n      <td>Yes</td>\n      <td>Yes</td>\n      <td>Yes</td>\n      <td>Yes</td>\n      <td>Yes</td>\n      <td>Yes</td>\n      <td>Yes</td>\n      <td>Yes</td>\n      <td>Yes</td>\n      <td>Yes</td>\n      <td>NaN</td>\n      <td>Yes</td>\n      <td>Yes</td>\n      <td>NaN</td>\n      <td>NaN</td>\n      <td>NaN</td>\n    </tr>\n  </tbody>\n</table>\n<p>4 rows × 10955 columns</p>\n</div>"
     },
     "metadata": {},
     "execution_count": 13
    }
   ],
   "source": [
    "## Additional information of the oncoprint matrix\n",
    "info = pd.read_csv(\"../data/PATIENT_DATA_oncoprint.tsv\", sep=\"\\t\", header=0, skiprows=lambda x: x not in range(5))\n",
    "print(info.shape)\n",
    "info.head()"
   ]
  },
  {
   "cell_type": "code",
   "execution_count": 14,
   "metadata": {},
   "outputs": [
    {
     "output_type": "stream",
     "name": "stdout",
     "text": [
      "(315, 1902)\n"
     ]
    },
    {
     "output_type": "execute_result",
     "data": {
      "text/plain": [
       "  track_name track_type TCGA-CH-5788  ... TCGA-VD-A8KN TCGA-VD-AA8O TCGA-VD-AA8P\n",
       "0        APC        CNA   homdel_rec  ...          NaN          NaN          NaN\n",
       "1   ARHGEF12        CNA          NaN  ...          NaN          NaN          NaN\n",
       "2        ATM        CNA          NaN  ...          NaN          NaN          NaN\n",
       "3     BCL11B        CNA          NaN  ...          NaN          NaN          NaN\n",
       "4        BLM        CNA          NaN  ...          NaN          NaN          NaN\n",
       "\n",
       "[5 rows x 1902 columns]"
      ],
      "text/html": "<div>\n<style scoped>\n    .dataframe tbody tr th:only-of-type {\n        vertical-align: middle;\n    }\n\n    .dataframe tbody tr th {\n        vertical-align: top;\n    }\n\n    .dataframe thead th {\n        text-align: right;\n    }\n</style>\n<table border=\"1\" class=\"dataframe\">\n  <thead>\n    <tr style=\"text-align: right;\">\n      <th></th>\n      <th>track_name</th>\n      <th>track_type</th>\n      <th>TCGA-CH-5788</th>\n      <th>TCGA-FS-A1ZG</th>\n      <th>TCGA-DD-A3A8</th>\n      <th>TCGA-AD-6964</th>\n      <th>TCGA-A2-A0EY</th>\n      <th>TCGA-EJ-7784</th>\n      <th>TCGA-EJ-5531</th>\n      <th>TCGA-CH-5748</th>\n      <th>TCGA-AG-4008</th>\n      <th>TCGA-D3-A2JC</th>\n      <th>TCGA-68-7755</th>\n      <th>TCGA-64-1678</th>\n      <th>TCGA-04-1542</th>\n      <th>TCGA-BR-6801</th>\n      <th>TCGA-05-4389</th>\n      <th>TCGA-BR-8373</th>\n      <th>TCGA-D1-A16R</th>\n      <th>TCGA-DX-A23R</th>\n      <th>TCGA-A5-A0G2</th>\n      <th>TCGA-BS-A0UF</th>\n      <th>TCGA-CA-6717</th>\n      <th>TCGA-BS-A0UV</th>\n      <th>TCGA-AP-A051</th>\n      <th>TCGA-B5-A0JY</th>\n      <th>TCGA-F5-6814</th>\n      <th>TCGA-AG-A002</th>\n      <th>TCGA-AZ-4315</th>\n      <th>TCGA-AA-A00N</th>\n      <th>TCGA-FI-A2D0</th>\n      <th>TCGA-DI-A1BU</th>\n      <th>TCGA-FS-A1ZB</th>\n      <th>TCGA-EE-A17X</th>\n      <th>TCGA-05-4402</th>\n      <th>TCGA-DK-A3IU</th>\n      <th>TCGA-CG-5723</th>\n      <th>TCGA-EI-6917</th>\n      <th>TCGA-BS-A0U8</th>\n      <th>TCGA-AG-3727</th>\n      <th>...</th>\n      <th>TCGA-MR-A520</th>\n      <th>TCGA-RZ-AB0B</th>\n      <th>TCGA-V3-A9ZX</th>\n      <th>TCGA-V3-A9ZY</th>\n      <th>TCGA-V4-A9E5</th>\n      <th>TCGA-V4-A9E7</th>\n      <th>TCGA-V4-A9E8</th>\n      <th>TCGA-V4-A9EC</th>\n      <th>TCGA-V4-A9ED</th>\n      <th>TCGA-V4-A9EE</th>\n      <th>TCGA-V4-A9EF</th>\n      <th>TCGA-V4-A9EH</th>\n      <th>TCGA-V4-A9EJ</th>\n      <th>TCGA-V4-A9EK</th>\n      <th>TCGA-V4-A9EL</th>\n      <th>TCGA-V4-A9EM</th>\n      <th>TCGA-V4-A9EO</th>\n      <th>TCGA-V4-A9ES</th>\n      <th>TCGA-V4-A9EU</th>\n      <th>TCGA-V4-A9EV</th>\n      <th>TCGA-V4-A9EX</th>\n      <th>TCGA-V4-A9EZ</th>\n      <th>TCGA-V4-A9F0</th>\n      <th>TCGA-V4-A9F1</th>\n      <th>TCGA-V4-A9F2</th>\n      <th>TCGA-V4-A9F3</th>\n      <th>TCGA-V4-A9F5</th>\n      <th>TCGA-V4-A9F7</th>\n      <th>TCGA-V4-A9F8</th>\n      <th>TCGA-VD-A8K7</th>\n      <th>TCGA-VD-A8K8</th>\n      <th>TCGA-VD-A8KA</th>\n      <th>TCGA-VD-A8KD</th>\n      <th>TCGA-VD-A8KE</th>\n      <th>TCGA-VD-A8KF</th>\n      <th>TCGA-VD-A8KH</th>\n      <th>TCGA-VD-A8KL</th>\n      <th>TCGA-VD-A8KN</th>\n      <th>TCGA-VD-AA8O</th>\n      <th>TCGA-VD-AA8P</th>\n    </tr>\n  </thead>\n  <tbody>\n    <tr>\n      <th>0</th>\n      <td>APC</td>\n      <td>CNA</td>\n      <td>homdel_rec</td>\n      <td>homdel_rec</td>\n      <td>homdel_rec</td>\n      <td>homdel_rec</td>\n      <td>homdel_rec</td>\n      <td>homdel_rec</td>\n      <td>homdel_rec</td>\n      <td>homdel_rec</td>\n      <td>homdel_rec</td>\n      <td>homdel_rec</td>\n      <td>homdel_rec</td>\n      <td>homdel_rec</td>\n      <td>homdel_rec</td>\n      <td>homdel_rec</td>\n      <td>homdel_rec</td>\n      <td>homdel_rec</td>\n      <td>Amplification</td>\n      <td>Amplification</td>\n      <td>NaN</td>\n      <td>NaN</td>\n      <td>NaN</td>\n      <td>NaN</td>\n      <td>NaN</td>\n      <td>NaN</td>\n      <td>NaN</td>\n      <td>NaN</td>\n      <td>NaN</td>\n      <td>NaN</td>\n      <td>NaN</td>\n      <td>NaN</td>\n      <td>NaN</td>\n      <td>NaN</td>\n      <td>NaN</td>\n      <td>NaN</td>\n      <td>NaN</td>\n      <td>NaN</td>\n      <td>NaN</td>\n      <td>NaN</td>\n      <td>...</td>\n      <td>NaN</td>\n      <td>NaN</td>\n      <td>NaN</td>\n      <td>NaN</td>\n      <td>NaN</td>\n      <td>NaN</td>\n      <td>NaN</td>\n      <td>NaN</td>\n      <td>NaN</td>\n      <td>NaN</td>\n      <td>NaN</td>\n      <td>NaN</td>\n      <td>NaN</td>\n      <td>NaN</td>\n      <td>NaN</td>\n      <td>NaN</td>\n      <td>NaN</td>\n      <td>NaN</td>\n      <td>NaN</td>\n      <td>NaN</td>\n      <td>NaN</td>\n      <td>NaN</td>\n      <td>NaN</td>\n      <td>NaN</td>\n      <td>NaN</td>\n      <td>NaN</td>\n      <td>NaN</td>\n      <td>NaN</td>\n      <td>NaN</td>\n      <td>NaN</td>\n      <td>NaN</td>\n      <td>NaN</td>\n      <td>NaN</td>\n      <td>NaN</td>\n      <td>NaN</td>\n      <td>NaN</td>\n      <td>NaN</td>\n      <td>NaN</td>\n      <td>NaN</td>\n      <td>NaN</td>\n    </tr>\n    <tr>\n      <th>1</th>\n      <td>ARHGEF12</td>\n      <td>CNA</td>\n      <td>NaN</td>\n      <td>NaN</td>\n      <td>NaN</td>\n      <td>NaN</td>\n      <td>NaN</td>\n      <td>NaN</td>\n      <td>NaN</td>\n      <td>NaN</td>\n      <td>NaN</td>\n      <td>NaN</td>\n      <td>NaN</td>\n      <td>NaN</td>\n      <td>NaN</td>\n      <td>NaN</td>\n      <td>NaN</td>\n      <td>NaN</td>\n      <td>NaN</td>\n      <td>NaN</td>\n      <td>NaN</td>\n      <td>NaN</td>\n      <td>NaN</td>\n      <td>NaN</td>\n      <td>NaN</td>\n      <td>NaN</td>\n      <td>NaN</td>\n      <td>NaN</td>\n      <td>NaN</td>\n      <td>NaN</td>\n      <td>NaN</td>\n      <td>NaN</td>\n      <td>NaN</td>\n      <td>NaN</td>\n      <td>NaN</td>\n      <td>NaN</td>\n      <td>NaN</td>\n      <td>NaN</td>\n      <td>NaN</td>\n      <td>NaN</td>\n      <td>...</td>\n      <td>NaN</td>\n      <td>NaN</td>\n      <td>NaN</td>\n      <td>NaN</td>\n      <td>NaN</td>\n      <td>NaN</td>\n      <td>NaN</td>\n      <td>NaN</td>\n      <td>NaN</td>\n      <td>NaN</td>\n      <td>NaN</td>\n      <td>NaN</td>\n      <td>NaN</td>\n      <td>NaN</td>\n      <td>NaN</td>\n      <td>NaN</td>\n      <td>NaN</td>\n      <td>NaN</td>\n      <td>NaN</td>\n      <td>NaN</td>\n      <td>NaN</td>\n      <td>NaN</td>\n      <td>NaN</td>\n      <td>NaN</td>\n      <td>NaN</td>\n      <td>NaN</td>\n      <td>NaN</td>\n      <td>NaN</td>\n      <td>NaN</td>\n      <td>NaN</td>\n      <td>NaN</td>\n      <td>NaN</td>\n      <td>NaN</td>\n      <td>NaN</td>\n      <td>NaN</td>\n      <td>NaN</td>\n      <td>NaN</td>\n      <td>NaN</td>\n      <td>NaN</td>\n      <td>NaN</td>\n    </tr>\n    <tr>\n      <th>2</th>\n      <td>ATM</td>\n      <td>CNA</td>\n      <td>NaN</td>\n      <td>NaN</td>\n      <td>NaN</td>\n      <td>NaN</td>\n      <td>NaN</td>\n      <td>NaN</td>\n      <td>NaN</td>\n      <td>NaN</td>\n      <td>NaN</td>\n      <td>NaN</td>\n      <td>NaN</td>\n      <td>NaN</td>\n      <td>NaN</td>\n      <td>NaN</td>\n      <td>NaN</td>\n      <td>NaN</td>\n      <td>NaN</td>\n      <td>NaN</td>\n      <td>NaN</td>\n      <td>NaN</td>\n      <td>NaN</td>\n      <td>NaN</td>\n      <td>NaN</td>\n      <td>NaN</td>\n      <td>NaN</td>\n      <td>NaN</td>\n      <td>NaN</td>\n      <td>NaN</td>\n      <td>NaN</td>\n      <td>NaN</td>\n      <td>NaN</td>\n      <td>NaN</td>\n      <td>NaN</td>\n      <td>NaN</td>\n      <td>NaN</td>\n      <td>NaN</td>\n      <td>NaN</td>\n      <td>NaN</td>\n      <td>...</td>\n      <td>NaN</td>\n      <td>NaN</td>\n      <td>NaN</td>\n      <td>NaN</td>\n      <td>NaN</td>\n      <td>NaN</td>\n      <td>NaN</td>\n      <td>NaN</td>\n      <td>NaN</td>\n      <td>NaN</td>\n      <td>NaN</td>\n      <td>NaN</td>\n      <td>NaN</td>\n      <td>NaN</td>\n      <td>NaN</td>\n      <td>NaN</td>\n      <td>NaN</td>\n      <td>NaN</td>\n      <td>NaN</td>\n      <td>NaN</td>\n      <td>NaN</td>\n      <td>NaN</td>\n      <td>NaN</td>\n      <td>NaN</td>\n      <td>NaN</td>\n      <td>NaN</td>\n      <td>NaN</td>\n      <td>NaN</td>\n      <td>NaN</td>\n      <td>NaN</td>\n      <td>NaN</td>\n      <td>NaN</td>\n      <td>NaN</td>\n      <td>NaN</td>\n      <td>NaN</td>\n      <td>NaN</td>\n      <td>NaN</td>\n      <td>NaN</td>\n      <td>NaN</td>\n      <td>NaN</td>\n    </tr>\n    <tr>\n      <th>3</th>\n      <td>BCL11B</td>\n      <td>CNA</td>\n      <td>NaN</td>\n      <td>NaN</td>\n      <td>NaN</td>\n      <td>NaN</td>\n      <td>NaN</td>\n      <td>NaN</td>\n      <td>NaN</td>\n      <td>NaN</td>\n      <td>NaN</td>\n      <td>NaN</td>\n      <td>NaN</td>\n      <td>NaN</td>\n      <td>NaN</td>\n      <td>NaN</td>\n      <td>NaN</td>\n      <td>NaN</td>\n      <td>NaN</td>\n      <td>NaN</td>\n      <td>NaN</td>\n      <td>NaN</td>\n      <td>NaN</td>\n      <td>NaN</td>\n      <td>NaN</td>\n      <td>NaN</td>\n      <td>NaN</td>\n      <td>NaN</td>\n      <td>NaN</td>\n      <td>NaN</td>\n      <td>NaN</td>\n      <td>NaN</td>\n      <td>NaN</td>\n      <td>NaN</td>\n      <td>NaN</td>\n      <td>NaN</td>\n      <td>NaN</td>\n      <td>NaN</td>\n      <td>NaN</td>\n      <td>NaN</td>\n      <td>...</td>\n      <td>NaN</td>\n      <td>NaN</td>\n      <td>NaN</td>\n      <td>NaN</td>\n      <td>NaN</td>\n      <td>NaN</td>\n      <td>NaN</td>\n      <td>NaN</td>\n      <td>NaN</td>\n      <td>NaN</td>\n      <td>NaN</td>\n      <td>NaN</td>\n      <td>NaN</td>\n      <td>NaN</td>\n      <td>NaN</td>\n      <td>NaN</td>\n      <td>NaN</td>\n      <td>NaN</td>\n      <td>NaN</td>\n      <td>NaN</td>\n      <td>NaN</td>\n      <td>NaN</td>\n      <td>NaN</td>\n      <td>NaN</td>\n      <td>NaN</td>\n      <td>NaN</td>\n      <td>NaN</td>\n      <td>NaN</td>\n      <td>NaN</td>\n      <td>NaN</td>\n      <td>NaN</td>\n      <td>NaN</td>\n      <td>NaN</td>\n      <td>NaN</td>\n      <td>NaN</td>\n      <td>NaN</td>\n      <td>NaN</td>\n      <td>NaN</td>\n      <td>NaN</td>\n      <td>NaN</td>\n    </tr>\n    <tr>\n      <th>4</th>\n      <td>BLM</td>\n      <td>CNA</td>\n      <td>NaN</td>\n      <td>NaN</td>\n      <td>NaN</td>\n      <td>NaN</td>\n      <td>NaN</td>\n      <td>NaN</td>\n      <td>NaN</td>\n      <td>NaN</td>\n      <td>NaN</td>\n      <td>NaN</td>\n      <td>NaN</td>\n      <td>NaN</td>\n      <td>NaN</td>\n      <td>NaN</td>\n      <td>NaN</td>\n      <td>NaN</td>\n      <td>NaN</td>\n      <td>NaN</td>\n      <td>NaN</td>\n      <td>NaN</td>\n      <td>NaN</td>\n      <td>NaN</td>\n      <td>NaN</td>\n      <td>NaN</td>\n      <td>NaN</td>\n      <td>NaN</td>\n      <td>NaN</td>\n      <td>NaN</td>\n      <td>NaN</td>\n      <td>NaN</td>\n      <td>NaN</td>\n      <td>NaN</td>\n      <td>NaN</td>\n      <td>NaN</td>\n      <td>NaN</td>\n      <td>NaN</td>\n      <td>NaN</td>\n      <td>NaN</td>\n      <td>...</td>\n      <td>NaN</td>\n      <td>NaN</td>\n      <td>NaN</td>\n      <td>NaN</td>\n      <td>NaN</td>\n      <td>NaN</td>\n      <td>NaN</td>\n      <td>NaN</td>\n      <td>NaN</td>\n      <td>NaN</td>\n      <td>NaN</td>\n      <td>NaN</td>\n      <td>NaN</td>\n      <td>NaN</td>\n      <td>NaN</td>\n      <td>NaN</td>\n      <td>NaN</td>\n      <td>NaN</td>\n      <td>NaN</td>\n      <td>NaN</td>\n      <td>NaN</td>\n      <td>NaN</td>\n      <td>NaN</td>\n      <td>NaN</td>\n      <td>NaN</td>\n      <td>NaN</td>\n      <td>NaN</td>\n      <td>NaN</td>\n      <td>NaN</td>\n      <td>NaN</td>\n      <td>NaN</td>\n      <td>NaN</td>\n      <td>NaN</td>\n      <td>NaN</td>\n      <td>NaN</td>\n      <td>NaN</td>\n      <td>NaN</td>\n      <td>NaN</td>\n      <td>NaN</td>\n      <td>NaN</td>\n    </tr>\n  </tbody>\n</table>\n<p>5 rows × 1902 columns</p>\n</div>"
     },
     "metadata": {},
     "execution_count": 14
    }
   ],
   "source": [
    "## Filter samples out - only keep samples/patients with ecDNA classification\n",
    "res = res[['track_name', 'track_type'] + res.columns[res.columns.isin(ref['patient_barcode'])].tolist()]\n",
    "print(res.shape)\n",
    "res.head()\n"
   ]
  },
  {
   "cell_type": "code",
   "execution_count": 42,
   "metadata": {},
   "outputs": [],
   "source": [
    "## Group the columns into ecDNA+ vs ecDNA-\n",
    "## Strategy 1: ecDNA- = Non-circular; ecDNA+ = otherwise\n",
    "# ecdna_neg = ref[ref['sample_classification'] == 'Non-circular']['patient_barcode']\n",
    "# ecdna_pos = ref[ref['sample_classification'] != 'Non-circular']['patient_barcode']\n",
    "# pos1 = list(res.columns[res.columns.isin(ecdna_pos)])\n",
    "# print(\"Oncoprint1: {}, {}\".format(pos1[-1], len(pos1)))\n",
    "# cols_met1 = ['track_name', 'track_type'] + pos1 + list(res.columns[res.columns.isin(ecdna_neg)])\n",
    "# df1 = res[cols_met1]\n",
    "# print(df1.shape)\n",
    "# df1.head()"
   ]
  },
  {
   "cell_type": "code",
   "execution_count": 39,
   "metadata": {},
   "outputs": [],
   "source": [
    "## Save this oncoprint matrix\n",
    "# df1.to_csv(\"../data/oncoprint_1.tsv\", sep=\"\\t\", index=False)"
   ]
  },
  {
   "cell_type": "code",
   "execution_count": 105,
   "metadata": {},
   "outputs": [],
   "source": [
    "# ## Strategy 2: ecDNA+ = Circular; ecDNA- = otherwise\n",
    "# ecdna_pos = ref[ref['sample_classification'] == 'Circular']['patient_barcode']\n",
    "# ecdna_neg = ref[ref['sample_classification'] != 'Circular']['patient_barcode']\n",
    "# pos = res.columns[res.columns.isin(ecdna_pos)].tolist()\n",
    "# print(\"Oncoprint: {}, {}\".format(pos[-1], len(pos)))\n",
    "# cols_met = ['track_name', 'track_type'] + pos + res.columns[res.columns.isin(ecdna_neg)].tolist()\n",
    "# df = res[cols_met]\n",
    "# print(df.shape)\n",
    "# df.head()"
   ]
  },
  {
   "cell_type": "code",
   "execution_count": 49,
   "metadata": {},
   "outputs": [],
   "source": [
    "## Save this oncoprint matrix\n",
    "# df.to_csv(\"../data/oncoprint.tsv\", sep=\"\\t\", index=False)"
   ]
  },
  {
   "cell_type": "code",
   "execution_count": 15,
   "metadata": {},
   "outputs": [
    {
     "output_type": "stream",
     "name": "stdout",
     "text": [
      "(1900, 7)\n"
     ]
    },
    {
     "output_type": "execute_result",
     "data": {
      "text/plain": [
       "     study patient_barcode  ... sample_classification_nam_2019  sample_classification\n",
       "1291  TCGA    TCGA-02-2483  ...                         Distal     Heavily-rearranged\n",
       "1292  TCGA    TCGA-02-2485  ...                       Circular               Circular\n",
       "1293  TCGA    TCGA-04-1331  ...                         Linear           Non-circular\n",
       "1294  TCGA    TCGA-04-1347  ...                       Circular               Circular\n",
       "1295  TCGA    TCGA-04-1349  ...                         Distal     Heavily-rearranged\n",
       "\n",
       "[5 rows x 7 columns]"
      ],
      "text/html": "<div>\n<style scoped>\n    .dataframe tbody tr th:only-of-type {\n        vertical-align: middle;\n    }\n\n    .dataframe tbody tr th {\n        vertical-align: top;\n    }\n\n    .dataframe thead th {\n        text-align: right;\n    }\n</style>\n<table border=\"1\" class=\"dataframe\">\n  <thead>\n    <tr style=\"text-align: right;\">\n      <th></th>\n      <th>study</th>\n      <th>patient_barcode</th>\n      <th>sample_barcode</th>\n      <th>min_cnv</th>\n      <th>number_amp_region</th>\n      <th>sample_classification_nam_2019</th>\n      <th>sample_classification</th>\n    </tr>\n  </thead>\n  <tbody>\n    <tr>\n      <th>1291</th>\n      <td>TCGA</td>\n      <td>TCGA-02-2483</td>\n      <td>TCGA-02-2483-01</td>\n      <td>1</td>\n      <td>20</td>\n      <td>Distal</td>\n      <td>Heavily-rearranged</td>\n    </tr>\n    <tr>\n      <th>1292</th>\n      <td>TCGA</td>\n      <td>TCGA-02-2485</td>\n      <td>TCGA-02-2485-01</td>\n      <td>1</td>\n      <td>33</td>\n      <td>Circular</td>\n      <td>Circular</td>\n    </tr>\n    <tr>\n      <th>1293</th>\n      <td>TCGA</td>\n      <td>TCGA-04-1331</td>\n      <td>TCGA-04-1331-01</td>\n      <td>1</td>\n      <td>4</td>\n      <td>Linear</td>\n      <td>Non-circular</td>\n    </tr>\n    <tr>\n      <th>1294</th>\n      <td>TCGA</td>\n      <td>TCGA-04-1347</td>\n      <td>TCGA-04-1347-01</td>\n      <td>1</td>\n      <td>12</td>\n      <td>Circular</td>\n      <td>Circular</td>\n    </tr>\n    <tr>\n      <th>1295</th>\n      <td>TCGA</td>\n      <td>TCGA-04-1349</td>\n      <td>TCGA-04-1349-01</td>\n      <td>1</td>\n      <td>26</td>\n      <td>Distal</td>\n      <td>Heavily-rearranged</td>\n    </tr>\n  </tbody>\n</table>\n</div>"
     },
     "metadata": {},
     "execution_count": 15
    }
   ],
   "source": [
    "ref2 = ref[ref['patient_barcode'].isin(res.columns)]\n",
    "print(ref2.shape)\n",
    "ref2.head()"
   ]
  },
  {
   "cell_type": "code",
   "execution_count": 16,
   "metadata": {},
   "outputs": [
    {
     "output_type": "execute_result",
     "data": {
      "text/plain": [
       "Counter({'Heavily-rearranged': 190,\n",
       "         'Circular': 335,\n",
       "         'Non-circular': 165,\n",
       "         'No SCNA detected': 1041,\n",
       "         'BFB': 169})"
      ]
     },
     "metadata": {},
     "execution_count": 16
    }
   ],
   "source": [
    "cnt = Counter(ref2['sample_classification'])\n",
    "cnt"
   ]
  },
  {
   "cell_type": "code",
   "execution_count": 17,
   "metadata": {},
   "outputs": [
    {
     "output_type": "execute_result",
     "data": {
      "text/plain": [
       "{'CNA': {'Amplification', 'Deep Deletion', 'amp_rec', 'homdel_rec'},\n",
       " 'MUTATIONS': {'Inframe Mutation (putative driver)',\n",
       "  'Inframe Mutation (putative passenger)',\n",
       "  'Missense Mutation (putative driver)',\n",
       "  'Missense Mutation (putative passenger)',\n",
       "  'Truncating mutation (putative driver)',\n",
       "  'Truncating mutation (putative passenger)',\n",
       "  'splice',\n",
       "  'splice_rec'},\n",
       " 'MRNA': set(),\n",
       " 'PROTEIN': set(),\n",
       " 'FUSION': {'Fusion'}}"
      ]
     },
     "metadata": {},
     "execution_count": 17
    }
   ],
   "source": [
    "## Collect all possible entries for each track type\n",
    "entry = {}\n",
    "for track in res['track_type'].unique():\n",
    "    entry[track] = set()\n",
    "    df_sub = res[res['track_type'] == track]\n",
    "    for i in range(2, len(res.columns)):\n",
    "        entry[track] = entry[track].union(set(df_sub[df_sub.columns[i]].dropna().unique()))\n",
    "entry\n"
   ]
  },
  {
   "cell_type": "code",
   "execution_count": 18,
   "metadata": {},
   "outputs": [
    {
     "output_type": "stream",
     "name": "stdout",
     "text": [
      "(252, 1902)\n(189, 1902)\n"
     ]
    },
    {
     "output_type": "execute_result",
     "data": {
      "text/plain": [
       "  track_name track_type TCGA-CH-5788  ... TCGA-VD-A8KN TCGA-VD-AA8O TCGA-VD-AA8P\n",
       "0        APC        CNA   homdel_rec  ...          NaN          NaN          NaN\n",
       "1   ARHGEF12        CNA          NaN  ...          NaN          NaN          NaN\n",
       "2        ATM        CNA          NaN  ...          NaN          NaN          NaN\n",
       "3     BCL11B        CNA          NaN  ...          NaN          NaN          NaN\n",
       "4        BLM        CNA          NaN  ...          NaN          NaN          NaN\n",
       "\n",
       "[5 rows x 1902 columns]"
      ],
      "text/html": "<div>\n<style scoped>\n    .dataframe tbody tr th:only-of-type {\n        vertical-align: middle;\n    }\n\n    .dataframe tbody tr th {\n        vertical-align: top;\n    }\n\n    .dataframe thead th {\n        text-align: right;\n    }\n</style>\n<table border=\"1\" class=\"dataframe\">\n  <thead>\n    <tr style=\"text-align: right;\">\n      <th></th>\n      <th>track_name</th>\n      <th>track_type</th>\n      <th>TCGA-CH-5788</th>\n      <th>TCGA-FS-A1ZG</th>\n      <th>TCGA-DD-A3A8</th>\n      <th>TCGA-AD-6964</th>\n      <th>TCGA-A2-A0EY</th>\n      <th>TCGA-EJ-7784</th>\n      <th>TCGA-EJ-5531</th>\n      <th>TCGA-CH-5748</th>\n      <th>TCGA-AG-4008</th>\n      <th>TCGA-D3-A2JC</th>\n      <th>TCGA-68-7755</th>\n      <th>TCGA-64-1678</th>\n      <th>TCGA-04-1542</th>\n      <th>TCGA-BR-6801</th>\n      <th>TCGA-05-4389</th>\n      <th>TCGA-BR-8373</th>\n      <th>TCGA-D1-A16R</th>\n      <th>TCGA-DX-A23R</th>\n      <th>TCGA-A5-A0G2</th>\n      <th>TCGA-BS-A0UF</th>\n      <th>TCGA-CA-6717</th>\n      <th>TCGA-BS-A0UV</th>\n      <th>TCGA-AP-A051</th>\n      <th>TCGA-B5-A0JY</th>\n      <th>TCGA-F5-6814</th>\n      <th>TCGA-AG-A002</th>\n      <th>TCGA-AZ-4315</th>\n      <th>TCGA-AA-A00N</th>\n      <th>TCGA-FI-A2D0</th>\n      <th>TCGA-DI-A1BU</th>\n      <th>TCGA-FS-A1ZB</th>\n      <th>TCGA-EE-A17X</th>\n      <th>TCGA-05-4402</th>\n      <th>TCGA-DK-A3IU</th>\n      <th>TCGA-CG-5723</th>\n      <th>TCGA-EI-6917</th>\n      <th>TCGA-BS-A0U8</th>\n      <th>TCGA-AG-3727</th>\n      <th>...</th>\n      <th>TCGA-MR-A520</th>\n      <th>TCGA-RZ-AB0B</th>\n      <th>TCGA-V3-A9ZX</th>\n      <th>TCGA-V3-A9ZY</th>\n      <th>TCGA-V4-A9E5</th>\n      <th>TCGA-V4-A9E7</th>\n      <th>TCGA-V4-A9E8</th>\n      <th>TCGA-V4-A9EC</th>\n      <th>TCGA-V4-A9ED</th>\n      <th>TCGA-V4-A9EE</th>\n      <th>TCGA-V4-A9EF</th>\n      <th>TCGA-V4-A9EH</th>\n      <th>TCGA-V4-A9EJ</th>\n      <th>TCGA-V4-A9EK</th>\n      <th>TCGA-V4-A9EL</th>\n      <th>TCGA-V4-A9EM</th>\n      <th>TCGA-V4-A9EO</th>\n      <th>TCGA-V4-A9ES</th>\n      <th>TCGA-V4-A9EU</th>\n      <th>TCGA-V4-A9EV</th>\n      <th>TCGA-V4-A9EX</th>\n      <th>TCGA-V4-A9EZ</th>\n      <th>TCGA-V4-A9F0</th>\n      <th>TCGA-V4-A9F1</th>\n      <th>TCGA-V4-A9F2</th>\n      <th>TCGA-V4-A9F3</th>\n      <th>TCGA-V4-A9F5</th>\n      <th>TCGA-V4-A9F7</th>\n      <th>TCGA-V4-A9F8</th>\n      <th>TCGA-VD-A8K7</th>\n      <th>TCGA-VD-A8K8</th>\n      <th>TCGA-VD-A8KA</th>\n      <th>TCGA-VD-A8KD</th>\n      <th>TCGA-VD-A8KE</th>\n      <th>TCGA-VD-A8KF</th>\n      <th>TCGA-VD-A8KH</th>\n      <th>TCGA-VD-A8KL</th>\n      <th>TCGA-VD-A8KN</th>\n      <th>TCGA-VD-AA8O</th>\n      <th>TCGA-VD-AA8P</th>\n    </tr>\n  </thead>\n  <tbody>\n    <tr>\n      <th>0</th>\n      <td>APC</td>\n      <td>CNA</td>\n      <td>homdel_rec</td>\n      <td>homdel_rec</td>\n      <td>homdel_rec</td>\n      <td>homdel_rec</td>\n      <td>homdel_rec</td>\n      <td>homdel_rec</td>\n      <td>homdel_rec</td>\n      <td>homdel_rec</td>\n      <td>homdel_rec</td>\n      <td>homdel_rec</td>\n      <td>homdel_rec</td>\n      <td>homdel_rec</td>\n      <td>homdel_rec</td>\n      <td>homdel_rec</td>\n      <td>homdel_rec</td>\n      <td>homdel_rec</td>\n      <td>Amplification</td>\n      <td>Amplification</td>\n      <td>NaN</td>\n      <td>NaN</td>\n      <td>NaN</td>\n      <td>NaN</td>\n      <td>NaN</td>\n      <td>NaN</td>\n      <td>NaN</td>\n      <td>NaN</td>\n      <td>NaN</td>\n      <td>NaN</td>\n      <td>NaN</td>\n      <td>NaN</td>\n      <td>NaN</td>\n      <td>NaN</td>\n      <td>NaN</td>\n      <td>NaN</td>\n      <td>NaN</td>\n      <td>NaN</td>\n      <td>NaN</td>\n      <td>NaN</td>\n      <td>...</td>\n      <td>NaN</td>\n      <td>NaN</td>\n      <td>NaN</td>\n      <td>NaN</td>\n      <td>NaN</td>\n      <td>NaN</td>\n      <td>NaN</td>\n      <td>NaN</td>\n      <td>NaN</td>\n      <td>NaN</td>\n      <td>NaN</td>\n      <td>NaN</td>\n      <td>NaN</td>\n      <td>NaN</td>\n      <td>NaN</td>\n      <td>NaN</td>\n      <td>NaN</td>\n      <td>NaN</td>\n      <td>NaN</td>\n      <td>NaN</td>\n      <td>NaN</td>\n      <td>NaN</td>\n      <td>NaN</td>\n      <td>NaN</td>\n      <td>NaN</td>\n      <td>NaN</td>\n      <td>NaN</td>\n      <td>NaN</td>\n      <td>NaN</td>\n      <td>NaN</td>\n      <td>NaN</td>\n      <td>NaN</td>\n      <td>NaN</td>\n      <td>NaN</td>\n      <td>NaN</td>\n      <td>NaN</td>\n      <td>NaN</td>\n      <td>NaN</td>\n      <td>NaN</td>\n      <td>NaN</td>\n    </tr>\n    <tr>\n      <th>1</th>\n      <td>ARHGEF12</td>\n      <td>CNA</td>\n      <td>NaN</td>\n      <td>NaN</td>\n      <td>NaN</td>\n      <td>NaN</td>\n      <td>NaN</td>\n      <td>NaN</td>\n      <td>NaN</td>\n      <td>NaN</td>\n      <td>NaN</td>\n      <td>NaN</td>\n      <td>NaN</td>\n      <td>NaN</td>\n      <td>NaN</td>\n      <td>NaN</td>\n      <td>NaN</td>\n      <td>NaN</td>\n      <td>NaN</td>\n      <td>NaN</td>\n      <td>NaN</td>\n      <td>NaN</td>\n      <td>NaN</td>\n      <td>NaN</td>\n      <td>NaN</td>\n      <td>NaN</td>\n      <td>NaN</td>\n      <td>NaN</td>\n      <td>NaN</td>\n      <td>NaN</td>\n      <td>NaN</td>\n      <td>NaN</td>\n      <td>NaN</td>\n      <td>NaN</td>\n      <td>NaN</td>\n      <td>NaN</td>\n      <td>NaN</td>\n      <td>NaN</td>\n      <td>NaN</td>\n      <td>NaN</td>\n      <td>...</td>\n      <td>NaN</td>\n      <td>NaN</td>\n      <td>NaN</td>\n      <td>NaN</td>\n      <td>NaN</td>\n      <td>NaN</td>\n      <td>NaN</td>\n      <td>NaN</td>\n      <td>NaN</td>\n      <td>NaN</td>\n      <td>NaN</td>\n      <td>NaN</td>\n      <td>NaN</td>\n      <td>NaN</td>\n      <td>NaN</td>\n      <td>NaN</td>\n      <td>NaN</td>\n      <td>NaN</td>\n      <td>NaN</td>\n      <td>NaN</td>\n      <td>NaN</td>\n      <td>NaN</td>\n      <td>NaN</td>\n      <td>NaN</td>\n      <td>NaN</td>\n      <td>NaN</td>\n      <td>NaN</td>\n      <td>NaN</td>\n      <td>NaN</td>\n      <td>NaN</td>\n      <td>NaN</td>\n      <td>NaN</td>\n      <td>NaN</td>\n      <td>NaN</td>\n      <td>NaN</td>\n      <td>NaN</td>\n      <td>NaN</td>\n      <td>NaN</td>\n      <td>NaN</td>\n      <td>NaN</td>\n    </tr>\n    <tr>\n      <th>2</th>\n      <td>ATM</td>\n      <td>CNA</td>\n      <td>NaN</td>\n      <td>NaN</td>\n      <td>NaN</td>\n      <td>NaN</td>\n      <td>NaN</td>\n      <td>NaN</td>\n      <td>NaN</td>\n      <td>NaN</td>\n      <td>NaN</td>\n      <td>NaN</td>\n      <td>NaN</td>\n      <td>NaN</td>\n      <td>NaN</td>\n      <td>NaN</td>\n      <td>NaN</td>\n      <td>NaN</td>\n      <td>NaN</td>\n      <td>NaN</td>\n      <td>NaN</td>\n      <td>NaN</td>\n      <td>NaN</td>\n      <td>NaN</td>\n      <td>NaN</td>\n      <td>NaN</td>\n      <td>NaN</td>\n      <td>NaN</td>\n      <td>NaN</td>\n      <td>NaN</td>\n      <td>NaN</td>\n      <td>NaN</td>\n      <td>NaN</td>\n      <td>NaN</td>\n      <td>NaN</td>\n      <td>NaN</td>\n      <td>NaN</td>\n      <td>NaN</td>\n      <td>NaN</td>\n      <td>NaN</td>\n      <td>...</td>\n      <td>NaN</td>\n      <td>NaN</td>\n      <td>NaN</td>\n      <td>NaN</td>\n      <td>NaN</td>\n      <td>NaN</td>\n      <td>NaN</td>\n      <td>NaN</td>\n      <td>NaN</td>\n      <td>NaN</td>\n      <td>NaN</td>\n      <td>NaN</td>\n      <td>NaN</td>\n      <td>NaN</td>\n      <td>NaN</td>\n      <td>NaN</td>\n      <td>NaN</td>\n      <td>NaN</td>\n      <td>NaN</td>\n      <td>NaN</td>\n      <td>NaN</td>\n      <td>NaN</td>\n      <td>NaN</td>\n      <td>NaN</td>\n      <td>NaN</td>\n      <td>NaN</td>\n      <td>NaN</td>\n      <td>NaN</td>\n      <td>NaN</td>\n      <td>NaN</td>\n      <td>NaN</td>\n      <td>NaN</td>\n      <td>NaN</td>\n      <td>NaN</td>\n      <td>NaN</td>\n      <td>NaN</td>\n      <td>NaN</td>\n      <td>NaN</td>\n      <td>NaN</td>\n      <td>NaN</td>\n    </tr>\n    <tr>\n      <th>3</th>\n      <td>BCL11B</td>\n      <td>CNA</td>\n      <td>NaN</td>\n      <td>NaN</td>\n      <td>NaN</td>\n      <td>NaN</td>\n      <td>NaN</td>\n      <td>NaN</td>\n      <td>NaN</td>\n      <td>NaN</td>\n      <td>NaN</td>\n      <td>NaN</td>\n      <td>NaN</td>\n      <td>NaN</td>\n      <td>NaN</td>\n      <td>NaN</td>\n      <td>NaN</td>\n      <td>NaN</td>\n      <td>NaN</td>\n      <td>NaN</td>\n      <td>NaN</td>\n      <td>NaN</td>\n      <td>NaN</td>\n      <td>NaN</td>\n      <td>NaN</td>\n      <td>NaN</td>\n      <td>NaN</td>\n      <td>NaN</td>\n      <td>NaN</td>\n      <td>NaN</td>\n      <td>NaN</td>\n      <td>NaN</td>\n      <td>NaN</td>\n      <td>NaN</td>\n      <td>NaN</td>\n      <td>NaN</td>\n      <td>NaN</td>\n      <td>NaN</td>\n      <td>NaN</td>\n      <td>NaN</td>\n      <td>...</td>\n      <td>NaN</td>\n      <td>NaN</td>\n      <td>NaN</td>\n      <td>NaN</td>\n      <td>NaN</td>\n      <td>NaN</td>\n      <td>NaN</td>\n      <td>NaN</td>\n      <td>NaN</td>\n      <td>NaN</td>\n      <td>NaN</td>\n      <td>NaN</td>\n      <td>NaN</td>\n      <td>NaN</td>\n      <td>NaN</td>\n      <td>NaN</td>\n      <td>NaN</td>\n      <td>NaN</td>\n      <td>NaN</td>\n      <td>NaN</td>\n      <td>NaN</td>\n      <td>NaN</td>\n      <td>NaN</td>\n      <td>NaN</td>\n      <td>NaN</td>\n      <td>NaN</td>\n      <td>NaN</td>\n      <td>NaN</td>\n      <td>NaN</td>\n      <td>NaN</td>\n      <td>NaN</td>\n      <td>NaN</td>\n      <td>NaN</td>\n      <td>NaN</td>\n      <td>NaN</td>\n      <td>NaN</td>\n      <td>NaN</td>\n      <td>NaN</td>\n      <td>NaN</td>\n      <td>NaN</td>\n    </tr>\n    <tr>\n      <th>4</th>\n      <td>BLM</td>\n      <td>CNA</td>\n      <td>NaN</td>\n      <td>NaN</td>\n      <td>NaN</td>\n      <td>NaN</td>\n      <td>NaN</td>\n      <td>NaN</td>\n      <td>NaN</td>\n      <td>NaN</td>\n      <td>NaN</td>\n      <td>NaN</td>\n      <td>NaN</td>\n      <td>NaN</td>\n      <td>NaN</td>\n      <td>NaN</td>\n      <td>NaN</td>\n      <td>NaN</td>\n      <td>NaN</td>\n      <td>NaN</td>\n      <td>NaN</td>\n      <td>NaN</td>\n      <td>NaN</td>\n      <td>NaN</td>\n      <td>NaN</td>\n      <td>NaN</td>\n      <td>NaN</td>\n      <td>NaN</td>\n      <td>NaN</td>\n      <td>NaN</td>\n      <td>NaN</td>\n      <td>NaN</td>\n      <td>NaN</td>\n      <td>NaN</td>\n      <td>NaN</td>\n      <td>NaN</td>\n      <td>NaN</td>\n      <td>NaN</td>\n      <td>NaN</td>\n      <td>NaN</td>\n      <td>...</td>\n      <td>NaN</td>\n      <td>NaN</td>\n      <td>NaN</td>\n      <td>NaN</td>\n      <td>NaN</td>\n      <td>NaN</td>\n      <td>NaN</td>\n      <td>NaN</td>\n      <td>NaN</td>\n      <td>NaN</td>\n      <td>NaN</td>\n      <td>NaN</td>\n      <td>NaN</td>\n      <td>NaN</td>\n      <td>NaN</td>\n      <td>NaN</td>\n      <td>NaN</td>\n      <td>NaN</td>\n      <td>NaN</td>\n      <td>NaN</td>\n      <td>NaN</td>\n      <td>NaN</td>\n      <td>NaN</td>\n      <td>NaN</td>\n      <td>NaN</td>\n      <td>NaN</td>\n      <td>NaN</td>\n      <td>NaN</td>\n      <td>NaN</td>\n      <td>NaN</td>\n      <td>NaN</td>\n      <td>NaN</td>\n      <td>NaN</td>\n      <td>NaN</td>\n      <td>NaN</td>\n      <td>NaN</td>\n      <td>NaN</td>\n      <td>NaN</td>\n      <td>NaN</td>\n      <td>NaN</td>\n    </tr>\n  </tbody>\n</table>\n<p>5 rows × 1902 columns</p>\n</div>"
     },
     "metadata": {},
     "execution_count": 18
    }
   ],
   "source": [
    "## Since the mRNA track and Protein track are empty, we delete these data\n",
    "res = res[res['track_type'] != 'MRNA']\n",
    "print(res.shape)\n",
    "res = res[res['track_type'] != 'PROTEIN']\n",
    "print(res.shape)\n",
    "res.head()"
   ]
  },
  {
   "cell_type": "code",
   "execution_count": 20,
   "metadata": {},
   "outputs": [
    {
     "output_type": "stream",
     "name": "stdout",
     "text": [
      "Oncoprint: TCGA-G2-A2EK, 335\n(189, 1902)\n"
     ]
    },
    {
     "output_type": "execute_result",
     "data": {
      "text/plain": [
       "  track_name track_type TCGA-D3-A2JC  ... TCGA-VD-A8KN TCGA-VD-AA8O TCGA-VD-AA8P\n",
       "0        APC        CNA   homdel_rec  ...          NaN          NaN          NaN\n",
       "1   ARHGEF12        CNA          NaN  ...          NaN          NaN          NaN\n",
       "2        ATM        CNA          NaN  ...          NaN          NaN          NaN\n",
       "3     BCL11B        CNA          NaN  ...          NaN          NaN          NaN\n",
       "4        BLM        CNA          NaN  ...          NaN          NaN          NaN\n",
       "\n",
       "[5 rows x 1902 columns]"
      ],
      "text/html": "<div>\n<style scoped>\n    .dataframe tbody tr th:only-of-type {\n        vertical-align: middle;\n    }\n\n    .dataframe tbody tr th {\n        vertical-align: top;\n    }\n\n    .dataframe thead th {\n        text-align: right;\n    }\n</style>\n<table border=\"1\" class=\"dataframe\">\n  <thead>\n    <tr style=\"text-align: right;\">\n      <th></th>\n      <th>track_name</th>\n      <th>track_type</th>\n      <th>TCGA-D3-A2JC</th>\n      <th>TCGA-DX-A23R</th>\n      <th>TCGA-05-4402</th>\n      <th>TCGA-D7-6528</th>\n      <th>TCGA-A6-2677</th>\n      <th>TCGA-CV-6948</th>\n      <th>TCGA-A6-5656</th>\n      <th>TCGA-BR-4267</th>\n      <th>TCGA-A6-3810</th>\n      <th>TCGA-CG-4476</th>\n      <th>TCGA-D3-A2J6</th>\n      <th>TCGA-05-4397</th>\n      <th>TCGA-FF-8042</th>\n      <th>TCGA-EE-A3JI</th>\n      <th>TCGA-DK-A1AC</th>\n      <th>TCGA-IR-A3LK</th>\n      <th>TCGA-IG-A97I</th>\n      <th>TCGA-91-6840</th>\n      <th>TCGA-CG-4469</th>\n      <th>TCGA-DU-7010</th>\n      <th>TCGA-43-3394</th>\n      <th>TCGA-BR-4369</th>\n      <th>TCGA-06-0128</th>\n      <th>TCGA-FI-A2CY</th>\n      <th>TCGA-E2-A1LL</th>\n      <th>TCGA-IG-A3YB</th>\n      <th>TCGA-L5-A4OJ</th>\n      <th>TCGA-BW-A5NO</th>\n      <th>TCGA-05-5715</th>\n      <th>TCGA-BC-A217</th>\n      <th>TCGA-GV-A3JZ</th>\n      <th>TCGA-C8-A130</th>\n      <th>TCGA-BR-4357</th>\n      <th>TCGA-CG-4449</th>\n      <th>TCGA-05-4422</th>\n      <th>TCGA-IK-7675</th>\n      <th>TCGA-CN-4729</th>\n      <th>TCGA-49-4510</th>\n      <th>...</th>\n      <th>TCGA-MR-A520</th>\n      <th>TCGA-RZ-AB0B</th>\n      <th>TCGA-V3-A9ZX</th>\n      <th>TCGA-V3-A9ZY</th>\n      <th>TCGA-V4-A9E5</th>\n      <th>TCGA-V4-A9E7</th>\n      <th>TCGA-V4-A9E8</th>\n      <th>TCGA-V4-A9EC</th>\n      <th>TCGA-V4-A9ED</th>\n      <th>TCGA-V4-A9EE</th>\n      <th>TCGA-V4-A9EF</th>\n      <th>TCGA-V4-A9EH</th>\n      <th>TCGA-V4-A9EJ</th>\n      <th>TCGA-V4-A9EK</th>\n      <th>TCGA-V4-A9EL</th>\n      <th>TCGA-V4-A9EM</th>\n      <th>TCGA-V4-A9EO</th>\n      <th>TCGA-V4-A9ES</th>\n      <th>TCGA-V4-A9EU</th>\n      <th>TCGA-V4-A9EV</th>\n      <th>TCGA-V4-A9EX</th>\n      <th>TCGA-V4-A9EZ</th>\n      <th>TCGA-V4-A9F0</th>\n      <th>TCGA-V4-A9F1</th>\n      <th>TCGA-V4-A9F2</th>\n      <th>TCGA-V4-A9F3</th>\n      <th>TCGA-V4-A9F5</th>\n      <th>TCGA-V4-A9F7</th>\n      <th>TCGA-V4-A9F8</th>\n      <th>TCGA-VD-A8K7</th>\n      <th>TCGA-VD-A8K8</th>\n      <th>TCGA-VD-A8KA</th>\n      <th>TCGA-VD-A8KD</th>\n      <th>TCGA-VD-A8KE</th>\n      <th>TCGA-VD-A8KF</th>\n      <th>TCGA-VD-A8KH</th>\n      <th>TCGA-VD-A8KL</th>\n      <th>TCGA-VD-A8KN</th>\n      <th>TCGA-VD-AA8O</th>\n      <th>TCGA-VD-AA8P</th>\n    </tr>\n  </thead>\n  <tbody>\n    <tr>\n      <th>0</th>\n      <td>APC</td>\n      <td>CNA</td>\n      <td>homdel_rec</td>\n      <td>Amplification</td>\n      <td>NaN</td>\n      <td>NaN</td>\n      <td>NaN</td>\n      <td>NaN</td>\n      <td>NaN</td>\n      <td>NaN</td>\n      <td>NaN</td>\n      <td>NaN</td>\n      <td>NaN</td>\n      <td>NaN</td>\n      <td>NaN</td>\n      <td>NaN</td>\n      <td>NaN</td>\n      <td>NaN</td>\n      <td>NaN</td>\n      <td>NaN</td>\n      <td>NaN</td>\n      <td>NaN</td>\n      <td>NaN</td>\n      <td>NaN</td>\n      <td>NaN</td>\n      <td>NaN</td>\n      <td>NaN</td>\n      <td>NaN</td>\n      <td>NaN</td>\n      <td>NaN</td>\n      <td>NaN</td>\n      <td>NaN</td>\n      <td>NaN</td>\n      <td>NaN</td>\n      <td>NaN</td>\n      <td>NaN</td>\n      <td>NaN</td>\n      <td>NaN</td>\n      <td>NaN</td>\n      <td>NaN</td>\n      <td>...</td>\n      <td>NaN</td>\n      <td>NaN</td>\n      <td>NaN</td>\n      <td>NaN</td>\n      <td>NaN</td>\n      <td>NaN</td>\n      <td>NaN</td>\n      <td>NaN</td>\n      <td>NaN</td>\n      <td>NaN</td>\n      <td>NaN</td>\n      <td>NaN</td>\n      <td>NaN</td>\n      <td>NaN</td>\n      <td>NaN</td>\n      <td>NaN</td>\n      <td>NaN</td>\n      <td>NaN</td>\n      <td>NaN</td>\n      <td>NaN</td>\n      <td>NaN</td>\n      <td>NaN</td>\n      <td>NaN</td>\n      <td>NaN</td>\n      <td>NaN</td>\n      <td>NaN</td>\n      <td>NaN</td>\n      <td>NaN</td>\n      <td>NaN</td>\n      <td>NaN</td>\n      <td>NaN</td>\n      <td>NaN</td>\n      <td>NaN</td>\n      <td>NaN</td>\n      <td>NaN</td>\n      <td>NaN</td>\n      <td>NaN</td>\n      <td>NaN</td>\n      <td>NaN</td>\n      <td>NaN</td>\n    </tr>\n    <tr>\n      <th>1</th>\n      <td>ARHGEF12</td>\n      <td>CNA</td>\n      <td>NaN</td>\n      <td>NaN</td>\n      <td>NaN</td>\n      <td>NaN</td>\n      <td>NaN</td>\n      <td>NaN</td>\n      <td>NaN</td>\n      <td>NaN</td>\n      <td>NaN</td>\n      <td>NaN</td>\n      <td>NaN</td>\n      <td>NaN</td>\n      <td>NaN</td>\n      <td>NaN</td>\n      <td>NaN</td>\n      <td>NaN</td>\n      <td>NaN</td>\n      <td>NaN</td>\n      <td>NaN</td>\n      <td>NaN</td>\n      <td>NaN</td>\n      <td>NaN</td>\n      <td>Amplification</td>\n      <td>Amplification</td>\n      <td>Deep Deletion</td>\n      <td>NaN</td>\n      <td>NaN</td>\n      <td>NaN</td>\n      <td>NaN</td>\n      <td>NaN</td>\n      <td>NaN</td>\n      <td>NaN</td>\n      <td>NaN</td>\n      <td>NaN</td>\n      <td>NaN</td>\n      <td>NaN</td>\n      <td>NaN</td>\n      <td>NaN</td>\n      <td>...</td>\n      <td>NaN</td>\n      <td>NaN</td>\n      <td>NaN</td>\n      <td>NaN</td>\n      <td>NaN</td>\n      <td>NaN</td>\n      <td>NaN</td>\n      <td>NaN</td>\n      <td>NaN</td>\n      <td>NaN</td>\n      <td>NaN</td>\n      <td>NaN</td>\n      <td>NaN</td>\n      <td>NaN</td>\n      <td>NaN</td>\n      <td>NaN</td>\n      <td>NaN</td>\n      <td>NaN</td>\n      <td>NaN</td>\n      <td>NaN</td>\n      <td>NaN</td>\n      <td>NaN</td>\n      <td>NaN</td>\n      <td>NaN</td>\n      <td>NaN</td>\n      <td>NaN</td>\n      <td>NaN</td>\n      <td>NaN</td>\n      <td>NaN</td>\n      <td>NaN</td>\n      <td>NaN</td>\n      <td>NaN</td>\n      <td>NaN</td>\n      <td>NaN</td>\n      <td>NaN</td>\n      <td>NaN</td>\n      <td>NaN</td>\n      <td>NaN</td>\n      <td>NaN</td>\n      <td>NaN</td>\n    </tr>\n    <tr>\n      <th>2</th>\n      <td>ATM</td>\n      <td>CNA</td>\n      <td>NaN</td>\n      <td>NaN</td>\n      <td>NaN</td>\n      <td>NaN</td>\n      <td>NaN</td>\n      <td>NaN</td>\n      <td>NaN</td>\n      <td>NaN</td>\n      <td>NaN</td>\n      <td>NaN</td>\n      <td>NaN</td>\n      <td>NaN</td>\n      <td>NaN</td>\n      <td>NaN</td>\n      <td>NaN</td>\n      <td>NaN</td>\n      <td>NaN</td>\n      <td>NaN</td>\n      <td>NaN</td>\n      <td>NaN</td>\n      <td>NaN</td>\n      <td>NaN</td>\n      <td>Amplification</td>\n      <td>NaN</td>\n      <td>NaN</td>\n      <td>NaN</td>\n      <td>NaN</td>\n      <td>NaN</td>\n      <td>NaN</td>\n      <td>NaN</td>\n      <td>homdel_rec</td>\n      <td>homdel_rec</td>\n      <td>homdel_rec</td>\n      <td>Amplification</td>\n      <td>Amplification</td>\n      <td>Amplification</td>\n      <td>Amplification</td>\n      <td>NaN</td>\n      <td>...</td>\n      <td>NaN</td>\n      <td>NaN</td>\n      <td>NaN</td>\n      <td>NaN</td>\n      <td>NaN</td>\n      <td>NaN</td>\n      <td>NaN</td>\n      <td>NaN</td>\n      <td>NaN</td>\n      <td>NaN</td>\n      <td>NaN</td>\n      <td>NaN</td>\n      <td>NaN</td>\n      <td>NaN</td>\n      <td>NaN</td>\n      <td>NaN</td>\n      <td>NaN</td>\n      <td>NaN</td>\n      <td>NaN</td>\n      <td>NaN</td>\n      <td>NaN</td>\n      <td>NaN</td>\n      <td>NaN</td>\n      <td>NaN</td>\n      <td>NaN</td>\n      <td>NaN</td>\n      <td>NaN</td>\n      <td>NaN</td>\n      <td>NaN</td>\n      <td>NaN</td>\n      <td>NaN</td>\n      <td>NaN</td>\n      <td>NaN</td>\n      <td>NaN</td>\n      <td>NaN</td>\n      <td>NaN</td>\n      <td>NaN</td>\n      <td>NaN</td>\n      <td>NaN</td>\n      <td>NaN</td>\n    </tr>\n    <tr>\n      <th>3</th>\n      <td>BCL11B</td>\n      <td>CNA</td>\n      <td>NaN</td>\n      <td>NaN</td>\n      <td>NaN</td>\n      <td>NaN</td>\n      <td>NaN</td>\n      <td>NaN</td>\n      <td>NaN</td>\n      <td>NaN</td>\n      <td>NaN</td>\n      <td>NaN</td>\n      <td>NaN</td>\n      <td>NaN</td>\n      <td>NaN</td>\n      <td>NaN</td>\n      <td>NaN</td>\n      <td>NaN</td>\n      <td>NaN</td>\n      <td>NaN</td>\n      <td>NaN</td>\n      <td>NaN</td>\n      <td>NaN</td>\n      <td>NaN</td>\n      <td>NaN</td>\n      <td>NaN</td>\n      <td>NaN</td>\n      <td>NaN</td>\n      <td>NaN</td>\n      <td>NaN</td>\n      <td>NaN</td>\n      <td>NaN</td>\n      <td>homdel_rec</td>\n      <td>NaN</td>\n      <td>NaN</td>\n      <td>NaN</td>\n      <td>NaN</td>\n      <td>NaN</td>\n      <td>NaN</td>\n      <td>NaN</td>\n      <td>...</td>\n      <td>NaN</td>\n      <td>NaN</td>\n      <td>NaN</td>\n      <td>NaN</td>\n      <td>NaN</td>\n      <td>NaN</td>\n      <td>NaN</td>\n      <td>NaN</td>\n      <td>NaN</td>\n      <td>NaN</td>\n      <td>NaN</td>\n      <td>NaN</td>\n      <td>NaN</td>\n      <td>NaN</td>\n      <td>NaN</td>\n      <td>NaN</td>\n      <td>NaN</td>\n      <td>NaN</td>\n      <td>NaN</td>\n      <td>NaN</td>\n      <td>NaN</td>\n      <td>NaN</td>\n      <td>NaN</td>\n      <td>NaN</td>\n      <td>NaN</td>\n      <td>NaN</td>\n      <td>NaN</td>\n      <td>NaN</td>\n      <td>NaN</td>\n      <td>NaN</td>\n      <td>NaN</td>\n      <td>NaN</td>\n      <td>NaN</td>\n      <td>NaN</td>\n      <td>NaN</td>\n      <td>NaN</td>\n      <td>NaN</td>\n      <td>NaN</td>\n      <td>NaN</td>\n      <td>NaN</td>\n    </tr>\n    <tr>\n      <th>4</th>\n      <td>BLM</td>\n      <td>CNA</td>\n      <td>NaN</td>\n      <td>NaN</td>\n      <td>NaN</td>\n      <td>NaN</td>\n      <td>NaN</td>\n      <td>NaN</td>\n      <td>NaN</td>\n      <td>NaN</td>\n      <td>NaN</td>\n      <td>NaN</td>\n      <td>NaN</td>\n      <td>NaN</td>\n      <td>NaN</td>\n      <td>NaN</td>\n      <td>NaN</td>\n      <td>NaN</td>\n      <td>NaN</td>\n      <td>NaN</td>\n      <td>NaN</td>\n      <td>NaN</td>\n      <td>NaN</td>\n      <td>NaN</td>\n      <td>NaN</td>\n      <td>NaN</td>\n      <td>NaN</td>\n      <td>NaN</td>\n      <td>NaN</td>\n      <td>NaN</td>\n      <td>NaN</td>\n      <td>NaN</td>\n      <td>NaN</td>\n      <td>NaN</td>\n      <td>NaN</td>\n      <td>Amplification</td>\n      <td>NaN</td>\n      <td>NaN</td>\n      <td>NaN</td>\n      <td>NaN</td>\n      <td>...</td>\n      <td>NaN</td>\n      <td>NaN</td>\n      <td>NaN</td>\n      <td>NaN</td>\n      <td>NaN</td>\n      <td>NaN</td>\n      <td>NaN</td>\n      <td>NaN</td>\n      <td>NaN</td>\n      <td>NaN</td>\n      <td>NaN</td>\n      <td>NaN</td>\n      <td>NaN</td>\n      <td>NaN</td>\n      <td>NaN</td>\n      <td>NaN</td>\n      <td>NaN</td>\n      <td>NaN</td>\n      <td>NaN</td>\n      <td>NaN</td>\n      <td>NaN</td>\n      <td>NaN</td>\n      <td>NaN</td>\n      <td>NaN</td>\n      <td>NaN</td>\n      <td>NaN</td>\n      <td>NaN</td>\n      <td>NaN</td>\n      <td>NaN</td>\n      <td>NaN</td>\n      <td>NaN</td>\n      <td>NaN</td>\n      <td>NaN</td>\n      <td>NaN</td>\n      <td>NaN</td>\n      <td>NaN</td>\n      <td>NaN</td>\n      <td>NaN</td>\n      <td>NaN</td>\n      <td>NaN</td>\n    </tr>\n  </tbody>\n</table>\n<p>5 rows × 1902 columns</p>\n</div>"
     },
     "metadata": {},
     "execution_count": 20
    }
   ],
   "source": [
    "## Strategy 1: ecDNA+ = Circular; ecDNA- = otherwise\n",
    "ecdna_pos = ref[ref['sample_classification'] == 'Circular']['patient_barcode']\n",
    "ecdna_neg = ref[ref['sample_classification'] != 'Circular']['patient_barcode']\n",
    "pos = res.columns[res.columns.isin(ecdna_pos)].tolist()\n",
    "n_pos = len(pos)\n",
    "print(\"Oncoprint: {}, {}\".format(pos[-1], n_pos))\n",
    "cols_met = ['track_name', 'track_type'] + pos + res.columns[res.columns.isin(ecdna_neg)].tolist()\n",
    "df = res[cols_met]\n",
    "print(df.shape)\n",
    "df.head()"
   ]
  },
  {
   "cell_type": "code",
   "execution_count": 101,
   "metadata": {},
   "outputs": [],
   "source": [
    "## Save this oncoprint matrix\n",
    "df.to_csv(\"../data/oncoprint1.tsv\", sep=\"\\t\", index=False)"
   ]
  },
  {
   "cell_type": "code",
   "execution_count": 21,
   "metadata": {},
   "outputs": [
    {
     "output_type": "stream",
     "name": "stdout",
     "text": [
      "Oncoprint: TCGA-G2-A2EK, 335\n(189, 1378)\n"
     ]
    },
    {
     "output_type": "execute_result",
     "data": {
      "text/plain": [
       "  track_name track_type TCGA-D3-A2JC  ... TCGA-VD-A8KN TCGA-VD-AA8O TCGA-VD-AA8P\n",
       "0        APC        CNA   homdel_rec  ...          NaN          NaN          NaN\n",
       "1   ARHGEF12        CNA          NaN  ...          NaN          NaN          NaN\n",
       "2        ATM        CNA          NaN  ...          NaN          NaN          NaN\n",
       "3     BCL11B        CNA          NaN  ...          NaN          NaN          NaN\n",
       "4        BLM        CNA          NaN  ...          NaN          NaN          NaN\n",
       "\n",
       "[5 rows x 1378 columns]"
      ],
      "text/html": "<div>\n<style scoped>\n    .dataframe tbody tr th:only-of-type {\n        vertical-align: middle;\n    }\n\n    .dataframe tbody tr th {\n        vertical-align: top;\n    }\n\n    .dataframe thead th {\n        text-align: right;\n    }\n</style>\n<table border=\"1\" class=\"dataframe\">\n  <thead>\n    <tr style=\"text-align: right;\">\n      <th></th>\n      <th>track_name</th>\n      <th>track_type</th>\n      <th>TCGA-D3-A2JC</th>\n      <th>TCGA-DX-A23R</th>\n      <th>TCGA-05-4402</th>\n      <th>TCGA-D7-6528</th>\n      <th>TCGA-A6-2677</th>\n      <th>TCGA-CV-6948</th>\n      <th>TCGA-A6-5656</th>\n      <th>TCGA-BR-4267</th>\n      <th>TCGA-A6-3810</th>\n      <th>TCGA-CG-4476</th>\n      <th>TCGA-D3-A2J6</th>\n      <th>TCGA-05-4397</th>\n      <th>TCGA-FF-8042</th>\n      <th>TCGA-EE-A3JI</th>\n      <th>TCGA-DK-A1AC</th>\n      <th>TCGA-IR-A3LK</th>\n      <th>TCGA-IG-A97I</th>\n      <th>TCGA-91-6840</th>\n      <th>TCGA-CG-4469</th>\n      <th>TCGA-DU-7010</th>\n      <th>TCGA-43-3394</th>\n      <th>TCGA-BR-4369</th>\n      <th>TCGA-06-0128</th>\n      <th>TCGA-FI-A2CY</th>\n      <th>TCGA-E2-A1LL</th>\n      <th>TCGA-IG-A3YB</th>\n      <th>TCGA-L5-A4OJ</th>\n      <th>TCGA-BW-A5NO</th>\n      <th>TCGA-05-5715</th>\n      <th>TCGA-BC-A217</th>\n      <th>TCGA-GV-A3JZ</th>\n      <th>TCGA-C8-A130</th>\n      <th>TCGA-BR-4357</th>\n      <th>TCGA-CG-4449</th>\n      <th>TCGA-05-4422</th>\n      <th>TCGA-IK-7675</th>\n      <th>TCGA-CN-4729</th>\n      <th>TCGA-49-4510</th>\n      <th>...</th>\n      <th>TCGA-KN-8429</th>\n      <th>TCGA-KN-8431</th>\n      <th>TCGA-KN-8437</th>\n      <th>TCGA-KO-8405</th>\n      <th>TCGA-KO-8406</th>\n      <th>TCGA-KO-8407</th>\n      <th>TCGA-KO-8409</th>\n      <th>TCGA-KO-8410</th>\n      <th>TCGA-KO-8411</th>\n      <th>TCGA-KO-8417</th>\n      <th>TCGA-L6-A4ET</th>\n      <th>TCGA-MH-A55W</th>\n      <th>TCGA-MH-A560</th>\n      <th>TCGA-MH-A562</th>\n      <th>TCGA-MR-A520</th>\n      <th>TCGA-V3-A9ZY</th>\n      <th>TCGA-V4-A9E5</th>\n      <th>TCGA-V4-A9E8</th>\n      <th>TCGA-V4-A9EC</th>\n      <th>TCGA-V4-A9ED</th>\n      <th>TCGA-V4-A9EF</th>\n      <th>TCGA-V4-A9EJ</th>\n      <th>TCGA-V4-A9EM</th>\n      <th>TCGA-V4-A9EO</th>\n      <th>TCGA-V4-A9ES</th>\n      <th>TCGA-V4-A9EZ</th>\n      <th>TCGA-V4-A9F0</th>\n      <th>TCGA-V4-A9F2</th>\n      <th>TCGA-V4-A9F7</th>\n      <th>TCGA-V4-A9F8</th>\n      <th>TCGA-VD-A8K7</th>\n      <th>TCGA-VD-A8KA</th>\n      <th>TCGA-VD-A8KD</th>\n      <th>TCGA-VD-A8KE</th>\n      <th>TCGA-VD-A8KF</th>\n      <th>TCGA-VD-A8KH</th>\n      <th>TCGA-VD-A8KL</th>\n      <th>TCGA-VD-A8KN</th>\n      <th>TCGA-VD-AA8O</th>\n      <th>TCGA-VD-AA8P</th>\n    </tr>\n  </thead>\n  <tbody>\n    <tr>\n      <th>0</th>\n      <td>APC</td>\n      <td>CNA</td>\n      <td>homdel_rec</td>\n      <td>Amplification</td>\n      <td>NaN</td>\n      <td>NaN</td>\n      <td>NaN</td>\n      <td>NaN</td>\n      <td>NaN</td>\n      <td>NaN</td>\n      <td>NaN</td>\n      <td>NaN</td>\n      <td>NaN</td>\n      <td>NaN</td>\n      <td>NaN</td>\n      <td>NaN</td>\n      <td>NaN</td>\n      <td>NaN</td>\n      <td>NaN</td>\n      <td>NaN</td>\n      <td>NaN</td>\n      <td>NaN</td>\n      <td>NaN</td>\n      <td>NaN</td>\n      <td>NaN</td>\n      <td>NaN</td>\n      <td>NaN</td>\n      <td>NaN</td>\n      <td>NaN</td>\n      <td>NaN</td>\n      <td>NaN</td>\n      <td>NaN</td>\n      <td>NaN</td>\n      <td>NaN</td>\n      <td>NaN</td>\n      <td>NaN</td>\n      <td>NaN</td>\n      <td>NaN</td>\n      <td>NaN</td>\n      <td>NaN</td>\n      <td>...</td>\n      <td>NaN</td>\n      <td>NaN</td>\n      <td>NaN</td>\n      <td>NaN</td>\n      <td>NaN</td>\n      <td>NaN</td>\n      <td>NaN</td>\n      <td>NaN</td>\n      <td>NaN</td>\n      <td>NaN</td>\n      <td>NaN</td>\n      <td>NaN</td>\n      <td>NaN</td>\n      <td>NaN</td>\n      <td>NaN</td>\n      <td>NaN</td>\n      <td>NaN</td>\n      <td>NaN</td>\n      <td>NaN</td>\n      <td>NaN</td>\n      <td>NaN</td>\n      <td>NaN</td>\n      <td>NaN</td>\n      <td>NaN</td>\n      <td>NaN</td>\n      <td>NaN</td>\n      <td>NaN</td>\n      <td>NaN</td>\n      <td>NaN</td>\n      <td>NaN</td>\n      <td>NaN</td>\n      <td>NaN</td>\n      <td>NaN</td>\n      <td>NaN</td>\n      <td>NaN</td>\n      <td>NaN</td>\n      <td>NaN</td>\n      <td>NaN</td>\n      <td>NaN</td>\n      <td>NaN</td>\n    </tr>\n    <tr>\n      <th>1</th>\n      <td>ARHGEF12</td>\n      <td>CNA</td>\n      <td>NaN</td>\n      <td>NaN</td>\n      <td>NaN</td>\n      <td>NaN</td>\n      <td>NaN</td>\n      <td>NaN</td>\n      <td>NaN</td>\n      <td>NaN</td>\n      <td>NaN</td>\n      <td>NaN</td>\n      <td>NaN</td>\n      <td>NaN</td>\n      <td>NaN</td>\n      <td>NaN</td>\n      <td>NaN</td>\n      <td>NaN</td>\n      <td>NaN</td>\n      <td>NaN</td>\n      <td>NaN</td>\n      <td>NaN</td>\n      <td>NaN</td>\n      <td>NaN</td>\n      <td>Amplification</td>\n      <td>Amplification</td>\n      <td>Deep Deletion</td>\n      <td>NaN</td>\n      <td>NaN</td>\n      <td>NaN</td>\n      <td>NaN</td>\n      <td>NaN</td>\n      <td>NaN</td>\n      <td>NaN</td>\n      <td>NaN</td>\n      <td>NaN</td>\n      <td>NaN</td>\n      <td>NaN</td>\n      <td>NaN</td>\n      <td>NaN</td>\n      <td>...</td>\n      <td>NaN</td>\n      <td>NaN</td>\n      <td>NaN</td>\n      <td>NaN</td>\n      <td>NaN</td>\n      <td>NaN</td>\n      <td>NaN</td>\n      <td>NaN</td>\n      <td>NaN</td>\n      <td>NaN</td>\n      <td>NaN</td>\n      <td>NaN</td>\n      <td>NaN</td>\n      <td>NaN</td>\n      <td>NaN</td>\n      <td>NaN</td>\n      <td>NaN</td>\n      <td>NaN</td>\n      <td>NaN</td>\n      <td>NaN</td>\n      <td>NaN</td>\n      <td>NaN</td>\n      <td>NaN</td>\n      <td>NaN</td>\n      <td>NaN</td>\n      <td>NaN</td>\n      <td>NaN</td>\n      <td>NaN</td>\n      <td>NaN</td>\n      <td>NaN</td>\n      <td>NaN</td>\n      <td>NaN</td>\n      <td>NaN</td>\n      <td>NaN</td>\n      <td>NaN</td>\n      <td>NaN</td>\n      <td>NaN</td>\n      <td>NaN</td>\n      <td>NaN</td>\n      <td>NaN</td>\n    </tr>\n    <tr>\n      <th>2</th>\n      <td>ATM</td>\n      <td>CNA</td>\n      <td>NaN</td>\n      <td>NaN</td>\n      <td>NaN</td>\n      <td>NaN</td>\n      <td>NaN</td>\n      <td>NaN</td>\n      <td>NaN</td>\n      <td>NaN</td>\n      <td>NaN</td>\n      <td>NaN</td>\n      <td>NaN</td>\n      <td>NaN</td>\n      <td>NaN</td>\n      <td>NaN</td>\n      <td>NaN</td>\n      <td>NaN</td>\n      <td>NaN</td>\n      <td>NaN</td>\n      <td>NaN</td>\n      <td>NaN</td>\n      <td>NaN</td>\n      <td>NaN</td>\n      <td>Amplification</td>\n      <td>NaN</td>\n      <td>NaN</td>\n      <td>NaN</td>\n      <td>NaN</td>\n      <td>NaN</td>\n      <td>NaN</td>\n      <td>NaN</td>\n      <td>homdel_rec</td>\n      <td>homdel_rec</td>\n      <td>homdel_rec</td>\n      <td>Amplification</td>\n      <td>Amplification</td>\n      <td>Amplification</td>\n      <td>Amplification</td>\n      <td>NaN</td>\n      <td>...</td>\n      <td>NaN</td>\n      <td>NaN</td>\n      <td>NaN</td>\n      <td>NaN</td>\n      <td>NaN</td>\n      <td>NaN</td>\n      <td>NaN</td>\n      <td>NaN</td>\n      <td>NaN</td>\n      <td>NaN</td>\n      <td>NaN</td>\n      <td>NaN</td>\n      <td>NaN</td>\n      <td>NaN</td>\n      <td>NaN</td>\n      <td>NaN</td>\n      <td>NaN</td>\n      <td>NaN</td>\n      <td>NaN</td>\n      <td>NaN</td>\n      <td>NaN</td>\n      <td>NaN</td>\n      <td>NaN</td>\n      <td>NaN</td>\n      <td>NaN</td>\n      <td>NaN</td>\n      <td>NaN</td>\n      <td>NaN</td>\n      <td>NaN</td>\n      <td>NaN</td>\n      <td>NaN</td>\n      <td>NaN</td>\n      <td>NaN</td>\n      <td>NaN</td>\n      <td>NaN</td>\n      <td>NaN</td>\n      <td>NaN</td>\n      <td>NaN</td>\n      <td>NaN</td>\n      <td>NaN</td>\n    </tr>\n    <tr>\n      <th>3</th>\n      <td>BCL11B</td>\n      <td>CNA</td>\n      <td>NaN</td>\n      <td>NaN</td>\n      <td>NaN</td>\n      <td>NaN</td>\n      <td>NaN</td>\n      <td>NaN</td>\n      <td>NaN</td>\n      <td>NaN</td>\n      <td>NaN</td>\n      <td>NaN</td>\n      <td>NaN</td>\n      <td>NaN</td>\n      <td>NaN</td>\n      <td>NaN</td>\n      <td>NaN</td>\n      <td>NaN</td>\n      <td>NaN</td>\n      <td>NaN</td>\n      <td>NaN</td>\n      <td>NaN</td>\n      <td>NaN</td>\n      <td>NaN</td>\n      <td>NaN</td>\n      <td>NaN</td>\n      <td>NaN</td>\n      <td>NaN</td>\n      <td>NaN</td>\n      <td>NaN</td>\n      <td>NaN</td>\n      <td>NaN</td>\n      <td>homdel_rec</td>\n      <td>NaN</td>\n      <td>NaN</td>\n      <td>NaN</td>\n      <td>NaN</td>\n      <td>NaN</td>\n      <td>NaN</td>\n      <td>NaN</td>\n      <td>...</td>\n      <td>NaN</td>\n      <td>NaN</td>\n      <td>NaN</td>\n      <td>NaN</td>\n      <td>NaN</td>\n      <td>NaN</td>\n      <td>NaN</td>\n      <td>NaN</td>\n      <td>NaN</td>\n      <td>NaN</td>\n      <td>NaN</td>\n      <td>NaN</td>\n      <td>NaN</td>\n      <td>NaN</td>\n      <td>NaN</td>\n      <td>NaN</td>\n      <td>NaN</td>\n      <td>NaN</td>\n      <td>NaN</td>\n      <td>NaN</td>\n      <td>NaN</td>\n      <td>NaN</td>\n      <td>NaN</td>\n      <td>NaN</td>\n      <td>NaN</td>\n      <td>NaN</td>\n      <td>NaN</td>\n      <td>NaN</td>\n      <td>NaN</td>\n      <td>NaN</td>\n      <td>NaN</td>\n      <td>NaN</td>\n      <td>NaN</td>\n      <td>NaN</td>\n      <td>NaN</td>\n      <td>NaN</td>\n      <td>NaN</td>\n      <td>NaN</td>\n      <td>NaN</td>\n      <td>NaN</td>\n    </tr>\n    <tr>\n      <th>4</th>\n      <td>BLM</td>\n      <td>CNA</td>\n      <td>NaN</td>\n      <td>NaN</td>\n      <td>NaN</td>\n      <td>NaN</td>\n      <td>NaN</td>\n      <td>NaN</td>\n      <td>NaN</td>\n      <td>NaN</td>\n      <td>NaN</td>\n      <td>NaN</td>\n      <td>NaN</td>\n      <td>NaN</td>\n      <td>NaN</td>\n      <td>NaN</td>\n      <td>NaN</td>\n      <td>NaN</td>\n      <td>NaN</td>\n      <td>NaN</td>\n      <td>NaN</td>\n      <td>NaN</td>\n      <td>NaN</td>\n      <td>NaN</td>\n      <td>NaN</td>\n      <td>NaN</td>\n      <td>NaN</td>\n      <td>NaN</td>\n      <td>NaN</td>\n      <td>NaN</td>\n      <td>NaN</td>\n      <td>NaN</td>\n      <td>NaN</td>\n      <td>NaN</td>\n      <td>NaN</td>\n      <td>Amplification</td>\n      <td>NaN</td>\n      <td>NaN</td>\n      <td>NaN</td>\n      <td>NaN</td>\n      <td>...</td>\n      <td>NaN</td>\n      <td>NaN</td>\n      <td>NaN</td>\n      <td>NaN</td>\n      <td>NaN</td>\n      <td>NaN</td>\n      <td>NaN</td>\n      <td>NaN</td>\n      <td>NaN</td>\n      <td>NaN</td>\n      <td>NaN</td>\n      <td>NaN</td>\n      <td>NaN</td>\n      <td>NaN</td>\n      <td>NaN</td>\n      <td>NaN</td>\n      <td>NaN</td>\n      <td>NaN</td>\n      <td>NaN</td>\n      <td>NaN</td>\n      <td>NaN</td>\n      <td>NaN</td>\n      <td>NaN</td>\n      <td>NaN</td>\n      <td>NaN</td>\n      <td>NaN</td>\n      <td>NaN</td>\n      <td>NaN</td>\n      <td>NaN</td>\n      <td>NaN</td>\n      <td>NaN</td>\n      <td>NaN</td>\n      <td>NaN</td>\n      <td>NaN</td>\n      <td>NaN</td>\n      <td>NaN</td>\n      <td>NaN</td>\n      <td>NaN</td>\n      <td>NaN</td>\n      <td>NaN</td>\n    </tr>\n  </tbody>\n</table>\n<p>5 rows × 1378 columns</p>\n</div>"
     },
     "metadata": {},
     "execution_count": 21
    }
   ],
   "source": [
    "## Strategy 2: ecDNA+ = Circular; ecDNA- = no SCNA detected\n",
    "ecdna_pos = ref[ref['sample_classification'] == 'Circular']['patient_barcode']\n",
    "ecdna_neg = ref[ref['sample_classification'] == 'No SCNA detected']['patient_barcode']\n",
    "pos = res.columns[res.columns.isin(ecdna_pos)].tolist()\n",
    "print(\"Oncoprint: {}, {}\".format(pos[-1], len(pos)))\n",
    "neg = res.columns[res.columns.isin(ecdna_neg)].tolist()\n",
    "n_neg2 = len(neg) \n",
    "cols_met = ['track_name', 'track_type'] + pos + neg\n",
    "df2 = res[cols_met]\n",
    "print(df2.shape)\n",
    "df2.head()"
   ]
  },
  {
   "cell_type": "code",
   "execution_count": 104,
   "metadata": {},
   "outputs": [],
   "source": [
    "## Save this oncoprint matrix\n",
    "df2.to_csv(\"../data/oncoprint2.tsv\", sep=\"\\t\", index=False)"
   ]
  },
  {
   "source": [
    "## Using the strategy 1 matrix"
   ],
   "cell_type": "markdown",
   "metadata": {}
  },
  {
   "cell_type": "code",
   "execution_count": 22,
   "metadata": {},
   "outputs": [
    {
     "output_type": "stream",
     "name": "stdout",
     "text": [
      "(189, 1902)\n"
     ]
    },
    {
     "output_type": "execute_result",
     "data": {
      "text/plain": [
       "  track_name track_type TCGA-D3-A2JC  ... TCGA-VD-A8KN TCGA-VD-AA8O TCGA-VD-AA8P\n",
       "0        APC        CNA   homdel_rec  ...          NaN          NaN          NaN\n",
       "1   ARHGEF12        CNA          NaN  ...          NaN          NaN          NaN\n",
       "2        ATM        CNA          NaN  ...          NaN          NaN          NaN\n",
       "3     BCL11B        CNA          NaN  ...          NaN          NaN          NaN\n",
       "4        BLM        CNA          NaN  ...          NaN          NaN          NaN\n",
       "\n",
       "[5 rows x 1902 columns]"
      ],
      "text/html": "<div>\n<style scoped>\n    .dataframe tbody tr th:only-of-type {\n        vertical-align: middle;\n    }\n\n    .dataframe tbody tr th {\n        vertical-align: top;\n    }\n\n    .dataframe thead th {\n        text-align: right;\n    }\n</style>\n<table border=\"1\" class=\"dataframe\">\n  <thead>\n    <tr style=\"text-align: right;\">\n      <th></th>\n      <th>track_name</th>\n      <th>track_type</th>\n      <th>TCGA-D3-A2JC</th>\n      <th>TCGA-DX-A23R</th>\n      <th>TCGA-05-4402</th>\n      <th>TCGA-D7-6528</th>\n      <th>TCGA-A6-2677</th>\n      <th>TCGA-CV-6948</th>\n      <th>TCGA-A6-5656</th>\n      <th>TCGA-BR-4267</th>\n      <th>TCGA-A6-3810</th>\n      <th>TCGA-CG-4476</th>\n      <th>TCGA-D3-A2J6</th>\n      <th>TCGA-05-4397</th>\n      <th>TCGA-FF-8042</th>\n      <th>TCGA-EE-A3JI</th>\n      <th>TCGA-DK-A1AC</th>\n      <th>TCGA-IR-A3LK</th>\n      <th>TCGA-IG-A97I</th>\n      <th>TCGA-91-6840</th>\n      <th>TCGA-CG-4469</th>\n      <th>TCGA-DU-7010</th>\n      <th>TCGA-43-3394</th>\n      <th>TCGA-BR-4369</th>\n      <th>TCGA-06-0128</th>\n      <th>TCGA-FI-A2CY</th>\n      <th>TCGA-E2-A1LL</th>\n      <th>TCGA-IG-A3YB</th>\n      <th>TCGA-L5-A4OJ</th>\n      <th>TCGA-BW-A5NO</th>\n      <th>TCGA-05-5715</th>\n      <th>TCGA-BC-A217</th>\n      <th>TCGA-GV-A3JZ</th>\n      <th>TCGA-C8-A130</th>\n      <th>TCGA-BR-4357</th>\n      <th>TCGA-CG-4449</th>\n      <th>TCGA-05-4422</th>\n      <th>TCGA-IK-7675</th>\n      <th>TCGA-CN-4729</th>\n      <th>TCGA-49-4510</th>\n      <th>...</th>\n      <th>TCGA-MR-A520</th>\n      <th>TCGA-RZ-AB0B</th>\n      <th>TCGA-V3-A9ZX</th>\n      <th>TCGA-V3-A9ZY</th>\n      <th>TCGA-V4-A9E5</th>\n      <th>TCGA-V4-A9E7</th>\n      <th>TCGA-V4-A9E8</th>\n      <th>TCGA-V4-A9EC</th>\n      <th>TCGA-V4-A9ED</th>\n      <th>TCGA-V4-A9EE</th>\n      <th>TCGA-V4-A9EF</th>\n      <th>TCGA-V4-A9EH</th>\n      <th>TCGA-V4-A9EJ</th>\n      <th>TCGA-V4-A9EK</th>\n      <th>TCGA-V4-A9EL</th>\n      <th>TCGA-V4-A9EM</th>\n      <th>TCGA-V4-A9EO</th>\n      <th>TCGA-V4-A9ES</th>\n      <th>TCGA-V4-A9EU</th>\n      <th>TCGA-V4-A9EV</th>\n      <th>TCGA-V4-A9EX</th>\n      <th>TCGA-V4-A9EZ</th>\n      <th>TCGA-V4-A9F0</th>\n      <th>TCGA-V4-A9F1</th>\n      <th>TCGA-V4-A9F2</th>\n      <th>TCGA-V4-A9F3</th>\n      <th>TCGA-V4-A9F5</th>\n      <th>TCGA-V4-A9F7</th>\n      <th>TCGA-V4-A9F8</th>\n      <th>TCGA-VD-A8K7</th>\n      <th>TCGA-VD-A8K8</th>\n      <th>TCGA-VD-A8KA</th>\n      <th>TCGA-VD-A8KD</th>\n      <th>TCGA-VD-A8KE</th>\n      <th>TCGA-VD-A8KF</th>\n      <th>TCGA-VD-A8KH</th>\n      <th>TCGA-VD-A8KL</th>\n      <th>TCGA-VD-A8KN</th>\n      <th>TCGA-VD-AA8O</th>\n      <th>TCGA-VD-AA8P</th>\n    </tr>\n  </thead>\n  <tbody>\n    <tr>\n      <th>0</th>\n      <td>APC</td>\n      <td>CNA</td>\n      <td>homdel_rec</td>\n      <td>Amplification</td>\n      <td>NaN</td>\n      <td>NaN</td>\n      <td>NaN</td>\n      <td>NaN</td>\n      <td>NaN</td>\n      <td>NaN</td>\n      <td>NaN</td>\n      <td>NaN</td>\n      <td>NaN</td>\n      <td>NaN</td>\n      <td>NaN</td>\n      <td>NaN</td>\n      <td>NaN</td>\n      <td>NaN</td>\n      <td>NaN</td>\n      <td>NaN</td>\n      <td>NaN</td>\n      <td>NaN</td>\n      <td>NaN</td>\n      <td>NaN</td>\n      <td>NaN</td>\n      <td>NaN</td>\n      <td>NaN</td>\n      <td>NaN</td>\n      <td>NaN</td>\n      <td>NaN</td>\n      <td>NaN</td>\n      <td>NaN</td>\n      <td>NaN</td>\n      <td>NaN</td>\n      <td>NaN</td>\n      <td>NaN</td>\n      <td>NaN</td>\n      <td>NaN</td>\n      <td>NaN</td>\n      <td>NaN</td>\n      <td>...</td>\n      <td>NaN</td>\n      <td>NaN</td>\n      <td>NaN</td>\n      <td>NaN</td>\n      <td>NaN</td>\n      <td>NaN</td>\n      <td>NaN</td>\n      <td>NaN</td>\n      <td>NaN</td>\n      <td>NaN</td>\n      <td>NaN</td>\n      <td>NaN</td>\n      <td>NaN</td>\n      <td>NaN</td>\n      <td>NaN</td>\n      <td>NaN</td>\n      <td>NaN</td>\n      <td>NaN</td>\n      <td>NaN</td>\n      <td>NaN</td>\n      <td>NaN</td>\n      <td>NaN</td>\n      <td>NaN</td>\n      <td>NaN</td>\n      <td>NaN</td>\n      <td>NaN</td>\n      <td>NaN</td>\n      <td>NaN</td>\n      <td>NaN</td>\n      <td>NaN</td>\n      <td>NaN</td>\n      <td>NaN</td>\n      <td>NaN</td>\n      <td>NaN</td>\n      <td>NaN</td>\n      <td>NaN</td>\n      <td>NaN</td>\n      <td>NaN</td>\n      <td>NaN</td>\n      <td>NaN</td>\n    </tr>\n    <tr>\n      <th>1</th>\n      <td>ARHGEF12</td>\n      <td>CNA</td>\n      <td>NaN</td>\n      <td>NaN</td>\n      <td>NaN</td>\n      <td>NaN</td>\n      <td>NaN</td>\n      <td>NaN</td>\n      <td>NaN</td>\n      <td>NaN</td>\n      <td>NaN</td>\n      <td>NaN</td>\n      <td>NaN</td>\n      <td>NaN</td>\n      <td>NaN</td>\n      <td>NaN</td>\n      <td>NaN</td>\n      <td>NaN</td>\n      <td>NaN</td>\n      <td>NaN</td>\n      <td>NaN</td>\n      <td>NaN</td>\n      <td>NaN</td>\n      <td>NaN</td>\n      <td>Amplification</td>\n      <td>Amplification</td>\n      <td>Deep Deletion</td>\n      <td>NaN</td>\n      <td>NaN</td>\n      <td>NaN</td>\n      <td>NaN</td>\n      <td>NaN</td>\n      <td>NaN</td>\n      <td>NaN</td>\n      <td>NaN</td>\n      <td>NaN</td>\n      <td>NaN</td>\n      <td>NaN</td>\n      <td>NaN</td>\n      <td>NaN</td>\n      <td>...</td>\n      <td>NaN</td>\n      <td>NaN</td>\n      <td>NaN</td>\n      <td>NaN</td>\n      <td>NaN</td>\n      <td>NaN</td>\n      <td>NaN</td>\n      <td>NaN</td>\n      <td>NaN</td>\n      <td>NaN</td>\n      <td>NaN</td>\n      <td>NaN</td>\n      <td>NaN</td>\n      <td>NaN</td>\n      <td>NaN</td>\n      <td>NaN</td>\n      <td>NaN</td>\n      <td>NaN</td>\n      <td>NaN</td>\n      <td>NaN</td>\n      <td>NaN</td>\n      <td>NaN</td>\n      <td>NaN</td>\n      <td>NaN</td>\n      <td>NaN</td>\n      <td>NaN</td>\n      <td>NaN</td>\n      <td>NaN</td>\n      <td>NaN</td>\n      <td>NaN</td>\n      <td>NaN</td>\n      <td>NaN</td>\n      <td>NaN</td>\n      <td>NaN</td>\n      <td>NaN</td>\n      <td>NaN</td>\n      <td>NaN</td>\n      <td>NaN</td>\n      <td>NaN</td>\n      <td>NaN</td>\n    </tr>\n    <tr>\n      <th>2</th>\n      <td>ATM</td>\n      <td>CNA</td>\n      <td>NaN</td>\n      <td>NaN</td>\n      <td>NaN</td>\n      <td>NaN</td>\n      <td>NaN</td>\n      <td>NaN</td>\n      <td>NaN</td>\n      <td>NaN</td>\n      <td>NaN</td>\n      <td>NaN</td>\n      <td>NaN</td>\n      <td>NaN</td>\n      <td>NaN</td>\n      <td>NaN</td>\n      <td>NaN</td>\n      <td>NaN</td>\n      <td>NaN</td>\n      <td>NaN</td>\n      <td>NaN</td>\n      <td>NaN</td>\n      <td>NaN</td>\n      <td>NaN</td>\n      <td>Amplification</td>\n      <td>NaN</td>\n      <td>NaN</td>\n      <td>NaN</td>\n      <td>NaN</td>\n      <td>NaN</td>\n      <td>NaN</td>\n      <td>NaN</td>\n      <td>homdel_rec</td>\n      <td>homdel_rec</td>\n      <td>homdel_rec</td>\n      <td>Amplification</td>\n      <td>Amplification</td>\n      <td>Amplification</td>\n      <td>Amplification</td>\n      <td>NaN</td>\n      <td>...</td>\n      <td>NaN</td>\n      <td>NaN</td>\n      <td>NaN</td>\n      <td>NaN</td>\n      <td>NaN</td>\n      <td>NaN</td>\n      <td>NaN</td>\n      <td>NaN</td>\n      <td>NaN</td>\n      <td>NaN</td>\n      <td>NaN</td>\n      <td>NaN</td>\n      <td>NaN</td>\n      <td>NaN</td>\n      <td>NaN</td>\n      <td>NaN</td>\n      <td>NaN</td>\n      <td>NaN</td>\n      <td>NaN</td>\n      <td>NaN</td>\n      <td>NaN</td>\n      <td>NaN</td>\n      <td>NaN</td>\n      <td>NaN</td>\n      <td>NaN</td>\n      <td>NaN</td>\n      <td>NaN</td>\n      <td>NaN</td>\n      <td>NaN</td>\n      <td>NaN</td>\n      <td>NaN</td>\n      <td>NaN</td>\n      <td>NaN</td>\n      <td>NaN</td>\n      <td>NaN</td>\n      <td>NaN</td>\n      <td>NaN</td>\n      <td>NaN</td>\n      <td>NaN</td>\n      <td>NaN</td>\n    </tr>\n    <tr>\n      <th>3</th>\n      <td>BCL11B</td>\n      <td>CNA</td>\n      <td>NaN</td>\n      <td>NaN</td>\n      <td>NaN</td>\n      <td>NaN</td>\n      <td>NaN</td>\n      <td>NaN</td>\n      <td>NaN</td>\n      <td>NaN</td>\n      <td>NaN</td>\n      <td>NaN</td>\n      <td>NaN</td>\n      <td>NaN</td>\n      <td>NaN</td>\n      <td>NaN</td>\n      <td>NaN</td>\n      <td>NaN</td>\n      <td>NaN</td>\n      <td>NaN</td>\n      <td>NaN</td>\n      <td>NaN</td>\n      <td>NaN</td>\n      <td>NaN</td>\n      <td>NaN</td>\n      <td>NaN</td>\n      <td>NaN</td>\n      <td>NaN</td>\n      <td>NaN</td>\n      <td>NaN</td>\n      <td>NaN</td>\n      <td>NaN</td>\n      <td>homdel_rec</td>\n      <td>NaN</td>\n      <td>NaN</td>\n      <td>NaN</td>\n      <td>NaN</td>\n      <td>NaN</td>\n      <td>NaN</td>\n      <td>NaN</td>\n      <td>...</td>\n      <td>NaN</td>\n      <td>NaN</td>\n      <td>NaN</td>\n      <td>NaN</td>\n      <td>NaN</td>\n      <td>NaN</td>\n      <td>NaN</td>\n      <td>NaN</td>\n      <td>NaN</td>\n      <td>NaN</td>\n      <td>NaN</td>\n      <td>NaN</td>\n      <td>NaN</td>\n      <td>NaN</td>\n      <td>NaN</td>\n      <td>NaN</td>\n      <td>NaN</td>\n      <td>NaN</td>\n      <td>NaN</td>\n      <td>NaN</td>\n      <td>NaN</td>\n      <td>NaN</td>\n      <td>NaN</td>\n      <td>NaN</td>\n      <td>NaN</td>\n      <td>NaN</td>\n      <td>NaN</td>\n      <td>NaN</td>\n      <td>NaN</td>\n      <td>NaN</td>\n      <td>NaN</td>\n      <td>NaN</td>\n      <td>NaN</td>\n      <td>NaN</td>\n      <td>NaN</td>\n      <td>NaN</td>\n      <td>NaN</td>\n      <td>NaN</td>\n      <td>NaN</td>\n      <td>NaN</td>\n    </tr>\n    <tr>\n      <th>4</th>\n      <td>BLM</td>\n      <td>CNA</td>\n      <td>NaN</td>\n      <td>NaN</td>\n      <td>NaN</td>\n      <td>NaN</td>\n      <td>NaN</td>\n      <td>NaN</td>\n      <td>NaN</td>\n      <td>NaN</td>\n      <td>NaN</td>\n      <td>NaN</td>\n      <td>NaN</td>\n      <td>NaN</td>\n      <td>NaN</td>\n      <td>NaN</td>\n      <td>NaN</td>\n      <td>NaN</td>\n      <td>NaN</td>\n      <td>NaN</td>\n      <td>NaN</td>\n      <td>NaN</td>\n      <td>NaN</td>\n      <td>NaN</td>\n      <td>NaN</td>\n      <td>NaN</td>\n      <td>NaN</td>\n      <td>NaN</td>\n      <td>NaN</td>\n      <td>NaN</td>\n      <td>NaN</td>\n      <td>NaN</td>\n      <td>NaN</td>\n      <td>NaN</td>\n      <td>NaN</td>\n      <td>Amplification</td>\n      <td>NaN</td>\n      <td>NaN</td>\n      <td>NaN</td>\n      <td>NaN</td>\n      <td>...</td>\n      <td>NaN</td>\n      <td>NaN</td>\n      <td>NaN</td>\n      <td>NaN</td>\n      <td>NaN</td>\n      <td>NaN</td>\n      <td>NaN</td>\n      <td>NaN</td>\n      <td>NaN</td>\n      <td>NaN</td>\n      <td>NaN</td>\n      <td>NaN</td>\n      <td>NaN</td>\n      <td>NaN</td>\n      <td>NaN</td>\n      <td>NaN</td>\n      <td>NaN</td>\n      <td>NaN</td>\n      <td>NaN</td>\n      <td>NaN</td>\n      <td>NaN</td>\n      <td>NaN</td>\n      <td>NaN</td>\n      <td>NaN</td>\n      <td>NaN</td>\n      <td>NaN</td>\n      <td>NaN</td>\n      <td>NaN</td>\n      <td>NaN</td>\n      <td>NaN</td>\n      <td>NaN</td>\n      <td>NaN</td>\n      <td>NaN</td>\n      <td>NaN</td>\n      <td>NaN</td>\n      <td>NaN</td>\n      <td>NaN</td>\n      <td>NaN</td>\n      <td>NaN</td>\n      <td>NaN</td>\n    </tr>\n  </tbody>\n</table>\n<p>5 rows × 1902 columns</p>\n</div>"
     },
     "metadata": {},
     "execution_count": 22
    }
   ],
   "source": [
    "print(df.shape)\n",
    "df.head()"
   ]
  },
  {
   "cell_type": "code",
   "execution_count": 391,
   "metadata": {},
   "outputs": [
    {
     "output_type": "stream",
     "name": "stdout",
     "text": [
      "335 ecDNA+ samples; 1565 ecDNA- samples\n"
     ]
    }
   ],
   "source": [
    "## Convert the oncoprint matrix into a numerical matrix\n",
    "genes = df['track_name'].unique()\n",
    "n_gene = len(genes)\n",
    "n_neg = df.shape[1] - 2 - n_pos\n",
    "print(\"{} ecDNA+ samples; {} ecDNA- samples\".format(n_pos, n_neg))\n",
    "L1 = np.zeros(shape=(len(genes), df.shape[1]-2))"
   ]
  },
  {
   "cell_type": "code",
   "execution_count": 392,
   "metadata": {},
   "outputs": [],
   "source": [
    "G1 = np.zeros(shape=(len(genes), df.shape[1]-2))"
   ]
  },
  {
   "cell_type": "code",
   "execution_count": 25,
   "metadata": {},
   "outputs": [
    {
     "output_type": "execute_result",
     "data": {
      "text/plain": [
       "{'CNA': {'Amplification', 'Deep Deletion', 'amp_rec', 'homdel_rec'},\n",
       " 'MUTATIONS': {'Inframe Mutation (putative driver)',\n",
       "  'Inframe Mutation (putative passenger)',\n",
       "  'Missense Mutation (putative driver)',\n",
       "  'Missense Mutation (putative passenger)',\n",
       "  'Truncating mutation (putative driver)',\n",
       "  'Truncating mutation (putative passenger)',\n",
       "  'splice',\n",
       "  'splice_rec'},\n",
       " 'MRNA': set(),\n",
       " 'PROTEIN': set(),\n",
       " 'FUSION': {'Fusion'}}"
      ]
     },
     "metadata": {},
     "execution_count": 25
    }
   ],
   "source": [
    "## All possible mutations\n",
    "entry"
   ]
  },
  {
   "cell_type": "code",
   "execution_count": 50,
   "metadata": {},
   "outputs": [],
   "source": [
    "## List of LoF mutations\n",
    "loss = ['Truncating mutation (putative driver)', 'Truncating mutation (putative passenger)', \\\n",
    "        'Missense Mutation (putative driver)', 'Inframe Mutation (putative driver)', \\\n",
    "        'Deep Deletion', 'homdel_rec']"
   ]
  },
  {
   "cell_type": "code",
   "execution_count": 41,
   "metadata": {},
   "outputs": [],
   "source": [
    "## List of GoF mutations\n",
    "gain = ['Amplification', 'amp_rec']"
   ]
  },
  {
   "cell_type": "code",
   "execution_count": 42,
   "metadata": {},
   "outputs": [],
   "source": [
    "## List of Ambiguous cases\n",
    "ambiguous = ['splice', 'splice_rec', 'Missense Mutation (putative passenger)', 'Inframe Mutation (putative passenger']"
   ]
  },
  {
   "cell_type": "code",
   "execution_count": 36,
   "metadata": {},
   "outputs": [
    {
     "output_type": "execute_result",
     "data": {
      "text/plain": [
       "   track_name track_type TCGA-D3-A2JC  ... TCGA-VD-A8KN TCGA-VD-AA8O TCGA-VD-AA8P\n",
       "0         APC        CNA   homdel_rec  ...          NaN          NaN          NaN\n",
       "63        APC  MUTATIONS          NaN  ...          NaN          NaN          NaN\n",
       "\n",
       "[2 rows x 1902 columns]"
      ],
      "text/html": "<div>\n<style scoped>\n    .dataframe tbody tr th:only-of-type {\n        vertical-align: middle;\n    }\n\n    .dataframe tbody tr th {\n        vertical-align: top;\n    }\n\n    .dataframe thead th {\n        text-align: right;\n    }\n</style>\n<table border=\"1\" class=\"dataframe\">\n  <thead>\n    <tr style=\"text-align: right;\">\n      <th></th>\n      <th>track_name</th>\n      <th>track_type</th>\n      <th>TCGA-D3-A2JC</th>\n      <th>TCGA-DX-A23R</th>\n      <th>TCGA-05-4402</th>\n      <th>TCGA-D7-6528</th>\n      <th>TCGA-A6-2677</th>\n      <th>TCGA-CV-6948</th>\n      <th>TCGA-A6-5656</th>\n      <th>TCGA-BR-4267</th>\n      <th>TCGA-A6-3810</th>\n      <th>TCGA-CG-4476</th>\n      <th>TCGA-D3-A2J6</th>\n      <th>TCGA-05-4397</th>\n      <th>TCGA-FF-8042</th>\n      <th>TCGA-EE-A3JI</th>\n      <th>TCGA-DK-A1AC</th>\n      <th>TCGA-IR-A3LK</th>\n      <th>TCGA-IG-A97I</th>\n      <th>TCGA-91-6840</th>\n      <th>TCGA-CG-4469</th>\n      <th>TCGA-DU-7010</th>\n      <th>TCGA-43-3394</th>\n      <th>TCGA-BR-4369</th>\n      <th>TCGA-06-0128</th>\n      <th>TCGA-FI-A2CY</th>\n      <th>TCGA-E2-A1LL</th>\n      <th>TCGA-IG-A3YB</th>\n      <th>TCGA-L5-A4OJ</th>\n      <th>TCGA-BW-A5NO</th>\n      <th>TCGA-05-5715</th>\n      <th>TCGA-BC-A217</th>\n      <th>TCGA-GV-A3JZ</th>\n      <th>TCGA-C8-A130</th>\n      <th>TCGA-BR-4357</th>\n      <th>TCGA-CG-4449</th>\n      <th>TCGA-05-4422</th>\n      <th>TCGA-IK-7675</th>\n      <th>TCGA-CN-4729</th>\n      <th>TCGA-49-4510</th>\n      <th>...</th>\n      <th>TCGA-MR-A520</th>\n      <th>TCGA-RZ-AB0B</th>\n      <th>TCGA-V3-A9ZX</th>\n      <th>TCGA-V3-A9ZY</th>\n      <th>TCGA-V4-A9E5</th>\n      <th>TCGA-V4-A9E7</th>\n      <th>TCGA-V4-A9E8</th>\n      <th>TCGA-V4-A9EC</th>\n      <th>TCGA-V4-A9ED</th>\n      <th>TCGA-V4-A9EE</th>\n      <th>TCGA-V4-A9EF</th>\n      <th>TCGA-V4-A9EH</th>\n      <th>TCGA-V4-A9EJ</th>\n      <th>TCGA-V4-A9EK</th>\n      <th>TCGA-V4-A9EL</th>\n      <th>TCGA-V4-A9EM</th>\n      <th>TCGA-V4-A9EO</th>\n      <th>TCGA-V4-A9ES</th>\n      <th>TCGA-V4-A9EU</th>\n      <th>TCGA-V4-A9EV</th>\n      <th>TCGA-V4-A9EX</th>\n      <th>TCGA-V4-A9EZ</th>\n      <th>TCGA-V4-A9F0</th>\n      <th>TCGA-V4-A9F1</th>\n      <th>TCGA-V4-A9F2</th>\n      <th>TCGA-V4-A9F3</th>\n      <th>TCGA-V4-A9F5</th>\n      <th>TCGA-V4-A9F7</th>\n      <th>TCGA-V4-A9F8</th>\n      <th>TCGA-VD-A8K7</th>\n      <th>TCGA-VD-A8K8</th>\n      <th>TCGA-VD-A8KA</th>\n      <th>TCGA-VD-A8KD</th>\n      <th>TCGA-VD-A8KE</th>\n      <th>TCGA-VD-A8KF</th>\n      <th>TCGA-VD-A8KH</th>\n      <th>TCGA-VD-A8KL</th>\n      <th>TCGA-VD-A8KN</th>\n      <th>TCGA-VD-AA8O</th>\n      <th>TCGA-VD-AA8P</th>\n    </tr>\n  </thead>\n  <tbody>\n    <tr>\n      <th>0</th>\n      <td>APC</td>\n      <td>CNA</td>\n      <td>homdel_rec</td>\n      <td>Amplification</td>\n      <td>NaN</td>\n      <td>NaN</td>\n      <td>NaN</td>\n      <td>NaN</td>\n      <td>NaN</td>\n      <td>NaN</td>\n      <td>NaN</td>\n      <td>NaN</td>\n      <td>NaN</td>\n      <td>NaN</td>\n      <td>NaN</td>\n      <td>NaN</td>\n      <td>NaN</td>\n      <td>NaN</td>\n      <td>NaN</td>\n      <td>NaN</td>\n      <td>NaN</td>\n      <td>NaN</td>\n      <td>NaN</td>\n      <td>NaN</td>\n      <td>NaN</td>\n      <td>NaN</td>\n      <td>NaN</td>\n      <td>NaN</td>\n      <td>NaN</td>\n      <td>NaN</td>\n      <td>NaN</td>\n      <td>NaN</td>\n      <td>NaN</td>\n      <td>NaN</td>\n      <td>NaN</td>\n      <td>NaN</td>\n      <td>NaN</td>\n      <td>NaN</td>\n      <td>NaN</td>\n      <td>NaN</td>\n      <td>...</td>\n      <td>NaN</td>\n      <td>NaN</td>\n      <td>NaN</td>\n      <td>NaN</td>\n      <td>NaN</td>\n      <td>NaN</td>\n      <td>NaN</td>\n      <td>NaN</td>\n      <td>NaN</td>\n      <td>NaN</td>\n      <td>NaN</td>\n      <td>NaN</td>\n      <td>NaN</td>\n      <td>NaN</td>\n      <td>NaN</td>\n      <td>NaN</td>\n      <td>NaN</td>\n      <td>NaN</td>\n      <td>NaN</td>\n      <td>NaN</td>\n      <td>NaN</td>\n      <td>NaN</td>\n      <td>NaN</td>\n      <td>NaN</td>\n      <td>NaN</td>\n      <td>NaN</td>\n      <td>NaN</td>\n      <td>NaN</td>\n      <td>NaN</td>\n      <td>NaN</td>\n      <td>NaN</td>\n      <td>NaN</td>\n      <td>NaN</td>\n      <td>NaN</td>\n      <td>NaN</td>\n      <td>NaN</td>\n      <td>NaN</td>\n      <td>NaN</td>\n      <td>NaN</td>\n      <td>NaN</td>\n    </tr>\n    <tr>\n      <th>63</th>\n      <td>APC</td>\n      <td>MUTATIONS</td>\n      <td>NaN</td>\n      <td>NaN</td>\n      <td>Truncating mutation (putative driver)</td>\n      <td>Truncating mutation (putative driver)</td>\n      <td>Truncating mutation (putative driver)</td>\n      <td>Truncating mutation (putative driver)</td>\n      <td>Truncating mutation (putative driver)</td>\n      <td>Truncating mutation (putative driver)</td>\n      <td>Truncating mutation (putative driver)</td>\n      <td>Truncating mutation (putative driver)</td>\n      <td>Missense Mutation (putative passenger)</td>\n      <td>Missense Mutation (putative passenger)</td>\n      <td>Missense Mutation (putative passenger)</td>\n      <td>Missense Mutation (putative passenger)</td>\n      <td>Missense Mutation (putative passenger)</td>\n      <td>Missense Mutation (putative passenger)</td>\n      <td>Missense Mutation (putative passenger)</td>\n      <td>Missense Mutation (putative passenger)</td>\n      <td>Missense Mutation (putative passenger)</td>\n      <td>Missense Mutation (putative passenger)</td>\n      <td>Missense Mutation (putative passenger)</td>\n      <td>Missense Mutation (putative passenger)</td>\n      <td>NaN</td>\n      <td>NaN</td>\n      <td>NaN</td>\n      <td>NaN</td>\n      <td>NaN</td>\n      <td>NaN</td>\n      <td>NaN</td>\n      <td>NaN</td>\n      <td>NaN</td>\n      <td>NaN</td>\n      <td>NaN</td>\n      <td>NaN</td>\n      <td>NaN</td>\n      <td>NaN</td>\n      <td>NaN</td>\n      <td>NaN</td>\n      <td>...</td>\n      <td>NaN</td>\n      <td>NaN</td>\n      <td>NaN</td>\n      <td>NaN</td>\n      <td>NaN</td>\n      <td>NaN</td>\n      <td>NaN</td>\n      <td>NaN</td>\n      <td>NaN</td>\n      <td>NaN</td>\n      <td>NaN</td>\n      <td>NaN</td>\n      <td>NaN</td>\n      <td>NaN</td>\n      <td>NaN</td>\n      <td>NaN</td>\n      <td>NaN</td>\n      <td>NaN</td>\n      <td>NaN</td>\n      <td>NaN</td>\n      <td>NaN</td>\n      <td>NaN</td>\n      <td>NaN</td>\n      <td>NaN</td>\n      <td>NaN</td>\n      <td>NaN</td>\n      <td>NaN</td>\n      <td>NaN</td>\n      <td>NaN</td>\n      <td>NaN</td>\n      <td>NaN</td>\n      <td>NaN</td>\n      <td>NaN</td>\n      <td>NaN</td>\n      <td>NaN</td>\n      <td>NaN</td>\n      <td>NaN</td>\n      <td>NaN</td>\n      <td>NaN</td>\n      <td>NaN</td>\n    </tr>\n  </tbody>\n</table>\n<p>2 rows × 1902 columns</p>\n</div>"
     },
     "metadata": {},
     "execution_count": 36
    }
   ],
   "source": [
    "## Iterate over each genes\n",
    "gene = 'APC'\n",
    "df_sel = df[(df['track_name'] == gene) & (df['track_type'] != 'FUSION')]\n",
    "df_sel.head()\n",
    "# for col in df_sel.columns[2:]:\n"
   ]
  },
  {
   "cell_type": "code",
   "execution_count": 393,
   "metadata": {},
   "outputs": [],
   "source": [
    "## Iterate over each genes & ignore FUSION at this moment\n",
    "for i in range(n_gene):\n",
    "    df_sel = df[(df['track_name'] == genes[i]) & (df['track_type'] != 'FUSION')]\n",
    "    for j in range(2, df.shape[1]):\n",
    "        ## Either way to count LoF\n",
    "        # L1[i,j-2] = sum(df_sel[df_sel.columns[j]].isin(loss))      # method 1\n",
    "        L1[i,j-2] = df_sel[df_sel.columns[j]].isin(loss).any()   # method 2\n",
    "        G1[i,j-2] = df_sel[df_sel.columns[j]].isin(gain).any()\n"
   ]
  },
  {
   "cell_type": "code",
   "execution_count": 394,
   "metadata": {},
   "outputs": [
    {
     "output_type": "execute_result",
     "data": {
      "text/plain": [
       "(63, 63)"
      ]
     },
     "metadata": {},
     "execution_count": 394
    }
   ],
   "source": [
    "gain_pos = np.sum(G1[:,:n_pos], axis=1)\n",
    "gain_neg = np.sum(G1[:,n_pos:], axis=1)\n",
    "len(gain_pos), len(gain_neg)"
   ]
  },
  {
   "cell_type": "code",
   "execution_count": 399,
   "metadata": {},
   "outputs": [
    {
     "output_type": "stream",
     "name": "stdout",
     "text": [
      "57\n"
     ]
    }
   ],
   "source": [
    "for i in range(n_gene):\n",
    "    if gain_pos[i] == 0 and gain_neg[i] == 0: print(i)"
   ]
  },
  {
   "cell_type": "code",
   "execution_count": 397,
   "metadata": {},
   "outputs": [],
   "source": [
    "genes = np.delete(genes, 57)\n",
    "n_gene = len(genes)"
   ]
  },
  {
   "cell_type": "code",
   "execution_count": 400,
   "metadata": {},
   "outputs": [
    {
     "output_type": "execute_result",
     "data": {
      "text/plain": [
       "(62, 62)"
      ]
     },
     "metadata": {},
     "execution_count": 400
    }
   ],
   "source": [
    "gain_pos = np.delete(gain_pos, 57)\n",
    "gain_neg = np.delete(gain_neg, 57)\n",
    "len(gain_pos), len(gain_neg)"
   ]
  },
  {
   "cell_type": "code",
   "execution_count": 401,
   "metadata": {},
   "outputs": [],
   "source": [
    "fisher_gain, chi2_gain = np.zeros(n_gene), np.zeros(n_gene)\n",
    "alpha = 0.05\n",
    "for i in range(n_gene):\n",
    "    # depends on how we computed the frequencies of mutations\n",
    "    # e.g. method 2\n",
    "    contigency_table = np.array([[gain_pos[i], gain_neg[i]], [n_pos - gain_pos[i], n_neg - gain_pos[i]]])\n",
    "    # one-sided if our hypothesis is that LoF mutations is MORE frequent in ecDNA+ samples \n",
    "    # since we only have tumor supressor genes\n",
    "    # _, fisher[i] = stats.fisher_exact(contigency_table, alternative=\"greater\")\n",
    "    # or two-sided tests and use the volcano plots to determine the direction\n",
    "    _, fisher_gain[i] = stats.fisher_exact(contigency_table, alternative=\"two-sided\")\n",
    "    _, chi2_gain[i], _, _ = stats.chi2_contingency(contigency_table)"
   ]
  },
  {
   "cell_type": "code",
   "execution_count": 402,
   "metadata": {},
   "outputs": [],
   "source": [
    "rej_fisher_gain, fisher_gain, _, _ = smm.multipletests(fisher_gain, alpha=alpha, method='fdr_bh')\n",
    "rej_chi2_gain, chi2_gain, _, _ = smm.multipletests(chi2_gain, alpha=alpha, method='fdr_bh')\n",
    "fisher_gain = -np.log10(fisher_gain)\n",
    "chi2_gain = -np.log10(chi2_gain)"
   ]
  },
  {
   "cell_type": "code",
   "execution_count": 403,
   "metadata": {},
   "outputs": [],
   "source": [
    "## Compute the magnitude = log(#LoF / #not LoF)\n",
    "magnitude_gain = np.zeros(n_gene)\n",
    "for i in range(n_gene):\n",
    "    magnitude_gain[i] = np.log2(sum(G1[i,:]) / (n_pos + n_neg - sum(G1[i,:])))"
   ]
  },
  {
   "cell_type": "code",
   "execution_count": 407,
   "metadata": {},
   "outputs": [],
   "source": [
    "fisher_gain_onetail = np.zeros(n_gene)\n",
    "alpha = 0.05\n",
    "for i in range(n_gene):\n",
    "    # depends on how we computed the frequencies of mutations\n",
    "    # e.g. method 2\n",
    "    contigency_table = np.array([[gain_pos[i], gain_neg[i]], [n_pos - gain_pos[i], n_neg - gain_pos[i]]])\n",
    "    # one-sided if our hypothesis is that LoF mutations is MORE frequent in ecDNA+ samples \n",
    "    # since we only have tumor supressor genes\n",
    "    # _, fisher[i] = stats.fisher_exact(contigency_table, alternative=\"greater\")\n",
    "    # or two-sided tests and use the volcano plots to determine the direction\n",
    "    _, fisher_gain_onetail[i] = stats.fisher_exact(contigency_table, alternative=\"greater\")\n",
    "    # _, chi2_gain[i], _, _ = stats.chi2_contingency(contigency_table)"
   ]
  },
  {
   "cell_type": "code",
   "execution_count": 408,
   "metadata": {},
   "outputs": [],
   "source": [
    "rej_fisher_gain_onetail, fisher_gain_onetail, _, _ = smm.multipletests(fisher_gain_onetail, alpha=alpha, method='fdr_bh')\n",
    "fisher_gain_onetail = -np.log10(fisher_gain_onetail)"
   ]
  },
  {
   "cell_type": "code",
   "execution_count": 412,
   "metadata": {},
   "outputs": [
    {
     "output_type": "execute_result",
     "data": {
      "text/plain": [
       "(array(['CEBPA', 'EXT1', 'SMARCA4', 'TNFAIP3'], dtype=object),\n",
       " array(['ATM', 'CDK6', 'CEBPA', 'EXT1', 'JAK2', 'MDM4', 'NOTCH1',\n",
       "        'SMARCA4', 'TNFAIP3'], dtype=object),\n",
       " array(['ATM', 'CDK6', 'CEBPA', 'EXT1', 'IDH1', 'JAK2', 'MDM4', 'NOTCH1',\n",
       "        'SMARCA4', 'TNFAIP3', 'WT1'], dtype=object))"
      ]
     },
     "metadata": {},
     "execution_count": 412
    }
   ],
   "source": [
    "genes[rej_fisher_gain], genes[rej_fisher_gain_onetail], genes[rej_chi2_gain]"
   ]
  },
  {
   "cell_type": "code",
   "execution_count": 414,
   "metadata": {},
   "outputs": [
    {
     "output_type": "display_data",
     "data": {
      "text/plain": "<Figure size 864x576 with 1 Axes>",
      "image/svg+xml": "<?xml version=\"1.0\" encoding=\"utf-8\" standalone=\"no\"?>\n<!DOCTYPE svg PUBLIC \"-//W3C//DTD SVG 1.1//EN\"\n  \"http://www.w3.org/Graphics/SVG/1.1/DTD/svg11.dtd\">\n<!-- Created with matplotlib (https://matplotlib.org/) -->\n<svg height=\"494.77625pt\" version=\"1.1\" viewBox=\"0 0 720.603125 494.77625\" width=\"720.603125pt\" xmlns=\"http://www.w3.org/2000/svg\" xmlns:xlink=\"http://www.w3.org/1999/xlink\">\n <metadata>\n  <rdf:RDF xmlns:cc=\"http://creativecommons.org/ns#\" xmlns:dc=\"http://purl.org/dc/elements/1.1/\" xmlns:rdf=\"http://www.w3.org/1999/02/22-rdf-syntax-ns#\">\n   <cc:Work>\n    <dc:type rdf:resource=\"http://purl.org/dc/dcmitype/StillImage\"/>\n    <dc:date>2021-03-06T17:52:55.176113</dc:date>\n    <dc:format>image/svg+xml</dc:format>\n    <dc:creator>\n     <cc:Agent>\n      <dc:title>Matplotlib v3.3.2, https://matplotlib.org/</dc:title>\n     </cc:Agent>\n    </dc:creator>\n   </cc:Work>\n  </rdf:RDF>\n </metadata>\n <defs>\n  <style type=\"text/css\">*{stroke-linecap:butt;stroke-linejoin:round;}</style>\n </defs>\n <g id=\"figure_1\">\n  <g id=\"patch_1\">\n   <path d=\"M 0 494.77625 \nL 720.603125 494.77625 \nL 720.603125 0 \nL 0 0 \nz\n\" style=\"fill:none;\"/>\n  </g>\n  <g id=\"axes_1\">\n   <g id=\"patch_2\">\n    <path d=\"M 43.803125 457.198125 \nL 713.403125 457.198125 \nL 713.403125 22.318125 \nL 43.803125 22.318125 \nz\n\" style=\"fill:#ffffff;\"/>\n   </g>\n   <g id=\"PathCollection_1\">\n    <defs>\n     <path d=\"M 0 3 \nC 0.795609 3 1.55874 2.683901 2.12132 2.12132 \nC 2.683901 1.55874 3 0.795609 3 0 \nC 3 -0.795609 2.683901 -1.55874 2.12132 -2.12132 \nC 1.55874 -2.683901 0.795609 -3 0 -3 \nC -0.795609 -3 -1.55874 -2.683901 -2.12132 -2.12132 \nC -2.683901 -1.55874 -3 -0.795609 -3 0 \nC -3 0.795609 -2.683901 1.55874 -2.12132 2.12132 \nC -1.55874 2.683901 -0.795609 3 0 3 \nz\n\" id=\"mae1ba4bf27\" style=\"stroke:#808080;\"/>\n    </defs>\n    <g clip-path=\"url(#p15aeb30fd1)\">\n     <use style=\"fill:#808080;stroke:#808080;\" x=\"181.260628\" xlink:href=\"#mae1ba4bf27\" y=\"392.378952\"/>\n     <use style=\"fill:#808080;stroke:#808080;\" x=\"248.434202\" xlink:href=\"#mae1ba4bf27\" y=\"385.067138\"/>\n     <use style=\"fill:#808080;stroke:#808080;\" x=\"282.946891\" xlink:href=\"#mae1ba4bf27\" y=\"259.436361\"/>\n     <use style=\"fill:#808080;stroke:#808080;\" x=\"261.81585\" xlink:href=\"#mae1ba4bf27\" y=\"437.430852\"/>\n     <use style=\"fill:#808080;stroke:#808080;\" x=\"357.523421\" xlink:href=\"#mae1ba4bf27\" y=\"339.240336\"/>\n     <use style=\"fill:#808080;stroke:#808080;\" x=\"261.81585\" xlink:href=\"#mae1ba4bf27\" y=\"388.855378\"/>\n     <use style=\"fill:#808080;stroke:#808080;\" x=\"273.135861\" xlink:href=\"#mae1ba4bf27\" y=\"286.974987\"/>\n     <use style=\"fill:#808080;stroke:#808080;\" x=\"324.134257\" xlink:href=\"#mae1ba4bf27\" y=\"388.855378\"/>\n     <use style=\"fill:#808080;stroke:#808080;\" x=\"210.972749\" xlink:href=\"#mae1ba4bf27\" y=\"401.312025\"/>\n     <use style=\"fill:#808080;stroke:#808080;\" x=\"291.605414\" xlink:href=\"#mae1ba4bf27\" y=\"326.661675\"/>\n     <use style=\"fill:#808080;stroke:#808080;\" x=\"318.671947\" xlink:href=\"#mae1ba4bf27\" y=\"437.430852\"/>\n     <use style=\"fill:#808080;stroke:#808080;\" x=\"306.368738\" xlink:href=\"#mae1ba4bf27\" y=\"426.075895\"/>\n     <use style=\"fill:#808080;stroke:#808080;\" x=\"407.39119\" xlink:href=\"#mae1ba4bf27\" y=\"259.436361\"/>\n     <use style=\"fill:#808080;stroke:#808080;\" x=\"299.354827\" xlink:href=\"#mae1ba4bf27\" y=\"437.430852\"/>\n     <use style=\"fill:#808080;stroke:#808080;\" x=\"396.156862\" xlink:href=\"#mae1ba4bf27\" y=\"180.731512\"/>\n     <use style=\"fill:#808080;stroke:#808080;\" x=\"299.354827\" xlink:href=\"#mae1ba4bf27\" y=\"284.980884\"/>\n     <use style=\"fill:#808080;stroke:#808080;\" x=\"232.065058\" xlink:href=\"#mae1ba4bf27\" y=\"365.042925\"/>\n     <use style=\"fill:#808080;stroke:#808080;\" x=\"306.368738\" xlink:href=\"#mae1ba4bf27\" y=\"350.859932\"/>\n     <use style=\"fill:#808080;stroke:#808080;\" x=\"273.135861\" xlink:href=\"#mae1ba4bf27\" y=\"437.430852\"/>\n     <use style=\"fill:#808080;stroke:#808080;\" x=\"378.014037\" xlink:href=\"#mae1ba4bf27\" y=\"392.378952\"/>\n     <use style=\"fill:#808080;stroke:#808080;\" x=\"465.842774\" xlink:href=\"#mae1ba4bf27\" y=\"214.101064\"/>\n     <use style=\"fill:#808080;stroke:#808080;\" x=\"318.671947\" xlink:href=\"#mae1ba4bf27\" y=\"388.855378\"/>\n     <use style=\"fill:#808080;stroke:#808080;\" x=\"261.81585\" xlink:href=\"#mae1ba4bf27\" y=\"388.855378\"/>\n     <use style=\"fill:#808080;stroke:#808080;\" x=\"420.194205\" xlink:href=\"#mae1ba4bf27\" y=\"388.855378\"/>\n     <use style=\"fill:#808080;stroke:#808080;\" x=\"306.368738\" xlink:href=\"#mae1ba4bf27\" y=\"401.008046\"/>\n     <use style=\"fill:#808080;stroke:#808080;\" x=\"324.134257\" xlink:href=\"#mae1ba4bf27\" y=\"388.855378\"/>\n     <use style=\"fill:#808080;stroke:#808080;\" x=\"333.984266\" xlink:href=\"#mae1ba4bf27\" y=\"271.275081\"/>\n     <use style=\"fill:#808080;stroke:#808080;\" x=\"261.81585\" xlink:href=\"#mae1ba4bf27\" y=\"263.081575\"/>\n     <use style=\"fill:#808080;stroke:#808080;\" x=\"210.972749\" xlink:href=\"#mae1ba4bf27\" y=\"401.312025\"/>\n     <use style=\"fill:#808080;stroke:#808080;\" x=\"378.014037\" xlink:href=\"#mae1ba4bf27\" y=\"263.081575\"/>\n     <use style=\"fill:#808080;stroke:#808080;\" x=\"130.494807\" xlink:href=\"#mae1ba4bf27\" y=\"437.430852\"/>\n     <use style=\"fill:#808080;stroke:#808080;\" x=\"428.572008\" xlink:href=\"#mae1ba4bf27\" y=\"259.436361\"/>\n     <use style=\"fill:#808080;stroke:#808080;\" x=\"318.671947\" xlink:href=\"#mae1ba4bf27\" y=\"326.661675\"/>\n     <use style=\"fill:#808080;stroke:#808080;\" x=\"273.135861\" xlink:href=\"#mae1ba4bf27\" y=\"437.430852\"/>\n     <use style=\"fill:#808080;stroke:#808080;\" x=\"324.134257\" xlink:href=\"#mae1ba4bf27\" y=\"290.865094\"/>\n     <use style=\"fill:#808080;stroke:#808080;\" x=\"318.671947\" xlink:href=\"#mae1ba4bf27\" y=\"326.661675\"/>\n     <use style=\"fill:#808080;stroke:#808080;\" x=\"318.671947\" xlink:href=\"#mae1ba4bf27\" y=\"326.661675\"/>\n     <use style=\"fill:#808080;stroke:#808080;\" x=\"354.079942\" xlink:href=\"#mae1ba4bf27\" y=\"259.436361\"/>\n     <use style=\"fill:#808080;stroke:#808080;\" x=\"318.671947\" xlink:href=\"#mae1ba4bf27\" y=\"426.075895\"/>\n     <use style=\"fill:#808080;stroke:#808080;\" x=\"210.972749\" xlink:href=\"#mae1ba4bf27\" y=\"336.500904\"/>\n     <use style=\"fill:#808080;stroke:#808080;\" x=\"248.434202\" xlink:href=\"#mae1ba4bf27\" y=\"313.267871\"/>\n     <use style=\"fill:#808080;stroke:#808080;\" x=\"312.77533\" xlink:href=\"#mae1ba4bf27\" y=\"437.430852\"/>\n     <use style=\"fill:#808080;stroke:#808080;\" x=\"306.368738\" xlink:href=\"#mae1ba4bf27\" y=\"401.008046\"/>\n     <use style=\"fill:#808080;stroke:#808080;\" x=\"232.065058\" xlink:href=\"#mae1ba4bf27\" y=\"437.430852\"/>\n     <use style=\"fill:#808080;stroke:#808080;\" x=\"261.81585\" xlink:href=\"#mae1ba4bf27\" y=\"330.406689\"/>\n     <use style=\"fill:#808080;stroke:#808080;\" x=\"248.434202\" xlink:href=\"#mae1ba4bf27\" y=\"313.267871\"/>\n     <use style=\"fill:#808080;stroke:#808080;\" x=\"261.81585\" xlink:href=\"#mae1ba4bf27\" y=\"437.430852\"/>\n     <use style=\"fill:#808080;stroke:#808080;\" x=\"261.81585\" xlink:href=\"#mae1ba4bf27\" y=\"330.406689\"/>\n     <use style=\"fill:#808080;stroke:#808080;\" x=\"360.815557\" xlink:href=\"#mae1ba4bf27\" y=\"42.085398\"/>\n     <use style=\"fill:#808080;stroke:#808080;\" x=\"299.354827\" xlink:href=\"#mae1ba4bf27\" y=\"399.649811\"/>\n     <use style=\"fill:#808080;stroke:#808080;\" x=\"357.523421\" xlink:href=\"#mae1ba4bf27\" y=\"313.267871\"/>\n     <use style=\"fill:#808080;stroke:#808080;\" x=\"232.065058\" xlink:href=\"#mae1ba4bf27\" y=\"411.310322\"/>\n     <use style=\"fill:#808080;stroke:#808080;\" x=\"232.065058\" xlink:href=\"#mae1ba4bf27\" y=\"411.310322\"/>\n     <use style=\"fill:#808080;stroke:#808080;\" x=\"318.671947\" xlink:href=\"#mae1ba4bf27\" y=\"278.922019\"/>\n     <use style=\"fill:#808080;stroke:#808080;\" x=\"261.81585\" xlink:href=\"#mae1ba4bf27\" y=\"388.855378\"/>\n     <use style=\"fill:#808080;stroke:#808080;\" x=\"248.434202\" xlink:href=\"#mae1ba4bf27\" y=\"385.067138\"/>\n     <use style=\"fill:#808080;stroke:#808080;\" x=\"324.134257\" xlink:href=\"#mae1ba4bf27\" y=\"96.937726\"/>\n     <use style=\"fill:#808080;stroke:#808080;\" x=\"273.135861\" xlink:href=\"#mae1ba4bf27\" y=\"392.378952\"/>\n     <use style=\"fill:#808080;stroke:#808080;\" x=\"329.222245\" xlink:href=\"#mae1ba4bf27\" y=\"388.855378\"/>\n     <use style=\"fill:#808080;stroke:#808080;\" x=\"357.523421\" xlink:href=\"#mae1ba4bf27\" y=\"394.794637\"/>\n     <use style=\"fill:#808080;stroke:#808080;\" x=\"273.135861\" xlink:href=\"#mae1ba4bf27\" y=\"263.081575\"/>\n    </g>\n   </g>\n   <g id=\"PathCollection_2\">\n    <defs>\n     <path d=\"M 0 3 \nC 0.795609 3 1.55874 2.683901 2.12132 2.12132 \nC 2.683901 1.55874 3 0.795609 3 0 \nC 3 -0.795609 2.683901 -1.55874 2.12132 -2.12132 \nC 1.55874 -2.683901 0.795609 -3 0 -3 \nC -0.795609 -3 -1.55874 -2.683901 -2.12132 -2.12132 \nC -2.683901 -1.55874 -3 -0.795609 -3 0 \nC -3 0.795609 -2.683901 1.55874 -2.12132 2.12132 \nC -1.55874 2.683901 -0.795609 3 0 3 \nz\n\" id=\"m5a2b2e6fce\" style=\"stroke:#ff0000;\"/>\n    </defs>\n    <g clip-path=\"url(#p15aeb30fd1)\">\n     <use style=\"fill:#ff0000;stroke:#ff0000;\" x=\"396.156862\" xlink:href=\"#m5a2b2e6fce\" y=\"180.731512\"/>\n     <use style=\"fill:#ff0000;stroke:#ff0000;\" x=\"465.842774\" xlink:href=\"#m5a2b2e6fce\" y=\"214.101064\"/>\n     <use style=\"fill:#ff0000;stroke:#ff0000;\" x=\"360.815557\" xlink:href=\"#m5a2b2e6fce\" y=\"42.085398\"/>\n     <use style=\"fill:#ff0000;stroke:#ff0000;\" x=\"324.134257\" xlink:href=\"#m5a2b2e6fce\" y=\"96.937726\"/>\n    </g>\n   </g>\n   <g id=\"matplotlib.axis_1\">\n    <g id=\"xtick_1\">\n     <g id=\"line2d_1\">\n      <defs>\n       <path d=\"M 0 0 \nL 0 3.5 \n\" id=\"m31763fc571\" style=\"stroke:#000000;stroke-width:0.8;\"/>\n      </defs>\n      <g>\n       <use style=\"stroke:#000000;stroke-width:0.8;\" x=\"74.239489\" xlink:href=\"#m31763fc571\" y=\"457.198125\"/>\n      </g>\n     </g>\n     <g id=\"text_1\">\n      <!-- −12 -->\n      <g transform=\"translate(63.687145 471.796562)scale(0.1 -0.1)\">\n       <defs>\n        <path d=\"M 10.59375 35.5 \nL 73.1875 35.5 \nL 73.1875 27.203125 \nL 10.59375 27.203125 \nz\n\" id=\"DejaVuSans-8722\"/>\n        <path d=\"M 12.40625 8.296875 \nL 28.515625 8.296875 \nL 28.515625 63.921875 \nL 10.984375 60.40625 \nL 10.984375 69.390625 \nL 28.421875 72.90625 \nL 38.28125 72.90625 \nL 38.28125 8.296875 \nL 54.390625 8.296875 \nL 54.390625 0 \nL 12.40625 0 \nz\n\" id=\"DejaVuSans-49\"/>\n        <path d=\"M 19.1875 8.296875 \nL 53.609375 8.296875 \nL 53.609375 0 \nL 7.328125 0 \nL 7.328125 8.296875 \nQ 12.9375 14.109375 22.625 23.890625 \nQ 32.328125 33.6875 34.8125 36.53125 \nQ 39.546875 41.84375 41.421875 45.53125 \nQ 43.3125 49.21875 43.3125 52.78125 \nQ 43.3125 58.59375 39.234375 62.25 \nQ 35.15625 65.921875 28.609375 65.921875 \nQ 23.96875 65.921875 18.8125 64.3125 \nQ 13.671875 62.703125 7.8125 59.421875 \nL 7.8125 69.390625 \nQ 13.765625 71.78125 18.9375 73 \nQ 24.125 74.21875 28.421875 74.21875 \nQ 39.75 74.21875 46.484375 68.546875 \nQ 53.21875 62.890625 53.21875 53.421875 \nQ 53.21875 48.921875 51.53125 44.890625 \nQ 49.859375 40.875 45.40625 35.40625 \nQ 44.1875 33.984375 37.640625 27.21875 \nQ 31.109375 20.453125 19.1875 8.296875 \nz\n\" id=\"DejaVuSans-50\"/>\n       </defs>\n       <use xlink:href=\"#DejaVuSans-8722\"/>\n       <use x=\"83.789062\" xlink:href=\"#DejaVuSans-49\"/>\n       <use x=\"147.412109\" xlink:href=\"#DejaVuSans-50\"/>\n      </g>\n     </g>\n    </g>\n    <g id=\"xtick_2\">\n     <g id=\"line2d_2\">\n      <g>\n       <use style=\"stroke:#000000;stroke-width:0.8;\" x=\"175.694034\" xlink:href=\"#m31763fc571\" y=\"457.198125\"/>\n      </g>\n     </g>\n     <g id=\"text_2\">\n      <!-- −10 -->\n      <g transform=\"translate(165.14169 471.796562)scale(0.1 -0.1)\">\n       <defs>\n        <path d=\"M 31.78125 66.40625 \nQ 24.171875 66.40625 20.328125 58.90625 \nQ 16.5 51.421875 16.5 36.375 \nQ 16.5 21.390625 20.328125 13.890625 \nQ 24.171875 6.390625 31.78125 6.390625 \nQ 39.453125 6.390625 43.28125 13.890625 \nQ 47.125 21.390625 47.125 36.375 \nQ 47.125 51.421875 43.28125 58.90625 \nQ 39.453125 66.40625 31.78125 66.40625 \nz\nM 31.78125 74.21875 \nQ 44.046875 74.21875 50.515625 64.515625 \nQ 56.984375 54.828125 56.984375 36.375 \nQ 56.984375 17.96875 50.515625 8.265625 \nQ 44.046875 -1.421875 31.78125 -1.421875 \nQ 19.53125 -1.421875 13.0625 8.265625 \nQ 6.59375 17.96875 6.59375 36.375 \nQ 6.59375 54.828125 13.0625 64.515625 \nQ 19.53125 74.21875 31.78125 74.21875 \nz\n\" id=\"DejaVuSans-48\"/>\n       </defs>\n       <use xlink:href=\"#DejaVuSans-8722\"/>\n       <use x=\"83.789062\" xlink:href=\"#DejaVuSans-49\"/>\n       <use x=\"147.412109\" xlink:href=\"#DejaVuSans-48\"/>\n      </g>\n     </g>\n    </g>\n    <g id=\"xtick_3\">\n     <g id=\"line2d_3\">\n      <g>\n       <use style=\"stroke:#000000;stroke-width:0.8;\" x=\"277.14858\" xlink:href=\"#m31763fc571\" y=\"457.198125\"/>\n      </g>\n     </g>\n     <g id=\"text_3\">\n      <!-- −8 -->\n      <g transform=\"translate(269.777486 471.796562)scale(0.1 -0.1)\">\n       <defs>\n        <path d=\"M 31.78125 34.625 \nQ 24.75 34.625 20.71875 30.859375 \nQ 16.703125 27.09375 16.703125 20.515625 \nQ 16.703125 13.921875 20.71875 10.15625 \nQ 24.75 6.390625 31.78125 6.390625 \nQ 38.8125 6.390625 42.859375 10.171875 \nQ 46.921875 13.96875 46.921875 20.515625 \nQ 46.921875 27.09375 42.890625 30.859375 \nQ 38.875 34.625 31.78125 34.625 \nz\nM 21.921875 38.8125 \nQ 15.578125 40.375 12.03125 44.71875 \nQ 8.5 49.078125 8.5 55.328125 \nQ 8.5 64.0625 14.71875 69.140625 \nQ 20.953125 74.21875 31.78125 74.21875 \nQ 42.671875 74.21875 48.875 69.140625 \nQ 55.078125 64.0625 55.078125 55.328125 \nQ 55.078125 49.078125 51.53125 44.71875 \nQ 48 40.375 41.703125 38.8125 \nQ 48.828125 37.15625 52.796875 32.3125 \nQ 56.78125 27.484375 56.78125 20.515625 \nQ 56.78125 9.90625 50.3125 4.234375 \nQ 43.84375 -1.421875 31.78125 -1.421875 \nQ 19.734375 -1.421875 13.25 4.234375 \nQ 6.78125 9.90625 6.78125 20.515625 \nQ 6.78125 27.484375 10.78125 32.3125 \nQ 14.796875 37.15625 21.921875 38.8125 \nz\nM 18.3125 54.390625 \nQ 18.3125 48.734375 21.84375 45.5625 \nQ 25.390625 42.390625 31.78125 42.390625 \nQ 38.140625 42.390625 41.71875 45.5625 \nQ 45.3125 48.734375 45.3125 54.390625 \nQ 45.3125 60.0625 41.71875 63.234375 \nQ 38.140625 66.40625 31.78125 66.40625 \nQ 25.390625 66.40625 21.84375 63.234375 \nQ 18.3125 60.0625 18.3125 54.390625 \nz\n\" id=\"DejaVuSans-56\"/>\n       </defs>\n       <use xlink:href=\"#DejaVuSans-8722\"/>\n       <use x=\"83.789062\" xlink:href=\"#DejaVuSans-56\"/>\n      </g>\n     </g>\n    </g>\n    <g id=\"xtick_4\">\n     <g id=\"line2d_4\">\n      <g>\n       <use style=\"stroke:#000000;stroke-width:0.8;\" x=\"378.603125\" xlink:href=\"#m31763fc571\" y=\"457.198125\"/>\n      </g>\n     </g>\n     <g id=\"text_4\">\n      <!-- −6 -->\n      <g transform=\"translate(371.232031 471.796562)scale(0.1 -0.1)\">\n       <defs>\n        <path d=\"M 33.015625 40.375 \nQ 26.375 40.375 22.484375 35.828125 \nQ 18.609375 31.296875 18.609375 23.390625 \nQ 18.609375 15.53125 22.484375 10.953125 \nQ 26.375 6.390625 33.015625 6.390625 \nQ 39.65625 6.390625 43.53125 10.953125 \nQ 47.40625 15.53125 47.40625 23.390625 \nQ 47.40625 31.296875 43.53125 35.828125 \nQ 39.65625 40.375 33.015625 40.375 \nz\nM 52.59375 71.296875 \nL 52.59375 62.3125 \nQ 48.875 64.0625 45.09375 64.984375 \nQ 41.3125 65.921875 37.59375 65.921875 \nQ 27.828125 65.921875 22.671875 59.328125 \nQ 17.53125 52.734375 16.796875 39.40625 \nQ 19.671875 43.65625 24.015625 45.921875 \nQ 28.375 48.1875 33.59375 48.1875 \nQ 44.578125 48.1875 50.953125 41.515625 \nQ 57.328125 34.859375 57.328125 23.390625 \nQ 57.328125 12.15625 50.6875 5.359375 \nQ 44.046875 -1.421875 33.015625 -1.421875 \nQ 20.359375 -1.421875 13.671875 8.265625 \nQ 6.984375 17.96875 6.984375 36.375 \nQ 6.984375 53.65625 15.1875 63.9375 \nQ 23.390625 74.21875 37.203125 74.21875 \nQ 40.921875 74.21875 44.703125 73.484375 \nQ 48.484375 72.75 52.59375 71.296875 \nz\n\" id=\"DejaVuSans-54\"/>\n       </defs>\n       <use xlink:href=\"#DejaVuSans-8722\"/>\n       <use x=\"83.789062\" xlink:href=\"#DejaVuSans-54\"/>\n      </g>\n     </g>\n    </g>\n    <g id=\"xtick_5\">\n     <g id=\"line2d_5\">\n      <g>\n       <use style=\"stroke:#000000;stroke-width:0.8;\" x=\"480.05767\" xlink:href=\"#m31763fc571\" y=\"457.198125\"/>\n      </g>\n     </g>\n     <g id=\"text_5\">\n      <!-- −4 -->\n      <g transform=\"translate(472.686577 471.796562)scale(0.1 -0.1)\">\n       <defs>\n        <path d=\"M 37.796875 64.3125 \nL 12.890625 25.390625 \nL 37.796875 25.390625 \nz\nM 35.203125 72.90625 \nL 47.609375 72.90625 \nL 47.609375 25.390625 \nL 58.015625 25.390625 \nL 58.015625 17.1875 \nL 47.609375 17.1875 \nL 47.609375 0 \nL 37.796875 0 \nL 37.796875 17.1875 \nL 4.890625 17.1875 \nL 4.890625 26.703125 \nz\n\" id=\"DejaVuSans-52\"/>\n       </defs>\n       <use xlink:href=\"#DejaVuSans-8722\"/>\n       <use x=\"83.789062\" xlink:href=\"#DejaVuSans-52\"/>\n      </g>\n     </g>\n    </g>\n    <g id=\"xtick_6\">\n     <g id=\"line2d_6\">\n      <g>\n       <use style=\"stroke:#000000;stroke-width:0.8;\" x=\"581.512216\" xlink:href=\"#m31763fc571\" y=\"457.198125\"/>\n      </g>\n     </g>\n     <g id=\"text_6\">\n      <!-- −2 -->\n      <g transform=\"translate(574.141122 471.796562)scale(0.1 -0.1)\">\n       <use xlink:href=\"#DejaVuSans-8722\"/>\n       <use x=\"83.789062\" xlink:href=\"#DejaVuSans-50\"/>\n      </g>\n     </g>\n    </g>\n    <g id=\"xtick_7\">\n     <g id=\"line2d_7\">\n      <g>\n       <use style=\"stroke:#000000;stroke-width:0.8;\" x=\"682.966761\" xlink:href=\"#m31763fc571\" y=\"457.198125\"/>\n      </g>\n     </g>\n     <g id=\"text_7\">\n      <!-- 0 -->\n      <g transform=\"translate(679.785511 471.796562)scale(0.1 -0.1)\">\n       <use xlink:href=\"#DejaVuSans-48\"/>\n      </g>\n     </g>\n    </g>\n    <g id=\"text_8\">\n     <!-- $\\log_2$(#LoF / #non-LoF) -->\n     <g transform=\"translate(322.753125 485.47625)scale(0.1 -0.1)\">\n      <defs>\n       <path d=\"M 9.421875 75.984375 \nL 18.40625 75.984375 \nL 18.40625 0 \nL 9.421875 0 \nz\n\" id=\"DejaVuSans-108\"/>\n       <path d=\"M 30.609375 48.390625 \nQ 23.390625 48.390625 19.1875 42.75 \nQ 14.984375 37.109375 14.984375 27.296875 \nQ 14.984375 17.484375 19.15625 11.84375 \nQ 23.34375 6.203125 30.609375 6.203125 \nQ 37.796875 6.203125 41.984375 11.859375 \nQ 46.1875 17.53125 46.1875 27.296875 \nQ 46.1875 37.015625 41.984375 42.703125 \nQ 37.796875 48.390625 30.609375 48.390625 \nz\nM 30.609375 56 \nQ 42.328125 56 49.015625 48.375 \nQ 55.71875 40.765625 55.71875 27.296875 \nQ 55.71875 13.875 49.015625 6.21875 \nQ 42.328125 -1.421875 30.609375 -1.421875 \nQ 18.84375 -1.421875 12.171875 6.21875 \nQ 5.515625 13.875 5.515625 27.296875 \nQ 5.515625 40.765625 12.171875 48.375 \nQ 18.84375 56 30.609375 56 \nz\n\" id=\"DejaVuSans-111\"/>\n       <path d=\"M 45.40625 27.984375 \nQ 45.40625 37.75 41.375 43.109375 \nQ 37.359375 48.484375 30.078125 48.484375 \nQ 22.859375 48.484375 18.828125 43.109375 \nQ 14.796875 37.75 14.796875 27.984375 \nQ 14.796875 18.265625 18.828125 12.890625 \nQ 22.859375 7.515625 30.078125 7.515625 \nQ 37.359375 7.515625 41.375 12.890625 \nQ 45.40625 18.265625 45.40625 27.984375 \nz\nM 54.390625 6.78125 \nQ 54.390625 -7.171875 48.1875 -13.984375 \nQ 42 -20.796875 29.203125 -20.796875 \nQ 24.46875 -20.796875 20.265625 -20.09375 \nQ 16.0625 -19.390625 12.109375 -17.921875 \nL 12.109375 -9.1875 \nQ 16.0625 -11.328125 19.921875 -12.34375 \nQ 23.78125 -13.375 27.78125 -13.375 \nQ 36.625 -13.375 41.015625 -8.765625 \nQ 45.40625 -4.15625 45.40625 5.171875 \nL 45.40625 9.625 \nQ 42.625 4.78125 38.28125 2.390625 \nQ 33.9375 0 27.875 0 \nQ 17.828125 0 11.671875 7.65625 \nQ 5.515625 15.328125 5.515625 27.984375 \nQ 5.515625 40.671875 11.671875 48.328125 \nQ 17.828125 56 27.875 56 \nQ 33.9375 56 38.28125 53.609375 \nQ 42.625 51.21875 45.40625 46.390625 \nL 45.40625 54.6875 \nL 54.390625 54.6875 \nz\n\" id=\"DejaVuSans-103\"/>\n       <path d=\"M 31 75.875 \nQ 24.46875 64.65625 21.28125 53.65625 \nQ 18.109375 42.671875 18.109375 31.390625 \nQ 18.109375 20.125 21.3125 9.0625 \nQ 24.515625 -2 31 -13.1875 \nL 23.1875 -13.1875 \nQ 15.875 -1.703125 12.234375 9.375 \nQ 8.59375 20.453125 8.59375 31.390625 \nQ 8.59375 42.28125 12.203125 53.3125 \nQ 15.828125 64.359375 23.1875 75.875 \nz\n\" id=\"DejaVuSans-40\"/>\n       <path d=\"M 51.125 44 \nL 36.921875 44 \nL 32.8125 27.6875 \nL 47.125 27.6875 \nz\nM 43.796875 71.78125 \nL 38.71875 51.515625 \nL 52.984375 51.515625 \nL 58.109375 71.78125 \nL 65.921875 71.78125 \nL 60.890625 51.515625 \nL 76.125 51.515625 \nL 76.125 44 \nL 58.984375 44 \nL 54.984375 27.6875 \nL 70.515625 27.6875 \nL 70.515625 20.21875 \nL 53.078125 20.21875 \nL 48 0 \nL 40.1875 0 \nL 45.21875 20.21875 \nL 30.90625 20.21875 \nL 25.875 0 \nL 18.015625 0 \nL 23.09375 20.21875 \nL 7.71875 20.21875 \nL 7.71875 27.6875 \nL 24.90625 27.6875 \nL 29 44 \nL 13.28125 44 \nL 13.28125 51.515625 \nL 30.90625 51.515625 \nL 35.890625 71.78125 \nz\n\" id=\"DejaVuSans-35\"/>\n       <path d=\"M 9.8125 72.90625 \nL 19.671875 72.90625 \nL 19.671875 8.296875 \nL 55.171875 8.296875 \nL 55.171875 0 \nL 9.8125 0 \nz\n\" id=\"DejaVuSans-76\"/>\n       <path d=\"M 9.8125 72.90625 \nL 51.703125 72.90625 \nL 51.703125 64.59375 \nL 19.671875 64.59375 \nL 19.671875 43.109375 \nL 48.578125 43.109375 \nL 48.578125 34.8125 \nL 19.671875 34.8125 \nL 19.671875 0 \nL 9.8125 0 \nz\n\" id=\"DejaVuSans-70\"/>\n       <path id=\"DejaVuSans-32\"/>\n       <path d=\"M 25.390625 72.90625 \nL 33.6875 72.90625 \nL 8.296875 -9.28125 \nL 0 -9.28125 \nz\n\" id=\"DejaVuSans-47\"/>\n       <path d=\"M 54.890625 33.015625 \nL 54.890625 0 \nL 45.90625 0 \nL 45.90625 32.71875 \nQ 45.90625 40.484375 42.875 44.328125 \nQ 39.84375 48.1875 33.796875 48.1875 \nQ 26.515625 48.1875 22.3125 43.546875 \nQ 18.109375 38.921875 18.109375 30.90625 \nL 18.109375 0 \nL 9.078125 0 \nL 9.078125 54.6875 \nL 18.109375 54.6875 \nL 18.109375 46.1875 \nQ 21.34375 51.125 25.703125 53.5625 \nQ 30.078125 56 35.796875 56 \nQ 45.21875 56 50.046875 50.171875 \nQ 54.890625 44.34375 54.890625 33.015625 \nz\n\" id=\"DejaVuSans-110\"/>\n       <path d=\"M 4.890625 31.390625 \nL 31.203125 31.390625 \nL 31.203125 23.390625 \nL 4.890625 23.390625 \nz\n\" id=\"DejaVuSans-45\"/>\n       <path d=\"M 8.015625 75.875 \nL 15.828125 75.875 \nQ 23.140625 64.359375 26.78125 53.3125 \nQ 30.421875 42.28125 30.421875 31.390625 \nQ 30.421875 20.453125 26.78125 9.375 \nQ 23.140625 -1.703125 15.828125 -13.1875 \nL 8.015625 -13.1875 \nQ 14.5 -2 17.703125 9.0625 \nQ 20.90625 20.125 20.90625 31.390625 \nQ 20.90625 42.671875 17.703125 53.65625 \nQ 14.5 64.65625 8.015625 75.875 \nz\n\" id=\"DejaVuSans-41\"/>\n      </defs>\n      <use transform=\"translate(0 0.015625)\" xlink:href=\"#DejaVuSans-108\"/>\n      <use transform=\"translate(27.783203 0.015625)\" xlink:href=\"#DejaVuSans-111\"/>\n      <use transform=\"translate(88.964844 0.015625)\" xlink:href=\"#DejaVuSans-103\"/>\n      <use transform=\"translate(153.398438 -16.390625)scale(0.7)\" xlink:href=\"#DejaVuSans-50\"/>\n      <use transform=\"translate(200.668945 0.015625)\" xlink:href=\"#DejaVuSans-40\"/>\n      <use transform=\"translate(239.682617 0.015625)\" xlink:href=\"#DejaVuSans-35\"/>\n      <use transform=\"translate(323.47168 0.015625)\" xlink:href=\"#DejaVuSans-76\"/>\n      <use transform=\"translate(379.18457 0.015625)\" xlink:href=\"#DejaVuSans-111\"/>\n      <use transform=\"translate(440.366211 0.015625)\" xlink:href=\"#DejaVuSans-70\"/>\n      <use transform=\"translate(497.885742 0.015625)\" xlink:href=\"#DejaVuSans-32\"/>\n      <use transform=\"translate(529.672852 0.015625)\" xlink:href=\"#DejaVuSans-47\"/>\n      <use transform=\"translate(563.364258 0.015625)\" xlink:href=\"#DejaVuSans-32\"/>\n      <use transform=\"translate(595.151367 0.015625)\" xlink:href=\"#DejaVuSans-35\"/>\n      <use transform=\"translate(678.94043 0.015625)\" xlink:href=\"#DejaVuSans-110\"/>\n      <use transform=\"translate(742.319336 0.015625)\" xlink:href=\"#DejaVuSans-111\"/>\n      <use transform=\"translate(803.500977 0.015625)\" xlink:href=\"#DejaVuSans-110\"/>\n      <use transform=\"translate(866.879883 0.015625)\" xlink:href=\"#DejaVuSans-45\"/>\n      <use transform=\"translate(902.963867 0.015625)\" xlink:href=\"#DejaVuSans-76\"/>\n      <use transform=\"translate(958.676758 0.015625)\" xlink:href=\"#DejaVuSans-111\"/>\n      <use transform=\"translate(1019.858398 0.015625)\" xlink:href=\"#DejaVuSans-70\"/>\n      <use transform=\"translate(1077.37793 0.015625)\" xlink:href=\"#DejaVuSans-41\"/>\n     </g>\n    </g>\n   </g>\n   <g id=\"matplotlib.axis_2\">\n    <g id=\"ytick_1\">\n     <g id=\"line2d_8\">\n      <defs>\n       <path d=\"M 0 0 \nL -3.5 0 \n\" id=\"mb363967f74\" style=\"stroke:#000000;stroke-width:0.8;\"/>\n      </defs>\n      <g>\n       <use style=\"stroke:#000000;stroke-width:0.8;\" x=\"43.803125\" xlink:href=\"#mb363967f74\" y=\"437.430852\"/>\n      </g>\n     </g>\n     <g id=\"text_9\">\n      <!-- 0.0 -->\n      <g transform=\"translate(20.9 441.230071)scale(0.1 -0.1)\">\n       <defs>\n        <path d=\"M 10.6875 12.40625 \nL 21 12.40625 \nL 21 0 \nL 10.6875 0 \nz\n\" id=\"DejaVuSans-46\"/>\n       </defs>\n       <use xlink:href=\"#DejaVuSans-48\"/>\n       <use x=\"63.623047\" xlink:href=\"#DejaVuSans-46\"/>\n       <use x=\"95.410156\" xlink:href=\"#DejaVuSans-48\"/>\n      </g>\n     </g>\n    </g>\n    <g id=\"ytick_2\">\n     <g id=\"line2d_9\">\n      <g>\n       <use style=\"stroke:#000000;stroke-width:0.8;\" x=\"43.803125\" xlink:href=\"#mb363967f74\" y=\"366.106584\"/>\n      </g>\n     </g>\n     <g id=\"text_10\">\n      <!-- 0.5 -->\n      <g transform=\"translate(20.9 369.905803)scale(0.1 -0.1)\">\n       <defs>\n        <path d=\"M 10.796875 72.90625 \nL 49.515625 72.90625 \nL 49.515625 64.59375 \nL 19.828125 64.59375 \nL 19.828125 46.734375 \nQ 21.96875 47.46875 24.109375 47.828125 \nQ 26.265625 48.1875 28.421875 48.1875 \nQ 40.625 48.1875 47.75 41.5 \nQ 54.890625 34.8125 54.890625 23.390625 \nQ 54.890625 11.625 47.5625 5.09375 \nQ 40.234375 -1.421875 26.90625 -1.421875 \nQ 22.3125 -1.421875 17.546875 -0.640625 \nQ 12.796875 0.140625 7.71875 1.703125 \nL 7.71875 11.625 \nQ 12.109375 9.234375 16.796875 8.0625 \nQ 21.484375 6.890625 26.703125 6.890625 \nQ 35.15625 6.890625 40.078125 11.328125 \nQ 45.015625 15.765625 45.015625 23.390625 \nQ 45.015625 31 40.078125 35.4375 \nQ 35.15625 39.890625 26.703125 39.890625 \nQ 22.75 39.890625 18.8125 39.015625 \nQ 14.890625 38.140625 10.796875 36.28125 \nz\n\" id=\"DejaVuSans-53\"/>\n       </defs>\n       <use xlink:href=\"#DejaVuSans-48\"/>\n       <use x=\"63.623047\" xlink:href=\"#DejaVuSans-46\"/>\n       <use x=\"95.410156\" xlink:href=\"#DejaVuSans-53\"/>\n      </g>\n     </g>\n    </g>\n    <g id=\"ytick_3\">\n     <g id=\"line2d_10\">\n      <g>\n       <use style=\"stroke:#000000;stroke-width:0.8;\" x=\"43.803125\" xlink:href=\"#mb363967f74\" y=\"294.782316\"/>\n      </g>\n     </g>\n     <g id=\"text_11\">\n      <!-- 1.0 -->\n      <g transform=\"translate(20.9 298.581535)scale(0.1 -0.1)\">\n       <use xlink:href=\"#DejaVuSans-49\"/>\n       <use x=\"63.623047\" xlink:href=\"#DejaVuSans-46\"/>\n       <use x=\"95.410156\" xlink:href=\"#DejaVuSans-48\"/>\n      </g>\n     </g>\n    </g>\n    <g id=\"ytick_4\">\n     <g id=\"line2d_11\">\n      <g>\n       <use style=\"stroke:#000000;stroke-width:0.8;\" x=\"43.803125\" xlink:href=\"#mb363967f74\" y=\"223.458048\"/>\n      </g>\n     </g>\n     <g id=\"text_12\">\n      <!-- 1.5 -->\n      <g transform=\"translate(20.9 227.257266)scale(0.1 -0.1)\">\n       <use xlink:href=\"#DejaVuSans-49\"/>\n       <use x=\"63.623047\" xlink:href=\"#DejaVuSans-46\"/>\n       <use x=\"95.410156\" xlink:href=\"#DejaVuSans-53\"/>\n      </g>\n     </g>\n    </g>\n    <g id=\"ytick_5\">\n     <g id=\"line2d_12\">\n      <g>\n       <use style=\"stroke:#000000;stroke-width:0.8;\" x=\"43.803125\" xlink:href=\"#mb363967f74\" y=\"152.133779\"/>\n      </g>\n     </g>\n     <g id=\"text_13\">\n      <!-- 2.0 -->\n      <g transform=\"translate(20.9 155.932998)scale(0.1 -0.1)\">\n       <use xlink:href=\"#DejaVuSans-50\"/>\n       <use x=\"63.623047\" xlink:href=\"#DejaVuSans-46\"/>\n       <use x=\"95.410156\" xlink:href=\"#DejaVuSans-48\"/>\n      </g>\n     </g>\n    </g>\n    <g id=\"ytick_6\">\n     <g id=\"line2d_13\">\n      <g>\n       <use style=\"stroke:#000000;stroke-width:0.8;\" x=\"43.803125\" xlink:href=\"#mb363967f74\" y=\"80.809511\"/>\n      </g>\n     </g>\n     <g id=\"text_14\">\n      <!-- 2.5 -->\n      <g transform=\"translate(20.9 84.60873)scale(0.1 -0.1)\">\n       <use xlink:href=\"#DejaVuSans-50\"/>\n       <use x=\"63.623047\" xlink:href=\"#DejaVuSans-46\"/>\n       <use x=\"95.410156\" xlink:href=\"#DejaVuSans-53\"/>\n      </g>\n     </g>\n    </g>\n    <g id=\"text_15\">\n     <!-- $-\\log_{10}$(P-value) -->\n     <g transform=\"translate(14.8 278.608125)rotate(-90)scale(0.1 -0.1)\">\n      <defs>\n       <path d=\"M 19.671875 64.796875 \nL 19.671875 37.40625 \nL 32.078125 37.40625 \nQ 38.96875 37.40625 42.71875 40.96875 \nQ 46.484375 44.53125 46.484375 51.125 \nQ 46.484375 57.671875 42.71875 61.234375 \nQ 38.96875 64.796875 32.078125 64.796875 \nz\nM 9.8125 72.90625 \nL 32.078125 72.90625 \nQ 44.34375 72.90625 50.609375 67.359375 \nQ 56.890625 61.8125 56.890625 51.125 \nQ 56.890625 40.328125 50.609375 34.8125 \nQ 44.34375 29.296875 32.078125 29.296875 \nL 19.671875 29.296875 \nL 19.671875 0 \nL 9.8125 0 \nz\n\" id=\"DejaVuSans-80\"/>\n       <path d=\"M 2.984375 54.6875 \nL 12.5 54.6875 \nL 29.59375 8.796875 \nL 46.6875 54.6875 \nL 56.203125 54.6875 \nL 35.6875 0 \nL 23.484375 0 \nz\n\" id=\"DejaVuSans-118\"/>\n       <path d=\"M 34.28125 27.484375 \nQ 23.390625 27.484375 19.1875 25 \nQ 14.984375 22.515625 14.984375 16.5 \nQ 14.984375 11.71875 18.140625 8.90625 \nQ 21.296875 6.109375 26.703125 6.109375 \nQ 34.1875 6.109375 38.703125 11.40625 \nQ 43.21875 16.703125 43.21875 25.484375 \nL 43.21875 27.484375 \nz\nM 52.203125 31.203125 \nL 52.203125 0 \nL 43.21875 0 \nL 43.21875 8.296875 \nQ 40.140625 3.328125 35.546875 0.953125 \nQ 30.953125 -1.421875 24.3125 -1.421875 \nQ 15.921875 -1.421875 10.953125 3.296875 \nQ 6 8.015625 6 15.921875 \nQ 6 25.140625 12.171875 29.828125 \nQ 18.359375 34.515625 30.609375 34.515625 \nL 43.21875 34.515625 \nL 43.21875 35.40625 \nQ 43.21875 41.609375 39.140625 45 \nQ 35.0625 48.390625 27.6875 48.390625 \nQ 23 48.390625 18.546875 47.265625 \nQ 14.109375 46.140625 10.015625 43.890625 \nL 10.015625 52.203125 \nQ 14.9375 54.109375 19.578125 55.046875 \nQ 24.21875 56 28.609375 56 \nQ 40.484375 56 46.34375 49.84375 \nQ 52.203125 43.703125 52.203125 31.203125 \nz\n\" id=\"DejaVuSans-97\"/>\n       <path d=\"M 8.5 21.578125 \nL 8.5 54.6875 \nL 17.484375 54.6875 \nL 17.484375 21.921875 \nQ 17.484375 14.15625 20.5 10.265625 \nQ 23.53125 6.390625 29.59375 6.390625 \nQ 36.859375 6.390625 41.078125 11.03125 \nQ 45.3125 15.671875 45.3125 23.6875 \nL 45.3125 54.6875 \nL 54.296875 54.6875 \nL 54.296875 0 \nL 45.3125 0 \nL 45.3125 8.40625 \nQ 42.046875 3.421875 37.71875 1 \nQ 33.40625 -1.421875 27.6875 -1.421875 \nQ 18.265625 -1.421875 13.375 4.4375 \nQ 8.5 10.296875 8.5 21.578125 \nz\nM 31.109375 56 \nz\n\" id=\"DejaVuSans-117\"/>\n       <path d=\"M 56.203125 29.59375 \nL 56.203125 25.203125 \nL 14.890625 25.203125 \nQ 15.484375 15.921875 20.484375 11.0625 \nQ 25.484375 6.203125 34.421875 6.203125 \nQ 39.59375 6.203125 44.453125 7.46875 \nQ 49.3125 8.734375 54.109375 11.28125 \nL 54.109375 2.78125 \nQ 49.265625 0.734375 44.1875 -0.34375 \nQ 39.109375 -1.421875 33.890625 -1.421875 \nQ 20.796875 -1.421875 13.15625 6.1875 \nQ 5.515625 13.8125 5.515625 26.8125 \nQ 5.515625 40.234375 12.765625 48.109375 \nQ 20.015625 56 32.328125 56 \nQ 43.359375 56 49.78125 48.890625 \nQ 56.203125 41.796875 56.203125 29.59375 \nz\nM 47.21875 32.234375 \nQ 47.125 39.59375 43.09375 43.984375 \nQ 39.0625 48.390625 32.421875 48.390625 \nQ 24.90625 48.390625 20.390625 44.140625 \nQ 15.875 39.890625 15.1875 32.171875 \nz\n\" id=\"DejaVuSans-101\"/>\n      </defs>\n      <use transform=\"translate(0 0.015625)\" xlink:href=\"#DejaVuSans-8722\"/>\n      <use transform=\"translate(83.789062 0.015625)\" xlink:href=\"#DejaVuSans-108\"/>\n      <use transform=\"translate(111.572266 0.015625)\" xlink:href=\"#DejaVuSans-111\"/>\n      <use transform=\"translate(172.753906 0.015625)\" xlink:href=\"#DejaVuSans-103\"/>\n      <use transform=\"translate(237.1875 -16.390625)scale(0.7)\" xlink:href=\"#DejaVuSans-49\"/>\n      <use transform=\"translate(281.723633 -16.390625)scale(0.7)\" xlink:href=\"#DejaVuSans-48\"/>\n      <use transform=\"translate(328.994141 0.015625)\" xlink:href=\"#DejaVuSans-40\"/>\n      <use transform=\"translate(368.007812 0.015625)\" xlink:href=\"#DejaVuSans-80\"/>\n      <use transform=\"translate(428.310547 0.015625)\" xlink:href=\"#DejaVuSans-45\"/>\n      <use transform=\"translate(464.394531 0.015625)\" xlink:href=\"#DejaVuSans-118\"/>\n      <use transform=\"translate(523.574219 0.015625)\" xlink:href=\"#DejaVuSans-97\"/>\n      <use transform=\"translate(584.853516 0.015625)\" xlink:href=\"#DejaVuSans-108\"/>\n      <use transform=\"translate(612.636719 0.015625)\" xlink:href=\"#DejaVuSans-117\"/>\n      <use transform=\"translate(676.015625 0.015625)\" xlink:href=\"#DejaVuSans-101\"/>\n      <use transform=\"translate(737.539062 0.015625)\" xlink:href=\"#DejaVuSans-41\"/>\n     </g>\n    </g>\n   </g>\n   <g id=\"line2d_14\">\n    <path clip-path=\"url(#p15aeb30fd1)\" d=\"M 74.239489 251.840827 \nL 124.966761 251.840827 \nL 175.694034 251.840827 \nL 226.421307 251.840827 \nL 277.14858 251.840827 \nL 327.875852 251.840827 \nL 378.603125 251.840827 \nL 429.330398 251.840827 \nL 480.05767 251.840827 \nL 530.784943 251.840827 \nL 581.512216 251.840827 \nL 632.239489 251.840827 \nL 682.966761 251.840827 \n\" style=\"fill:none;stroke:#000000;stroke-dasharray:5.55,2.4;stroke-dashoffset:0;stroke-width:1.5;\"/>\n   </g>\n   <g id=\"patch_3\">\n    <path d=\"M 43.803125 457.198125 \nL 43.803125 22.318125 \n\" style=\"fill:none;stroke:#000000;stroke-linecap:square;stroke-linejoin:miter;stroke-width:0.8;\"/>\n   </g>\n   <g id=\"patch_4\">\n    <path d=\"M 713.403125 457.198125 \nL 713.403125 22.318125 \n\" style=\"fill:none;stroke:#000000;stroke-linecap:square;stroke-linejoin:miter;stroke-width:0.8;\"/>\n   </g>\n   <g id=\"patch_5\">\n    <path d=\"M 43.803125 457.198125 \nL 713.403125 457.198125 \n\" style=\"fill:none;stroke:#000000;stroke-linecap:square;stroke-linejoin:miter;stroke-width:0.8;\"/>\n   </g>\n   <g id=\"patch_6\">\n    <path d=\"M 43.803125 22.318125 \nL 713.403125 22.318125 \n\" style=\"fill:none;stroke:#000000;stroke-linecap:square;stroke-linejoin:miter;stroke-width:0.8;\"/>\n   </g>\n   <g id=\"text_16\">\n    <!-- GOF: P-values vs. Magnitude -->\n    <g transform=\"translate(293.126563 16.318125)scale(0.12 -0.12)\">\n     <defs>\n      <path d=\"M 59.515625 10.40625 \nL 59.515625 29.984375 \nL 43.40625 29.984375 \nL 43.40625 38.09375 \nL 69.28125 38.09375 \nL 69.28125 6.78125 \nQ 63.578125 2.734375 56.6875 0.65625 \nQ 49.8125 -1.421875 42 -1.421875 \nQ 24.90625 -1.421875 15.25 8.5625 \nQ 5.609375 18.5625 5.609375 36.375 \nQ 5.609375 54.25 15.25 64.234375 \nQ 24.90625 74.21875 42 74.21875 \nQ 49.125 74.21875 55.546875 72.453125 \nQ 61.96875 70.703125 67.390625 67.28125 \nL 67.390625 56.78125 \nQ 61.921875 61.421875 55.765625 63.765625 \nQ 49.609375 66.109375 42.828125 66.109375 \nQ 29.4375 66.109375 22.71875 58.640625 \nQ 16.015625 51.171875 16.015625 36.375 \nQ 16.015625 21.625 22.71875 14.15625 \nQ 29.4375 6.6875 42.828125 6.6875 \nQ 48.046875 6.6875 52.140625 7.59375 \nQ 56.25 8.5 59.515625 10.40625 \nz\n\" id=\"DejaVuSans-71\"/>\n      <path d=\"M 39.40625 66.21875 \nQ 28.65625 66.21875 22.328125 58.203125 \nQ 16.015625 50.203125 16.015625 36.375 \nQ 16.015625 22.609375 22.328125 14.59375 \nQ 28.65625 6.59375 39.40625 6.59375 \nQ 50.140625 6.59375 56.421875 14.59375 \nQ 62.703125 22.609375 62.703125 36.375 \nQ 62.703125 50.203125 56.421875 58.203125 \nQ 50.140625 66.21875 39.40625 66.21875 \nz\nM 39.40625 74.21875 \nQ 54.734375 74.21875 63.90625 63.9375 \nQ 73.09375 53.65625 73.09375 36.375 \nQ 73.09375 19.140625 63.90625 8.859375 \nQ 54.734375 -1.421875 39.40625 -1.421875 \nQ 24.03125 -1.421875 14.8125 8.828125 \nQ 5.609375 19.09375 5.609375 36.375 \nQ 5.609375 53.65625 14.8125 63.9375 \nQ 24.03125 74.21875 39.40625 74.21875 \nz\n\" id=\"DejaVuSans-79\"/>\n      <path d=\"M 11.71875 12.40625 \nL 22.015625 12.40625 \nL 22.015625 0 \nL 11.71875 0 \nz\nM 11.71875 51.703125 \nL 22.015625 51.703125 \nL 22.015625 39.3125 \nL 11.71875 39.3125 \nz\n\" id=\"DejaVuSans-58\"/>\n      <path d=\"M 44.28125 53.078125 \nL 44.28125 44.578125 \nQ 40.484375 46.53125 36.375 47.5 \nQ 32.28125 48.484375 27.875 48.484375 \nQ 21.1875 48.484375 17.84375 46.4375 \nQ 14.5 44.390625 14.5 40.28125 \nQ 14.5 37.15625 16.890625 35.375 \nQ 19.28125 33.59375 26.515625 31.984375 \nL 29.59375 31.296875 \nQ 39.15625 29.25 43.1875 25.515625 \nQ 47.21875 21.78125 47.21875 15.09375 \nQ 47.21875 7.46875 41.1875 3.015625 \nQ 35.15625 -1.421875 24.609375 -1.421875 \nQ 20.21875 -1.421875 15.453125 -0.5625 \nQ 10.6875 0.296875 5.421875 2 \nL 5.421875 11.28125 \nQ 10.40625 8.6875 15.234375 7.390625 \nQ 20.0625 6.109375 24.8125 6.109375 \nQ 31.15625 6.109375 34.5625 8.28125 \nQ 37.984375 10.453125 37.984375 14.40625 \nQ 37.984375 18.0625 35.515625 20.015625 \nQ 33.0625 21.96875 24.703125 23.78125 \nL 21.578125 24.515625 \nQ 13.234375 26.265625 9.515625 29.90625 \nQ 5.8125 33.546875 5.8125 39.890625 \nQ 5.8125 47.609375 11.28125 51.796875 \nQ 16.75 56 26.8125 56 \nQ 31.78125 56 36.171875 55.265625 \nQ 40.578125 54.546875 44.28125 53.078125 \nz\n\" id=\"DejaVuSans-115\"/>\n      <path d=\"M 9.8125 72.90625 \nL 24.515625 72.90625 \nL 43.109375 23.296875 \nL 61.8125 72.90625 \nL 76.515625 72.90625 \nL 76.515625 0 \nL 66.890625 0 \nL 66.890625 64.015625 \nL 48.09375 14.015625 \nL 38.1875 14.015625 \nL 19.390625 64.015625 \nL 19.390625 0 \nL 9.8125 0 \nz\n\" id=\"DejaVuSans-77\"/>\n      <path d=\"M 9.421875 54.6875 \nL 18.40625 54.6875 \nL 18.40625 0 \nL 9.421875 0 \nz\nM 9.421875 75.984375 \nL 18.40625 75.984375 \nL 18.40625 64.59375 \nL 9.421875 64.59375 \nz\n\" id=\"DejaVuSans-105\"/>\n      <path d=\"M 18.3125 70.21875 \nL 18.3125 54.6875 \nL 36.8125 54.6875 \nL 36.8125 47.703125 \nL 18.3125 47.703125 \nL 18.3125 18.015625 \nQ 18.3125 11.328125 20.140625 9.421875 \nQ 21.96875 7.515625 27.59375 7.515625 \nL 36.8125 7.515625 \nL 36.8125 0 \nL 27.59375 0 \nQ 17.1875 0 13.234375 3.875 \nQ 9.28125 7.765625 9.28125 18.015625 \nL 9.28125 47.703125 \nL 2.6875 47.703125 \nL 2.6875 54.6875 \nL 9.28125 54.6875 \nL 9.28125 70.21875 \nz\n\" id=\"DejaVuSans-116\"/>\n      <path d=\"M 45.40625 46.390625 \nL 45.40625 75.984375 \nL 54.390625 75.984375 \nL 54.390625 0 \nL 45.40625 0 \nL 45.40625 8.203125 \nQ 42.578125 3.328125 38.25 0.953125 \nQ 33.9375 -1.421875 27.875 -1.421875 \nQ 17.96875 -1.421875 11.734375 6.484375 \nQ 5.515625 14.40625 5.515625 27.296875 \nQ 5.515625 40.1875 11.734375 48.09375 \nQ 17.96875 56 27.875 56 \nQ 33.9375 56 38.25 53.625 \nQ 42.578125 51.265625 45.40625 46.390625 \nz\nM 14.796875 27.296875 \nQ 14.796875 17.390625 18.875 11.75 \nQ 22.953125 6.109375 30.078125 6.109375 \nQ 37.203125 6.109375 41.296875 11.75 \nQ 45.40625 17.390625 45.40625 27.296875 \nQ 45.40625 37.203125 41.296875 42.84375 \nQ 37.203125 48.484375 30.078125 48.484375 \nQ 22.953125 48.484375 18.875 42.84375 \nQ 14.796875 37.203125 14.796875 27.296875 \nz\n\" id=\"DejaVuSans-100\"/>\n     </defs>\n     <use xlink:href=\"#DejaVuSans-71\"/>\n     <use x=\"77.490234\" xlink:href=\"#DejaVuSans-79\"/>\n     <use x=\"156.201172\" xlink:href=\"#DejaVuSans-70\"/>\n     <use x=\"205.970703\" xlink:href=\"#DejaVuSans-58\"/>\n     <use x=\"239.662109\" xlink:href=\"#DejaVuSans-32\"/>\n     <use x=\"271.449219\" xlink:href=\"#DejaVuSans-80\"/>\n     <use x=\"329.501953\" xlink:href=\"#DejaVuSans-45\"/>\n     <use x=\"362.960938\" xlink:href=\"#DejaVuSans-118\"/>\n     <use x=\"422.140625\" xlink:href=\"#DejaVuSans-97\"/>\n     <use x=\"483.419922\" xlink:href=\"#DejaVuSans-108\"/>\n     <use x=\"511.203125\" xlink:href=\"#DejaVuSans-117\"/>\n     <use x=\"574.582031\" xlink:href=\"#DejaVuSans-101\"/>\n     <use x=\"636.105469\" xlink:href=\"#DejaVuSans-115\"/>\n     <use x=\"688.205078\" xlink:href=\"#DejaVuSans-32\"/>\n     <use x=\"719.992188\" xlink:href=\"#DejaVuSans-118\"/>\n     <use x=\"779.171875\" xlink:href=\"#DejaVuSans-115\"/>\n     <use x=\"831.271484\" xlink:href=\"#DejaVuSans-46\"/>\n     <use x=\"863.058594\" xlink:href=\"#DejaVuSans-32\"/>\n     <use x=\"894.845703\" xlink:href=\"#DejaVuSans-77\"/>\n     <use x=\"981.125\" xlink:href=\"#DejaVuSans-97\"/>\n     <use x=\"1042.404297\" xlink:href=\"#DejaVuSans-103\"/>\n     <use x=\"1105.880859\" xlink:href=\"#DejaVuSans-110\"/>\n     <use x=\"1169.259766\" xlink:href=\"#DejaVuSans-105\"/>\n     <use x=\"1197.042969\" xlink:href=\"#DejaVuSans-116\"/>\n     <use x=\"1236.251953\" xlink:href=\"#DejaVuSans-117\"/>\n     <use x=\"1299.630859\" xlink:href=\"#DejaVuSans-100\"/>\n     <use x=\"1363.107422\" xlink:href=\"#DejaVuSans-101\"/>\n    </g>\n   </g>\n  </g>\n </g>\n <defs>\n  <clipPath id=\"p15aeb30fd1\">\n   <rect height=\"434.88\" width=\"669.6\" x=\"43.803125\" y=\"22.318125\"/>\n  </clipPath>\n </defs>\n</svg>\n",
      "image/png": "[encoded data removed]"
     },
     "metadata": {
      "needs_background": "light"
     }
    }
   ],
   "source": [
    "## Volcano plot\n",
    "f, ax = plt.subplots(figsize=(12,8))\n",
    "# fisher = -np.log10(fisher)\n",
    "# chi2 = -np.log10(chi2)\n",
    "ax.scatter(magnitude_gain, fisher_gain, color='grey')\n",
    "# ax.scatter(magnitude_gain, chi2_gain, color='black')\n",
    "\n",
    "ax.scatter(magnitude_gain[rej_fisher_gain], fisher_gain[rej_fisher_gain], color='red')\n",
    "# ax.scatter(magnitude_gain[rej_chi2_gain], chi2_gain[rej_chi2_gain], color='blue')\n",
    "# ax.scatter(magnitude_gain[rej_fisher_gain_onetail], fisher_gain_onetail[rej_fisher_gain_onetail], color='purple')\n",
    "# ax.annotate(text=genes[rej_fisher][0], xy=(magnitude[rej_fisher], fisher[rej_fisher]), \\\n",
    "#     xytext=(magnitude[rej_fisher]-0.2, fisher[rej_fisher]-0.3), color='red')\n",
    "# ax.scatter(magnitude[rej_chi2], chi2[rej_chi2], color='blue')\n",
    "ax.plot(list(range(-12,1)), [-np.log10(alpha)] * len(list(range(-12,1))), color='black', linestyle='dashed')\n",
    "ax.set_xlabel('$\\log_2$(#LoF / #non-LoF)')\n",
    "ax.set_ylabel('$-\\log_{10}$(P-value)')\n",
    "ax.set_title('GOF: P-values vs. Magnitude')\n",
    "plt.show()\n"
   ]
  },
  {
   "cell_type": "code",
   "execution_count": 165,
   "metadata": {},
   "outputs": [],
   "source": [
    "## Construct the contigency table and perform statistical tests\n",
    "## i.e.    ecDNA+ | ecDNA-  \n",
    "## Loss | \n",
    "## Not  |\n",
    "## Sum up rows and generate 2 matrices where rows are genes, and columns are counts\n",
    "loss_pos = np.sum(L1[:,:n_pos], axis=1)\n",
    "loss_neg = np.sum(L1[:,n_pos:], axis=1)\n",
    "\n",
    "fisher, chi2 = np.zeros(n_gene), np.zeros(n_gene)\n",
    "alpha = 0.05\n",
    "for i in range(n_gene):\n",
    "    # depends on how we computed the frequencies of mutations\n",
    "    # e.g. method 2\n",
    "    contigency_table = np.array([[loss_pos[i], loss_neg[i]], [n_pos - loss_pos[i], n_neg - loss_neg[i]]])\n",
    "    # one-sided if our hypothesis is that LoF mutations is MORE frequent in ecDNA+ samples \n",
    "    # since we only have tumor supressor genes\n",
    "    # _, fisher[i] = stats.fisher_exact(contigency_table, alternative=\"greater\")\n",
    "    # or two-sided tests and use the volcano plots to determine the direction\n",
    "    _, fisher[i] = stats.fisher_exact(contigency_table, alternative=\"two-sided\")\n",
    "    _, chi2[i], _, _ = stats.chi2_contingency(contigency_table)"
   ]
  },
  {
   "cell_type": "code",
   "execution_count": 166,
   "metadata": {},
   "outputs": [],
   "source": [
    "## Compute the magnitude = log(#LoF / #not LoF)\n",
    "magnitude = np.zeros(n_gene)\n",
    "for i in range(n_gene):\n",
    "    magnitude[i] = np.log2(sum(L1[i,:]) / (n_pos + n_neg - sum(L1[i,:])))"
   ]
  },
  {
   "cell_type": "code",
   "execution_count": 167,
   "metadata": {},
   "outputs": [],
   "source": [
    "## p-value correction\n",
    "rej_fisher, fisher, _, _ = smm.multipletests(fisher, alpha=alpha, method='fdr_bh')\n",
    "rej_chi2, chi2, _, _ = smm.multipletests(chi2, alpha=alpha, method='fdr_bh')"
   ]
  },
  {
   "cell_type": "code",
   "execution_count": 168,
   "metadata": {},
   "outputs": [],
   "source": [
    "fisher = -np.log10(fisher)\n",
    "chi2 = -np.log10(chi2)"
   ]
  },
  {
   "cell_type": "code",
   "execution_count": 171,
   "metadata": {},
   "outputs": [
    {
     "output_type": "execute_result",
     "data": {
      "text/plain": [
       "(array(['TP53'], dtype=object), array(['TP53'], dtype=object))"
      ]
     },
     "metadata": {},
     "execution_count": 171
    }
   ],
   "source": [
    "genes[rej_fisher], genes[rej_chi2]"
   ]
  },
  {
   "cell_type": "code",
   "execution_count": 385,
   "metadata": {},
   "outputs": [
    {
     "output_type": "execute_result",
     "data": {
      "text/plain": [
       "'TP53'"
      ]
     },
     "metadata": {},
     "execution_count": 385
    }
   ],
   "source": [
    "genes[rej_fisher][0]"
   ]
  },
  {
   "cell_type": "code",
   "execution_count": 405,
   "metadata": {},
   "outputs": [
    {
     "output_type": "error",
     "ename": "IndexError",
     "evalue": "boolean index did not match indexed array along dimension 0; dimension is 62 but corresponding boolean dimension is 63",
     "traceback": [
      "\u001b[0;31m---------------------------------------------------------------------------\u001b[0m",
      "\u001b[0;31mIndexError\u001b[0m                                Traceback (most recent call last)",
      "\u001b[0;32m<ipython-input-405-ad9a18d8c4a1>\u001b[0m in \u001b[0;36m<module>\u001b[0;34m\u001b[0m\n\u001b[1;32m      7\u001b[0m \u001b[0;34m\u001b[0m\u001b[0m\n\u001b[1;32m      8\u001b[0m \u001b[0max\u001b[0m\u001b[0;34m.\u001b[0m\u001b[0mscatter\u001b[0m\u001b[0;34m(\u001b[0m\u001b[0mmagnitude\u001b[0m\u001b[0;34m[\u001b[0m\u001b[0mrej_fisher\u001b[0m\u001b[0;34m]\u001b[0m\u001b[0;34m,\u001b[0m \u001b[0mfisher\u001b[0m\u001b[0;34m[\u001b[0m\u001b[0mrej_fisher\u001b[0m\u001b[0;34m]\u001b[0m\u001b[0;34m,\u001b[0m \u001b[0mcolor\u001b[0m\u001b[0;34m=\u001b[0m\u001b[0;34m'red'\u001b[0m\u001b[0;34m)\u001b[0m\u001b[0;34m\u001b[0m\u001b[0;34m\u001b[0m\u001b[0m\n\u001b[0;32m----> 9\u001b[0;31m ax.annotate(text=genes[rej_fisher][0], xy=(magnitude[rej_fisher], fisher[rej_fisher]), \\\n\u001b[0m\u001b[1;32m     10\u001b[0m     xytext=(magnitude[rej_fisher]-0.2, fisher[rej_fisher]-0.3), color='red')\n\u001b[1;32m     11\u001b[0m \u001b[0;31m# ax.scatter(magnitude[rej_chi2], chi2[rej_chi2], color='blue')\u001b[0m\u001b[0;34m\u001b[0m\u001b[0;34m\u001b[0m\u001b[0;34m\u001b[0m\u001b[0m\n",
      "\u001b[0;31mIndexError\u001b[0m: boolean index did not match indexed array along dimension 0; dimension is 62 but corresponding boolean dimension is 63"
     ]
    }
   ],
   "source": [
    "## Volcano plot\n",
    "f, ax = plt.subplots(figsize=(12,8))\n",
    "# fisher = -np.log10(fisher)\n",
    "# chi2 = -np.log10(chi2)\n",
    "ax.scatter(magnitude, fisher, color='grey')\n",
    "# ax.scatter(magnitude, chi2, color='black')\n",
    "\n",
    "ax.scatter(magnitude[rej_fisher], fisher[rej_fisher], color='red')\n",
    "ax.annotate(text=genes[rej_fisher][0], xy=(magnitude[rej_fisher], fisher[rej_fisher]), \\\n",
    "    xytext=(magnitude[rej_fisher]-0.2, fisher[rej_fisher]-0.3), color='red')\n",
    "# ax.scatter(magnitude[rej_chi2], chi2[rej_chi2], color='blue')\n",
    "ax.plot(list(range(-12,1)), [-np.log10(alpha)] * len(list(range(-12,1))), color='black', linestyle='dashed')\n",
    "ax.set_xlabel('$\\log_2$(#LoF / #non-LoF)')\n",
    "ax.set_ylabel('$-\\log_{10}$(P-value)')\n",
    "ax.set_title('LOF: P-values vs. Magnitude')\n",
    "plt.show()\n"
   ]
  },
  {
   "source": [
    "## Using strategy 2 matrix"
   ],
   "cell_type": "markdown",
   "metadata": {}
  },
  {
   "cell_type": "code",
   "execution_count": 79,
   "metadata": {},
   "outputs": [
    {
     "output_type": "stream",
     "name": "stdout",
     "text": [
      "(189, 1378)\n"
     ]
    },
    {
     "output_type": "execute_result",
     "data": {
      "text/plain": [
       "  track_name track_type TCGA-D3-A2JC  ... TCGA-VD-A8KN TCGA-VD-AA8O TCGA-VD-AA8P\n",
       "0        APC        CNA   homdel_rec  ...          NaN          NaN          NaN\n",
       "1   ARHGEF12        CNA          NaN  ...          NaN          NaN          NaN\n",
       "2        ATM        CNA          NaN  ...          NaN          NaN          NaN\n",
       "3     BCL11B        CNA          NaN  ...          NaN          NaN          NaN\n",
       "4        BLM        CNA          NaN  ...          NaN          NaN          NaN\n",
       "\n",
       "[5 rows x 1378 columns]"
      ],
      "text/html": "<div>\n<style scoped>\n    .dataframe tbody tr th:only-of-type {\n        vertical-align: middle;\n    }\n\n    .dataframe tbody tr th {\n        vertical-align: top;\n    }\n\n    .dataframe thead th {\n        text-align: right;\n    }\n</style>\n<table border=\"1\" class=\"dataframe\">\n  <thead>\n    <tr style=\"text-align: right;\">\n      <th></th>\n      <th>track_name</th>\n      <th>track_type</th>\n      <th>TCGA-D3-A2JC</th>\n      <th>TCGA-DX-A23R</th>\n      <th>TCGA-05-4402</th>\n      <th>TCGA-D7-6528</th>\n      <th>TCGA-A6-2677</th>\n      <th>TCGA-CV-6948</th>\n      <th>TCGA-A6-5656</th>\n      <th>TCGA-BR-4267</th>\n      <th>TCGA-A6-3810</th>\n      <th>TCGA-CG-4476</th>\n      <th>TCGA-D3-A2J6</th>\n      <th>TCGA-05-4397</th>\n      <th>TCGA-FF-8042</th>\n      <th>TCGA-EE-A3JI</th>\n      <th>TCGA-DK-A1AC</th>\n      <th>TCGA-IR-A3LK</th>\n      <th>TCGA-IG-A97I</th>\n      <th>TCGA-91-6840</th>\n      <th>TCGA-CG-4469</th>\n      <th>TCGA-DU-7010</th>\n      <th>TCGA-43-3394</th>\n      <th>TCGA-BR-4369</th>\n      <th>TCGA-06-0128</th>\n      <th>TCGA-FI-A2CY</th>\n      <th>TCGA-E2-A1LL</th>\n      <th>TCGA-IG-A3YB</th>\n      <th>TCGA-L5-A4OJ</th>\n      <th>TCGA-BW-A5NO</th>\n      <th>TCGA-05-5715</th>\n      <th>TCGA-BC-A217</th>\n      <th>TCGA-GV-A3JZ</th>\n      <th>TCGA-C8-A130</th>\n      <th>TCGA-BR-4357</th>\n      <th>TCGA-CG-4449</th>\n      <th>TCGA-05-4422</th>\n      <th>TCGA-IK-7675</th>\n      <th>TCGA-CN-4729</th>\n      <th>TCGA-49-4510</th>\n      <th>...</th>\n      <th>TCGA-KN-8429</th>\n      <th>TCGA-KN-8431</th>\n      <th>TCGA-KN-8437</th>\n      <th>TCGA-KO-8405</th>\n      <th>TCGA-KO-8406</th>\n      <th>TCGA-KO-8407</th>\n      <th>TCGA-KO-8409</th>\n      <th>TCGA-KO-8410</th>\n      <th>TCGA-KO-8411</th>\n      <th>TCGA-KO-8417</th>\n      <th>TCGA-L6-A4ET</th>\n      <th>TCGA-MH-A55W</th>\n      <th>TCGA-MH-A560</th>\n      <th>TCGA-MH-A562</th>\n      <th>TCGA-MR-A520</th>\n      <th>TCGA-V3-A9ZY</th>\n      <th>TCGA-V4-A9E5</th>\n      <th>TCGA-V4-A9E8</th>\n      <th>TCGA-V4-A9EC</th>\n      <th>TCGA-V4-A9ED</th>\n      <th>TCGA-V4-A9EF</th>\n      <th>TCGA-V4-A9EJ</th>\n      <th>TCGA-V4-A9EM</th>\n      <th>TCGA-V4-A9EO</th>\n      <th>TCGA-V4-A9ES</th>\n      <th>TCGA-V4-A9EZ</th>\n      <th>TCGA-V4-A9F0</th>\n      <th>TCGA-V4-A9F2</th>\n      <th>TCGA-V4-A9F7</th>\n      <th>TCGA-V4-A9F8</th>\n      <th>TCGA-VD-A8K7</th>\n      <th>TCGA-VD-A8KA</th>\n      <th>TCGA-VD-A8KD</th>\n      <th>TCGA-VD-A8KE</th>\n      <th>TCGA-VD-A8KF</th>\n      <th>TCGA-VD-A8KH</th>\n      <th>TCGA-VD-A8KL</th>\n      <th>TCGA-VD-A8KN</th>\n      <th>TCGA-VD-AA8O</th>\n      <th>TCGA-VD-AA8P</th>\n    </tr>\n  </thead>\n  <tbody>\n    <tr>\n      <th>0</th>\n      <td>APC</td>\n      <td>CNA</td>\n      <td>homdel_rec</td>\n      <td>Amplification</td>\n      <td>NaN</td>\n      <td>NaN</td>\n      <td>NaN</td>\n      <td>NaN</td>\n      <td>NaN</td>\n      <td>NaN</td>\n      <td>NaN</td>\n      <td>NaN</td>\n      <td>NaN</td>\n      <td>NaN</td>\n      <td>NaN</td>\n      <td>NaN</td>\n      <td>NaN</td>\n      <td>NaN</td>\n      <td>NaN</td>\n      <td>NaN</td>\n      <td>NaN</td>\n      <td>NaN</td>\n      <td>NaN</td>\n      <td>NaN</td>\n      <td>NaN</td>\n      <td>NaN</td>\n      <td>NaN</td>\n      <td>NaN</td>\n      <td>NaN</td>\n      <td>NaN</td>\n      <td>NaN</td>\n      <td>NaN</td>\n      <td>NaN</td>\n      <td>NaN</td>\n      <td>NaN</td>\n      <td>NaN</td>\n      <td>NaN</td>\n      <td>NaN</td>\n      <td>NaN</td>\n      <td>NaN</td>\n      <td>...</td>\n      <td>NaN</td>\n      <td>NaN</td>\n      <td>NaN</td>\n      <td>NaN</td>\n      <td>NaN</td>\n      <td>NaN</td>\n      <td>NaN</td>\n      <td>NaN</td>\n      <td>NaN</td>\n      <td>NaN</td>\n      <td>NaN</td>\n      <td>NaN</td>\n      <td>NaN</td>\n      <td>NaN</td>\n      <td>NaN</td>\n      <td>NaN</td>\n      <td>NaN</td>\n      <td>NaN</td>\n      <td>NaN</td>\n      <td>NaN</td>\n      <td>NaN</td>\n      <td>NaN</td>\n      <td>NaN</td>\n      <td>NaN</td>\n      <td>NaN</td>\n      <td>NaN</td>\n      <td>NaN</td>\n      <td>NaN</td>\n      <td>NaN</td>\n      <td>NaN</td>\n      <td>NaN</td>\n      <td>NaN</td>\n      <td>NaN</td>\n      <td>NaN</td>\n      <td>NaN</td>\n      <td>NaN</td>\n      <td>NaN</td>\n      <td>NaN</td>\n      <td>NaN</td>\n      <td>NaN</td>\n    </tr>\n    <tr>\n      <th>1</th>\n      <td>ARHGEF12</td>\n      <td>CNA</td>\n      <td>NaN</td>\n      <td>NaN</td>\n      <td>NaN</td>\n      <td>NaN</td>\n      <td>NaN</td>\n      <td>NaN</td>\n      <td>NaN</td>\n      <td>NaN</td>\n      <td>NaN</td>\n      <td>NaN</td>\n      <td>NaN</td>\n      <td>NaN</td>\n      <td>NaN</td>\n      <td>NaN</td>\n      <td>NaN</td>\n      <td>NaN</td>\n      <td>NaN</td>\n      <td>NaN</td>\n      <td>NaN</td>\n      <td>NaN</td>\n      <td>NaN</td>\n      <td>NaN</td>\n      <td>Amplification</td>\n      <td>Amplification</td>\n      <td>Deep Deletion</td>\n      <td>NaN</td>\n      <td>NaN</td>\n      <td>NaN</td>\n      <td>NaN</td>\n      <td>NaN</td>\n      <td>NaN</td>\n      <td>NaN</td>\n      <td>NaN</td>\n      <td>NaN</td>\n      <td>NaN</td>\n      <td>NaN</td>\n      <td>NaN</td>\n      <td>NaN</td>\n      <td>...</td>\n      <td>NaN</td>\n      <td>NaN</td>\n      <td>NaN</td>\n      <td>NaN</td>\n      <td>NaN</td>\n      <td>NaN</td>\n      <td>NaN</td>\n      <td>NaN</td>\n      <td>NaN</td>\n      <td>NaN</td>\n      <td>NaN</td>\n      <td>NaN</td>\n      <td>NaN</td>\n      <td>NaN</td>\n      <td>NaN</td>\n      <td>NaN</td>\n      <td>NaN</td>\n      <td>NaN</td>\n      <td>NaN</td>\n      <td>NaN</td>\n      <td>NaN</td>\n      <td>NaN</td>\n      <td>NaN</td>\n      <td>NaN</td>\n      <td>NaN</td>\n      <td>NaN</td>\n      <td>NaN</td>\n      <td>NaN</td>\n      <td>NaN</td>\n      <td>NaN</td>\n      <td>NaN</td>\n      <td>NaN</td>\n      <td>NaN</td>\n      <td>NaN</td>\n      <td>NaN</td>\n      <td>NaN</td>\n      <td>NaN</td>\n      <td>NaN</td>\n      <td>NaN</td>\n      <td>NaN</td>\n    </tr>\n    <tr>\n      <th>2</th>\n      <td>ATM</td>\n      <td>CNA</td>\n      <td>NaN</td>\n      <td>NaN</td>\n      <td>NaN</td>\n      <td>NaN</td>\n      <td>NaN</td>\n      <td>NaN</td>\n      <td>NaN</td>\n      <td>NaN</td>\n      <td>NaN</td>\n      <td>NaN</td>\n      <td>NaN</td>\n      <td>NaN</td>\n      <td>NaN</td>\n      <td>NaN</td>\n      <td>NaN</td>\n      <td>NaN</td>\n      <td>NaN</td>\n      <td>NaN</td>\n      <td>NaN</td>\n      <td>NaN</td>\n      <td>NaN</td>\n      <td>NaN</td>\n      <td>Amplification</td>\n      <td>NaN</td>\n      <td>NaN</td>\n      <td>NaN</td>\n      <td>NaN</td>\n      <td>NaN</td>\n      <td>NaN</td>\n      <td>NaN</td>\n      <td>homdel_rec</td>\n      <td>homdel_rec</td>\n      <td>homdel_rec</td>\n      <td>Amplification</td>\n      <td>Amplification</td>\n      <td>Amplification</td>\n      <td>Amplification</td>\n      <td>NaN</td>\n      <td>...</td>\n      <td>NaN</td>\n      <td>NaN</td>\n      <td>NaN</td>\n      <td>NaN</td>\n      <td>NaN</td>\n      <td>NaN</td>\n      <td>NaN</td>\n      <td>NaN</td>\n      <td>NaN</td>\n      <td>NaN</td>\n      <td>NaN</td>\n      <td>NaN</td>\n      <td>NaN</td>\n      <td>NaN</td>\n      <td>NaN</td>\n      <td>NaN</td>\n      <td>NaN</td>\n      <td>NaN</td>\n      <td>NaN</td>\n      <td>NaN</td>\n      <td>NaN</td>\n      <td>NaN</td>\n      <td>NaN</td>\n      <td>NaN</td>\n      <td>NaN</td>\n      <td>NaN</td>\n      <td>NaN</td>\n      <td>NaN</td>\n      <td>NaN</td>\n      <td>NaN</td>\n      <td>NaN</td>\n      <td>NaN</td>\n      <td>NaN</td>\n      <td>NaN</td>\n      <td>NaN</td>\n      <td>NaN</td>\n      <td>NaN</td>\n      <td>NaN</td>\n      <td>NaN</td>\n      <td>NaN</td>\n    </tr>\n    <tr>\n      <th>3</th>\n      <td>BCL11B</td>\n      <td>CNA</td>\n      <td>NaN</td>\n      <td>NaN</td>\n      <td>NaN</td>\n      <td>NaN</td>\n      <td>NaN</td>\n      <td>NaN</td>\n      <td>NaN</td>\n      <td>NaN</td>\n      <td>NaN</td>\n      <td>NaN</td>\n      <td>NaN</td>\n      <td>NaN</td>\n      <td>NaN</td>\n      <td>NaN</td>\n      <td>NaN</td>\n      <td>NaN</td>\n      <td>NaN</td>\n      <td>NaN</td>\n      <td>NaN</td>\n      <td>NaN</td>\n      <td>NaN</td>\n      <td>NaN</td>\n      <td>NaN</td>\n      <td>NaN</td>\n      <td>NaN</td>\n      <td>NaN</td>\n      <td>NaN</td>\n      <td>NaN</td>\n      <td>NaN</td>\n      <td>NaN</td>\n      <td>homdel_rec</td>\n      <td>NaN</td>\n      <td>NaN</td>\n      <td>NaN</td>\n      <td>NaN</td>\n      <td>NaN</td>\n      <td>NaN</td>\n      <td>NaN</td>\n      <td>...</td>\n      <td>NaN</td>\n      <td>NaN</td>\n      <td>NaN</td>\n      <td>NaN</td>\n      <td>NaN</td>\n      <td>NaN</td>\n      <td>NaN</td>\n      <td>NaN</td>\n      <td>NaN</td>\n      <td>NaN</td>\n      <td>NaN</td>\n      <td>NaN</td>\n      <td>NaN</td>\n      <td>NaN</td>\n      <td>NaN</td>\n      <td>NaN</td>\n      <td>NaN</td>\n      <td>NaN</td>\n      <td>NaN</td>\n      <td>NaN</td>\n      <td>NaN</td>\n      <td>NaN</td>\n      <td>NaN</td>\n      <td>NaN</td>\n      <td>NaN</td>\n      <td>NaN</td>\n      <td>NaN</td>\n      <td>NaN</td>\n      <td>NaN</td>\n      <td>NaN</td>\n      <td>NaN</td>\n      <td>NaN</td>\n      <td>NaN</td>\n      <td>NaN</td>\n      <td>NaN</td>\n      <td>NaN</td>\n      <td>NaN</td>\n      <td>NaN</td>\n      <td>NaN</td>\n      <td>NaN</td>\n    </tr>\n    <tr>\n      <th>4</th>\n      <td>BLM</td>\n      <td>CNA</td>\n      <td>NaN</td>\n      <td>NaN</td>\n      <td>NaN</td>\n      <td>NaN</td>\n      <td>NaN</td>\n      <td>NaN</td>\n      <td>NaN</td>\n      <td>NaN</td>\n      <td>NaN</td>\n      <td>NaN</td>\n      <td>NaN</td>\n      <td>NaN</td>\n      <td>NaN</td>\n      <td>NaN</td>\n      <td>NaN</td>\n      <td>NaN</td>\n      <td>NaN</td>\n      <td>NaN</td>\n      <td>NaN</td>\n      <td>NaN</td>\n      <td>NaN</td>\n      <td>NaN</td>\n      <td>NaN</td>\n      <td>NaN</td>\n      <td>NaN</td>\n      <td>NaN</td>\n      <td>NaN</td>\n      <td>NaN</td>\n      <td>NaN</td>\n      <td>NaN</td>\n      <td>NaN</td>\n      <td>NaN</td>\n      <td>NaN</td>\n      <td>Amplification</td>\n      <td>NaN</td>\n      <td>NaN</td>\n      <td>NaN</td>\n      <td>NaN</td>\n      <td>...</td>\n      <td>NaN</td>\n      <td>NaN</td>\n      <td>NaN</td>\n      <td>NaN</td>\n      <td>NaN</td>\n      <td>NaN</td>\n      <td>NaN</td>\n      <td>NaN</td>\n      <td>NaN</td>\n      <td>NaN</td>\n      <td>NaN</td>\n      <td>NaN</td>\n      <td>NaN</td>\n      <td>NaN</td>\n      <td>NaN</td>\n      <td>NaN</td>\n      <td>NaN</td>\n      <td>NaN</td>\n      <td>NaN</td>\n      <td>NaN</td>\n      <td>NaN</td>\n      <td>NaN</td>\n      <td>NaN</td>\n      <td>NaN</td>\n      <td>NaN</td>\n      <td>NaN</td>\n      <td>NaN</td>\n      <td>NaN</td>\n      <td>NaN</td>\n      <td>NaN</td>\n      <td>NaN</td>\n      <td>NaN</td>\n      <td>NaN</td>\n      <td>NaN</td>\n      <td>NaN</td>\n      <td>NaN</td>\n      <td>NaN</td>\n      <td>NaN</td>\n      <td>NaN</td>\n      <td>NaN</td>\n    </tr>\n  </tbody>\n</table>\n<p>5 rows × 1378 columns</p>\n</div>"
     },
     "metadata": {},
     "execution_count": 79
    }
   ],
   "source": [
    "print(df2.shape)\n",
    "df2.head()"
   ]
  },
  {
   "cell_type": "code",
   "execution_count": 186,
   "metadata": {},
   "outputs": [
    {
     "output_type": "stream",
     "name": "stdout",
     "text": [
      "335 ecDNA+ samples; 1041 ecDNA- samples\n"
     ]
    }
   ],
   "source": [
    "## Convert the oncoprint matrix into a numerical matrix\n",
    "genes = df2['track_name'].unique()\n",
    "n_gene = len(genes)\n",
    "n_neg = df2.shape[1] - 2 - n_pos\n",
    "print(\"{} ecDNA+ samples; {} ecDNA- samples\".format(n_pos, n_neg))\n",
    "L2 = np.zeros(shape=(len(genes), df2.shape[1]-2))"
   ]
  },
  {
   "cell_type": "code",
   "execution_count": 212,
   "metadata": {},
   "outputs": [],
   "source": [
    "G2 = np.zeros(shape=(63, df2.shape[1]-2))"
   ]
  },
  {
   "cell_type": "code",
   "execution_count": 213,
   "metadata": {},
   "outputs": [],
   "source": [
    "## Iterate over each genes & ignore FUSION at this moment\n",
    "for i in range(n_gene):\n",
    "    df_sel = df2[(df2['track_name'] == genes[i]) & (df2['track_type'] != 'FUSION')]\n",
    "    for j in range(2, df2.shape[1]):\n",
    "        ## Either way to count LoF\n",
    "        # L1[i,j-2] = sum(df_sel[df_sel.columns[j]].isin(loss))      # method 1\n",
    "        L2[i,j-2] = df_sel[df_sel.columns[j]].isin(loss).any()   # method 2\n",
    "        G2[i,j-2] = df_sel[df_sel.columns[j]].isin(gain).any()\n"
   ]
  },
  {
   "cell_type": "code",
   "execution_count": 188,
   "metadata": {},
   "outputs": [],
   "source": [
    "## Construct the contigency table and perform statistical tests\n",
    "## i.e.    ecDNA+ | ecDNA-  \n",
    "## Loss |                   \n",
    "## Not  |                \n",
    "## Sum up rows and generate 2 matrices where rows are genes, and columns are counts\n",
    "loss_pos2 = np.sum(L2[:,:n_pos], axis=1)\n",
    "loss_neg2 = np.sum(L2[:,n_pos:], axis=1)"
   ]
  },
  {
   "cell_type": "code",
   "execution_count": 224,
   "metadata": {},
   "outputs": [
    {
     "output_type": "execute_result",
     "data": {
      "text/plain": [
       "(63, 63)"
      ]
     },
     "metadata": {},
     "execution_count": 224
    }
   ],
   "source": [
    "gain_pos2 = np.sum(G2[:,:n_pos], axis=1)\n",
    "gain_neg2 = np.sum(G2[:,n_pos:], axis=1)\n",
    "len(gain_neg2), len(gain_pos2)"
   ]
  },
  {
   "cell_type": "code",
   "execution_count": 189,
   "metadata": {},
   "outputs": [
    {
     "output_type": "stream",
     "name": "stdout",
     "text": [
      "31\n"
     ]
    }
   ],
   "source": [
    "## Look for zero rows\n",
    "for i in range(n_gene):\n",
    "    if loss_pos2[i] == 0 and loss_neg2[i] == 0:\n",
    "        print(i)"
   ]
  },
  {
   "cell_type": "code",
   "execution_count": 225,
   "metadata": {},
   "outputs": [
    {
     "output_type": "stream",
     "name": "stdout",
     "text": [
      "56\n62\n"
     ]
    }
   ],
   "source": [
    "for i in range(63):\n",
    "    if gain_pos2[i] == 0 and gain_neg2[i] == 0:\n",
    "        print(i)"
   ]
  },
  {
   "cell_type": "code",
   "execution_count": 190,
   "metadata": {},
   "outputs": [],
   "source": [
    "loss_pos2 = np.delete(loss_pos2, 31)\n",
    "loss_neg2 = np.delete(loss_neg2, 31)\n",
    "n_gene -= 1"
   ]
  },
  {
   "cell_type": "code",
   "execution_count": 226,
   "metadata": {},
   "outputs": [],
   "source": [
    "gain_pos2 = np.delete(gain_pos2, [56,62])\n",
    "gain_neg2 = np.delete(gain_neg2, [56,62])\n",
    "n_gene = 61"
   ]
  },
  {
   "cell_type": "code",
   "execution_count": 256,
   "metadata": {},
   "outputs": [],
   "source": [
    "fisher_2_gain_onetail= np.zeros(n_gene)\n",
    "alpha = 0.05\n",
    "for i in range(n_gene):\n",
    "    # print(i)\n",
    "    # depends on how we computed the frequencies of mutations\n",
    "    # e.g. method 2\n",
    "    contigency_table = np.array([[gain_pos2[i], gain_neg2[i]], [n_pos - gain_pos2[i], n_neg - gain_neg2[i]]])\n",
    "    # one-sided if our hypothesis is that LoF mutations is MORE frequent in ecDNA+ samples \n",
    "    # since we only have tumor supressor genes\n",
    "    # _, fisher[i] = stats.fisher_exact(contigency_table, alternative=\"greater\")\n",
    "    # or two-sided tests and use the volcano plots to determine the direction\n",
    "    _, fisher_2_gain_onetail[i] = stats.fisher_exact(contigency_table, alternative=\"greater\")\n",
    "    # _, chi2_2_gain_onetail[i], _, _ = stats.chi2_contingency(contigency_table)"
   ]
  },
  {
   "cell_type": "code",
   "execution_count": 257,
   "metadata": {},
   "outputs": [],
   "source": [
    "## p-value correction\n",
    "rej_fisher_2_gain_onetail, fisher_2_gain_onetail, _, _ = smm.multipletests(fisher_2_gain_onetail, alpha=alpha, method='fdr_bh')\n",
    "fisher_2_gain_onetail = -np.log10(fisher_2_gain_onetail)\n",
    "# rej_chi2_2_gain, chi2_2_gain, _, _ = smm.multipletests(chi2_2_gain, alpha=alpha, method='fdr_bh')"
   ]
  },
  {
   "cell_type": "code",
   "execution_count": 245,
   "metadata": {},
   "outputs": [],
   "source": [
    "fisher_2_gain, chi2_2_gain = np.zeros(n_gene), np.zeros(n_gene)\n",
    "alpha = 0.05\n",
    "for i in range(n_gene):\n",
    "    # print(i)\n",
    "    # depends on how we computed the frequencies of mutations\n",
    "    # e.g. method 2\n",
    "    contigency_table = np.array([[gain_pos2[i], gain_neg2[i]], [n_pos - gain_pos2[i], n_neg - gain_neg2[i]]])\n",
    "    # one-sided if our hypothesis is that LoF mutations is MORE frequent in ecDNA+ samples \n",
    "    # since we only have tumor supressor genes\n",
    "    # _, fisher[i] = stats.fisher_exact(contigency_table, alternative=\"greater\")\n",
    "    # or two-sided tests and use the volcano plots to determine the direction\n",
    "    _, fisher_2_gain[i] = stats.fisher_exact(contigency_table, alternative=\"two-sided\")\n",
    "    _, chi2_2_gain[i], _, _ = stats.chi2_contingency(contigency_table)"
   ]
  },
  {
   "cell_type": "code",
   "execution_count": 246,
   "metadata": {},
   "outputs": [],
   "source": [
    "## p-value correction\n",
    "rej_fisher_2_gain, fisher_2_gain, _, _ = smm.multipletests(fisher_2_gain, alpha=alpha, method='fdr_bh')\n",
    "rej_chi2_2_gain, chi2_2_gain, _, _ = smm.multipletests(chi2_2_gain, alpha=alpha, method='fdr_bh')"
   ]
  },
  {
   "cell_type": "code",
   "execution_count": 247,
   "metadata": {},
   "outputs": [],
   "source": [
    "fisher_2_gain = -np.log10(fisher_2_gain)\n",
    "chi2_2_gain = -np.log10(chi2_2_gain)"
   ]
  },
  {
   "cell_type": "code",
   "execution_count": 248,
   "metadata": {},
   "outputs": [
    {
     "output_type": "execute_result",
     "data": {
      "text/plain": [
       "61"
      ]
     },
     "metadata": {},
     "execution_count": 248
    }
   ],
   "source": [
    "len(fisher_2_gain)"
   ]
  },
  {
   "cell_type": "code",
   "execution_count": 191,
   "metadata": {},
   "outputs": [],
   "source": [
    "fisher_2, chi2_2 = np.zeros(n_gene), np.zeros(n_gene)\n",
    "alpha = 0.05\n",
    "for i in range(n_gene):\n",
    "    # print(i)\n",
    "    # depends on how we computed the frequencies of mutations\n",
    "    # e.g. method 2\n",
    "    contigency_table = np.array([[loss_pos2[i], loss_neg2[i]], [n_pos - loss_pos2[i], n_neg - loss_neg2[i]]])\n",
    "    # one-sided if our hypothesis is that LoF mutations is MORE frequent in ecDNA+ samples \n",
    "    # since we only have tumor supressor genes\n",
    "    # _, fisher[i] = stats.fisher_exact(contigency_table, alternative=\"greater\")\n",
    "    # or two-sided tests and use the volcano plots to determine the direction\n",
    "    _, fisher_2[i] = stats.fisher_exact(contigency_table, alternative=\"two-sided\")\n",
    "    _, chi2_2[i], _, _ = stats.chi2_contingency(contigency_table)"
   ]
  },
  {
   "cell_type": "code",
   "execution_count": 192,
   "metadata": {},
   "outputs": [],
   "source": [
    "n_gene = 62\n",
    "fisher_onetail = np.zeros(n_gene)\n",
    "for i in range(n_gene):\n",
    "    # print(i)\n",
    "    # depends on how we computed the frequencies of mutations\n",
    "    # e.g. method 2\n",
    "    contigency_table = np.array([[loss_pos2[i], loss_neg2[i]], [n_pos - loss_pos2[i], n_neg - loss_neg2[i]]])\n",
    "    # one-sided if our hypothesis is that LoF mutations is MORE frequent in ecDNA+ samples \n",
    "    # since we only have tumor supressor genes\n",
    "    _, fisher_onetail[i] = stats.fisher_exact(contigency_table, alternative=\"greater\")\n",
    "    # or two-sided tests and use the volcano plots to determine the direction\n",
    "    # _, fisher_2[i] = stats.fisher_exact(contigency_table, alternative=\"two-sided\")\n"
   ]
  },
  {
   "cell_type": "code",
   "execution_count": 193,
   "metadata": {},
   "outputs": [],
   "source": [
    "rej_fisher_onetail, fisher_onetail, _, _ = smm.multipletests(fisher_onetail, alpha=alpha, method='fdr_bh')\n",
    "fisher_onetail = -np.log10(fisher_onetail)"
   ]
  },
  {
   "cell_type": "code",
   "execution_count": 136,
   "metadata": {},
   "outputs": [],
   "source": [
    "# for i in range(30,32):\n",
    "#     contigency_table = np.array([[loss_pos2[i], loss_neg2[i]], [n_pos - loss_pos2[i], n_neg - loss_neg2[i]]])\n",
    "#     print(contigency_table)\n",
    "#     _, p1 = stats.fisher_exact(contigency_table, alternative=\"two-sided\")\n",
    "#     _, p2, _, _ = stats.chi2_contingency(contigency_table)\n",
    "#     print(\"{}, {}\".format(p1, p2))"
   ]
  },
  {
   "cell_type": "code",
   "execution_count": 194,
   "metadata": {},
   "outputs": [
    {
     "output_type": "execute_result",
     "data": {
      "text/plain": [
       "'MDM4'"
      ]
     },
     "metadata": {},
     "execution_count": 194
    }
   ],
   "source": [
    "## All zeros in this row\n",
    "genes[31] "
   ]
  },
  {
   "cell_type": "code",
   "execution_count": 195,
   "metadata": {},
   "outputs": [],
   "source": [
    "## Compute the magnitude = log(#LoF / #not LoF)\n",
    "magnitude2 = np.zeros(n_gene)\n",
    "for i in range(n_gene):\n",
    "    magnitude2[i] = np.log2(sum(L2[i,:]) / (n_pos + n_neg - sum(L2[i,:])))"
   ]
  },
  {
   "cell_type": "code",
   "execution_count": 196,
   "metadata": {},
   "outputs": [],
   "source": [
    "## p-value correction\n",
    "rej_fisher_2, fisher_2, _, _ = smm.multipletests(fisher_2, alpha=alpha, method='fdr_bh')\n",
    "rej_chi2_2, chi2_2, _, _ = smm.multipletests(chi2_2, alpha=alpha, method='fdr_bh')"
   ]
  },
  {
   "cell_type": "code",
   "execution_count": 197,
   "metadata": {},
   "outputs": [],
   "source": [
    "fisher_2 = -np.log10(fisher_2)\n",
    "chi2_2 = -np.log10(chi2_2)"
   ]
  },
  {
   "cell_type": "code",
   "execution_count": 198,
   "metadata": {},
   "outputs": [
    {
     "output_type": "execute_result",
     "data": {
      "text/plain": [
       "array(['APC', 'ARHGEF12', 'ATM', 'BCL11B', 'BLM', 'BMPR1A', 'BRCA1',\n",
       "       'BRCA2', 'CARS', 'CBFA2T3', 'CDH1', 'CDH11', 'CDK6', 'CDKN2C',\n",
       "       'CEBPA', 'CHEK2', 'CREB1', 'CREBBP', 'CYLD', 'DDX5', 'EXT1',\n",
       "       'EXT2', 'FBXW7', 'FH', 'FLT3', 'FOXP1', 'GPC3', 'IDH1', 'IL2',\n",
       "       'JAK2', 'MAP2K4', 'MEN1', 'MLH1', 'MSH2', 'NF1', 'NF2', 'NOTCH1',\n",
       "       'NPM1', 'NR4A3', 'NUP98', 'PALB2', 'PML', 'PTEN', 'RB1', 'RUNX1',\n",
       "       'SDHB', 'SDHD', 'SMARCA4', 'SMARCB1', 'SOCS1', 'STK11', 'SUFU',\n",
       "       'SUZ12', 'SYK', 'TCF3', 'TNFAIP3', 'TP53', 'TSC1', 'TSC2', 'VHL',\n",
       "       'WRN', 'WT1'], dtype=object)"
      ]
     },
     "metadata": {},
     "execution_count": 198
    }
   ],
   "source": [
    "genes = np.delete(genes, 31)\n",
    "genes"
   ]
  },
  {
   "source": [
    "genes[rej_fisher_2], genes[rej_chi2_2], genes[rej_fisher_onetail]"
   ],
   "cell_type": "code",
   "metadata": {},
   "execution_count": 199,
   "outputs": [
    {
     "output_type": "execute_result",
     "data": {
      "text/plain": [
       "(array(['IDH1', 'PTEN', 'TP53'], dtype=object),\n",
       " array(['IDH1', 'TP53'], dtype=object),\n",
       " array(['TP53'], dtype=object))"
      ]
     },
     "metadata": {},
     "execution_count": 199
    }
   ]
  },
  {
   "cell_type": "code",
   "execution_count": 177,
   "metadata": {},
   "outputs": [
    {
     "output_type": "execute_result",
     "data": {
      "text/plain": [
       "array(['TP53'], dtype=object)"
      ]
     },
     "metadata": {},
     "execution_count": 177
    }
   ],
   "source": [
    "x = np.where(fisher_2 == max(fisher_2))\n",
    "genes[x[0]]"
   ]
  },
  {
   "cell_type": "code",
   "execution_count": 232,
   "metadata": {},
   "outputs": [],
   "source": [
    "## Compute the magnitude = log(#LoF / #not LoF)\n",
    "magnitude2_gain = np.zeros(n_gene)\n",
    "for i in range(n_gene):\n",
    "    magnitude2_gain[i] = np.log2(sum(G2[i,:]) / (n_pos + n_neg - sum(G2[i,:])))"
   ]
  },
  {
   "cell_type": "code",
   "execution_count": 251,
   "metadata": {},
   "outputs": [
    {
     "output_type": "execute_result",
     "data": {
      "text/plain": [
       "61"
      ]
     },
     "metadata": {},
     "execution_count": 251
    }
   ],
   "source": [
    "genes = df2['track_name'].unique()\n",
    "genes = np.delete(genes, [56,62])\n",
    "len(genes)"
   ]
  },
  {
   "cell_type": "code",
   "execution_count": 254,
   "metadata": {},
   "outputs": [
    {
     "output_type": "execute_result",
     "data": {
      "text/plain": [
       "(array(['ATM', 'BLM', 'BRCA1', 'BRCA2', 'CDK6', 'CEBPA', 'CHEK2', 'EXT1',\n",
       "        'FLT3', 'FOXP1', 'GPC3', 'IDH1', 'JAK2', 'MDM4', 'MLH1', 'MSH2',\n",
       "        'NF1', 'NF2', 'PTEN', 'RB1', 'SDHB', 'SDHD', 'SMARCB1', 'SUFU',\n",
       "        'TCF3', 'TSC2', 'WRN'], dtype=object),\n",
       " 27)"
      ]
     },
     "metadata": {},
     "execution_count": 254
    }
   ],
   "source": [
    "genes[rej_fisher_2_gain], len(genes[rej_fisher_2_gain])"
   ]
  },
  {
   "cell_type": "code",
   "execution_count": 323,
   "metadata": {},
   "outputs": [
    {
     "output_type": "execute_result",
     "data": {
      "text/plain": [
       "array(['ATM', 'BLM', 'BRCA1', 'BRCA2', 'CDK6', 'CEBPA', 'CHEK2', 'EXT1',\n",
       "       'FLT3', 'FOXP1', 'GPC3', 'IDH1', 'JAK2', 'MDM4', 'MLH1', 'MSH2',\n",
       "       'NF1', 'NF2', 'PTEN', 'RB1', 'SDHB', 'SDHD', 'SMARCB1', 'SUFU',\n",
       "       'TCF3', 'TSC2', 'WRN'], dtype=object)"
      ]
     },
     "metadata": {},
     "execution_count": 323
    }
   ],
   "source": [
    "genes = df2['track_name'].unique()\n",
    "genes = np.delete(genes, [56,62])\n",
    "genes[rej_fisher_2_gain]"
   ]
  },
  {
   "cell_type": "code",
   "execution_count": 255,
   "metadata": {},
   "outputs": [
    {
     "output_type": "execute_result",
     "data": {
      "text/plain": [
       "(array(['ATM', 'BRCA1', 'BRCA2', 'CDK6', 'CEBPA', 'CHEK2', 'EXT1', 'FLT3',\n",
       "        'FOXP1', 'GPC3', 'IDH1', 'JAK2', 'MDM4', 'MLH1', 'MSH2', 'NF1',\n",
       "        'NF2', 'PTEN', 'RB1', 'SDHB', 'SDHD', 'SMARCB1', 'SUFU', 'TCF3',\n",
       "        'TSC2', 'WRN'], dtype=object),\n",
       " 26)"
      ]
     },
     "metadata": {},
     "execution_count": 255
    }
   ],
   "source": [
    "genes[rej_chi2_2_gain], len(genes[rej_chi2_2_gain])"
   ]
  },
  {
   "cell_type": "code",
   "execution_count": 260,
   "metadata": {},
   "outputs": [
    {
     "output_type": "execute_result",
     "data": {
      "text/plain": [
       "(array(['ATM', 'BLM', 'BRCA1', 'BRCA2', 'CDK6', 'CEBPA', 'CHEK2', 'EXT1',\n",
       "        'FLT3', 'FOXP1', 'GPC3', 'IDH1', 'JAK2', 'MDM4', 'MLH1', 'MSH2',\n",
       "        'NF1', 'NF2', 'PTEN', 'RB1', 'SDHB', 'SDHD', 'SMARCB1', 'SUFU',\n",
       "        'TCF3', 'TSC2', 'WRN'], dtype=object),\n",
       " 27)"
      ]
     },
     "metadata": {},
     "execution_count": 260
    }
   ],
   "source": [
    "genes[rej_fisher_2_gain_onetail], len(genes[rej_fisher_2_gain_onetail])"
   ]
  },
  {
   "cell_type": "code",
   "execution_count": 331,
   "metadata": {},
   "outputs": [
    {
     "output_type": "execute_result",
     "data": {
      "text/plain": [
       "array([ 0.43899634,  0.43899634,  2.29240109,  0.2646908 ,  1.33369913,\n",
       "        0.63327763,  1.91250674,  1.91250674,  0.16843126,  1.1464632 ,\n",
       "        0.12240062,  0.16843126,  3.64910047, -0.        ,  4.3669997 ,\n",
       "        1.91250674,  0.94795   ,  0.75254703,  0.16843126,  0.9728375 ,\n",
       "        3.98362043,  1.1464632 ,  0.16034156,  0.79360548,  1.47331587,\n",
       "        1.47331587,  1.91250674,  1.91250674,  0.2646908 ,  3.08693186,\n",
       "       -0.        ,  1.91250674,  0.2646908 ,  2.75602265,  1.91250674,\n",
       "        1.91250674,  2.29240109,  0.09675325,  0.94795   ,  0.77485224,\n",
       "        0.12240062,  0.28888727, -0.        ,  1.47331587,  1.47331587,\n",
       "        0.2646908 ,  1.47331587,  4.14405127,  0.77485224,  1.87891551,\n",
       "       -0.        , -0.        ,  2.20731093,  0.63327763,  0.16034156,\n",
       "        3.57641324,  0.43899634,  0.41813758,  1.91250674,  0.63327763,\n",
       "        2.63262547])"
      ]
     },
     "metadata": {},
     "execution_count": 331
    }
   ],
   "source": [
    "fisher_2_gain"
   ]
  },
  {
   "cell_type": "code",
   "execution_count": null,
   "metadata": {},
   "outputs": [],
   "source": [
    "fisher_2_gain[rej]"
   ]
  },
  {
   "cell_type": "code",
   "execution_count": 376,
   "metadata": {},
   "outputs": [
    {
     "output_type": "stream",
     "name": "stdout",
     "text": [
      "-8.422064766172813 1.9125067394734299 BRCA1\n-8.422064766172813 1.9125067394734299 BRCA2\n-7.834997677126733 1.9125067394734299 CHEK2\n-8.838153409425944 1.4733158703942246 FLT3\n-7.093813673402728 1.9125067394734299 GPC3\n-8.422064766172813 1.9125067394734299 IDH1\n-7.834997677126733 1.9125067394734299 MDM4\n-7.834997677126733 1.9125067394734299 MSH2\n-7.834997677126733 1.9125067394734299 NF1\n-8.838153409425944 1.4733158703942246 PTEN\n-8.838153409425944 1.4733158703942246 RB1\n-8.838153409425944 1.4733158703942246 SDHB\n-6.712130128664117 1.8789155126141943 SMARCB1\n-7.093813673402728 1.9125067394734299 TSC2\n"
     ]
    },
    {
     "output_type": "display_data",
     "data": {
      "text/plain": "<Figure size 864x576 with 1 Axes>",
      "image/svg+xml": "<?xml version=\"1.0\" encoding=\"utf-8\" standalone=\"no\"?>\n<!DOCTYPE svg PUBLIC \"-//W3C//DTD SVG 1.1//EN\"\n  \"http://www.w3.org/Graphics/SVG/1.1/DTD/svg11.dtd\">\n<!-- Created with matplotlib (https://matplotlib.org/) -->\n<svg height=\"494.77625pt\" version=\"1.1\" viewBox=\"0 0 711.0625 494.77625\" width=\"711.0625pt\" xmlns=\"http://www.w3.org/2000/svg\" xmlns:xlink=\"http://www.w3.org/1999/xlink\">\n <metadata>\n  <rdf:RDF xmlns:cc=\"http://creativecommons.org/ns#\" xmlns:dc=\"http://purl.org/dc/elements/1.1/\" xmlns:rdf=\"http://www.w3.org/1999/02/22-rdf-syntax-ns#\">\n   <cc:Work>\n    <dc:type rdf:resource=\"http://purl.org/dc/dcmitype/StillImage\"/>\n    <dc:date>2021-03-06T17:21:35.782735</dc:date>\n    <dc:format>image/svg+xml</dc:format>\n    <dc:creator>\n     <cc:Agent>\n      <dc:title>Matplotlib v3.3.2, https://matplotlib.org/</dc:title>\n     </cc:Agent>\n    </dc:creator>\n   </cc:Work>\n  </rdf:RDF>\n </metadata>\n <defs>\n  <style type=\"text/css\">*{stroke-linecap:butt;stroke-linejoin:round;}</style>\n </defs>\n <g id=\"figure_1\">\n  <g id=\"patch_1\">\n   <path d=\"M 0 494.77625 \nL 711.0625 494.77625 \nL 711.0625 0 \nL 0 0 \nz\n\" style=\"fill:none;\"/>\n  </g>\n  <g id=\"axes_1\">\n   <g id=\"patch_2\">\n    <path d=\"M 34.2625 457.198125 \nL 703.8625 457.198125 \nL 703.8625 22.318125 \nL 34.2625 22.318125 \nz\n\" style=\"fill:#ffffff;\"/>\n   </g>\n   <g id=\"PathCollection_1\">\n    <defs>\n     <path d=\"M 0 3 \nC 0.795609 3 1.55874 2.683901 2.12132 2.12132 \nC 2.683901 1.55874 3 0.795609 3 0 \nC 3 -0.795609 2.683901 -1.55874 2.12132 -2.12132 \nC 1.55874 -2.683901 0.795609 -3 0 -3 \nC -0.795609 -3 -1.55874 -2.683901 -2.12132 -2.12132 \nC -2.683901 -1.55874 -3 -0.795609 -3 0 \nC -3 0.795609 -2.683901 1.55874 -2.12132 2.12132 \nC -1.55874 2.683901 -0.795609 3 0 3 \nz\n\" id=\"m7656a1a389\" style=\"stroke:#808080;\"/>\n    </defs>\n    <g clip-path=\"url(#p23f8233ae9)\">\n     <use style=\"fill:#808080;stroke:#808080;\" x=\"144.583366\" xlink:href=\"#m7656a1a389\" y=\"397.688416\"/>\n     <use style=\"fill:#808080;stroke:#808080;\" x=\"246.19776\" xlink:href=\"#m7656a1a389\" y=\"397.688416\"/>\n     <use style=\"fill:#808080;stroke:#808080;\" x=\"262.581655\" xlink:href=\"#m7656a1a389\" y=\"229.899271\"/>\n     <use style=\"fill:#808080;stroke:#808080;\" x=\"195.363883\" xlink:href=\"#m7656a1a389\" y=\"413.468336\"/>\n     <use style=\"fill:#808080;stroke:#808080;\" x=\"332.938081\" xlink:href=\"#m7656a1a389\" y=\"316.690774\"/>\n     <use style=\"fill:#808080;stroke:#808080;\" x=\"225.090718\" xlink:href=\"#m7656a1a389\" y=\"380.100088\"/>\n     <use style=\"fill:#808080;stroke:#808080;\" x=\"246.19776\" xlink:href=\"#m7656a1a389\" y=\"264.291192\"/>\n     <use style=\"fill:#808080;stroke:#808080;\" x=\"246.19776\" xlink:href=\"#m7656a1a389\" y=\"264.291192\"/>\n     <use style=\"fill:#808080;stroke:#808080;\" x=\"225.090718\" xlink:href=\"#m7656a1a389\" y=\"422.182733\"/>\n     <use style=\"fill:#808080;stroke:#808080;\" x=\"275.978072\" xlink:href=\"#m7656a1a389\" y=\"333.641284\"/>\n     <use style=\"fill:#808080;stroke:#808080;\" x=\"287.312872\" xlink:href=\"#m7656a1a389\" y=\"426.349897\"/>\n     <use style=\"fill:#808080;stroke:#808080;\" x=\"225.090718\" xlink:href=\"#m7656a1a389\" y=\"422.182733\"/>\n     <use style=\"fill:#808080;stroke:#808080;\" x=\"371.924512\" xlink:href=\"#m7656a1a389\" y=\"107.076975\"/>\n     <use style=\"fill:#808080;stroke:#808080;\" x=\"246.19776\" xlink:href=\"#m7656a1a389\" y=\"437.430852\"/>\n     <use style=\"fill:#808080;stroke:#808080;\" x=\"361.033514\" xlink:href=\"#m7656a1a389\" y=\"42.085398\"/>\n     <use style=\"fill:#808080;stroke:#808080;\" x=\"275.978072\" xlink:href=\"#m7656a1a389\" y=\"264.291192\"/>\n     <use style=\"fill:#808080;stroke:#808080;\" x=\"195.363883\" xlink:href=\"#m7656a1a389\" y=\"351.612728\"/>\n     <use style=\"fill:#808080;stroke:#808080;\" x=\"297.138709\" xlink:href=\"#m7656a1a389\" y=\"369.302602\"/>\n     <use style=\"fill:#808080;stroke:#808080;\" x=\"225.090718\" xlink:href=\"#m7656a1a389\" y=\"422.182733\"/>\n     <use style=\"fill:#808080;stroke:#808080;\" x=\"338.41531\" xlink:href=\"#m7656a1a389\" y=\"349.359657\"/>\n     <use style=\"fill:#808080;stroke:#808080;\" x=\"437.966527\" xlink:href=\"#m7656a1a389\" y=\"76.792809\"/>\n     <use style=\"fill:#808080;stroke:#808080;\" x=\"275.978072\" xlink:href=\"#m7656a1a389\" y=\"333.641284\"/>\n     <use style=\"fill:#808080;stroke:#808080;\" x=\"262.581655\" xlink:href=\"#m7656a1a389\" y=\"422.915095\"/>\n     <use style=\"fill:#808080;stroke:#808080;\" x=\"397.510651\" xlink:href=\"#m7656a1a389\" y=\"365.585571\"/>\n     <use style=\"fill:#808080;stroke:#808080;\" x=\"225.090718\" xlink:href=\"#m7656a1a389\" y=\"304.051239\"/>\n     <use style=\"fill:#808080;stroke:#808080;\" x=\"262.581655\" xlink:href=\"#m7656a1a389\" y=\"304.051239\"/>\n     <use style=\"fill:#808080;stroke:#808080;\" x=\"313.576315\" xlink:href=\"#m7656a1a389\" y=\"264.291192\"/>\n     <use style=\"fill:#808080;stroke:#808080;\" x=\"246.19776\" xlink:href=\"#m7656a1a389\" y=\"264.291192\"/>\n     <use style=\"fill:#808080;stroke:#808080;\" x=\"195.363883\" xlink:href=\"#m7656a1a389\" y=\"413.468336\"/>\n     <use style=\"fill:#808080;stroke:#808080;\" x=\"343.518236\" xlink:href=\"#m7656a1a389\" y=\"157.970224\"/>\n     <use style=\"fill:#808080;stroke:#808080;\" x=\"144.583366\" xlink:href=\"#m7656a1a389\" y=\"437.430852\"/>\n     <use style=\"fill:#808080;stroke:#808080;\" x=\"275.978072\" xlink:href=\"#m7656a1a389\" y=\"264.291192\"/>\n     <use style=\"fill:#808080;stroke:#808080;\" x=\"195.363883\" xlink:href=\"#m7656a1a389\" y=\"413.468336\"/>\n     <use style=\"fill:#808080;stroke:#808080;\" x=\"275.978072\" xlink:href=\"#m7656a1a389\" y=\"187.927509\"/>\n     <use style=\"fill:#808080;stroke:#808080;\" x=\"275.978072\" xlink:href=\"#m7656a1a389\" y=\"264.291192\"/>\n     <use style=\"fill:#808080;stroke:#808080;\" x=\"275.978072\" xlink:href=\"#m7656a1a389\" y=\"264.291192\"/>\n     <use style=\"fill:#808080;stroke:#808080;\" x=\"332.938081\" xlink:href=\"#m7656a1a389\" y=\"229.899271\"/>\n     <use style=\"fill:#808080;stroke:#808080;\" x=\"320.605089\" xlink:href=\"#m7656a1a389\" y=\"428.671759\"/>\n     <use style=\"fill:#808080;stroke:#808080;\" x=\"195.363883\" xlink:href=\"#m7656a1a389\" y=\"351.612728\"/>\n     <use style=\"fill:#808080;stroke:#808080;\" x=\"262.581655\" xlink:href=\"#m7656a1a389\" y=\"367.283306\"/>\n     <use style=\"fill:#808080;stroke:#808080;\" x=\"287.312872\" xlink:href=\"#m7656a1a389\" y=\"426.349897\"/>\n     <use style=\"fill:#808080;stroke:#808080;\" x=\"287.312872\" xlink:href=\"#m7656a1a389\" y=\"411.277824\"/>\n     <use style=\"fill:#808080;stroke:#808080;\" x=\"144.583366\" xlink:href=\"#m7656a1a389\" y=\"437.430852\"/>\n     <use style=\"fill:#808080;stroke:#808080;\" x=\"225.090718\" xlink:href=\"#m7656a1a389\" y=\"304.051239\"/>\n     <use style=\"fill:#808080;stroke:#808080;\" x=\"225.090718\" xlink:href=\"#m7656a1a389\" y=\"304.051239\"/>\n     <use style=\"fill:#808080;stroke:#808080;\" x=\"195.363883\" xlink:href=\"#m7656a1a389\" y=\"413.468336\"/>\n     <use style=\"fill:#808080;stroke:#808080;\" x=\"225.090718\" xlink:href=\"#m7656a1a389\" y=\"304.051239\"/>\n     <use style=\"fill:#808080;stroke:#808080;\" x=\"348.295214\" xlink:href=\"#m7656a1a389\" y=\"62.268969\"/>\n     <use style=\"fill:#808080;stroke:#808080;\" x=\"262.581655\" xlink:href=\"#m7656a1a389\" y=\"367.283306\"/>\n     <use style=\"fill:#808080;stroke:#808080;\" x=\"332.938081\" xlink:href=\"#m7656a1a389\" y=\"267.332213\"/>\n     <use style=\"fill:#808080;stroke:#808080;\" x=\"246.19776\" xlink:href=\"#m7656a1a389\" y=\"437.430852\"/>\n     <use style=\"fill:#808080;stroke:#808080;\" x=\"246.19776\" xlink:href=\"#m7656a1a389\" y=\"437.430852\"/>\n     <use style=\"fill:#808080;stroke:#808080;\" x=\"287.312872\" xlink:href=\"#m7656a1a389\" y=\"237.602503\"/>\n     <use style=\"fill:#808080;stroke:#808080;\" x=\"225.090718\" xlink:href=\"#m7656a1a389\" y=\"380.100088\"/>\n     <use style=\"fill:#808080;stroke:#808080;\" x=\"262.581655\" xlink:href=\"#m7656a1a389\" y=\"422.915095\"/>\n     <use style=\"fill:#808080;stroke:#808080;\" x=\"313.576315\" xlink:href=\"#m7656a1a389\" y=\"113.657366\"/>\n     <use style=\"fill:#808080;stroke:#808080;\" x=\"246.19776\" xlink:href=\"#m7656a1a389\" y=\"399.576764\"/>\n     <use style=\"fill:#808080;stroke:#808080;\" x=\"313.576315\" xlink:href=\"#m7656a1a389\" y=\"264.291192\"/>\n     <use style=\"fill:#808080;stroke:#808080;\" x=\"297.138709\" xlink:href=\"#m7656a1a389\" y=\"380.100088\"/>\n     <use style=\"fill:#808080;stroke:#808080;\" x=\"225.090718\" xlink:href=\"#m7656a1a389\" y=\"199.098683\"/>\n    </g>\n   </g>\n   <g id=\"PathCollection_2\">\n    <defs>\n     <path d=\"M 0 3 \nC 0.795609 3 1.55874 2.683901 2.12132 2.12132 \nC 2.683901 1.55874 3 0.795609 3 0 \nC 3 -0.795609 2.683901 -1.55874 2.12132 -2.12132 \nC 1.55874 -2.683901 0.795609 -3 0 -3 \nC -0.795609 -3 -1.55874 -2.683901 -2.12132 -2.12132 \nC -2.683901 -1.55874 -3 -0.795609 -3 0 \nC -3 0.795609 -2.683901 1.55874 -2.12132 2.12132 \nC -1.55874 2.683901 -0.795609 3 0 3 \nz\n\" id=\"ma5c940a452\" style=\"stroke:#ff0000;\"/>\n    </defs>\n    <g clip-path=\"url(#p23f8233ae9)\">\n     <use style=\"fill:#ff0000;stroke:#ff0000;\" x=\"262.581655\" xlink:href=\"#ma5c940a452\" y=\"229.899271\"/>\n     <use style=\"fill:#ff0000;stroke:#ff0000;\" x=\"332.938081\" xlink:href=\"#ma5c940a452\" y=\"316.690774\"/>\n     <use style=\"fill:#ff0000;stroke:#ff0000;\" x=\"246.19776\" xlink:href=\"#ma5c940a452\" y=\"264.291192\"/>\n     <use style=\"fill:#ff0000;stroke:#ff0000;\" x=\"246.19776\" xlink:href=\"#ma5c940a452\" y=\"264.291192\"/>\n     <use style=\"fill:#ff0000;stroke:#ff0000;\" x=\"371.924512\" xlink:href=\"#ma5c940a452\" y=\"107.076975\"/>\n     <use style=\"fill:#ff0000;stroke:#ff0000;\" x=\"361.033514\" xlink:href=\"#ma5c940a452\" y=\"42.085398\"/>\n     <use style=\"fill:#ff0000;stroke:#ff0000;\" x=\"275.978072\" xlink:href=\"#ma5c940a452\" y=\"264.291192\"/>\n     <use style=\"fill:#ff0000;stroke:#ff0000;\" x=\"437.966527\" xlink:href=\"#ma5c940a452\" y=\"76.792809\"/>\n     <use style=\"fill:#ff0000;stroke:#ff0000;\" x=\"225.090718\" xlink:href=\"#ma5c940a452\" y=\"304.051239\"/>\n     <use style=\"fill:#ff0000;stroke:#ff0000;\" x=\"262.581655\" xlink:href=\"#ma5c940a452\" y=\"304.051239\"/>\n     <use style=\"fill:#ff0000;stroke:#ff0000;\" x=\"313.576315\" xlink:href=\"#ma5c940a452\" y=\"264.291192\"/>\n     <use style=\"fill:#ff0000;stroke:#ff0000;\" x=\"246.19776\" xlink:href=\"#ma5c940a452\" y=\"264.291192\"/>\n     <use style=\"fill:#ff0000;stroke:#ff0000;\" x=\"343.518236\" xlink:href=\"#ma5c940a452\" y=\"157.970224\"/>\n     <use style=\"fill:#ff0000;stroke:#ff0000;\" x=\"275.978072\" xlink:href=\"#ma5c940a452\" y=\"264.291192\"/>\n     <use style=\"fill:#ff0000;stroke:#ff0000;\" x=\"275.978072\" xlink:href=\"#ma5c940a452\" y=\"187.927509\"/>\n     <use style=\"fill:#ff0000;stroke:#ff0000;\" x=\"275.978072\" xlink:href=\"#ma5c940a452\" y=\"264.291192\"/>\n     <use style=\"fill:#ff0000;stroke:#ff0000;\" x=\"275.978072\" xlink:href=\"#ma5c940a452\" y=\"264.291192\"/>\n     <use style=\"fill:#ff0000;stroke:#ff0000;\" x=\"332.938081\" xlink:href=\"#ma5c940a452\" y=\"229.899271\"/>\n     <use style=\"fill:#ff0000;stroke:#ff0000;\" x=\"225.090718\" xlink:href=\"#ma5c940a452\" y=\"304.051239\"/>\n     <use style=\"fill:#ff0000;stroke:#ff0000;\" x=\"225.090718\" xlink:href=\"#ma5c940a452\" y=\"304.051239\"/>\n     <use style=\"fill:#ff0000;stroke:#ff0000;\" x=\"225.090718\" xlink:href=\"#ma5c940a452\" y=\"304.051239\"/>\n     <use style=\"fill:#ff0000;stroke:#ff0000;\" x=\"348.295214\" xlink:href=\"#ma5c940a452\" y=\"62.268969\"/>\n     <use style=\"fill:#ff0000;stroke:#ff0000;\" x=\"332.938081\" xlink:href=\"#ma5c940a452\" y=\"267.332213\"/>\n     <use style=\"fill:#ff0000;stroke:#ff0000;\" x=\"287.312872\" xlink:href=\"#ma5c940a452\" y=\"237.602503\"/>\n     <use style=\"fill:#ff0000;stroke:#ff0000;\" x=\"313.576315\" xlink:href=\"#ma5c940a452\" y=\"113.657366\"/>\n     <use style=\"fill:#ff0000;stroke:#ff0000;\" x=\"313.576315\" xlink:href=\"#ma5c940a452\" y=\"264.291192\"/>\n     <use style=\"fill:#ff0000;stroke:#ff0000;\" x=\"225.090718\" xlink:href=\"#ma5c940a452\" y=\"199.098683\"/>\n    </g>\n   </g>\n   <g id=\"matplotlib.axis_1\">\n    <g id=\"xtick_1\">\n     <g id=\"line2d_1\">\n      <defs>\n       <path d=\"M 0 0 \nL 0 3.5 \n\" id=\"m0e2adba921\" style=\"stroke:#000000;stroke-width:0.8;\"/>\n      </defs>\n      <g>\n       <use style=\"stroke:#000000;stroke-width:0.8;\" x=\"64.698864\" xlink:href=\"#m0e2adba921\" y=\"457.198125\"/>\n      </g>\n     </g>\n     <g id=\"text_1\">\n      <!-- −12 -->\n      <g transform=\"translate(54.14652 471.796562)scale(0.1 -0.1)\">\n       <defs>\n        <path d=\"M 10.59375 35.5 \nL 73.1875 35.5 \nL 73.1875 27.203125 \nL 10.59375 27.203125 \nz\n\" id=\"DejaVuSans-8722\"/>\n        <path d=\"M 12.40625 8.296875 \nL 28.515625 8.296875 \nL 28.515625 63.921875 \nL 10.984375 60.40625 \nL 10.984375 69.390625 \nL 28.421875 72.90625 \nL 38.28125 72.90625 \nL 38.28125 8.296875 \nL 54.390625 8.296875 \nL 54.390625 0 \nL 12.40625 0 \nz\n\" id=\"DejaVuSans-49\"/>\n        <path d=\"M 19.1875 8.296875 \nL 53.609375 8.296875 \nL 53.609375 0 \nL 7.328125 0 \nL 7.328125 8.296875 \nQ 12.9375 14.109375 22.625 23.890625 \nQ 32.328125 33.6875 34.8125 36.53125 \nQ 39.546875 41.84375 41.421875 45.53125 \nQ 43.3125 49.21875 43.3125 52.78125 \nQ 43.3125 58.59375 39.234375 62.25 \nQ 35.15625 65.921875 28.609375 65.921875 \nQ 23.96875 65.921875 18.8125 64.3125 \nQ 13.671875 62.703125 7.8125 59.421875 \nL 7.8125 69.390625 \nQ 13.765625 71.78125 18.9375 73 \nQ 24.125 74.21875 28.421875 74.21875 \nQ 39.75 74.21875 46.484375 68.546875 \nQ 53.21875 62.890625 53.21875 53.421875 \nQ 53.21875 48.921875 51.53125 44.890625 \nQ 49.859375 40.875 45.40625 35.40625 \nQ 44.1875 33.984375 37.640625 27.21875 \nQ 31.109375 20.453125 19.1875 8.296875 \nz\n\" id=\"DejaVuSans-50\"/>\n       </defs>\n       <use xlink:href=\"#DejaVuSans-8722\"/>\n       <use x=\"83.789062\" xlink:href=\"#DejaVuSans-49\"/>\n       <use x=\"147.412109\" xlink:href=\"#DejaVuSans-50\"/>\n      </g>\n     </g>\n    </g>\n    <g id=\"xtick_2\">\n     <g id=\"line2d_2\">\n      <g>\n       <use style=\"stroke:#000000;stroke-width:0.8;\" x=\"166.153409\" xlink:href=\"#m0e2adba921\" y=\"457.198125\"/>\n      </g>\n     </g>\n     <g id=\"text_2\">\n      <!-- −10 -->\n      <g transform=\"translate(155.601065 471.796562)scale(0.1 -0.1)\">\n       <defs>\n        <path d=\"M 31.78125 66.40625 \nQ 24.171875 66.40625 20.328125 58.90625 \nQ 16.5 51.421875 16.5 36.375 \nQ 16.5 21.390625 20.328125 13.890625 \nQ 24.171875 6.390625 31.78125 6.390625 \nQ 39.453125 6.390625 43.28125 13.890625 \nQ 47.125 21.390625 47.125 36.375 \nQ 47.125 51.421875 43.28125 58.90625 \nQ 39.453125 66.40625 31.78125 66.40625 \nz\nM 31.78125 74.21875 \nQ 44.046875 74.21875 50.515625 64.515625 \nQ 56.984375 54.828125 56.984375 36.375 \nQ 56.984375 17.96875 50.515625 8.265625 \nQ 44.046875 -1.421875 31.78125 -1.421875 \nQ 19.53125 -1.421875 13.0625 8.265625 \nQ 6.59375 17.96875 6.59375 36.375 \nQ 6.59375 54.828125 13.0625 64.515625 \nQ 19.53125 74.21875 31.78125 74.21875 \nz\n\" id=\"DejaVuSans-48\"/>\n       </defs>\n       <use xlink:href=\"#DejaVuSans-8722\"/>\n       <use x=\"83.789062\" xlink:href=\"#DejaVuSans-49\"/>\n       <use x=\"147.412109\" xlink:href=\"#DejaVuSans-48\"/>\n      </g>\n     </g>\n    </g>\n    <g id=\"xtick_3\">\n     <g id=\"line2d_3\">\n      <g>\n       <use style=\"stroke:#000000;stroke-width:0.8;\" x=\"267.607955\" xlink:href=\"#m0e2adba921\" y=\"457.198125\"/>\n      </g>\n     </g>\n     <g id=\"text_3\">\n      <!-- −8 -->\n      <g transform=\"translate(260.236861 471.796562)scale(0.1 -0.1)\">\n       <defs>\n        <path d=\"M 31.78125 34.625 \nQ 24.75 34.625 20.71875 30.859375 \nQ 16.703125 27.09375 16.703125 20.515625 \nQ 16.703125 13.921875 20.71875 10.15625 \nQ 24.75 6.390625 31.78125 6.390625 \nQ 38.8125 6.390625 42.859375 10.171875 \nQ 46.921875 13.96875 46.921875 20.515625 \nQ 46.921875 27.09375 42.890625 30.859375 \nQ 38.875 34.625 31.78125 34.625 \nz\nM 21.921875 38.8125 \nQ 15.578125 40.375 12.03125 44.71875 \nQ 8.5 49.078125 8.5 55.328125 \nQ 8.5 64.0625 14.71875 69.140625 \nQ 20.953125 74.21875 31.78125 74.21875 \nQ 42.671875 74.21875 48.875 69.140625 \nQ 55.078125 64.0625 55.078125 55.328125 \nQ 55.078125 49.078125 51.53125 44.71875 \nQ 48 40.375 41.703125 38.8125 \nQ 48.828125 37.15625 52.796875 32.3125 \nQ 56.78125 27.484375 56.78125 20.515625 \nQ 56.78125 9.90625 50.3125 4.234375 \nQ 43.84375 -1.421875 31.78125 -1.421875 \nQ 19.734375 -1.421875 13.25 4.234375 \nQ 6.78125 9.90625 6.78125 20.515625 \nQ 6.78125 27.484375 10.78125 32.3125 \nQ 14.796875 37.15625 21.921875 38.8125 \nz\nM 18.3125 54.390625 \nQ 18.3125 48.734375 21.84375 45.5625 \nQ 25.390625 42.390625 31.78125 42.390625 \nQ 38.140625 42.390625 41.71875 45.5625 \nQ 45.3125 48.734375 45.3125 54.390625 \nQ 45.3125 60.0625 41.71875 63.234375 \nQ 38.140625 66.40625 31.78125 66.40625 \nQ 25.390625 66.40625 21.84375 63.234375 \nQ 18.3125 60.0625 18.3125 54.390625 \nz\n\" id=\"DejaVuSans-56\"/>\n       </defs>\n       <use xlink:href=\"#DejaVuSans-8722\"/>\n       <use x=\"83.789062\" xlink:href=\"#DejaVuSans-56\"/>\n      </g>\n     </g>\n    </g>\n    <g id=\"xtick_4\">\n     <g id=\"line2d_4\">\n      <g>\n       <use style=\"stroke:#000000;stroke-width:0.8;\" x=\"369.0625\" xlink:href=\"#m0e2adba921\" y=\"457.198125\"/>\n      </g>\n     </g>\n     <g id=\"text_4\">\n      <!-- −6 -->\n      <g transform=\"translate(361.691406 471.796562)scale(0.1 -0.1)\">\n       <defs>\n        <path d=\"M 33.015625 40.375 \nQ 26.375 40.375 22.484375 35.828125 \nQ 18.609375 31.296875 18.609375 23.390625 \nQ 18.609375 15.53125 22.484375 10.953125 \nQ 26.375 6.390625 33.015625 6.390625 \nQ 39.65625 6.390625 43.53125 10.953125 \nQ 47.40625 15.53125 47.40625 23.390625 \nQ 47.40625 31.296875 43.53125 35.828125 \nQ 39.65625 40.375 33.015625 40.375 \nz\nM 52.59375 71.296875 \nL 52.59375 62.3125 \nQ 48.875 64.0625 45.09375 64.984375 \nQ 41.3125 65.921875 37.59375 65.921875 \nQ 27.828125 65.921875 22.671875 59.328125 \nQ 17.53125 52.734375 16.796875 39.40625 \nQ 19.671875 43.65625 24.015625 45.921875 \nQ 28.375 48.1875 33.59375 48.1875 \nQ 44.578125 48.1875 50.953125 41.515625 \nQ 57.328125 34.859375 57.328125 23.390625 \nQ 57.328125 12.15625 50.6875 5.359375 \nQ 44.046875 -1.421875 33.015625 -1.421875 \nQ 20.359375 -1.421875 13.671875 8.265625 \nQ 6.984375 17.96875 6.984375 36.375 \nQ 6.984375 53.65625 15.1875 63.9375 \nQ 23.390625 74.21875 37.203125 74.21875 \nQ 40.921875 74.21875 44.703125 73.484375 \nQ 48.484375 72.75 52.59375 71.296875 \nz\n\" id=\"DejaVuSans-54\"/>\n       </defs>\n       <use xlink:href=\"#DejaVuSans-8722\"/>\n       <use x=\"83.789062\" xlink:href=\"#DejaVuSans-54\"/>\n      </g>\n     </g>\n    </g>\n    <g id=\"xtick_5\">\n     <g id=\"line2d_5\">\n      <g>\n       <use style=\"stroke:#000000;stroke-width:0.8;\" x=\"470.517045\" xlink:href=\"#m0e2adba921\" y=\"457.198125\"/>\n      </g>\n     </g>\n     <g id=\"text_5\">\n      <!-- −4 -->\n      <g transform=\"translate(463.145952 471.796562)scale(0.1 -0.1)\">\n       <defs>\n        <path d=\"M 37.796875 64.3125 \nL 12.890625 25.390625 \nL 37.796875 25.390625 \nz\nM 35.203125 72.90625 \nL 47.609375 72.90625 \nL 47.609375 25.390625 \nL 58.015625 25.390625 \nL 58.015625 17.1875 \nL 47.609375 17.1875 \nL 47.609375 0 \nL 37.796875 0 \nL 37.796875 17.1875 \nL 4.890625 17.1875 \nL 4.890625 26.703125 \nz\n\" id=\"DejaVuSans-52\"/>\n       </defs>\n       <use xlink:href=\"#DejaVuSans-8722\"/>\n       <use x=\"83.789062\" xlink:href=\"#DejaVuSans-52\"/>\n      </g>\n     </g>\n    </g>\n    <g id=\"xtick_6\">\n     <g id=\"line2d_6\">\n      <g>\n       <use style=\"stroke:#000000;stroke-width:0.8;\" x=\"571.971591\" xlink:href=\"#m0e2adba921\" y=\"457.198125\"/>\n      </g>\n     </g>\n     <g id=\"text_6\">\n      <!-- −2 -->\n      <g transform=\"translate(564.600497 471.796562)scale(0.1 -0.1)\">\n       <use xlink:href=\"#DejaVuSans-8722\"/>\n       <use x=\"83.789062\" xlink:href=\"#DejaVuSans-50\"/>\n      </g>\n     </g>\n    </g>\n    <g id=\"xtick_7\">\n     <g id=\"line2d_7\">\n      <g>\n       <use style=\"stroke:#000000;stroke-width:0.8;\" x=\"673.426136\" xlink:href=\"#m0e2adba921\" y=\"457.198125\"/>\n      </g>\n     </g>\n     <g id=\"text_7\">\n      <!-- 0 -->\n      <g transform=\"translate(670.244886 471.796562)scale(0.1 -0.1)\">\n       <use xlink:href=\"#DejaVuSans-48\"/>\n      </g>\n     </g>\n    </g>\n    <g id=\"text_8\">\n     <!-- $\\log_2$(#LoF / #non-LoF) -->\n     <g transform=\"translate(313.2125 485.47625)scale(0.1 -0.1)\">\n      <defs>\n       <path d=\"M 9.421875 75.984375 \nL 18.40625 75.984375 \nL 18.40625 0 \nL 9.421875 0 \nz\n\" id=\"DejaVuSans-108\"/>\n       <path d=\"M 30.609375 48.390625 \nQ 23.390625 48.390625 19.1875 42.75 \nQ 14.984375 37.109375 14.984375 27.296875 \nQ 14.984375 17.484375 19.15625 11.84375 \nQ 23.34375 6.203125 30.609375 6.203125 \nQ 37.796875 6.203125 41.984375 11.859375 \nQ 46.1875 17.53125 46.1875 27.296875 \nQ 46.1875 37.015625 41.984375 42.703125 \nQ 37.796875 48.390625 30.609375 48.390625 \nz\nM 30.609375 56 \nQ 42.328125 56 49.015625 48.375 \nQ 55.71875 40.765625 55.71875 27.296875 \nQ 55.71875 13.875 49.015625 6.21875 \nQ 42.328125 -1.421875 30.609375 -1.421875 \nQ 18.84375 -1.421875 12.171875 6.21875 \nQ 5.515625 13.875 5.515625 27.296875 \nQ 5.515625 40.765625 12.171875 48.375 \nQ 18.84375 56 30.609375 56 \nz\n\" id=\"DejaVuSans-111\"/>\n       <path d=\"M 45.40625 27.984375 \nQ 45.40625 37.75 41.375 43.109375 \nQ 37.359375 48.484375 30.078125 48.484375 \nQ 22.859375 48.484375 18.828125 43.109375 \nQ 14.796875 37.75 14.796875 27.984375 \nQ 14.796875 18.265625 18.828125 12.890625 \nQ 22.859375 7.515625 30.078125 7.515625 \nQ 37.359375 7.515625 41.375 12.890625 \nQ 45.40625 18.265625 45.40625 27.984375 \nz\nM 54.390625 6.78125 \nQ 54.390625 -7.171875 48.1875 -13.984375 \nQ 42 -20.796875 29.203125 -20.796875 \nQ 24.46875 -20.796875 20.265625 -20.09375 \nQ 16.0625 -19.390625 12.109375 -17.921875 \nL 12.109375 -9.1875 \nQ 16.0625 -11.328125 19.921875 -12.34375 \nQ 23.78125 -13.375 27.78125 -13.375 \nQ 36.625 -13.375 41.015625 -8.765625 \nQ 45.40625 -4.15625 45.40625 5.171875 \nL 45.40625 9.625 \nQ 42.625 4.78125 38.28125 2.390625 \nQ 33.9375 0 27.875 0 \nQ 17.828125 0 11.671875 7.65625 \nQ 5.515625 15.328125 5.515625 27.984375 \nQ 5.515625 40.671875 11.671875 48.328125 \nQ 17.828125 56 27.875 56 \nQ 33.9375 56 38.28125 53.609375 \nQ 42.625 51.21875 45.40625 46.390625 \nL 45.40625 54.6875 \nL 54.390625 54.6875 \nz\n\" id=\"DejaVuSans-103\"/>\n       <path d=\"M 31 75.875 \nQ 24.46875 64.65625 21.28125 53.65625 \nQ 18.109375 42.671875 18.109375 31.390625 \nQ 18.109375 20.125 21.3125 9.0625 \nQ 24.515625 -2 31 -13.1875 \nL 23.1875 -13.1875 \nQ 15.875 -1.703125 12.234375 9.375 \nQ 8.59375 20.453125 8.59375 31.390625 \nQ 8.59375 42.28125 12.203125 53.3125 \nQ 15.828125 64.359375 23.1875 75.875 \nz\n\" id=\"DejaVuSans-40\"/>\n       <path d=\"M 51.125 44 \nL 36.921875 44 \nL 32.8125 27.6875 \nL 47.125 27.6875 \nz\nM 43.796875 71.78125 \nL 38.71875 51.515625 \nL 52.984375 51.515625 \nL 58.109375 71.78125 \nL 65.921875 71.78125 \nL 60.890625 51.515625 \nL 76.125 51.515625 \nL 76.125 44 \nL 58.984375 44 \nL 54.984375 27.6875 \nL 70.515625 27.6875 \nL 70.515625 20.21875 \nL 53.078125 20.21875 \nL 48 0 \nL 40.1875 0 \nL 45.21875 20.21875 \nL 30.90625 20.21875 \nL 25.875 0 \nL 18.015625 0 \nL 23.09375 20.21875 \nL 7.71875 20.21875 \nL 7.71875 27.6875 \nL 24.90625 27.6875 \nL 29 44 \nL 13.28125 44 \nL 13.28125 51.515625 \nL 30.90625 51.515625 \nL 35.890625 71.78125 \nz\n\" id=\"DejaVuSans-35\"/>\n       <path d=\"M 9.8125 72.90625 \nL 19.671875 72.90625 \nL 19.671875 8.296875 \nL 55.171875 8.296875 \nL 55.171875 0 \nL 9.8125 0 \nz\n\" id=\"DejaVuSans-76\"/>\n       <path d=\"M 9.8125 72.90625 \nL 51.703125 72.90625 \nL 51.703125 64.59375 \nL 19.671875 64.59375 \nL 19.671875 43.109375 \nL 48.578125 43.109375 \nL 48.578125 34.8125 \nL 19.671875 34.8125 \nL 19.671875 0 \nL 9.8125 0 \nz\n\" id=\"DejaVuSans-70\"/>\n       <path id=\"DejaVuSans-32\"/>\n       <path d=\"M 25.390625 72.90625 \nL 33.6875 72.90625 \nL 8.296875 -9.28125 \nL 0 -9.28125 \nz\n\" id=\"DejaVuSans-47\"/>\n       <path d=\"M 54.890625 33.015625 \nL 54.890625 0 \nL 45.90625 0 \nL 45.90625 32.71875 \nQ 45.90625 40.484375 42.875 44.328125 \nQ 39.84375 48.1875 33.796875 48.1875 \nQ 26.515625 48.1875 22.3125 43.546875 \nQ 18.109375 38.921875 18.109375 30.90625 \nL 18.109375 0 \nL 9.078125 0 \nL 9.078125 54.6875 \nL 18.109375 54.6875 \nL 18.109375 46.1875 \nQ 21.34375 51.125 25.703125 53.5625 \nQ 30.078125 56 35.796875 56 \nQ 45.21875 56 50.046875 50.171875 \nQ 54.890625 44.34375 54.890625 33.015625 \nz\n\" id=\"DejaVuSans-110\"/>\n       <path d=\"M 4.890625 31.390625 \nL 31.203125 31.390625 \nL 31.203125 23.390625 \nL 4.890625 23.390625 \nz\n\" id=\"DejaVuSans-45\"/>\n       <path d=\"M 8.015625 75.875 \nL 15.828125 75.875 \nQ 23.140625 64.359375 26.78125 53.3125 \nQ 30.421875 42.28125 30.421875 31.390625 \nQ 30.421875 20.453125 26.78125 9.375 \nQ 23.140625 -1.703125 15.828125 -13.1875 \nL 8.015625 -13.1875 \nQ 14.5 -2 17.703125 9.0625 \nQ 20.90625 20.125 20.90625 31.390625 \nQ 20.90625 42.671875 17.703125 53.65625 \nQ 14.5 64.65625 8.015625 75.875 \nz\n\" id=\"DejaVuSans-41\"/>\n      </defs>\n      <use transform=\"translate(0 0.015625)\" xlink:href=\"#DejaVuSans-108\"/>\n      <use transform=\"translate(27.783203 0.015625)\" xlink:href=\"#DejaVuSans-111\"/>\n      <use transform=\"translate(88.964844 0.015625)\" xlink:href=\"#DejaVuSans-103\"/>\n      <use transform=\"translate(153.398438 -16.390625)scale(0.7)\" xlink:href=\"#DejaVuSans-50\"/>\n      <use transform=\"translate(200.668945 0.015625)\" xlink:href=\"#DejaVuSans-40\"/>\n      <use transform=\"translate(239.682617 0.015625)\" xlink:href=\"#DejaVuSans-35\"/>\n      <use transform=\"translate(323.47168 0.015625)\" xlink:href=\"#DejaVuSans-76\"/>\n      <use transform=\"translate(379.18457 0.015625)\" xlink:href=\"#DejaVuSans-111\"/>\n      <use transform=\"translate(440.366211 0.015625)\" xlink:href=\"#DejaVuSans-70\"/>\n      <use transform=\"translate(497.885742 0.015625)\" xlink:href=\"#DejaVuSans-32\"/>\n      <use transform=\"translate(529.672852 0.015625)\" xlink:href=\"#DejaVuSans-47\"/>\n      <use transform=\"translate(563.364258 0.015625)\" xlink:href=\"#DejaVuSans-32\"/>\n      <use transform=\"translate(595.151367 0.015625)\" xlink:href=\"#DejaVuSans-35\"/>\n      <use transform=\"translate(678.94043 0.015625)\" xlink:href=\"#DejaVuSans-110\"/>\n      <use transform=\"translate(742.319336 0.015625)\" xlink:href=\"#DejaVuSans-111\"/>\n      <use transform=\"translate(803.500977 0.015625)\" xlink:href=\"#DejaVuSans-110\"/>\n      <use transform=\"translate(866.879883 0.015625)\" xlink:href=\"#DejaVuSans-45\"/>\n      <use transform=\"translate(902.963867 0.015625)\" xlink:href=\"#DejaVuSans-76\"/>\n      <use transform=\"translate(958.676758 0.015625)\" xlink:href=\"#DejaVuSans-111\"/>\n      <use transform=\"translate(1019.858398 0.015625)\" xlink:href=\"#DejaVuSans-70\"/>\n      <use transform=\"translate(1077.37793 0.015625)\" xlink:href=\"#DejaVuSans-41\"/>\n     </g>\n    </g>\n   </g>\n   <g id=\"matplotlib.axis_2\">\n    <g id=\"ytick_1\">\n     <g id=\"line2d_8\">\n      <defs>\n       <path d=\"M 0 0 \nL -3.5 0 \n\" id=\"m4b58b554a8\" style=\"stroke:#000000;stroke-width:0.8;\"/>\n      </defs>\n      <g>\n       <use style=\"stroke:#000000;stroke-width:0.8;\" x=\"34.2625\" xlink:href=\"#m4b58b554a8\" y=\"437.430852\"/>\n      </g>\n     </g>\n     <g id=\"text_9\">\n      <!-- 0 -->\n      <g transform=\"translate(20.9 441.230071)scale(0.1 -0.1)\">\n       <use xlink:href=\"#DejaVuSans-48\"/>\n      </g>\n     </g>\n    </g>\n    <g id=\"ytick_2\">\n     <g id=\"line2d_9\">\n      <g>\n       <use style=\"stroke:#000000;stroke-width:0.8;\" x=\"34.2625\" xlink:href=\"#m4b58b554a8\" y=\"346.90063\"/>\n      </g>\n     </g>\n     <g id=\"text_10\">\n      <!-- 1 -->\n      <g transform=\"translate(20.9 350.699849)scale(0.1 -0.1)\">\n       <use xlink:href=\"#DejaVuSans-49\"/>\n      </g>\n     </g>\n    </g>\n    <g id=\"ytick_3\">\n     <g id=\"line2d_10\">\n      <g>\n       <use style=\"stroke:#000000;stroke-width:0.8;\" x=\"34.2625\" xlink:href=\"#m4b58b554a8\" y=\"256.370407\"/>\n      </g>\n     </g>\n     <g id=\"text_11\">\n      <!-- 2 -->\n      <g transform=\"translate(20.9 260.169626)scale(0.1 -0.1)\">\n       <use xlink:href=\"#DejaVuSans-50\"/>\n      </g>\n     </g>\n    </g>\n    <g id=\"ytick_4\">\n     <g id=\"line2d_11\">\n      <g>\n       <use style=\"stroke:#000000;stroke-width:0.8;\" x=\"34.2625\" xlink:href=\"#m4b58b554a8\" y=\"165.840185\"/>\n      </g>\n     </g>\n     <g id=\"text_12\">\n      <!-- 3 -->\n      <g transform=\"translate(20.9 169.639404)scale(0.1 -0.1)\">\n       <defs>\n        <path d=\"M 40.578125 39.3125 \nQ 47.65625 37.796875 51.625 33 \nQ 55.609375 28.21875 55.609375 21.1875 \nQ 55.609375 10.40625 48.1875 4.484375 \nQ 40.765625 -1.421875 27.09375 -1.421875 \nQ 22.515625 -1.421875 17.65625 -0.515625 \nQ 12.796875 0.390625 7.625 2.203125 \nL 7.625 11.71875 \nQ 11.71875 9.328125 16.59375 8.109375 \nQ 21.484375 6.890625 26.8125 6.890625 \nQ 36.078125 6.890625 40.9375 10.546875 \nQ 45.796875 14.203125 45.796875 21.1875 \nQ 45.796875 27.640625 41.28125 31.265625 \nQ 36.765625 34.90625 28.71875 34.90625 \nL 20.21875 34.90625 \nL 20.21875 43.015625 \nL 29.109375 43.015625 \nQ 36.375 43.015625 40.234375 45.921875 \nQ 44.09375 48.828125 44.09375 54.296875 \nQ 44.09375 59.90625 40.109375 62.90625 \nQ 36.140625 65.921875 28.71875 65.921875 \nQ 24.65625 65.921875 20.015625 65.03125 \nQ 15.375 64.15625 9.8125 62.3125 \nL 9.8125 71.09375 \nQ 15.4375 72.65625 20.34375 73.4375 \nQ 25.25 74.21875 29.59375 74.21875 \nQ 40.828125 74.21875 47.359375 69.109375 \nQ 53.90625 64.015625 53.90625 55.328125 \nQ 53.90625 49.265625 50.4375 45.09375 \nQ 46.96875 40.921875 40.578125 39.3125 \nz\n\" id=\"DejaVuSans-51\"/>\n       </defs>\n       <use xlink:href=\"#DejaVuSans-51\"/>\n      </g>\n     </g>\n    </g>\n    <g id=\"ytick_5\">\n     <g id=\"line2d_12\">\n      <g>\n       <use style=\"stroke:#000000;stroke-width:0.8;\" x=\"34.2625\" xlink:href=\"#m4b58b554a8\" y=\"75.309963\"/>\n      </g>\n     </g>\n     <g id=\"text_13\">\n      <!-- 4 -->\n      <g transform=\"translate(20.9 79.109181)scale(0.1 -0.1)\">\n       <use xlink:href=\"#DejaVuSans-52\"/>\n      </g>\n     </g>\n    </g>\n    <g id=\"text_14\">\n     <!-- $-\\log_{10}$(P-value) -->\n     <g transform=\"translate(14.8 278.608125)rotate(-90)scale(0.1 -0.1)\">\n      <defs>\n       <path d=\"M 19.671875 64.796875 \nL 19.671875 37.40625 \nL 32.078125 37.40625 \nQ 38.96875 37.40625 42.71875 40.96875 \nQ 46.484375 44.53125 46.484375 51.125 \nQ 46.484375 57.671875 42.71875 61.234375 \nQ 38.96875 64.796875 32.078125 64.796875 \nz\nM 9.8125 72.90625 \nL 32.078125 72.90625 \nQ 44.34375 72.90625 50.609375 67.359375 \nQ 56.890625 61.8125 56.890625 51.125 \nQ 56.890625 40.328125 50.609375 34.8125 \nQ 44.34375 29.296875 32.078125 29.296875 \nL 19.671875 29.296875 \nL 19.671875 0 \nL 9.8125 0 \nz\n\" id=\"DejaVuSans-80\"/>\n       <path d=\"M 2.984375 54.6875 \nL 12.5 54.6875 \nL 29.59375 8.796875 \nL 46.6875 54.6875 \nL 56.203125 54.6875 \nL 35.6875 0 \nL 23.484375 0 \nz\n\" id=\"DejaVuSans-118\"/>\n       <path d=\"M 34.28125 27.484375 \nQ 23.390625 27.484375 19.1875 25 \nQ 14.984375 22.515625 14.984375 16.5 \nQ 14.984375 11.71875 18.140625 8.90625 \nQ 21.296875 6.109375 26.703125 6.109375 \nQ 34.1875 6.109375 38.703125 11.40625 \nQ 43.21875 16.703125 43.21875 25.484375 \nL 43.21875 27.484375 \nz\nM 52.203125 31.203125 \nL 52.203125 0 \nL 43.21875 0 \nL 43.21875 8.296875 \nQ 40.140625 3.328125 35.546875 0.953125 \nQ 30.953125 -1.421875 24.3125 -1.421875 \nQ 15.921875 -1.421875 10.953125 3.296875 \nQ 6 8.015625 6 15.921875 \nQ 6 25.140625 12.171875 29.828125 \nQ 18.359375 34.515625 30.609375 34.515625 \nL 43.21875 34.515625 \nL 43.21875 35.40625 \nQ 43.21875 41.609375 39.140625 45 \nQ 35.0625 48.390625 27.6875 48.390625 \nQ 23 48.390625 18.546875 47.265625 \nQ 14.109375 46.140625 10.015625 43.890625 \nL 10.015625 52.203125 \nQ 14.9375 54.109375 19.578125 55.046875 \nQ 24.21875 56 28.609375 56 \nQ 40.484375 56 46.34375 49.84375 \nQ 52.203125 43.703125 52.203125 31.203125 \nz\n\" id=\"DejaVuSans-97\"/>\n       <path d=\"M 8.5 21.578125 \nL 8.5 54.6875 \nL 17.484375 54.6875 \nL 17.484375 21.921875 \nQ 17.484375 14.15625 20.5 10.265625 \nQ 23.53125 6.390625 29.59375 6.390625 \nQ 36.859375 6.390625 41.078125 11.03125 \nQ 45.3125 15.671875 45.3125 23.6875 \nL 45.3125 54.6875 \nL 54.296875 54.6875 \nL 54.296875 0 \nL 45.3125 0 \nL 45.3125 8.40625 \nQ 42.046875 3.421875 37.71875 1 \nQ 33.40625 -1.421875 27.6875 -1.421875 \nQ 18.265625 -1.421875 13.375 4.4375 \nQ 8.5 10.296875 8.5 21.578125 \nz\nM 31.109375 56 \nz\n\" id=\"DejaVuSans-117\"/>\n       <path d=\"M 56.203125 29.59375 \nL 56.203125 25.203125 \nL 14.890625 25.203125 \nQ 15.484375 15.921875 20.484375 11.0625 \nQ 25.484375 6.203125 34.421875 6.203125 \nQ 39.59375 6.203125 44.453125 7.46875 \nQ 49.3125 8.734375 54.109375 11.28125 \nL 54.109375 2.78125 \nQ 49.265625 0.734375 44.1875 -0.34375 \nQ 39.109375 -1.421875 33.890625 -1.421875 \nQ 20.796875 -1.421875 13.15625 6.1875 \nQ 5.515625 13.8125 5.515625 26.8125 \nQ 5.515625 40.234375 12.765625 48.109375 \nQ 20.015625 56 32.328125 56 \nQ 43.359375 56 49.78125 48.890625 \nQ 56.203125 41.796875 56.203125 29.59375 \nz\nM 47.21875 32.234375 \nQ 47.125 39.59375 43.09375 43.984375 \nQ 39.0625 48.390625 32.421875 48.390625 \nQ 24.90625 48.390625 20.390625 44.140625 \nQ 15.875 39.890625 15.1875 32.171875 \nz\n\" id=\"DejaVuSans-101\"/>\n      </defs>\n      <use transform=\"translate(0 0.015625)\" xlink:href=\"#DejaVuSans-8722\"/>\n      <use transform=\"translate(83.789062 0.015625)\" xlink:href=\"#DejaVuSans-108\"/>\n      <use transform=\"translate(111.572266 0.015625)\" xlink:href=\"#DejaVuSans-111\"/>\n      <use transform=\"translate(172.753906 0.015625)\" xlink:href=\"#DejaVuSans-103\"/>\n      <use transform=\"translate(237.1875 -16.390625)scale(0.7)\" xlink:href=\"#DejaVuSans-49\"/>\n      <use transform=\"translate(281.723633 -16.390625)scale(0.7)\" xlink:href=\"#DejaVuSans-48\"/>\n      <use transform=\"translate(328.994141 0.015625)\" xlink:href=\"#DejaVuSans-40\"/>\n      <use transform=\"translate(368.007812 0.015625)\" xlink:href=\"#DejaVuSans-80\"/>\n      <use transform=\"translate(428.310547 0.015625)\" xlink:href=\"#DejaVuSans-45\"/>\n      <use transform=\"translate(464.394531 0.015625)\" xlink:href=\"#DejaVuSans-118\"/>\n      <use transform=\"translate(523.574219 0.015625)\" xlink:href=\"#DejaVuSans-97\"/>\n      <use transform=\"translate(584.853516 0.015625)\" xlink:href=\"#DejaVuSans-108\"/>\n      <use transform=\"translate(612.636719 0.015625)\" xlink:href=\"#DejaVuSans-117\"/>\n      <use transform=\"translate(676.015625 0.015625)\" xlink:href=\"#DejaVuSans-101\"/>\n      <use transform=\"translate(737.539062 0.015625)\" xlink:href=\"#DejaVuSans-41\"/>\n     </g>\n    </g>\n   </g>\n   <g id=\"line2d_13\">\n    <path clip-path=\"url(#p23f8233ae9)\" d=\"M 64.698864 319.648317 \nL 115.426136 319.648317 \nL 166.153409 319.648317 \nL 216.880682 319.648317 \nL 267.607955 319.648317 \nL 318.335227 319.648317 \nL 369.0625 319.648317 \nL 419.789773 319.648317 \nL 470.517045 319.648317 \nL 521.244318 319.648317 \nL 571.971591 319.648317 \nL 622.698864 319.648317 \nL 673.426136 319.648317 \n\" style=\"fill:none;stroke:#000000;stroke-dasharray:5.55,2.4;stroke-dashoffset:0;stroke-width:1.5;\"/>\n   </g>\n   <g id=\"patch_3\">\n    <path d=\"M 34.2625 457.198125 \nL 34.2625 22.318125 \n\" style=\"fill:none;stroke:#000000;stroke-linecap:square;stroke-linejoin:miter;stroke-width:0.8;\"/>\n   </g>\n   <g id=\"patch_4\">\n    <path d=\"M 703.8625 457.198125 \nL 703.8625 22.318125 \n\" style=\"fill:none;stroke:#000000;stroke-linecap:square;stroke-linejoin:miter;stroke-width:0.8;\"/>\n   </g>\n   <g id=\"patch_5\">\n    <path d=\"M 34.2625 457.198125 \nL 703.8625 457.198125 \n\" style=\"fill:none;stroke:#000000;stroke-linecap:square;stroke-linejoin:miter;stroke-width:0.8;\"/>\n   </g>\n   <g id=\"patch_6\">\n    <path d=\"M 34.2625 22.318125 \nL 703.8625 22.318125 \n\" style=\"fill:none;stroke:#000000;stroke-linecap:square;stroke-linejoin:miter;stroke-width:0.8;\"/>\n   </g>\n   <g id=\"text_15\">\n    <!-- ATM -->\n    <g style=\"fill:#ff0000;\" transform=\"translate(252.4362 225.37276)scale(0.1 -0.1)\">\n     <defs>\n      <path d=\"M 34.1875 63.1875 \nL 20.796875 26.90625 \nL 47.609375 26.90625 \nz\nM 28.609375 72.90625 \nL 39.796875 72.90625 \nL 67.578125 0 \nL 57.328125 0 \nL 50.6875 18.703125 \nL 17.828125 18.703125 \nL 11.1875 0 \nL 0.78125 0 \nz\n\" id=\"DejaVuSans-65\"/>\n      <path d=\"M -0.296875 72.90625 \nL 61.375 72.90625 \nL 61.375 64.59375 \nL 35.5 64.59375 \nL 35.5 0 \nL 25.59375 0 \nL 25.59375 64.59375 \nL -0.296875 64.59375 \nz\n\" id=\"DejaVuSans-84\"/>\n      <path d=\"M 9.8125 72.90625 \nL 24.515625 72.90625 \nL 43.109375 23.296875 \nL 61.8125 72.90625 \nL 76.515625 72.90625 \nL 76.515625 0 \nL 66.890625 0 \nL 66.890625 64.015625 \nL 48.09375 14.015625 \nL 38.1875 14.015625 \nL 19.390625 64.015625 \nL 19.390625 0 \nL 9.8125 0 \nz\n\" id=\"DejaVuSans-77\"/>\n     </defs>\n     <use xlink:href=\"#DejaVuSans-65\"/>\n     <use x=\"60.658203\" xlink:href=\"#DejaVuSans-84\"/>\n     <use x=\"121.742188\" xlink:href=\"#DejaVuSans-77\"/>\n    </g>\n   </g>\n   <g id=\"text_16\">\n    <!-- BLM -->\n    <g style=\"fill:#ff0000;\" transform=\"translate(322.792626 312.164262)scale(0.1 -0.1)\">\n     <defs>\n      <path d=\"M 19.671875 34.8125 \nL 19.671875 8.109375 \nL 35.5 8.109375 \nQ 43.453125 8.109375 47.28125 11.40625 \nQ 51.125 14.703125 51.125 21.484375 \nQ 51.125 28.328125 47.28125 31.5625 \nQ 43.453125 34.8125 35.5 34.8125 \nz\nM 19.671875 64.796875 \nL 19.671875 42.828125 \nL 34.28125 42.828125 \nQ 41.5 42.828125 45.03125 45.53125 \nQ 48.578125 48.25 48.578125 53.8125 \nQ 48.578125 59.328125 45.03125 62.0625 \nQ 41.5 64.796875 34.28125 64.796875 \nz\nM 9.8125 72.90625 \nL 35.015625 72.90625 \nQ 46.296875 72.90625 52.390625 68.21875 \nQ 58.5 63.53125 58.5 54.890625 \nQ 58.5 48.1875 55.375 44.234375 \nQ 52.25 40.28125 46.1875 39.3125 \nQ 53.46875 37.75 57.5 32.78125 \nQ 61.53125 27.828125 61.53125 20.40625 \nQ 61.53125 10.640625 54.890625 5.3125 \nQ 48.25 0 35.984375 0 \nL 9.8125 0 \nz\n\" id=\"DejaVuSans-66\"/>\n     </defs>\n     <use xlink:href=\"#DejaVuSans-66\"/>\n     <use x=\"68.603516\" xlink:href=\"#DejaVuSans-76\"/>\n     <use x=\"124.316406\" xlink:href=\"#DejaVuSans-77\"/>\n    </g>\n   </g>\n   <g id=\"patch_7\">\n    <path d=\"M 207.57225 305.209908 \nQ 245.059081 298.77902 246.126185 267.406419 \n\" style=\"fill:none;stroke:#000000;stroke-linecap:round;\"/>\n    <path d=\"M 243.991364 271.336119 \nL 246.126185 267.406419 \nL 247.989052 271.472096 \n\" style=\"fill:none;stroke:#000000;stroke-linecap:round;\"/>\n   </g>\n   <g id=\"text_17\">\n    <!-- BRCA1 -->\n    <g style=\"fill:#ff0000;\" transform=\"translate(170.106851 309.556303)scale(0.1 -0.1)\">\n     <defs>\n      <path d=\"M 44.390625 34.1875 \nQ 47.5625 33.109375 50.5625 29.59375 \nQ 53.5625 26.078125 56.59375 19.921875 \nL 66.609375 0 \nL 56 0 \nL 46.6875 18.703125 \nQ 43.0625 26.03125 39.671875 28.421875 \nQ 36.28125 30.8125 30.421875 30.8125 \nL 19.671875 30.8125 \nL 19.671875 0 \nL 9.8125 0 \nL 9.8125 72.90625 \nL 32.078125 72.90625 \nQ 44.578125 72.90625 50.734375 67.671875 \nQ 56.890625 62.453125 56.890625 51.90625 \nQ 56.890625 45.015625 53.6875 40.46875 \nQ 50.484375 35.9375 44.390625 34.1875 \nz\nM 19.671875 64.796875 \nL 19.671875 38.921875 \nL 32.078125 38.921875 \nQ 39.203125 38.921875 42.84375 42.21875 \nQ 46.484375 45.515625 46.484375 51.90625 \nQ 46.484375 58.296875 42.84375 61.546875 \nQ 39.203125 64.796875 32.078125 64.796875 \nz\n\" id=\"DejaVuSans-82\"/>\n      <path d=\"M 64.40625 67.28125 \nL 64.40625 56.890625 \nQ 59.421875 61.53125 53.78125 63.8125 \nQ 48.140625 66.109375 41.796875 66.109375 \nQ 29.296875 66.109375 22.65625 58.46875 \nQ 16.015625 50.828125 16.015625 36.375 \nQ 16.015625 21.96875 22.65625 14.328125 \nQ 29.296875 6.6875 41.796875 6.6875 \nQ 48.140625 6.6875 53.78125 8.984375 \nQ 59.421875 11.28125 64.40625 15.921875 \nL 64.40625 5.609375 \nQ 59.234375 2.09375 53.4375 0.328125 \nQ 47.65625 -1.421875 41.21875 -1.421875 \nQ 24.65625 -1.421875 15.125 8.703125 \nQ 5.609375 18.84375 5.609375 36.375 \nQ 5.609375 53.953125 15.125 64.078125 \nQ 24.65625 74.21875 41.21875 74.21875 \nQ 47.75 74.21875 53.53125 72.484375 \nQ 59.328125 70.75 64.40625 67.28125 \nz\n\" id=\"DejaVuSans-67\"/>\n     </defs>\n     <use xlink:href=\"#DejaVuSans-66\"/>\n     <use x=\"68.603516\" xlink:href=\"#DejaVuSans-82\"/>\n     <use x=\"133.085938\" xlink:href=\"#DejaVuSans-67\"/>\n     <use x=\"202.910156\" xlink:href=\"#DejaVuSans-65\"/>\n     <use x=\"271.318359\" xlink:href=\"#DejaVuSans-49\"/>\n    </g>\n   </g>\n   <g id=\"patch_8\">\n    <path d=\"M 207.591583 292.13513 \nQ 244.512981 287.819178 246.040789 267.406609 \n\" style=\"fill:none;stroke:#000000;stroke-linecap:round;\"/>\n    <path d=\"M 243.747817 271.246176 \nL 246.040789 267.406609 \nL 247.73666 271.544727 \n\" style=\"fill:none;stroke:#000000;stroke-linecap:round;\"/>\n   </g>\n   <g id=\"text_18\">\n    <!-- BRCA2 -->\n    <g style=\"fill:#ff0000;\" transform=\"translate(170.106851 295.97677)scale(0.1 -0.1)\">\n     <use xlink:href=\"#DejaVuSans-66\"/>\n     <use x=\"68.603516\" xlink:href=\"#DejaVuSans-82\"/>\n     <use x=\"133.085938\" xlink:href=\"#DejaVuSans-67\"/>\n     <use x=\"202.910156\" xlink:href=\"#DejaVuSans-65\"/>\n     <use x=\"271.318359\" xlink:href=\"#DejaVuSans-50\"/>\n    </g>\n   </g>\n   <g id=\"text_19\">\n    <!-- CDK6 -->\n    <g style=\"fill:#ff0000;\" transform=\"translate(361.779058 102.550464)scale(0.1 -0.1)\">\n     <defs>\n      <path d=\"M 19.671875 64.796875 \nL 19.671875 8.109375 \nL 31.59375 8.109375 \nQ 46.6875 8.109375 53.6875 14.9375 \nQ 60.6875 21.78125 60.6875 36.53125 \nQ 60.6875 51.171875 53.6875 57.984375 \nQ 46.6875 64.796875 31.59375 64.796875 \nz\nM 9.8125 72.90625 \nL 30.078125 72.90625 \nQ 51.265625 72.90625 61.171875 64.09375 \nQ 71.09375 55.28125 71.09375 36.53125 \nQ 71.09375 17.671875 61.125 8.828125 \nQ 51.171875 0 30.078125 0 \nL 9.8125 0 \nz\n\" id=\"DejaVuSans-68\"/>\n      <path d=\"M 9.8125 72.90625 \nL 19.671875 72.90625 \nL 19.671875 42.09375 \nL 52.390625 72.90625 \nL 65.09375 72.90625 \nL 28.90625 38.921875 \nL 67.671875 0 \nL 54.6875 0 \nL 19.671875 35.109375 \nL 19.671875 0 \nL 9.8125 0 \nz\n\" id=\"DejaVuSans-75\"/>\n     </defs>\n     <use xlink:href=\"#DejaVuSans-67\"/>\n     <use x=\"69.824219\" xlink:href=\"#DejaVuSans-68\"/>\n     <use x=\"146.826172\" xlink:href=\"#DejaVuSans-75\"/>\n     <use x=\"212.402344\" xlink:href=\"#DejaVuSans-54\"/>\n    </g>\n   </g>\n   <g id=\"text_20\">\n    <!-- CEBPA -->\n    <g style=\"fill:#ff0000;\" transform=\"translate(350.88806 37.558887)scale(0.1 -0.1)\">\n     <defs>\n      <path d=\"M 9.8125 72.90625 \nL 55.90625 72.90625 \nL 55.90625 64.59375 \nL 19.671875 64.59375 \nL 19.671875 43.015625 \nL 54.390625 43.015625 \nL 54.390625 34.71875 \nL 19.671875 34.71875 \nL 19.671875 8.296875 \nL 56.78125 8.296875 \nL 56.78125 0 \nL 9.8125 0 \nz\n\" id=\"DejaVuSans-69\"/>\n     </defs>\n     <use xlink:href=\"#DejaVuSans-67\"/>\n     <use x=\"69.824219\" xlink:href=\"#DejaVuSans-69\"/>\n     <use x=\"133.007812\" xlink:href=\"#DejaVuSans-66\"/>\n     <use x=\"201.611328\" xlink:href=\"#DejaVuSans-80\"/>\n     <use x=\"255.539062\" xlink:href=\"#DejaVuSans-65\"/>\n    </g>\n   </g>\n   <g id=\"patch_9\">\n    <path d=\"M 186.901096 261.559355 \nQ 263.02755 261.771404 272.992433 263.432426 \n\" style=\"fill:none;stroke:#000000;stroke-linecap:round;\"/>\n    <path d=\"M 269.375709 260.801969 \nL 272.992433 263.432426 \nL 268.718032 264.747531 \n\" style=\"fill:none;stroke:#000000;stroke-linecap:round;\"/>\n   </g>\n   <g id=\"text_21\">\n    <!-- CHEK2 -->\n    <g style=\"fill:#ff0000;\" transform=\"translate(149.159891 264.291192)scale(0.1 -0.1)\">\n     <defs>\n      <path d=\"M 9.8125 72.90625 \nL 19.671875 72.90625 \nL 19.671875 43.015625 \nL 55.515625 43.015625 \nL 55.515625 72.90625 \nL 65.375 72.90625 \nL 65.375 0 \nL 55.515625 0 \nL 55.515625 34.71875 \nL 19.671875 34.71875 \nL 19.671875 0 \nL 9.8125 0 \nz\n\" id=\"DejaVuSans-72\"/>\n     </defs>\n     <use xlink:href=\"#DejaVuSans-67\"/>\n     <use x=\"69.824219\" xlink:href=\"#DejaVuSans-72\"/>\n     <use x=\"145.019531\" xlink:href=\"#DejaVuSans-69\"/>\n     <use x=\"208.203125\" xlink:href=\"#DejaVuSans-75\"/>\n     <use x=\"273.779297\" xlink:href=\"#DejaVuSans-50\"/>\n    </g>\n   </g>\n   <g id=\"text_22\">\n    <!-- EXT1 -->\n    <g style=\"fill:#ff0000;\" transform=\"translate(427.821072 72.266298)scale(0.1 -0.1)\">\n     <defs>\n      <path d=\"M 6.296875 72.90625 \nL 16.890625 72.90625 \nL 35.015625 45.796875 \nL 53.21875 72.90625 \nL 63.8125 72.90625 \nL 40.375 37.890625 \nL 65.375 0 \nL 54.78125 0 \nL 34.28125 31 \nL 13.625 0 \nL 2.984375 0 \nL 29 38.921875 \nz\n\" id=\"DejaVuSans-88\"/>\n     </defs>\n     <use xlink:href=\"#DejaVuSans-69\"/>\n     <use x=\"63.183594\" xlink:href=\"#DejaVuSans-88\"/>\n     <use x=\"129.939453\" xlink:href=\"#DejaVuSans-84\"/>\n     <use x=\"191.023438\" xlink:href=\"#DejaVuSans-49\"/>\n    </g>\n   </g>\n   <g id=\"patch_10\">\n    <path d=\"M 175.407044 354.805385 \nQ 223.979325 349.295205 225.037775 307.167683 \n\" style=\"fill:none;stroke:#000000;stroke-linecap:round;\"/>\n    <path d=\"M 222.937938 311.116187 \nL 225.037775 307.167683 \nL 226.936676 311.216655 \n\" style=\"fill:none;stroke:#000000;stroke-linecap:round;\"/>\n   </g>\n   <g id=\"text_23\">\n    <!-- FLT3 -->\n    <g style=\"fill:#ff0000;\" transform=\"translate(148.999809 358.369372)scale(0.1 -0.1)\">\n     <use xlink:href=\"#DejaVuSans-70\"/>\n     <use x=\"57.519531\" xlink:href=\"#DejaVuSans-76\"/>\n     <use x=\"99.482422\" xlink:href=\"#DejaVuSans-84\"/>\n     <use x=\"160.566406\" xlink:href=\"#DejaVuSans-51\"/>\n    </g>\n   </g>\n   <g id=\"text_24\">\n    <!-- FOXP1 -->\n    <g style=\"fill:#ff0000;\" transform=\"translate(252.4362 299.524728)scale(0.1 -0.1)\">\n     <defs>\n      <path d=\"M 39.40625 66.21875 \nQ 28.65625 66.21875 22.328125 58.203125 \nQ 16.015625 50.203125 16.015625 36.375 \nQ 16.015625 22.609375 22.328125 14.59375 \nQ 28.65625 6.59375 39.40625 6.59375 \nQ 50.140625 6.59375 56.421875 14.59375 \nQ 62.703125 22.609375 62.703125 36.375 \nQ 62.703125 50.203125 56.421875 58.203125 \nQ 50.140625 66.21875 39.40625 66.21875 \nz\nM 39.40625 74.21875 \nQ 54.734375 74.21875 63.90625 63.9375 \nQ 73.09375 53.65625 73.09375 36.375 \nQ 73.09375 19.140625 63.90625 8.859375 \nQ 54.734375 -1.421875 39.40625 -1.421875 \nQ 24.03125 -1.421875 14.8125 8.828125 \nQ 5.609375 19.09375 5.609375 36.375 \nQ 5.609375 53.65625 14.8125 63.9375 \nQ 24.03125 74.21875 39.40625 74.21875 \nz\n\" id=\"DejaVuSans-79\"/>\n     </defs>\n     <use xlink:href=\"#DejaVuSans-70\"/>\n     <use x=\"57.519531\" xlink:href=\"#DejaVuSans-79\"/>\n     <use x=\"129.855469\" xlink:href=\"#DejaVuSans-88\"/>\n     <use x=\"198.361328\" xlink:href=\"#DejaVuSans-80\"/>\n     <use x=\"258.664062\" xlink:href=\"#DejaVuSans-49\"/>\n    </g>\n   </g>\n   <g id=\"patch_11\">\n    <path d=\"M 360.302621 252.735665 \nQ 318.282029 254.07115 314.55909 261.354394 \n\" style=\"fill:none;stroke:#000000;stroke-linecap:round;\"/>\n    <path d=\"M 318.160517 258.703031 \nL 314.55909 261.354394 \nL 314.598856 256.882435 \n\" style=\"fill:none;stroke:#000000;stroke-linecap:round;\"/>\n   </g>\n   <g id=\"text_25\">\n    <!-- GPC3 -->\n    <g style=\"fill:#ff0000;\" transform=\"translate(364.303588 255.238169)scale(0.1 -0.1)\">\n     <defs>\n      <path d=\"M 59.515625 10.40625 \nL 59.515625 29.984375 \nL 43.40625 29.984375 \nL 43.40625 38.09375 \nL 69.28125 38.09375 \nL 69.28125 6.78125 \nQ 63.578125 2.734375 56.6875 0.65625 \nQ 49.8125 -1.421875 42 -1.421875 \nQ 24.90625 -1.421875 15.25 8.5625 \nQ 5.609375 18.5625 5.609375 36.375 \nQ 5.609375 54.25 15.25 64.234375 \nQ 24.90625 74.21875 42 74.21875 \nQ 49.125 74.21875 55.546875 72.453125 \nQ 61.96875 70.703125 67.390625 67.28125 \nL 67.390625 56.78125 \nQ 61.921875 61.421875 55.765625 63.765625 \nQ 49.609375 66.109375 42.828125 66.109375 \nQ 29.4375 66.109375 22.71875 58.640625 \nQ 16.015625 51.171875 16.015625 36.375 \nQ 16.015625 21.625 22.71875 14.15625 \nQ 29.4375 6.6875 42.828125 6.6875 \nQ 48.046875 6.6875 52.140625 7.59375 \nQ 56.25 8.5 59.515625 10.40625 \nz\n\" id=\"DejaVuSans-71\"/>\n     </defs>\n     <use xlink:href=\"#DejaVuSans-71\"/>\n     <use x=\"77.490234\" xlink:href=\"#DejaVuSans-80\"/>\n     <use x=\"137.792969\" xlink:href=\"#DejaVuSans-67\"/>\n     <use x=\"207.617188\" xlink:href=\"#DejaVuSans-51\"/>\n    </g>\n   </g>\n   <g id=\"patch_12\">\n    <path d=\"M 198.634807 279.350904 \nQ 242.522547 277.67931 245.595224 267.34198 \n\" style=\"fill:none;stroke:#000000;stroke-linecap:round;\"/>\n    <path d=\"M 242.538439 270.606344 \nL 245.595224 267.34198 \nL 246.372643 271.746026 \n\" style=\"fill:none;stroke:#000000;stroke-linecap:round;\"/>\n   </g>\n   <g id=\"text_26\">\n    <!-- IDH1 -->\n    <g style=\"fill:#ff0000;\" transform=\"translate(170.106851 282.397236)scale(0.1 -0.1)\">\n     <defs>\n      <path d=\"M 9.8125 72.90625 \nL 19.671875 72.90625 \nL 19.671875 0 \nL 9.8125 0 \nz\n\" id=\"DejaVuSans-73\"/>\n     </defs>\n     <use xlink:href=\"#DejaVuSans-73\"/>\n     <use x=\"29.492188\" xlink:href=\"#DejaVuSans-68\"/>\n     <use x=\"106.494141\" xlink:href=\"#DejaVuSans-72\"/>\n     <use x=\"181.689453\" xlink:href=\"#DejaVuSans-49\"/>\n    </g>\n   </g>\n   <g id=\"text_27\">\n    <!-- JAK2 -->\n    <g style=\"fill:#ff0000;\" transform=\"translate(333.372782 153.443713)scale(0.1 -0.1)\">\n     <defs>\n      <path d=\"M 9.8125 72.90625 \nL 19.671875 72.90625 \nL 19.671875 5.078125 \nQ 19.671875 -8.109375 14.671875 -14.0625 \nQ 9.671875 -20.015625 -1.421875 -20.015625 \nL -5.171875 -20.015625 \nL -5.171875 -11.71875 \nL -2.09375 -11.71875 \nQ 4.4375 -11.71875 7.125 -8.046875 \nQ 9.8125 -4.390625 9.8125 5.078125 \nz\n\" id=\"DejaVuSans-74\"/>\n     </defs>\n     <use xlink:href=\"#DejaVuSans-74\"/>\n     <use x=\"27.742188\" xlink:href=\"#DejaVuSans-65\"/>\n     <use x=\"96.150391\" xlink:href=\"#DejaVuSans-75\"/>\n     <use x=\"161.726562\" xlink:href=\"#DejaVuSans-50\"/>\n    </g>\n   </g>\n   <g id=\"patch_13\">\n    <path d=\"M 184.480242 248.092799 \nQ 269.756845 249.374026 275.098586 261.316949 \n\" style=\"fill:none;stroke:#000000;stroke-linecap:round;\"/>\n    <path d=\"M 275.291116 256.848959 \nL 275.098586 261.316949 \nL 271.639712 258.482132 \n\" style=\"fill:none;stroke:#000000;stroke-linecap:round;\"/>\n   </g>\n   <g id=\"text_28\">\n    <!-- MDM4 -->\n    <g style=\"fill:#ff0000;\" transform=\"translate(149.159891 250.711658)scale(0.1 -0.1)\">\n     <use xlink:href=\"#DejaVuSans-77\"/>\n     <use x=\"86.279297\" xlink:href=\"#DejaVuSans-68\"/>\n     <use x=\"163.28125\" xlink:href=\"#DejaVuSans-77\"/>\n     <use x=\"249.560547\" xlink:href=\"#DejaVuSans-52\"/>\n    </g>\n   </g>\n   <g id=\"text_29\">\n    <!-- MLH1 -->\n    <g style=\"fill:#ff0000;\" transform=\"translate(265.832618 183.400998)scale(0.1 -0.1)\">\n     <use xlink:href=\"#DejaVuSans-77\"/>\n     <use x=\"86.279297\" xlink:href=\"#DejaVuSans-76\"/>\n     <use x=\"141.992188\" xlink:href=\"#DejaVuSans-72\"/>\n     <use x=\"217.1875\" xlink:href=\"#DejaVuSans-49\"/>\n    </g>\n   </g>\n   <g id=\"patch_14\">\n    <path d=\"M 182.019285 234.59228 \nQ 272.497055 236.848746 275.703109 261.190101 \n\" style=\"fill:none;stroke:#000000;stroke-linecap:round;\"/>\n    <path d=\"M 277.163646 256.963184 \nL 275.703109 261.190101 \nL 273.197897 257.485521 \n\" style=\"fill:none;stroke:#000000;stroke-linecap:round;\"/>\n   </g>\n   <g id=\"text_30\">\n    <!-- MSH2 -->\n    <g style=\"fill:#ff0000;\" transform=\"translate(149.159891 237.132125)scale(0.1 -0.1)\">\n     <defs>\n      <path d=\"M 53.515625 70.515625 \nL 53.515625 60.890625 \nQ 47.90625 63.578125 42.921875 64.890625 \nQ 37.9375 66.21875 33.296875 66.21875 \nQ 25.25 66.21875 20.875 63.09375 \nQ 16.5 59.96875 16.5 54.203125 \nQ 16.5 49.359375 19.40625 46.890625 \nQ 22.3125 44.4375 30.421875 42.921875 \nL 36.375 41.703125 \nQ 47.40625 39.59375 52.65625 34.296875 \nQ 57.90625 29 57.90625 20.125 \nQ 57.90625 9.515625 50.796875 4.046875 \nQ 43.703125 -1.421875 29.984375 -1.421875 \nQ 24.8125 -1.421875 18.96875 -0.25 \nQ 13.140625 0.921875 6.890625 3.21875 \nL 6.890625 13.375 \nQ 12.890625 10.015625 18.65625 8.296875 \nQ 24.421875 6.59375 29.984375 6.59375 \nQ 38.421875 6.59375 43.015625 9.90625 \nQ 47.609375 13.234375 47.609375 19.390625 \nQ 47.609375 24.75 44.3125 27.78125 \nQ 41.015625 30.8125 33.5 32.328125 \nL 27.484375 33.5 \nQ 16.453125 35.6875 11.515625 40.375 \nQ 6.59375 45.0625 6.59375 53.421875 \nQ 6.59375 63.09375 13.40625 68.65625 \nQ 20.21875 74.21875 32.171875 74.21875 \nQ 37.3125 74.21875 42.625 73.28125 \nQ 47.953125 72.359375 53.515625 70.515625 \nz\n\" id=\"DejaVuSans-83\"/>\n     </defs>\n     <use xlink:href=\"#DejaVuSans-77\"/>\n     <use x=\"86.279297\" xlink:href=\"#DejaVuSans-83\"/>\n     <use x=\"149.755859\" xlink:href=\"#DejaVuSans-72\"/>\n     <use x=\"224.951172\" xlink:href=\"#DejaVuSans-50\"/>\n    </g>\n   </g>\n   <g id=\"patch_15\">\n    <path d=\"M 172.751548 220.953938 \nQ 273.426391 223.375891 275.843652 261.179127 \n\" style=\"fill:none;stroke:#000000;stroke-linecap:round;\"/>\n    <path d=\"M 277.584324 257.059654 \nL 275.843652 261.179127 \nL 273.592476 257.314905 \n\" style=\"fill:none;stroke:#000000;stroke-linecap:round;\"/>\n   </g>\n   <g id=\"text_31\">\n    <!-- NF1 -->\n    <g style=\"fill:#ff0000;\" transform=\"translate(149.159891 223.552592)scale(0.1 -0.1)\">\n     <defs>\n      <path d=\"M 9.8125 72.90625 \nL 23.09375 72.90625 \nL 55.421875 11.921875 \nL 55.421875 72.90625 \nL 64.984375 72.90625 \nL 64.984375 0 \nL 51.703125 0 \nL 19.390625 60.984375 \nL 19.390625 0 \nL 9.8125 0 \nz\n\" id=\"DejaVuSans-78\"/>\n     </defs>\n     <use xlink:href=\"#DejaVuSans-78\"/>\n     <use x=\"74.804688\" xlink:href=\"#DejaVuSans-70\"/>\n     <use x=\"132.324219\" xlink:href=\"#DejaVuSans-49\"/>\n    </g>\n   </g>\n   <g id=\"text_32\">\n    <!-- NF2 -->\n    <g style=\"fill:#ff0000;\" transform=\"translate(322.792626 225.37276)scale(0.1 -0.1)\">\n     <use xlink:href=\"#DejaVuSans-78\"/>\n     <use x=\"74.804688\" xlink:href=\"#DejaVuSans-70\"/>\n     <use x=\"132.324219\" xlink:href=\"#DejaVuSans-50\"/>\n    </g>\n   </g>\n   <g id=\"patch_16\">\n    <path d=\"M 178.926907 341.233983 \nQ 223.650916 336.677187 224.994944 307.167085 \n\" style=\"fill:none;stroke:#000000;stroke-linecap:round;\"/>\n    <path d=\"M 222.815025 311.071947 \nL 224.994944 307.167085 \nL 226.810883 311.253937 \n\" style=\"fill:none;stroke:#000000;stroke-linecap:round;\"/>\n   </g>\n   <g id=\"text_33\">\n    <!-- PTEN -->\n    <g style=\"fill:#ff0000;\" transform=\"translate(148.999809 344.789839)scale(0.1 -0.1)\">\n     <use xlink:href=\"#DejaVuSans-80\"/>\n     <use x=\"60.302734\" xlink:href=\"#DejaVuSans-84\"/>\n     <use x=\"121.386719\" xlink:href=\"#DejaVuSans-69\"/>\n     <use x=\"184.570312\" xlink:href=\"#DejaVuSans-78\"/>\n    </g>\n   </g>\n   <g id=\"patch_17\">\n    <path d=\"M 173.168162 328.138989 \nQ 222.647341 325.807223 224.844912 307.155841 \n\" style=\"fill:none;stroke:#000000;stroke-linecap:round;\"/>\n    <path d=\"M 222.390595 310.894334 \nL 224.844912 307.155841 \nL 226.363116 311.362391 \n\" style=\"fill:none;stroke:#000000;stroke-linecap:round;\"/>\n   </g>\n   <g id=\"text_34\">\n    <!-- RB1 -->\n    <g style=\"fill:#ff0000;\" transform=\"translate(148.999809 331.210306)scale(0.1 -0.1)\">\n     <use xlink:href=\"#DejaVuSans-82\"/>\n     <use x=\"69.482422\" xlink:href=\"#DejaVuSans-66\"/>\n     <use x=\"138.085938\" xlink:href=\"#DejaVuSans-49\"/>\n    </g>\n   </g>\n   <g id=\"patch_18\">\n    <path d=\"M 181.427551 314.594515 \nQ 220.240439 313.302042 223.984842 306.939912 \n\" style=\"fill:none;stroke:#000000;stroke-linecap:round;\"/>\n    <path d=\"M 220.232333 309.372744 \nL 223.984842 306.939912 \nL 223.679602 311.401619 \n\" style=\"fill:none;stroke:#000000;stroke-linecap:round;\"/>\n   </g>\n   <g id=\"text_35\">\n    <!-- SDHB -->\n    <g style=\"fill:#ff0000;\" transform=\"translate(148.999809 317.630772)scale(0.1 -0.1)\">\n     <use xlink:href=\"#DejaVuSans-83\"/>\n     <use x=\"63.476562\" xlink:href=\"#DejaVuSans-68\"/>\n     <use x=\"140.478516\" xlink:href=\"#DejaVuSans-72\"/>\n     <use x=\"215.673828\" xlink:href=\"#DejaVuSans-66\"/>\n    </g>\n   </g>\n   <g id=\"text_36\">\n    <!-- SDHD -->\n    <g style=\"fill:#ff0000;\" transform=\"translate(338.14976 57.742458)scale(0.1 -0.1)\">\n     <use xlink:href=\"#DejaVuSans-83\"/>\n     <use x=\"63.476562\" xlink:href=\"#DejaVuSans-68\"/>\n     <use x=\"140.478516\" xlink:href=\"#DejaVuSans-72\"/>\n     <use x=\"215.673828\" xlink:href=\"#DejaVuSans-68\"/>\n    </g>\n   </g>\n   <g id=\"text_37\">\n    <!-- SMARCB1 -->\n    <g style=\"fill:#ff0000;\" transform=\"translate(327.865353 280.911746)scale(0.1 -0.1)\">\n     <use xlink:href=\"#DejaVuSans-83\"/>\n     <use x=\"63.476562\" xlink:href=\"#DejaVuSans-77\"/>\n     <use x=\"149.755859\" xlink:href=\"#DejaVuSans-65\"/>\n     <use x=\"218.164062\" xlink:href=\"#DejaVuSans-82\"/>\n     <use x=\"282.646484\" xlink:href=\"#DejaVuSans-67\"/>\n     <use x=\"352.470703\" xlink:href=\"#DejaVuSans-66\"/>\n     <use x=\"421.074219\" xlink:href=\"#DejaVuSans-49\"/>\n    </g>\n   </g>\n   <g id=\"text_38\">\n    <!-- SUFU -->\n    <g style=\"fill:#ff0000;\" transform=\"translate(277.167417 233.075992)scale(0.1 -0.1)\">\n     <defs>\n      <path d=\"M 8.6875 72.90625 \nL 18.609375 72.90625 \nL 18.609375 28.609375 \nQ 18.609375 16.890625 22.84375 11.734375 \nQ 27.09375 6.59375 36.625 6.59375 \nQ 46.09375 6.59375 50.34375 11.734375 \nQ 54.59375 16.890625 54.59375 28.609375 \nL 54.59375 72.90625 \nL 64.5 72.90625 \nL 64.5 27.390625 \nQ 64.5 13.140625 57.4375 5.859375 \nQ 50.390625 -1.421875 36.625 -1.421875 \nQ 22.796875 -1.421875 15.734375 5.859375 \nQ 8.6875 13.140625 8.6875 27.390625 \nz\n\" id=\"DejaVuSans-85\"/>\n     </defs>\n     <use xlink:href=\"#DejaVuSans-83\"/>\n     <use x=\"63.476562\" xlink:href=\"#DejaVuSans-85\"/>\n     <use x=\"136.669922\" xlink:href=\"#DejaVuSans-70\"/>\n     <use x=\"194.189453\" xlink:href=\"#DejaVuSans-85\"/>\n    </g>\n   </g>\n   <g id=\"text_39\">\n    <!-- TCF3 -->\n    <g style=\"fill:#ff0000;\" transform=\"translate(303.430861 109.130855)scale(0.1 -0.1)\">\n     <use xlink:href=\"#DejaVuSans-84\"/>\n     <use x=\"55.208984\" xlink:href=\"#DejaVuSans-67\"/>\n     <use x=\"125.033203\" xlink:href=\"#DejaVuSans-70\"/>\n     <use x=\"182.552734\" xlink:href=\"#DejaVuSans-51\"/>\n    </g>\n   </g>\n   <g id=\"patch_19\">\n    <path d=\"M 360.303339 239.418803 \nQ 315.763793 242.385652 313.795174 261.182778 \n\" style=\"fill:none;stroke:#000000;stroke-linecap:round;\"/>\n    <path d=\"M 316.200936 257.412856 \nL 313.795174 261.182778 \nL 312.222694 256.996216 \n\" style=\"fill:none;stroke:#000000;stroke-linecap:round;\"/>\n   </g>\n   <g id=\"text_40\">\n    <!-- TSC2 -->\n    <g style=\"fill:#ff0000;\" transform=\"translate(364.303588 241.658636)scale(0.1 -0.1)\">\n     <use xlink:href=\"#DejaVuSans-84\"/>\n     <use x=\"61.083984\" xlink:href=\"#DejaVuSans-83\"/>\n     <use x=\"124.560547\" xlink:href=\"#DejaVuSans-67\"/>\n     <use x=\"194.384766\" xlink:href=\"#DejaVuSans-50\"/>\n    </g>\n   </g>\n   <g id=\"text_41\">\n    <!-- WRN -->\n    <g style=\"fill:#ff0000;\" transform=\"translate(214.945263 194.572172)scale(0.1 -0.1)\">\n     <defs>\n      <path d=\"M 3.328125 72.90625 \nL 13.28125 72.90625 \nL 28.609375 11.28125 \nL 43.890625 72.90625 \nL 54.984375 72.90625 \nL 70.3125 11.28125 \nL 85.59375 72.90625 \nL 95.609375 72.90625 \nL 77.296875 0 \nL 64.890625 0 \nL 49.515625 63.28125 \nL 33.984375 0 \nL 21.578125 0 \nz\n\" id=\"DejaVuSans-87\"/>\n     </defs>\n     <use xlink:href=\"#DejaVuSans-87\"/>\n     <use x=\"98.876953\" xlink:href=\"#DejaVuSans-82\"/>\n     <use x=\"168.359375\" xlink:href=\"#DejaVuSans-78\"/>\n    </g>\n   </g>\n   <g id=\"text_42\">\n    <!-- GOF: P-values vs. Magnitude -->\n    <g transform=\"translate(283.585938 16.318125)scale(0.12 -0.12)\">\n     <defs>\n      <path d=\"M 11.71875 12.40625 \nL 22.015625 12.40625 \nL 22.015625 0 \nL 11.71875 0 \nz\nM 11.71875 51.703125 \nL 22.015625 51.703125 \nL 22.015625 39.3125 \nL 11.71875 39.3125 \nz\n\" id=\"DejaVuSans-58\"/>\n      <path d=\"M 44.28125 53.078125 \nL 44.28125 44.578125 \nQ 40.484375 46.53125 36.375 47.5 \nQ 32.28125 48.484375 27.875 48.484375 \nQ 21.1875 48.484375 17.84375 46.4375 \nQ 14.5 44.390625 14.5 40.28125 \nQ 14.5 37.15625 16.890625 35.375 \nQ 19.28125 33.59375 26.515625 31.984375 \nL 29.59375 31.296875 \nQ 39.15625 29.25 43.1875 25.515625 \nQ 47.21875 21.78125 47.21875 15.09375 \nQ 47.21875 7.46875 41.1875 3.015625 \nQ 35.15625 -1.421875 24.609375 -1.421875 \nQ 20.21875 -1.421875 15.453125 -0.5625 \nQ 10.6875 0.296875 5.421875 2 \nL 5.421875 11.28125 \nQ 10.40625 8.6875 15.234375 7.390625 \nQ 20.0625 6.109375 24.8125 6.109375 \nQ 31.15625 6.109375 34.5625 8.28125 \nQ 37.984375 10.453125 37.984375 14.40625 \nQ 37.984375 18.0625 35.515625 20.015625 \nQ 33.0625 21.96875 24.703125 23.78125 \nL 21.578125 24.515625 \nQ 13.234375 26.265625 9.515625 29.90625 \nQ 5.8125 33.546875 5.8125 39.890625 \nQ 5.8125 47.609375 11.28125 51.796875 \nQ 16.75 56 26.8125 56 \nQ 31.78125 56 36.171875 55.265625 \nQ 40.578125 54.546875 44.28125 53.078125 \nz\n\" id=\"DejaVuSans-115\"/>\n      <path d=\"M 10.6875 12.40625 \nL 21 12.40625 \nL 21 0 \nL 10.6875 0 \nz\n\" id=\"DejaVuSans-46\"/>\n      <path d=\"M 9.421875 54.6875 \nL 18.40625 54.6875 \nL 18.40625 0 \nL 9.421875 0 \nz\nM 9.421875 75.984375 \nL 18.40625 75.984375 \nL 18.40625 64.59375 \nL 9.421875 64.59375 \nz\n\" id=\"DejaVuSans-105\"/>\n      <path d=\"M 18.3125 70.21875 \nL 18.3125 54.6875 \nL 36.8125 54.6875 \nL 36.8125 47.703125 \nL 18.3125 47.703125 \nL 18.3125 18.015625 \nQ 18.3125 11.328125 20.140625 9.421875 \nQ 21.96875 7.515625 27.59375 7.515625 \nL 36.8125 7.515625 \nL 36.8125 0 \nL 27.59375 0 \nQ 17.1875 0 13.234375 3.875 \nQ 9.28125 7.765625 9.28125 18.015625 \nL 9.28125 47.703125 \nL 2.6875 47.703125 \nL 2.6875 54.6875 \nL 9.28125 54.6875 \nL 9.28125 70.21875 \nz\n\" id=\"DejaVuSans-116\"/>\n      <path d=\"M 45.40625 46.390625 \nL 45.40625 75.984375 \nL 54.390625 75.984375 \nL 54.390625 0 \nL 45.40625 0 \nL 45.40625 8.203125 \nQ 42.578125 3.328125 38.25 0.953125 \nQ 33.9375 -1.421875 27.875 -1.421875 \nQ 17.96875 -1.421875 11.734375 6.484375 \nQ 5.515625 14.40625 5.515625 27.296875 \nQ 5.515625 40.1875 11.734375 48.09375 \nQ 17.96875 56 27.875 56 \nQ 33.9375 56 38.25 53.625 \nQ 42.578125 51.265625 45.40625 46.390625 \nz\nM 14.796875 27.296875 \nQ 14.796875 17.390625 18.875 11.75 \nQ 22.953125 6.109375 30.078125 6.109375 \nQ 37.203125 6.109375 41.296875 11.75 \nQ 45.40625 17.390625 45.40625 27.296875 \nQ 45.40625 37.203125 41.296875 42.84375 \nQ 37.203125 48.484375 30.078125 48.484375 \nQ 22.953125 48.484375 18.875 42.84375 \nQ 14.796875 37.203125 14.796875 27.296875 \nz\n\" id=\"DejaVuSans-100\"/>\n     </defs>\n     <use xlink:href=\"#DejaVuSans-71\"/>\n     <use x=\"77.490234\" xlink:href=\"#DejaVuSans-79\"/>\n     <use x=\"156.201172\" xlink:href=\"#DejaVuSans-70\"/>\n     <use x=\"205.970703\" xlink:href=\"#DejaVuSans-58\"/>\n     <use x=\"239.662109\" xlink:href=\"#DejaVuSans-32\"/>\n     <use x=\"271.449219\" xlink:href=\"#DejaVuSans-80\"/>\n     <use x=\"329.501953\" xlink:href=\"#DejaVuSans-45\"/>\n     <use x=\"362.960938\" xlink:href=\"#DejaVuSans-118\"/>\n     <use x=\"422.140625\" xlink:href=\"#DejaVuSans-97\"/>\n     <use x=\"483.419922\" xlink:href=\"#DejaVuSans-108\"/>\n     <use x=\"511.203125\" xlink:href=\"#DejaVuSans-117\"/>\n     <use x=\"574.582031\" xlink:href=\"#DejaVuSans-101\"/>\n     <use x=\"636.105469\" xlink:href=\"#DejaVuSans-115\"/>\n     <use x=\"688.205078\" xlink:href=\"#DejaVuSans-32\"/>\n     <use x=\"719.992188\" xlink:href=\"#DejaVuSans-118\"/>\n     <use x=\"779.171875\" xlink:href=\"#DejaVuSans-115\"/>\n     <use x=\"831.271484\" xlink:href=\"#DejaVuSans-46\"/>\n     <use x=\"863.058594\" xlink:href=\"#DejaVuSans-32\"/>\n     <use x=\"894.845703\" xlink:href=\"#DejaVuSans-77\"/>\n     <use x=\"981.125\" xlink:href=\"#DejaVuSans-97\"/>\n     <use x=\"1042.404297\" xlink:href=\"#DejaVuSans-103\"/>\n     <use x=\"1105.880859\" xlink:href=\"#DejaVuSans-110\"/>\n     <use x=\"1169.259766\" xlink:href=\"#DejaVuSans-105\"/>\n     <use x=\"1197.042969\" xlink:href=\"#DejaVuSans-116\"/>\n     <use x=\"1236.251953\" xlink:href=\"#DejaVuSans-117\"/>\n     <use x=\"1299.630859\" xlink:href=\"#DejaVuSans-100\"/>\n     <use x=\"1363.107422\" xlink:href=\"#DejaVuSans-101\"/>\n    </g>\n   </g>\n  </g>\n </g>\n <defs>\n  <clipPath id=\"p23f8233ae9\">\n   <rect height=\"434.88\" width=\"669.6\" x=\"34.2625\" y=\"22.318125\"/>\n  </clipPath>\n </defs>\n</svg>\n",
      "image/png": "[encoded data removed]"
     },
     "metadata": {
      "needs_background": "light"
     }
    }
   ],
   "source": [
    "## Volcano plot\n",
    "f, ax = plt.subplots(figsize=(12,8))\n",
    "# fisher = -np.log10(fisher)\n",
    "# chi2 = -np.log10(chi2)\n",
    "ax.scatter(magnitude2_gain, fisher_2_gain, color='grey')\n",
    "# ax.scatter(magnitude2_gain, chi2_2_gain, color='black')\n",
    "# ax.scatter(magnitude2_gain, fisher_2_gain_onetail, color='green')\n",
    "\n",
    "# sig_genes_fisher = magnitude[rej_fisher]\n",
    "ax.scatter(magnitude2_gain[rej_fisher_2_gain], fisher_2_gain[rej_fisher_2_gain], color='red')\n",
    "# ax.scatter(magnitude2_gain[rej_chi2_2_gain], chi2_2_gain[rej_chi2_2_gain], color='red')\n",
    "# ax.scatter(magnitude2_gain[rej_fisher_2_gain], fisher_2_gain_onetail[rej_fisher_2_gain_onetail], color='purple')\n",
    "a, b, c, d = 0, 0, 0, 0\n",
    "for i, j, k in zip(magnitude2_gain[rej_fisher_2_gain], fisher_2_gain[rej_fisher_2_gain], genes[rej_fisher_2_gain]):\n",
    "    if j < 2 and k not in ['FOXP1', 'BLM']:\n",
    "        # ax.annotate(text=k, xy=(i,j), xytext=())\n",
    "        print(i,j,k)\n",
    "        if j < 1.5:\n",
    "            ax.annotate(text=k, xy=(i,j), xytext=(i-1.5,j-0.6+a), color='red', \\\n",
    "                arrowprops=dict(arrowstyle='->', connectionstyle='angle3,angleA=0,angleB=-90'))\n",
    "            a += 0.15\n",
    "        elif i < -8:\n",
    "            ax.annotate(text=k, xy=(i,j), xytext=(i-1.5,j-0.5+b), color='red', \\\n",
    "                arrowprops=dict(arrowstyle='->', connectionstyle='angle3,angleA=0,angleB=-90'))\n",
    "            b += 0.15\n",
    "        elif i > -7:\n",
    "            ax.annotate(text=k, xy=(i,j), xytext=(i-0.1,j-0.15), color='red')\n",
    "        elif i > -7.5:\n",
    "            ax.annotate(text=k, xy=(i,j), xytext=(i+1, j+0.1+c), color='red', \\\n",
    "                arrowprops=dict(arrowstyle='->', connectionstyle='angle3,angleA=0,angleB=-90'))\n",
    "            c += 0.15\n",
    "        else:\n",
    "            ax.annotate(text=k, xy=(i,j), xytext=(i-2.5,j+d), color='red', \\\n",
    "                arrowprops=dict(arrowstyle='->', connectionstyle='angle3,angleA=0,angleB=-90'))\n",
    "            d += 0.15\n",
    "        continue\n",
    "    ax.annotate(text=k, xy=(i,j), xytext=(i-0.2,j+0.05), color='red')\n",
    "\n",
    "\n",
    "ax.plot(list(range(-12,1)), [-np.log10(alpha)] * len(list(range(-12,1))), color='black', linestyle='dashed')\n",
    "ax.set_xlabel('$\\log_2$(#LoF / #non-LoF)')\n",
    "ax.set_ylabel('$-\\log_{10}$(P-value)')\n",
    "ax.set_title('GOF: P-values vs. Magnitude')\n",
    "plt.show()\n"
   ]
  },
  {
   "cell_type": "code",
   "execution_count": 339,
   "metadata": {},
   "outputs": [
    {
     "output_type": "display_data",
     "data": {
      "text/plain": "<Figure size 864x576 with 1 Axes>",
      "image/svg+xml": "<?xml version=\"1.0\" encoding=\"utf-8\" standalone=\"no\"?>\n<!DOCTYPE svg PUBLIC \"-//W3C//DTD SVG 1.1//EN\"\n  \"http://www.w3.org/Graphics/SVG/1.1/DTD/svg11.dtd\">\n<!-- Created with matplotlib (https://matplotlib.org/) -->\n<svg height=\"494.77625pt\" version=\"1.1\" viewBox=\"0 0 717.425 494.77625\" width=\"717.425pt\" xmlns=\"http://www.w3.org/2000/svg\" xmlns:xlink=\"http://www.w3.org/1999/xlink\">\n <metadata>\n  <rdf:RDF xmlns:cc=\"http://creativecommons.org/ns#\" xmlns:dc=\"http://purl.org/dc/elements/1.1/\" xmlns:rdf=\"http://www.w3.org/1999/02/22-rdf-syntax-ns#\">\n   <cc:Work>\n    <dc:type rdf:resource=\"http://purl.org/dc/dcmitype/StillImage\"/>\n    <dc:date>2021-03-06T16:43:40.127197</dc:date>\n    <dc:format>image/svg+xml</dc:format>\n    <dc:creator>\n     <cc:Agent>\n      <dc:title>Matplotlib v3.3.2, https://matplotlib.org/</dc:title>\n     </cc:Agent>\n    </dc:creator>\n   </cc:Work>\n  </rdf:RDF>\n </metadata>\n <defs>\n  <style type=\"text/css\">*{stroke-linecap:butt;stroke-linejoin:round;}</style>\n </defs>\n <g id=\"figure_1\">\n  <g id=\"patch_1\">\n   <path d=\"M 0 494.77625 \nL 717.425 494.77625 \nL 717.425 0 \nL 0 0 \nz\n\" style=\"fill:none;\"/>\n  </g>\n  <g id=\"axes_1\">\n   <g id=\"patch_2\">\n    <path d=\"M 40.625 457.198125 \nL 710.225 457.198125 \nL 710.225 22.318125 \nL 40.625 22.318125 \nz\n\" style=\"fill:#ffffff;\"/>\n   </g>\n   <g id=\"PathCollection_1\">\n    <defs>\n     <path d=\"M 0 3 \nC 0.795609 3 1.55874 2.683901 2.12132 2.12132 \nC 2.683901 1.55874 3 0.795609 3 0 \nC 3 -0.795609 2.683901 -1.55874 2.12132 -2.12132 \nC 1.55874 -2.683901 0.795609 -3 0 -3 \nC -0.795609 -3 -1.55874 -2.683901 -2.12132 -2.12132 \nC -2.683901 -1.55874 -3 -0.795609 -3 0 \nC -3 0.795609 -2.683901 1.55874 -2.12132 2.12132 \nC -1.55874 2.683901 -0.795609 3 0 3 \nz\n\" id=\"m9392101388\" style=\"stroke:#808080;\"/>\n    </defs>\n    <g clip-path=\"url(#pd360b14134)\">\n     <use style=\"fill:#808080;stroke:#808080;\" x=\"452.510337\" xlink:href=\"#m9392101388\" y=\"433.963986\"/>\n     <use style=\"fill:#808080;stroke:#808080;\" x=\"363.385249\" xlink:href=\"#m9392101388\" y=\"434.851654\"/>\n     <use style=\"fill:#808080;stroke:#808080;\" x=\"444.329027\" xlink:href=\"#m9392101388\" y=\"428.143312\"/>\n     <use style=\"fill:#808080;stroke:#808080;\" x=\"326.967589\" xlink:href=\"#m9392101388\" y=\"437.430852\"/>\n     <use style=\"fill:#808080;stroke:#808080;\" x=\"293.675372\" xlink:href=\"#m9392101388\" y=\"434.734876\"/>\n     <use style=\"fill:#808080;stroke:#808080;\" x=\"359.148297\" xlink:href=\"#m9392101388\" y=\"436.398554\"/>\n     <use style=\"fill:#808080;stroke:#808080;\" x=\"319.938815\" xlink:href=\"#m9392101388\" y=\"436.481502\"/>\n     <use style=\"fill:#808080;stroke:#808080;\" x=\"421.110919\" xlink:href=\"#m9392101388\" y=\"434.734876\"/>\n     <use style=\"fill:#808080;stroke:#808080;\" x=\"303.501209\" xlink:href=\"#m9392101388\" y=\"437.430852\"/>\n     <use style=\"fill:#808080;stroke:#808080;\" x=\"359.148297\" xlink:href=\"#m9392101388\" y=\"437.013426\"/>\n     <use style=\"fill:#808080;stroke:#808080;\" x=\"349.880736\" xlink:href=\"#m9392101388\" y=\"437.430852\"/>\n     <use style=\"fill:#808080;stroke:#808080;\" x=\"319.938815\" xlink:href=\"#m9392101388\" y=\"427.814081\"/>\n     <use style=\"fill:#808080;stroke:#808080;\" x=\"150.945866\" xlink:href=\"#m9392101388\" y=\"437.430852\"/>\n     <use style=\"fill:#808080;stroke:#808080;\" x=\"231.453218\" xlink:href=\"#m9392101388\" y=\"433.963986\"/>\n     <use style=\"fill:#808080;stroke:#808080;\" x=\"252.56026\" xlink:href=\"#m9392101388\" y=\"434.734876\"/>\n     <use style=\"fill:#808080;stroke:#808080;\" x=\"333.389063\" xlink:href=\"#m9392101388\" y=\"437.430852\"/>\n     <use style=\"fill:#808080;stroke:#808080;\" x=\"252.56026\" xlink:href=\"#m9392101388\" y=\"437.013426\"/>\n     <use style=\"fill:#808080;stroke:#808080;\" x=\"430.213156\" xlink:href=\"#m9392101388\" y=\"428.258433\"/>\n     <use style=\"fill:#808080;stroke:#808080;\" x=\"319.938815\" xlink:href=\"#m9392101388\" y=\"436.481502\"/>\n     <use style=\"fill:#808080;stroke:#808080;\" x=\"231.453218\" xlink:href=\"#m9392101388\" y=\"437.430852\"/>\n     <use style=\"fill:#808080;stroke:#808080;\" x=\"268.944155\" xlink:href=\"#m9392101388\" y=\"433.725999\"/>\n     <use style=\"fill:#808080;stroke:#808080;\" x=\"252.56026\" xlink:href=\"#m9392101388\" y=\"437.013426\"/>\n     <use style=\"fill:#808080;stroke:#808080;\" x=\"451.203751\" xlink:href=\"#m9392101388\" y=\"437.430852\"/>\n     <use style=\"fill:#808080;stroke:#808080;\" x=\"252.56026\" xlink:href=\"#m9392101388\" y=\"434.734876\"/>\n     <use style=\"fill:#808080;stroke:#808080;\" x=\"415.089046\" xlink:href=\"#m9392101388\" y=\"428.258433\"/>\n     <use style=\"fill:#808080;stroke:#808080;\" x=\"398.883668\" xlink:href=\"#m9392101388\" y=\"434.734876\"/>\n     <use style=\"fill:#808080;stroke:#808080;\" x=\"268.944155\" xlink:href=\"#m9392101388\" y=\"437.098518\"/>\n     <use style=\"fill:#808080;stroke:#808080;\" x=\"469.926847\" xlink:href=\"#m9392101388\" y=\"405.996902\"/>\n     <use style=\"fill:#808080;stroke:#808080;\" x=\"252.56026\" xlink:href=\"#m9392101388\" y=\"437.013426\"/>\n     <use style=\"fill:#808080;stroke:#808080;\" x=\"410.796817\" xlink:href=\"#m9392101388\" y=\"431.944731\"/>\n     <use style=\"fill:#808080;stroke:#808080;\" x=\"384.763032\" xlink:href=\"#m9392101388\" y=\"437.272711\"/>\n     <use style=\"fill:#808080;stroke:#808080;\" x=\"319.938815\" xlink:href=\"#m9392101388\" y=\"433.963986\"/>\n     <use style=\"fill:#808080;stroke:#808080;\" x=\"349.880736\" xlink:href=\"#m9392101388\" y=\"434.734876\"/>\n     <use style=\"fill:#808080;stroke:#808080;\" x=\"344.77781\" xlink:href=\"#m9392101388\" y=\"437.430852\"/>\n     <use style=\"fill:#808080;stroke:#808080;\" x=\"436.801098\" xlink:href=\"#m9392101388\" y=\"437.430852\"/>\n     <use style=\"fill:#808080;stroke:#808080;\" x=\"339.300581\" xlink:href=\"#m9392101388\" y=\"435.928393\"/>\n     <use style=\"fill:#808080;stroke:#808080;\" x=\"387.804698\" xlink:href=\"#m9392101388\" y=\"433.963986\"/>\n     <use style=\"fill:#808080;stroke:#808080;\" x=\"349.880736\" xlink:href=\"#m9392101388\" y=\"437.430852\"/>\n     <use style=\"fill:#808080;stroke:#808080;\" x=\"150.945866\" xlink:href=\"#m9392101388\" y=\"437.430852\"/>\n     <use style=\"fill:#808080;stroke:#808080;\" x=\"312.174557\" xlink:href=\"#m9392101388\" y=\"435.617228\"/>\n     <use style=\"fill:#808080;stroke:#808080;\" x=\"326.967589\" xlink:href=\"#m9392101388\" y=\"434.734876\"/>\n     <use style=\"fill:#808080;stroke:#808080;\" x=\"150.945866\" xlink:href=\"#m9392101388\" y=\"414.009816\"/>\n     <use style=\"fill:#808080;stroke:#808080;\" x=\"550.991827\" xlink:href=\"#m9392101388\" y=\"436.481502\"/>\n     <use style=\"fill:#808080;stroke:#808080;\" x=\"462.261965\" xlink:href=\"#m9392101388\" y=\"434.734876\"/>\n     <use style=\"fill:#808080;stroke:#808080;\" x=\"312.174557\" xlink:href=\"#m9392101388\" y=\"437.430852\"/>\n     <use style=\"fill:#808080;stroke:#808080;\" x=\"252.56026\" xlink:href=\"#m9392101388\" y=\"437.013426\"/>\n     <use style=\"fill:#808080;stroke:#808080;\" x=\"344.77781\" xlink:href=\"#m9392101388\" y=\"437.430852\"/>\n     <use style=\"fill:#808080;stroke:#808080;\" x=\"354.657714\" xlink:href=\"#m9392101388\" y=\"437.430852\"/>\n     <use style=\"fill:#808080;stroke:#808080;\" x=\"303.501209\" xlink:href=\"#m9392101388\" y=\"437.430852\"/>\n     <use style=\"fill:#808080;stroke:#808080;\" x=\"150.945866\" xlink:href=\"#m9392101388\" y=\"437.430852\"/>\n     <use style=\"fill:#808080;stroke:#808080;\" x=\"393.545435\" xlink:href=\"#m9392101388\" y=\"437.430852\"/>\n     <use style=\"fill:#808080;stroke:#808080;\" x=\"252.56026\" xlink:href=\"#m9392101388\" y=\"437.430852\"/>\n     <use style=\"fill:#808080;stroke:#808080;\" x=\"268.944155\" xlink:href=\"#m9392101388\" y=\"436.481502\"/>\n     <use style=\"fill:#808080;stroke:#808080;\" x=\"319.938815\" xlink:href=\"#m9392101388\" y=\"433.963986\"/>\n     <use style=\"fill:#808080;stroke:#808080;\" x=\"326.967589\" xlink:href=\"#m9392101388\" y=\"437.430852\"/>\n     <use style=\"fill:#808080;stroke:#808080;\" x=\"312.174557\" xlink:href=\"#m9392101388\" y=\"42.085398\"/>\n     <use style=\"fill:#808080;stroke:#808080;\" x=\"599.103877\" xlink:href=\"#m9392101388\" y=\"437.430852\"/>\n     <use style=\"fill:#808080;stroke:#808080;\" x=\"371.203813\" xlink:href=\"#m9392101388\" y=\"437.430852\"/>\n     <use style=\"fill:#808080;stroke:#808080;\" x=\"319.938815\" xlink:href=\"#m9392101388\" y=\"431.944731\"/>\n     <use style=\"fill:#808080;stroke:#808080;\" x=\"371.203813\" xlink:href=\"#m9392101388\" y=\"437.430852\"/>\n     <use style=\"fill:#808080;stroke:#808080;\" x=\"390.729217\" xlink:href=\"#m9392101388\" y=\"435.928393\"/>\n    </g>\n   </g>\n   <g id=\"PathCollection_2\">\n    <defs>\n     <path d=\"M 0 3 \nC 0.795609 3 1.55874 2.683901 2.12132 2.12132 \nC 2.683901 1.55874 3 0.795609 3 0 \nC 3 -0.795609 2.683901 -1.55874 2.12132 -2.12132 \nC 1.55874 -2.683901 0.795609 -3 0 -3 \nC -0.795609 -3 -1.55874 -2.683901 -2.12132 -2.12132 \nC -2.683901 -1.55874 -3 -0.795609 -3 0 \nC -3 0.795609 -2.683901 1.55874 -2.12132 2.12132 \nC -1.55874 2.683901 -0.795609 3 0 3 \nz\n\" id=\"m9c2f0d811c\" style=\"stroke:#0000ff;\"/>\n    </defs>\n    <g clip-path=\"url(#pd360b14134)\">\n     <use style=\"fill:#0000ff;stroke:#0000ff;\" x=\"469.926847\" xlink:href=\"#m9c2f0d811c\" y=\"405.996902\"/>\n     <use style=\"fill:#0000ff;stroke:#0000ff;\" x=\"150.945866\" xlink:href=\"#m9c2f0d811c\" y=\"414.009816\"/>\n     <use style=\"fill:#0000ff;stroke:#0000ff;\" x=\"312.174557\" xlink:href=\"#m9c2f0d811c\" y=\"42.085398\"/>\n    </g>\n   </g>\n   <g id=\"PathCollection_3\">\n    <defs>\n     <path d=\"M 0 3 \nC 0.795609 3 1.55874 2.683901 2.12132 2.12132 \nC 2.683901 1.55874 3 0.795609 3 0 \nC 3 -0.795609 2.683901 -1.55874 2.12132 -2.12132 \nC 1.55874 -2.683901 0.795609 -3 0 -3 \nC -0.795609 -3 -1.55874 -2.683901 -2.12132 -2.12132 \nC -2.683901 -1.55874 -3 -0.795609 -3 0 \nC -3 0.795609 -2.683901 1.55874 -2.12132 2.12132 \nC -1.55874 2.683901 -0.795609 3 0 3 \nz\n\" id=\"mf8d79da192\" style=\"stroke:#ff0000;\"/>\n    </defs>\n    <g clip-path=\"url(#pd360b14134)\">\n     <use style=\"fill:#ff0000;stroke:#ff0000;\" x=\"312.174557\" xlink:href=\"#mf8d79da192\" y=\"42.085398\"/>\n    </g>\n   </g>\n   <g id=\"matplotlib.axis_1\">\n    <g id=\"xtick_1\">\n     <g id=\"line2d_1\">\n      <defs>\n       <path d=\"M 0 0 \nL 0 3.5 \n\" id=\"m15a46e876e\" style=\"stroke:#000000;stroke-width:0.8;\"/>\n      </defs>\n      <g>\n       <use style=\"stroke:#000000;stroke-width:0.8;\" x=\"71.061364\" xlink:href=\"#m15a46e876e\" y=\"457.198125\"/>\n      </g>\n     </g>\n     <g id=\"text_1\">\n      <!-- −12 -->\n      <g transform=\"translate(60.50902 471.796562)scale(0.1 -0.1)\">\n       <defs>\n        <path d=\"M 10.59375 35.5 \nL 73.1875 35.5 \nL 73.1875 27.203125 \nL 10.59375 27.203125 \nz\n\" id=\"DejaVuSans-8722\"/>\n        <path d=\"M 12.40625 8.296875 \nL 28.515625 8.296875 \nL 28.515625 63.921875 \nL 10.984375 60.40625 \nL 10.984375 69.390625 \nL 28.421875 72.90625 \nL 38.28125 72.90625 \nL 38.28125 8.296875 \nL 54.390625 8.296875 \nL 54.390625 0 \nL 12.40625 0 \nz\n\" id=\"DejaVuSans-49\"/>\n        <path d=\"M 19.1875 8.296875 \nL 53.609375 8.296875 \nL 53.609375 0 \nL 7.328125 0 \nL 7.328125 8.296875 \nQ 12.9375 14.109375 22.625 23.890625 \nQ 32.328125 33.6875 34.8125 36.53125 \nQ 39.546875 41.84375 41.421875 45.53125 \nQ 43.3125 49.21875 43.3125 52.78125 \nQ 43.3125 58.59375 39.234375 62.25 \nQ 35.15625 65.921875 28.609375 65.921875 \nQ 23.96875 65.921875 18.8125 64.3125 \nQ 13.671875 62.703125 7.8125 59.421875 \nL 7.8125 69.390625 \nQ 13.765625 71.78125 18.9375 73 \nQ 24.125 74.21875 28.421875 74.21875 \nQ 39.75 74.21875 46.484375 68.546875 \nQ 53.21875 62.890625 53.21875 53.421875 \nQ 53.21875 48.921875 51.53125 44.890625 \nQ 49.859375 40.875 45.40625 35.40625 \nQ 44.1875 33.984375 37.640625 27.21875 \nQ 31.109375 20.453125 19.1875 8.296875 \nz\n\" id=\"DejaVuSans-50\"/>\n       </defs>\n       <use xlink:href=\"#DejaVuSans-8722\"/>\n       <use x=\"83.789062\" xlink:href=\"#DejaVuSans-49\"/>\n       <use x=\"147.412109\" xlink:href=\"#DejaVuSans-50\"/>\n      </g>\n     </g>\n    </g>\n    <g id=\"xtick_2\">\n     <g id=\"line2d_2\">\n      <g>\n       <use style=\"stroke:#000000;stroke-width:0.8;\" x=\"172.515909\" xlink:href=\"#m15a46e876e\" y=\"457.198125\"/>\n      </g>\n     </g>\n     <g id=\"text_2\">\n      <!-- −10 -->\n      <g transform=\"translate(161.963565 471.796562)scale(0.1 -0.1)\">\n       <defs>\n        <path d=\"M 31.78125 66.40625 \nQ 24.171875 66.40625 20.328125 58.90625 \nQ 16.5 51.421875 16.5 36.375 \nQ 16.5 21.390625 20.328125 13.890625 \nQ 24.171875 6.390625 31.78125 6.390625 \nQ 39.453125 6.390625 43.28125 13.890625 \nQ 47.125 21.390625 47.125 36.375 \nQ 47.125 51.421875 43.28125 58.90625 \nQ 39.453125 66.40625 31.78125 66.40625 \nz\nM 31.78125 74.21875 \nQ 44.046875 74.21875 50.515625 64.515625 \nQ 56.984375 54.828125 56.984375 36.375 \nQ 56.984375 17.96875 50.515625 8.265625 \nQ 44.046875 -1.421875 31.78125 -1.421875 \nQ 19.53125 -1.421875 13.0625 8.265625 \nQ 6.59375 17.96875 6.59375 36.375 \nQ 6.59375 54.828125 13.0625 64.515625 \nQ 19.53125 74.21875 31.78125 74.21875 \nz\n\" id=\"DejaVuSans-48\"/>\n       </defs>\n       <use xlink:href=\"#DejaVuSans-8722\"/>\n       <use x=\"83.789062\" xlink:href=\"#DejaVuSans-49\"/>\n       <use x=\"147.412109\" xlink:href=\"#DejaVuSans-48\"/>\n      </g>\n     </g>\n    </g>\n    <g id=\"xtick_3\">\n     <g id=\"line2d_3\">\n      <g>\n       <use style=\"stroke:#000000;stroke-width:0.8;\" x=\"273.970455\" xlink:href=\"#m15a46e876e\" y=\"457.198125\"/>\n      </g>\n     </g>\n     <g id=\"text_3\">\n      <!-- −8 -->\n      <g transform=\"translate(266.599361 471.796562)scale(0.1 -0.1)\">\n       <defs>\n        <path d=\"M 31.78125 34.625 \nQ 24.75 34.625 20.71875 30.859375 \nQ 16.703125 27.09375 16.703125 20.515625 \nQ 16.703125 13.921875 20.71875 10.15625 \nQ 24.75 6.390625 31.78125 6.390625 \nQ 38.8125 6.390625 42.859375 10.171875 \nQ 46.921875 13.96875 46.921875 20.515625 \nQ 46.921875 27.09375 42.890625 30.859375 \nQ 38.875 34.625 31.78125 34.625 \nz\nM 21.921875 38.8125 \nQ 15.578125 40.375 12.03125 44.71875 \nQ 8.5 49.078125 8.5 55.328125 \nQ 8.5 64.0625 14.71875 69.140625 \nQ 20.953125 74.21875 31.78125 74.21875 \nQ 42.671875 74.21875 48.875 69.140625 \nQ 55.078125 64.0625 55.078125 55.328125 \nQ 55.078125 49.078125 51.53125 44.71875 \nQ 48 40.375 41.703125 38.8125 \nQ 48.828125 37.15625 52.796875 32.3125 \nQ 56.78125 27.484375 56.78125 20.515625 \nQ 56.78125 9.90625 50.3125 4.234375 \nQ 43.84375 -1.421875 31.78125 -1.421875 \nQ 19.734375 -1.421875 13.25 4.234375 \nQ 6.78125 9.90625 6.78125 20.515625 \nQ 6.78125 27.484375 10.78125 32.3125 \nQ 14.796875 37.15625 21.921875 38.8125 \nz\nM 18.3125 54.390625 \nQ 18.3125 48.734375 21.84375 45.5625 \nQ 25.390625 42.390625 31.78125 42.390625 \nQ 38.140625 42.390625 41.71875 45.5625 \nQ 45.3125 48.734375 45.3125 54.390625 \nQ 45.3125 60.0625 41.71875 63.234375 \nQ 38.140625 66.40625 31.78125 66.40625 \nQ 25.390625 66.40625 21.84375 63.234375 \nQ 18.3125 60.0625 18.3125 54.390625 \nz\n\" id=\"DejaVuSans-56\"/>\n       </defs>\n       <use xlink:href=\"#DejaVuSans-8722\"/>\n       <use x=\"83.789062\" xlink:href=\"#DejaVuSans-56\"/>\n      </g>\n     </g>\n    </g>\n    <g id=\"xtick_4\">\n     <g id=\"line2d_4\">\n      <g>\n       <use style=\"stroke:#000000;stroke-width:0.8;\" x=\"375.425\" xlink:href=\"#m15a46e876e\" y=\"457.198125\"/>\n      </g>\n     </g>\n     <g id=\"text_4\">\n      <!-- −6 -->\n      <g transform=\"translate(368.053906 471.796562)scale(0.1 -0.1)\">\n       <defs>\n        <path d=\"M 33.015625 40.375 \nQ 26.375 40.375 22.484375 35.828125 \nQ 18.609375 31.296875 18.609375 23.390625 \nQ 18.609375 15.53125 22.484375 10.953125 \nQ 26.375 6.390625 33.015625 6.390625 \nQ 39.65625 6.390625 43.53125 10.953125 \nQ 47.40625 15.53125 47.40625 23.390625 \nQ 47.40625 31.296875 43.53125 35.828125 \nQ 39.65625 40.375 33.015625 40.375 \nz\nM 52.59375 71.296875 \nL 52.59375 62.3125 \nQ 48.875 64.0625 45.09375 64.984375 \nQ 41.3125 65.921875 37.59375 65.921875 \nQ 27.828125 65.921875 22.671875 59.328125 \nQ 17.53125 52.734375 16.796875 39.40625 \nQ 19.671875 43.65625 24.015625 45.921875 \nQ 28.375 48.1875 33.59375 48.1875 \nQ 44.578125 48.1875 50.953125 41.515625 \nQ 57.328125 34.859375 57.328125 23.390625 \nQ 57.328125 12.15625 50.6875 5.359375 \nQ 44.046875 -1.421875 33.015625 -1.421875 \nQ 20.359375 -1.421875 13.671875 8.265625 \nQ 6.984375 17.96875 6.984375 36.375 \nQ 6.984375 53.65625 15.1875 63.9375 \nQ 23.390625 74.21875 37.203125 74.21875 \nQ 40.921875 74.21875 44.703125 73.484375 \nQ 48.484375 72.75 52.59375 71.296875 \nz\n\" id=\"DejaVuSans-54\"/>\n       </defs>\n       <use xlink:href=\"#DejaVuSans-8722\"/>\n       <use x=\"83.789062\" xlink:href=\"#DejaVuSans-54\"/>\n      </g>\n     </g>\n    </g>\n    <g id=\"xtick_5\">\n     <g id=\"line2d_5\">\n      <g>\n       <use style=\"stroke:#000000;stroke-width:0.8;\" x=\"476.879545\" xlink:href=\"#m15a46e876e\" y=\"457.198125\"/>\n      </g>\n     </g>\n     <g id=\"text_5\">\n      <!-- −4 -->\n      <g transform=\"translate(469.508452 471.796562)scale(0.1 -0.1)\">\n       <defs>\n        <path d=\"M 37.796875 64.3125 \nL 12.890625 25.390625 \nL 37.796875 25.390625 \nz\nM 35.203125 72.90625 \nL 47.609375 72.90625 \nL 47.609375 25.390625 \nL 58.015625 25.390625 \nL 58.015625 17.1875 \nL 47.609375 17.1875 \nL 47.609375 0 \nL 37.796875 0 \nL 37.796875 17.1875 \nL 4.890625 17.1875 \nL 4.890625 26.703125 \nz\n\" id=\"DejaVuSans-52\"/>\n       </defs>\n       <use xlink:href=\"#DejaVuSans-8722\"/>\n       <use x=\"83.789062\" xlink:href=\"#DejaVuSans-52\"/>\n      </g>\n     </g>\n    </g>\n    <g id=\"xtick_6\">\n     <g id=\"line2d_6\">\n      <g>\n       <use style=\"stroke:#000000;stroke-width:0.8;\" x=\"578.334091\" xlink:href=\"#m15a46e876e\" y=\"457.198125\"/>\n      </g>\n     </g>\n     <g id=\"text_6\">\n      <!-- −2 -->\n      <g transform=\"translate(570.962997 471.796562)scale(0.1 -0.1)\">\n       <use xlink:href=\"#DejaVuSans-8722\"/>\n       <use x=\"83.789062\" xlink:href=\"#DejaVuSans-50\"/>\n      </g>\n     </g>\n    </g>\n    <g id=\"xtick_7\">\n     <g id=\"line2d_7\">\n      <g>\n       <use style=\"stroke:#000000;stroke-width:0.8;\" x=\"679.788636\" xlink:href=\"#m15a46e876e\" y=\"457.198125\"/>\n      </g>\n     </g>\n     <g id=\"text_7\">\n      <!-- 0 -->\n      <g transform=\"translate(676.607386 471.796562)scale(0.1 -0.1)\">\n       <use xlink:href=\"#DejaVuSans-48\"/>\n      </g>\n     </g>\n    </g>\n    <g id=\"text_8\">\n     <!-- $\\log_2$(#LoF / #non-LoF) -->\n     <g transform=\"translate(319.575 485.47625)scale(0.1 -0.1)\">\n      <defs>\n       <path d=\"M 9.421875 75.984375 \nL 18.40625 75.984375 \nL 18.40625 0 \nL 9.421875 0 \nz\n\" id=\"DejaVuSans-108\"/>\n       <path d=\"M 30.609375 48.390625 \nQ 23.390625 48.390625 19.1875 42.75 \nQ 14.984375 37.109375 14.984375 27.296875 \nQ 14.984375 17.484375 19.15625 11.84375 \nQ 23.34375 6.203125 30.609375 6.203125 \nQ 37.796875 6.203125 41.984375 11.859375 \nQ 46.1875 17.53125 46.1875 27.296875 \nQ 46.1875 37.015625 41.984375 42.703125 \nQ 37.796875 48.390625 30.609375 48.390625 \nz\nM 30.609375 56 \nQ 42.328125 56 49.015625 48.375 \nQ 55.71875 40.765625 55.71875 27.296875 \nQ 55.71875 13.875 49.015625 6.21875 \nQ 42.328125 -1.421875 30.609375 -1.421875 \nQ 18.84375 -1.421875 12.171875 6.21875 \nQ 5.515625 13.875 5.515625 27.296875 \nQ 5.515625 40.765625 12.171875 48.375 \nQ 18.84375 56 30.609375 56 \nz\n\" id=\"DejaVuSans-111\"/>\n       <path d=\"M 45.40625 27.984375 \nQ 45.40625 37.75 41.375 43.109375 \nQ 37.359375 48.484375 30.078125 48.484375 \nQ 22.859375 48.484375 18.828125 43.109375 \nQ 14.796875 37.75 14.796875 27.984375 \nQ 14.796875 18.265625 18.828125 12.890625 \nQ 22.859375 7.515625 30.078125 7.515625 \nQ 37.359375 7.515625 41.375 12.890625 \nQ 45.40625 18.265625 45.40625 27.984375 \nz\nM 54.390625 6.78125 \nQ 54.390625 -7.171875 48.1875 -13.984375 \nQ 42 -20.796875 29.203125 -20.796875 \nQ 24.46875 -20.796875 20.265625 -20.09375 \nQ 16.0625 -19.390625 12.109375 -17.921875 \nL 12.109375 -9.1875 \nQ 16.0625 -11.328125 19.921875 -12.34375 \nQ 23.78125 -13.375 27.78125 -13.375 \nQ 36.625 -13.375 41.015625 -8.765625 \nQ 45.40625 -4.15625 45.40625 5.171875 \nL 45.40625 9.625 \nQ 42.625 4.78125 38.28125 2.390625 \nQ 33.9375 0 27.875 0 \nQ 17.828125 0 11.671875 7.65625 \nQ 5.515625 15.328125 5.515625 27.984375 \nQ 5.515625 40.671875 11.671875 48.328125 \nQ 17.828125 56 27.875 56 \nQ 33.9375 56 38.28125 53.609375 \nQ 42.625 51.21875 45.40625 46.390625 \nL 45.40625 54.6875 \nL 54.390625 54.6875 \nz\n\" id=\"DejaVuSans-103\"/>\n       <path d=\"M 31 75.875 \nQ 24.46875 64.65625 21.28125 53.65625 \nQ 18.109375 42.671875 18.109375 31.390625 \nQ 18.109375 20.125 21.3125 9.0625 \nQ 24.515625 -2 31 -13.1875 \nL 23.1875 -13.1875 \nQ 15.875 -1.703125 12.234375 9.375 \nQ 8.59375 20.453125 8.59375 31.390625 \nQ 8.59375 42.28125 12.203125 53.3125 \nQ 15.828125 64.359375 23.1875 75.875 \nz\n\" id=\"DejaVuSans-40\"/>\n       <path d=\"M 51.125 44 \nL 36.921875 44 \nL 32.8125 27.6875 \nL 47.125 27.6875 \nz\nM 43.796875 71.78125 \nL 38.71875 51.515625 \nL 52.984375 51.515625 \nL 58.109375 71.78125 \nL 65.921875 71.78125 \nL 60.890625 51.515625 \nL 76.125 51.515625 \nL 76.125 44 \nL 58.984375 44 \nL 54.984375 27.6875 \nL 70.515625 27.6875 \nL 70.515625 20.21875 \nL 53.078125 20.21875 \nL 48 0 \nL 40.1875 0 \nL 45.21875 20.21875 \nL 30.90625 20.21875 \nL 25.875 0 \nL 18.015625 0 \nL 23.09375 20.21875 \nL 7.71875 20.21875 \nL 7.71875 27.6875 \nL 24.90625 27.6875 \nL 29 44 \nL 13.28125 44 \nL 13.28125 51.515625 \nL 30.90625 51.515625 \nL 35.890625 71.78125 \nz\n\" id=\"DejaVuSans-35\"/>\n       <path d=\"M 9.8125 72.90625 \nL 19.671875 72.90625 \nL 19.671875 8.296875 \nL 55.171875 8.296875 \nL 55.171875 0 \nL 9.8125 0 \nz\n\" id=\"DejaVuSans-76\"/>\n       <path d=\"M 9.8125 72.90625 \nL 51.703125 72.90625 \nL 51.703125 64.59375 \nL 19.671875 64.59375 \nL 19.671875 43.109375 \nL 48.578125 43.109375 \nL 48.578125 34.8125 \nL 19.671875 34.8125 \nL 19.671875 0 \nL 9.8125 0 \nz\n\" id=\"DejaVuSans-70\"/>\n       <path id=\"DejaVuSans-32\"/>\n       <path d=\"M 25.390625 72.90625 \nL 33.6875 72.90625 \nL 8.296875 -9.28125 \nL 0 -9.28125 \nz\n\" id=\"DejaVuSans-47\"/>\n       <path d=\"M 54.890625 33.015625 \nL 54.890625 0 \nL 45.90625 0 \nL 45.90625 32.71875 \nQ 45.90625 40.484375 42.875 44.328125 \nQ 39.84375 48.1875 33.796875 48.1875 \nQ 26.515625 48.1875 22.3125 43.546875 \nQ 18.109375 38.921875 18.109375 30.90625 \nL 18.109375 0 \nL 9.078125 0 \nL 9.078125 54.6875 \nL 18.109375 54.6875 \nL 18.109375 46.1875 \nQ 21.34375 51.125 25.703125 53.5625 \nQ 30.078125 56 35.796875 56 \nQ 45.21875 56 50.046875 50.171875 \nQ 54.890625 44.34375 54.890625 33.015625 \nz\n\" id=\"DejaVuSans-110\"/>\n       <path d=\"M 4.890625 31.390625 \nL 31.203125 31.390625 \nL 31.203125 23.390625 \nL 4.890625 23.390625 \nz\n\" id=\"DejaVuSans-45\"/>\n       <path d=\"M 8.015625 75.875 \nL 15.828125 75.875 \nQ 23.140625 64.359375 26.78125 53.3125 \nQ 30.421875 42.28125 30.421875 31.390625 \nQ 30.421875 20.453125 26.78125 9.375 \nQ 23.140625 -1.703125 15.828125 -13.1875 \nL 8.015625 -13.1875 \nQ 14.5 -2 17.703125 9.0625 \nQ 20.90625 20.125 20.90625 31.390625 \nQ 20.90625 42.671875 17.703125 53.65625 \nQ 14.5 64.65625 8.015625 75.875 \nz\n\" id=\"DejaVuSans-41\"/>\n      </defs>\n      <use transform=\"translate(0 0.015625)\" xlink:href=\"#DejaVuSans-108\"/>\n      <use transform=\"translate(27.783203 0.015625)\" xlink:href=\"#DejaVuSans-111\"/>\n      <use transform=\"translate(88.964844 0.015625)\" xlink:href=\"#DejaVuSans-103\"/>\n      <use transform=\"translate(153.398438 -16.390625)scale(0.7)\" xlink:href=\"#DejaVuSans-50\"/>\n      <use transform=\"translate(200.668945 0.015625)\" xlink:href=\"#DejaVuSans-40\"/>\n      <use transform=\"translate(239.682617 0.015625)\" xlink:href=\"#DejaVuSans-35\"/>\n      <use transform=\"translate(323.47168 0.015625)\" xlink:href=\"#DejaVuSans-76\"/>\n      <use transform=\"translate(379.18457 0.015625)\" xlink:href=\"#DejaVuSans-111\"/>\n      <use transform=\"translate(440.366211 0.015625)\" xlink:href=\"#DejaVuSans-70\"/>\n      <use transform=\"translate(497.885742 0.015625)\" xlink:href=\"#DejaVuSans-32\"/>\n      <use transform=\"translate(529.672852 0.015625)\" xlink:href=\"#DejaVuSans-47\"/>\n      <use transform=\"translate(563.364258 0.015625)\" xlink:href=\"#DejaVuSans-32\"/>\n      <use transform=\"translate(595.151367 0.015625)\" xlink:href=\"#DejaVuSans-35\"/>\n      <use transform=\"translate(678.94043 0.015625)\" xlink:href=\"#DejaVuSans-110\"/>\n      <use transform=\"translate(742.319336 0.015625)\" xlink:href=\"#DejaVuSans-111\"/>\n      <use transform=\"translate(803.500977 0.015625)\" xlink:href=\"#DejaVuSans-110\"/>\n      <use transform=\"translate(866.879883 0.015625)\" xlink:href=\"#DejaVuSans-45\"/>\n      <use transform=\"translate(902.963867 0.015625)\" xlink:href=\"#DejaVuSans-76\"/>\n      <use transform=\"translate(958.676758 0.015625)\" xlink:href=\"#DejaVuSans-111\"/>\n      <use transform=\"translate(1019.858398 0.015625)\" xlink:href=\"#DejaVuSans-70\"/>\n      <use transform=\"translate(1077.37793 0.015625)\" xlink:href=\"#DejaVuSans-41\"/>\n     </g>\n    </g>\n   </g>\n   <g id=\"matplotlib.axis_2\">\n    <g id=\"ytick_1\">\n     <g id=\"line2d_8\">\n      <defs>\n       <path d=\"M 0 0 \nL -3.5 0 \n\" id=\"m7c0416d889\" style=\"stroke:#000000;stroke-width:0.8;\"/>\n      </defs>\n      <g>\n       <use style=\"stroke:#000000;stroke-width:0.8;\" x=\"40.625\" xlink:href=\"#m7c0416d889\" y=\"437.430852\"/>\n      </g>\n     </g>\n     <g id=\"text_9\">\n      <!-- 0 -->\n      <g transform=\"translate(27.2625 441.230071)scale(0.1 -0.1)\">\n       <use xlink:href=\"#DejaVuSans-48\"/>\n      </g>\n     </g>\n    </g>\n    <g id=\"ytick_2\">\n     <g id=\"line2d_9\">\n      <g>\n       <use style=\"stroke:#000000;stroke-width:0.8;\" x=\"40.625\" xlink:href=\"#m7c0416d889\" y=\"354.630601\"/>\n      </g>\n     </g>\n     <g id=\"text_10\">\n      <!-- 5 -->\n      <g transform=\"translate(27.2625 358.42982)scale(0.1 -0.1)\">\n       <defs>\n        <path d=\"M 10.796875 72.90625 \nL 49.515625 72.90625 \nL 49.515625 64.59375 \nL 19.828125 64.59375 \nL 19.828125 46.734375 \nQ 21.96875 47.46875 24.109375 47.828125 \nQ 26.265625 48.1875 28.421875 48.1875 \nQ 40.625 48.1875 47.75 41.5 \nQ 54.890625 34.8125 54.890625 23.390625 \nQ 54.890625 11.625 47.5625 5.09375 \nQ 40.234375 -1.421875 26.90625 -1.421875 \nQ 22.3125 -1.421875 17.546875 -0.640625 \nQ 12.796875 0.140625 7.71875 1.703125 \nL 7.71875 11.625 \nQ 12.109375 9.234375 16.796875 8.0625 \nQ 21.484375 6.890625 26.703125 6.890625 \nQ 35.15625 6.890625 40.078125 11.328125 \nQ 45.015625 15.765625 45.015625 23.390625 \nQ 45.015625 31 40.078125 35.4375 \nQ 35.15625 39.890625 26.703125 39.890625 \nQ 22.75 39.890625 18.8125 39.015625 \nQ 14.890625 38.140625 10.796875 36.28125 \nz\n\" id=\"DejaVuSans-53\"/>\n       </defs>\n       <use xlink:href=\"#DejaVuSans-53\"/>\n      </g>\n     </g>\n    </g>\n    <g id=\"ytick_3\">\n     <g id=\"line2d_10\">\n      <g>\n       <use style=\"stroke:#000000;stroke-width:0.8;\" x=\"40.625\" xlink:href=\"#m7c0416d889\" y=\"271.83035\"/>\n      </g>\n     </g>\n     <g id=\"text_11\">\n      <!-- 10 -->\n      <g transform=\"translate(20.9 275.629569)scale(0.1 -0.1)\">\n       <use xlink:href=\"#DejaVuSans-49\"/>\n       <use x=\"63.623047\" xlink:href=\"#DejaVuSans-48\"/>\n      </g>\n     </g>\n    </g>\n    <g id=\"ytick_4\">\n     <g id=\"line2d_11\">\n      <g>\n       <use style=\"stroke:#000000;stroke-width:0.8;\" x=\"40.625\" xlink:href=\"#m7c0416d889\" y=\"189.030099\"/>\n      </g>\n     </g>\n     <g id=\"text_12\">\n      <!-- 15 -->\n      <g transform=\"translate(20.9 192.829318)scale(0.1 -0.1)\">\n       <use xlink:href=\"#DejaVuSans-49\"/>\n       <use x=\"63.623047\" xlink:href=\"#DejaVuSans-53\"/>\n      </g>\n     </g>\n    </g>\n    <g id=\"ytick_5\">\n     <g id=\"line2d_12\">\n      <g>\n       <use style=\"stroke:#000000;stroke-width:0.8;\" x=\"40.625\" xlink:href=\"#m7c0416d889\" y=\"106.229848\"/>\n      </g>\n     </g>\n     <g id=\"text_13\">\n      <!-- 20 -->\n      <g transform=\"translate(20.9 110.029067)scale(0.1 -0.1)\">\n       <use xlink:href=\"#DejaVuSans-50\"/>\n       <use x=\"63.623047\" xlink:href=\"#DejaVuSans-48\"/>\n      </g>\n     </g>\n    </g>\n    <g id=\"ytick_6\">\n     <g id=\"line2d_13\">\n      <g>\n       <use style=\"stroke:#000000;stroke-width:0.8;\" x=\"40.625\" xlink:href=\"#m7c0416d889\" y=\"23.429597\"/>\n      </g>\n     </g>\n     <g id=\"text_14\">\n      <!-- 25 -->\n      <g transform=\"translate(20.9 27.228816)scale(0.1 -0.1)\">\n       <use xlink:href=\"#DejaVuSans-50\"/>\n       <use x=\"63.623047\" xlink:href=\"#DejaVuSans-53\"/>\n      </g>\n     </g>\n    </g>\n    <g id=\"text_15\">\n     <!-- $-\\log_{10}$(P-value) -->\n     <g transform=\"translate(14.8 278.608125)rotate(-90)scale(0.1 -0.1)\">\n      <defs>\n       <path d=\"M 19.671875 64.796875 \nL 19.671875 37.40625 \nL 32.078125 37.40625 \nQ 38.96875 37.40625 42.71875 40.96875 \nQ 46.484375 44.53125 46.484375 51.125 \nQ 46.484375 57.671875 42.71875 61.234375 \nQ 38.96875 64.796875 32.078125 64.796875 \nz\nM 9.8125 72.90625 \nL 32.078125 72.90625 \nQ 44.34375 72.90625 50.609375 67.359375 \nQ 56.890625 61.8125 56.890625 51.125 \nQ 56.890625 40.328125 50.609375 34.8125 \nQ 44.34375 29.296875 32.078125 29.296875 \nL 19.671875 29.296875 \nL 19.671875 0 \nL 9.8125 0 \nz\n\" id=\"DejaVuSans-80\"/>\n       <path d=\"M 2.984375 54.6875 \nL 12.5 54.6875 \nL 29.59375 8.796875 \nL 46.6875 54.6875 \nL 56.203125 54.6875 \nL 35.6875 0 \nL 23.484375 0 \nz\n\" id=\"DejaVuSans-118\"/>\n       <path d=\"M 34.28125 27.484375 \nQ 23.390625 27.484375 19.1875 25 \nQ 14.984375 22.515625 14.984375 16.5 \nQ 14.984375 11.71875 18.140625 8.90625 \nQ 21.296875 6.109375 26.703125 6.109375 \nQ 34.1875 6.109375 38.703125 11.40625 \nQ 43.21875 16.703125 43.21875 25.484375 \nL 43.21875 27.484375 \nz\nM 52.203125 31.203125 \nL 52.203125 0 \nL 43.21875 0 \nL 43.21875 8.296875 \nQ 40.140625 3.328125 35.546875 0.953125 \nQ 30.953125 -1.421875 24.3125 -1.421875 \nQ 15.921875 -1.421875 10.953125 3.296875 \nQ 6 8.015625 6 15.921875 \nQ 6 25.140625 12.171875 29.828125 \nQ 18.359375 34.515625 30.609375 34.515625 \nL 43.21875 34.515625 \nL 43.21875 35.40625 \nQ 43.21875 41.609375 39.140625 45 \nQ 35.0625 48.390625 27.6875 48.390625 \nQ 23 48.390625 18.546875 47.265625 \nQ 14.109375 46.140625 10.015625 43.890625 \nL 10.015625 52.203125 \nQ 14.9375 54.109375 19.578125 55.046875 \nQ 24.21875 56 28.609375 56 \nQ 40.484375 56 46.34375 49.84375 \nQ 52.203125 43.703125 52.203125 31.203125 \nz\n\" id=\"DejaVuSans-97\"/>\n       <path d=\"M 8.5 21.578125 \nL 8.5 54.6875 \nL 17.484375 54.6875 \nL 17.484375 21.921875 \nQ 17.484375 14.15625 20.5 10.265625 \nQ 23.53125 6.390625 29.59375 6.390625 \nQ 36.859375 6.390625 41.078125 11.03125 \nQ 45.3125 15.671875 45.3125 23.6875 \nL 45.3125 54.6875 \nL 54.296875 54.6875 \nL 54.296875 0 \nL 45.3125 0 \nL 45.3125 8.40625 \nQ 42.046875 3.421875 37.71875 1 \nQ 33.40625 -1.421875 27.6875 -1.421875 \nQ 18.265625 -1.421875 13.375 4.4375 \nQ 8.5 10.296875 8.5 21.578125 \nz\nM 31.109375 56 \nz\n\" id=\"DejaVuSans-117\"/>\n       <path d=\"M 56.203125 29.59375 \nL 56.203125 25.203125 \nL 14.890625 25.203125 \nQ 15.484375 15.921875 20.484375 11.0625 \nQ 25.484375 6.203125 34.421875 6.203125 \nQ 39.59375 6.203125 44.453125 7.46875 \nQ 49.3125 8.734375 54.109375 11.28125 \nL 54.109375 2.78125 \nQ 49.265625 0.734375 44.1875 -0.34375 \nQ 39.109375 -1.421875 33.890625 -1.421875 \nQ 20.796875 -1.421875 13.15625 6.1875 \nQ 5.515625 13.8125 5.515625 26.8125 \nQ 5.515625 40.234375 12.765625 48.109375 \nQ 20.015625 56 32.328125 56 \nQ 43.359375 56 49.78125 48.890625 \nQ 56.203125 41.796875 56.203125 29.59375 \nz\nM 47.21875 32.234375 \nQ 47.125 39.59375 43.09375 43.984375 \nQ 39.0625 48.390625 32.421875 48.390625 \nQ 24.90625 48.390625 20.390625 44.140625 \nQ 15.875 39.890625 15.1875 32.171875 \nz\n\" id=\"DejaVuSans-101\"/>\n      </defs>\n      <use transform=\"translate(0 0.015625)\" xlink:href=\"#DejaVuSans-8722\"/>\n      <use transform=\"translate(83.789062 0.015625)\" xlink:href=\"#DejaVuSans-108\"/>\n      <use transform=\"translate(111.572266 0.015625)\" xlink:href=\"#DejaVuSans-111\"/>\n      <use transform=\"translate(172.753906 0.015625)\" xlink:href=\"#DejaVuSans-103\"/>\n      <use transform=\"translate(237.1875 -16.390625)scale(0.7)\" xlink:href=\"#DejaVuSans-49\"/>\n      <use transform=\"translate(281.723633 -16.390625)scale(0.7)\" xlink:href=\"#DejaVuSans-48\"/>\n      <use transform=\"translate(328.994141 0.015625)\" xlink:href=\"#DejaVuSans-40\"/>\n      <use transform=\"translate(368.007812 0.015625)\" xlink:href=\"#DejaVuSans-80\"/>\n      <use transform=\"translate(428.310547 0.015625)\" xlink:href=\"#DejaVuSans-45\"/>\n      <use transform=\"translate(464.394531 0.015625)\" xlink:href=\"#DejaVuSans-118\"/>\n      <use transform=\"translate(523.574219 0.015625)\" xlink:href=\"#DejaVuSans-97\"/>\n      <use transform=\"translate(584.853516 0.015625)\" xlink:href=\"#DejaVuSans-108\"/>\n      <use transform=\"translate(612.636719 0.015625)\" xlink:href=\"#DejaVuSans-117\"/>\n      <use transform=\"translate(676.015625 0.015625)\" xlink:href=\"#DejaVuSans-101\"/>\n      <use transform=\"translate(737.539062 0.015625)\" xlink:href=\"#DejaVuSans-41\"/>\n     </g>\n    </g>\n   </g>\n   <g id=\"line2d_14\">\n    <path clip-path=\"url(#pd360b14134)\" d=\"M 71.061364 415.88573 \nL 121.788636 415.88573 \nL 172.515909 415.88573 \nL 223.243182 415.88573 \nL 273.970455 415.88573 \nL 324.697727 415.88573 \nL 375.425 415.88573 \nL 426.152273 415.88573 \nL 476.879545 415.88573 \nL 527.606818 415.88573 \nL 578.334091 415.88573 \nL 629.061364 415.88573 \nL 679.788636 415.88573 \n\" style=\"fill:none;stroke:#000000;stroke-dasharray:5.55,2.4;stroke-dashoffset:0;stroke-width:1.5;\"/>\n   </g>\n   <g id=\"patch_3\">\n    <path d=\"M 40.625 457.198125 \nL 40.625 22.318125 \n\" style=\"fill:none;stroke:#000000;stroke-linecap:square;stroke-linejoin:miter;stroke-width:0.8;\"/>\n   </g>\n   <g id=\"patch_4\">\n    <path d=\"M 710.225 457.198125 \nL 710.225 22.318125 \n\" style=\"fill:none;stroke:#000000;stroke-linecap:square;stroke-linejoin:miter;stroke-width:0.8;\"/>\n   </g>\n   <g id=\"patch_5\">\n    <path d=\"M 40.625 457.198125 \nL 710.225 457.198125 \n\" style=\"fill:none;stroke:#000000;stroke-linecap:square;stroke-linejoin:miter;stroke-width:0.8;\"/>\n   </g>\n   <g id=\"patch_6\">\n    <path d=\"M 40.625 22.318125 \nL 710.225 22.318125 \n\" style=\"fill:none;stroke:#000000;stroke-linecap:square;stroke-linejoin:miter;stroke-width:0.8;\"/>\n   </g>\n   <g id=\"text_16\">\n    <!-- IDH1 -->\n    <g style=\"fill:#0000ff;\" transform=\"translate(474.999574 404.340897)scale(0.1 -0.1)\">\n     <defs>\n      <path d=\"M 9.8125 72.90625 \nL 19.671875 72.90625 \nL 19.671875 0 \nL 9.8125 0 \nz\n\" id=\"DejaVuSans-73\"/>\n      <path d=\"M 19.671875 64.796875 \nL 19.671875 8.109375 \nL 31.59375 8.109375 \nQ 46.6875 8.109375 53.6875 14.9375 \nQ 60.6875 21.78125 60.6875 36.53125 \nQ 60.6875 51.171875 53.6875 57.984375 \nQ 46.6875 64.796875 31.59375 64.796875 \nz\nM 9.8125 72.90625 \nL 30.078125 72.90625 \nQ 51.265625 72.90625 61.171875 64.09375 \nQ 71.09375 55.28125 71.09375 36.53125 \nQ 71.09375 17.671875 61.125 8.828125 \nQ 51.171875 0 30.078125 0 \nL 9.8125 0 \nz\n\" id=\"DejaVuSans-68\"/>\n      <path d=\"M 9.8125 72.90625 \nL 19.671875 72.90625 \nL 19.671875 43.015625 \nL 55.515625 43.015625 \nL 55.515625 72.90625 \nL 65.375 72.90625 \nL 65.375 0 \nL 55.515625 0 \nL 55.515625 34.71875 \nL 19.671875 34.71875 \nL 19.671875 0 \nL 9.8125 0 \nz\n\" id=\"DejaVuSans-72\"/>\n     </defs>\n     <use xlink:href=\"#DejaVuSans-73\"/>\n     <use x=\"29.492188\" xlink:href=\"#DejaVuSans-68\"/>\n     <use x=\"106.494141\" xlink:href=\"#DejaVuSans-72\"/>\n     <use x=\"181.689453\" xlink:href=\"#DejaVuSans-49\"/>\n    </g>\n   </g>\n   <g id=\"text_17\">\n    <!-- PTEN -->\n    <g style=\"fill:#0000ff;\" transform=\"translate(156.018593 412.353811)scale(0.1 -0.1)\">\n     <defs>\n      <path d=\"M -0.296875 72.90625 \nL 61.375 72.90625 \nL 61.375 64.59375 \nL 35.5 64.59375 \nL 35.5 0 \nL 25.59375 0 \nL 25.59375 64.59375 \nL -0.296875 64.59375 \nz\n\" id=\"DejaVuSans-84\"/>\n      <path d=\"M 9.8125 72.90625 \nL 55.90625 72.90625 \nL 55.90625 64.59375 \nL 19.671875 64.59375 \nL 19.671875 43.015625 \nL 54.390625 43.015625 \nL 54.390625 34.71875 \nL 19.671875 34.71875 \nL 19.671875 8.296875 \nL 56.78125 8.296875 \nL 56.78125 0 \nL 9.8125 0 \nz\n\" id=\"DejaVuSans-69\"/>\n      <path d=\"M 9.8125 72.90625 \nL 23.09375 72.90625 \nL 55.421875 11.921875 \nL 55.421875 72.90625 \nL 64.984375 72.90625 \nL 64.984375 0 \nL 51.703125 0 \nL 19.390625 60.984375 \nL 19.390625 0 \nL 9.8125 0 \nz\n\" id=\"DejaVuSans-78\"/>\n     </defs>\n     <use xlink:href=\"#DejaVuSans-80\"/>\n     <use x=\"60.302734\" xlink:href=\"#DejaVuSans-84\"/>\n     <use x=\"121.386719\" xlink:href=\"#DejaVuSans-69\"/>\n     <use x=\"184.570312\" xlink:href=\"#DejaVuSans-78\"/>\n    </g>\n   </g>\n   <g id=\"text_18\">\n    <!-- TP53 -->\n    <g style=\"fill:#ff0000;\" transform=\"translate(317.247285 40.429393)scale(0.1 -0.1)\">\n     <defs>\n      <path d=\"M 40.578125 39.3125 \nQ 47.65625 37.796875 51.625 33 \nQ 55.609375 28.21875 55.609375 21.1875 \nQ 55.609375 10.40625 48.1875 4.484375 \nQ 40.765625 -1.421875 27.09375 -1.421875 \nQ 22.515625 -1.421875 17.65625 -0.515625 \nQ 12.796875 0.390625 7.625 2.203125 \nL 7.625 11.71875 \nQ 11.71875 9.328125 16.59375 8.109375 \nQ 21.484375 6.890625 26.8125 6.890625 \nQ 36.078125 6.890625 40.9375 10.546875 \nQ 45.796875 14.203125 45.796875 21.1875 \nQ 45.796875 27.640625 41.28125 31.265625 \nQ 36.765625 34.90625 28.71875 34.90625 \nL 20.21875 34.90625 \nL 20.21875 43.015625 \nL 29.109375 43.015625 \nQ 36.375 43.015625 40.234375 45.921875 \nQ 44.09375 48.828125 44.09375 54.296875 \nQ 44.09375 59.90625 40.109375 62.90625 \nQ 36.140625 65.921875 28.71875 65.921875 \nQ 24.65625 65.921875 20.015625 65.03125 \nQ 15.375 64.15625 9.8125 62.3125 \nL 9.8125 71.09375 \nQ 15.4375 72.65625 20.34375 73.4375 \nQ 25.25 74.21875 29.59375 74.21875 \nQ 40.828125 74.21875 47.359375 69.109375 \nQ 53.90625 64.015625 53.90625 55.328125 \nQ 53.90625 49.265625 50.4375 45.09375 \nQ 46.96875 40.921875 40.578125 39.3125 \nz\n\" id=\"DejaVuSans-51\"/>\n     </defs>\n     <use xlink:href=\"#DejaVuSans-84\"/>\n     <use x=\"61.083984\" xlink:href=\"#DejaVuSans-80\"/>\n     <use x=\"121.386719\" xlink:href=\"#DejaVuSans-53\"/>\n     <use x=\"185.009766\" xlink:href=\"#DejaVuSans-51\"/>\n    </g>\n   </g>\n   <g id=\"text_19\">\n    <!-- LOF: P-values vs. Magnitude -->\n    <g transform=\"translate(291.471875 16.318125)scale(0.12 -0.12)\">\n     <defs>\n      <path d=\"M 39.40625 66.21875 \nQ 28.65625 66.21875 22.328125 58.203125 \nQ 16.015625 50.203125 16.015625 36.375 \nQ 16.015625 22.609375 22.328125 14.59375 \nQ 28.65625 6.59375 39.40625 6.59375 \nQ 50.140625 6.59375 56.421875 14.59375 \nQ 62.703125 22.609375 62.703125 36.375 \nQ 62.703125 50.203125 56.421875 58.203125 \nQ 50.140625 66.21875 39.40625 66.21875 \nz\nM 39.40625 74.21875 \nQ 54.734375 74.21875 63.90625 63.9375 \nQ 73.09375 53.65625 73.09375 36.375 \nQ 73.09375 19.140625 63.90625 8.859375 \nQ 54.734375 -1.421875 39.40625 -1.421875 \nQ 24.03125 -1.421875 14.8125 8.828125 \nQ 5.609375 19.09375 5.609375 36.375 \nQ 5.609375 53.65625 14.8125 63.9375 \nQ 24.03125 74.21875 39.40625 74.21875 \nz\n\" id=\"DejaVuSans-79\"/>\n      <path d=\"M 11.71875 12.40625 \nL 22.015625 12.40625 \nL 22.015625 0 \nL 11.71875 0 \nz\nM 11.71875 51.703125 \nL 22.015625 51.703125 \nL 22.015625 39.3125 \nL 11.71875 39.3125 \nz\n\" id=\"DejaVuSans-58\"/>\n      <path d=\"M 44.28125 53.078125 \nL 44.28125 44.578125 \nQ 40.484375 46.53125 36.375 47.5 \nQ 32.28125 48.484375 27.875 48.484375 \nQ 21.1875 48.484375 17.84375 46.4375 \nQ 14.5 44.390625 14.5 40.28125 \nQ 14.5 37.15625 16.890625 35.375 \nQ 19.28125 33.59375 26.515625 31.984375 \nL 29.59375 31.296875 \nQ 39.15625 29.25 43.1875 25.515625 \nQ 47.21875 21.78125 47.21875 15.09375 \nQ 47.21875 7.46875 41.1875 3.015625 \nQ 35.15625 -1.421875 24.609375 -1.421875 \nQ 20.21875 -1.421875 15.453125 -0.5625 \nQ 10.6875 0.296875 5.421875 2 \nL 5.421875 11.28125 \nQ 10.40625 8.6875 15.234375 7.390625 \nQ 20.0625 6.109375 24.8125 6.109375 \nQ 31.15625 6.109375 34.5625 8.28125 \nQ 37.984375 10.453125 37.984375 14.40625 \nQ 37.984375 18.0625 35.515625 20.015625 \nQ 33.0625 21.96875 24.703125 23.78125 \nL 21.578125 24.515625 \nQ 13.234375 26.265625 9.515625 29.90625 \nQ 5.8125 33.546875 5.8125 39.890625 \nQ 5.8125 47.609375 11.28125 51.796875 \nQ 16.75 56 26.8125 56 \nQ 31.78125 56 36.171875 55.265625 \nQ 40.578125 54.546875 44.28125 53.078125 \nz\n\" id=\"DejaVuSans-115\"/>\n      <path d=\"M 10.6875 12.40625 \nL 21 12.40625 \nL 21 0 \nL 10.6875 0 \nz\n\" id=\"DejaVuSans-46\"/>\n      <path d=\"M 9.8125 72.90625 \nL 24.515625 72.90625 \nL 43.109375 23.296875 \nL 61.8125 72.90625 \nL 76.515625 72.90625 \nL 76.515625 0 \nL 66.890625 0 \nL 66.890625 64.015625 \nL 48.09375 14.015625 \nL 38.1875 14.015625 \nL 19.390625 64.015625 \nL 19.390625 0 \nL 9.8125 0 \nz\n\" id=\"DejaVuSans-77\"/>\n      <path d=\"M 9.421875 54.6875 \nL 18.40625 54.6875 \nL 18.40625 0 \nL 9.421875 0 \nz\nM 9.421875 75.984375 \nL 18.40625 75.984375 \nL 18.40625 64.59375 \nL 9.421875 64.59375 \nz\n\" id=\"DejaVuSans-105\"/>\n      <path d=\"M 18.3125 70.21875 \nL 18.3125 54.6875 \nL 36.8125 54.6875 \nL 36.8125 47.703125 \nL 18.3125 47.703125 \nL 18.3125 18.015625 \nQ 18.3125 11.328125 20.140625 9.421875 \nQ 21.96875 7.515625 27.59375 7.515625 \nL 36.8125 7.515625 \nL 36.8125 0 \nL 27.59375 0 \nQ 17.1875 0 13.234375 3.875 \nQ 9.28125 7.765625 9.28125 18.015625 \nL 9.28125 47.703125 \nL 2.6875 47.703125 \nL 2.6875 54.6875 \nL 9.28125 54.6875 \nL 9.28125 70.21875 \nz\n\" id=\"DejaVuSans-116\"/>\n      <path d=\"M 45.40625 46.390625 \nL 45.40625 75.984375 \nL 54.390625 75.984375 \nL 54.390625 0 \nL 45.40625 0 \nL 45.40625 8.203125 \nQ 42.578125 3.328125 38.25 0.953125 \nQ 33.9375 -1.421875 27.875 -1.421875 \nQ 17.96875 -1.421875 11.734375 6.484375 \nQ 5.515625 14.40625 5.515625 27.296875 \nQ 5.515625 40.1875 11.734375 48.09375 \nQ 17.96875 56 27.875 56 \nQ 33.9375 56 38.25 53.625 \nQ 42.578125 51.265625 45.40625 46.390625 \nz\nM 14.796875 27.296875 \nQ 14.796875 17.390625 18.875 11.75 \nQ 22.953125 6.109375 30.078125 6.109375 \nQ 37.203125 6.109375 41.296875 11.75 \nQ 45.40625 17.390625 45.40625 27.296875 \nQ 45.40625 37.203125 41.296875 42.84375 \nQ 37.203125 48.484375 30.078125 48.484375 \nQ 22.953125 48.484375 18.875 42.84375 \nQ 14.796875 37.203125 14.796875 27.296875 \nz\n\" id=\"DejaVuSans-100\"/>\n     </defs>\n     <use xlink:href=\"#DejaVuSans-76\"/>\n     <use x=\"52.087891\" xlink:href=\"#DejaVuSans-79\"/>\n     <use x=\"130.798828\" xlink:href=\"#DejaVuSans-70\"/>\n     <use x=\"180.568359\" xlink:href=\"#DejaVuSans-58\"/>\n     <use x=\"214.259766\" xlink:href=\"#DejaVuSans-32\"/>\n     <use x=\"246.046875\" xlink:href=\"#DejaVuSans-80\"/>\n     <use x=\"304.099609\" xlink:href=\"#DejaVuSans-45\"/>\n     <use x=\"337.558594\" xlink:href=\"#DejaVuSans-118\"/>\n     <use x=\"396.738281\" xlink:href=\"#DejaVuSans-97\"/>\n     <use x=\"458.017578\" xlink:href=\"#DejaVuSans-108\"/>\n     <use x=\"485.800781\" xlink:href=\"#DejaVuSans-117\"/>\n     <use x=\"549.179688\" xlink:href=\"#DejaVuSans-101\"/>\n     <use x=\"610.703125\" xlink:href=\"#DejaVuSans-115\"/>\n     <use x=\"662.802734\" xlink:href=\"#DejaVuSans-32\"/>\n     <use x=\"694.589844\" xlink:href=\"#DejaVuSans-118\"/>\n     <use x=\"753.769531\" xlink:href=\"#DejaVuSans-115\"/>\n     <use x=\"805.869141\" xlink:href=\"#DejaVuSans-46\"/>\n     <use x=\"837.65625\" xlink:href=\"#DejaVuSans-32\"/>\n     <use x=\"869.443359\" xlink:href=\"#DejaVuSans-77\"/>\n     <use x=\"955.722656\" xlink:href=\"#DejaVuSans-97\"/>\n     <use x=\"1017.001953\" xlink:href=\"#DejaVuSans-103\"/>\n     <use x=\"1080.478516\" xlink:href=\"#DejaVuSans-110\"/>\n     <use x=\"1143.857422\" xlink:href=\"#DejaVuSans-105\"/>\n     <use x=\"1171.640625\" xlink:href=\"#DejaVuSans-116\"/>\n     <use x=\"1210.849609\" xlink:href=\"#DejaVuSans-117\"/>\n     <use x=\"1274.228516\" xlink:href=\"#DejaVuSans-100\"/>\n     <use x=\"1337.705078\" xlink:href=\"#DejaVuSans-101\"/>\n    </g>\n   </g>\n  </g>\n </g>\n <defs>\n  <clipPath id=\"pd360b14134\">\n   <rect height=\"434.88\" width=\"669.6\" x=\"40.625\" y=\"22.318125\"/>\n  </clipPath>\n </defs>\n</svg>\n",
      "image/png": "[encoded data removed]"
     },
     "metadata": {
      "needs_background": "light"
     }
    }
   ],
   "source": [
    "## Volcano plot\n",
    "f, ax = plt.subplots(figsize=(12,8))\n",
    "# fisher = -np.log10(fisher)\n",
    "# chi2 = -np.log10(chi2)\n",
    "ax.scatter(magnitude2, fisher_2, color='grey')\n",
    "# ax.scatter(magnitude2, chi2_2, color='black')\n",
    "\n",
    "# sig_genes_fisher = magnitude[rej_fisher]\n",
    "ax.scatter(magnitude2[rej_fisher_2], fisher_2[rej_fisher_2], color='blue')\n",
    "# ax.scatter(magnitude2[rej_chi2_2], chi2_2[rej_chi2_2], color='red')\n",
    "# ax.scatter(magnitude2[rej_fisher_onetail], fisher_onetail[rej_fisher_onetail], color='purple')\n",
    "ax.plot(list(range(-12,1)), [-np.log10(alpha)] * len(list(range(-12,1))), color='black', linestyle='dashed')\n",
    "gene_name = ['IDH1', 'PTEN', 'TP53']\n",
    "# genes[rej_fisher_2]\n",
    "for i, j, k in zip(magnitude2[rej_fisher_2], fisher_2[rej_fisher_2], gene_name):\n",
    "    if k == 'TP53': continue\n",
    "    ax.annotate(text=k, xy=(i,j), xytext=(i+0.1, j+0.1), color='blue')\n",
    "\n",
    "ax.scatter(magnitude2[56], fisher_2[56], color='red')\n",
    "ax.annotate(text='TP53', xy=(magnitude2[56],fisher_2[56]), xytext=(magnitude2[56]+0.1,fisher_2[56]+0.1), color='red')\n",
    "\n",
    "ax.set_xlabel('$\\log_2$(#LoF / #non-LoF)')\n",
    "ax.set_ylabel('$-\\log_{10}$(P-value)')\n",
    "ax.set_title('LOF: P-values vs. Magnitude')\n",
    "plt.show()\n"
   ]
  },
  {
   "cell_type": "code",
   "execution_count": null,
   "metadata": {},
   "outputs": [],
   "source": [
    "fisher_2[rej_fisher_onetail]"
   ]
  },
  {
   "cell_type": "code",
   "execution_count": 309,
   "metadata": {},
   "outputs": [
    {
     "output_type": "stream",
     "name": "stdout",
     "text": [
      "1 2 3\n"
     ]
    }
   ],
   "source": [
    "for i,j,k in zip([1],[2],[3]):\n",
    "    print(i,j,k)"
   ]
  },
  {
   "cell_type": "code",
   "execution_count": 302,
   "metadata": {},
   "outputs": [
    {
     "output_type": "execute_result",
     "data": {
      "text/plain": [
       "array([56])"
      ]
     },
     "metadata": {},
     "execution_count": 302
    }
   ],
   "source": [
    "ind = np.where(fisher_onetail == max(fisher_onetail))[0]\n",
    "# np.delete(df2['track_name'].unique(), 31)[rej_fisher_onetail]\n",
    "# [rej_fisher_onetail]\n",
    "np.arange(62)[rej_fisher_onetail]"
   ]
  },
  {
   "cell_type": "code",
   "execution_count": 261,
   "metadata": {},
   "outputs": [
    {
     "output_type": "stream",
     "name": "stdout",
     "text": [
      "(63, 1378)\n"
     ]
    },
    {
     "output_type": "execute_result",
     "data": {
      "text/plain": [
       "    track_name track_type TCGA-D3-A2JC  ... TCGA-VD-A8KN TCGA-VD-AA8O TCGA-VD-AA8P\n",
       "252        APC     FUSION          NaN  ...          NaN          NaN          NaN\n",
       "253   ARHGEF12     FUSION          NaN  ...          NaN          NaN          NaN\n",
       "254        ATM     FUSION          NaN  ...          NaN          NaN          NaN\n",
       "255     BCL11B     FUSION          NaN  ...          NaN          NaN          NaN\n",
       "256        BLM     FUSION          NaN  ...          NaN          NaN          NaN\n",
       "\n",
       "[5 rows x 1378 columns]"
      ],
      "text/html": "<div>\n<style scoped>\n    .dataframe tbody tr th:only-of-type {\n        vertical-align: middle;\n    }\n\n    .dataframe tbody tr th {\n        vertical-align: top;\n    }\n\n    .dataframe thead th {\n        text-align: right;\n    }\n</style>\n<table border=\"1\" class=\"dataframe\">\n  <thead>\n    <tr style=\"text-align: right;\">\n      <th></th>\n      <th>track_name</th>\n      <th>track_type</th>\n      <th>TCGA-D3-A2JC</th>\n      <th>TCGA-DX-A23R</th>\n      <th>TCGA-05-4402</th>\n      <th>TCGA-D7-6528</th>\n      <th>TCGA-A6-2677</th>\n      <th>TCGA-CV-6948</th>\n      <th>TCGA-A6-5656</th>\n      <th>TCGA-BR-4267</th>\n      <th>TCGA-A6-3810</th>\n      <th>TCGA-CG-4476</th>\n      <th>TCGA-D3-A2J6</th>\n      <th>TCGA-05-4397</th>\n      <th>TCGA-FF-8042</th>\n      <th>TCGA-EE-A3JI</th>\n      <th>TCGA-DK-A1AC</th>\n      <th>TCGA-IR-A3LK</th>\n      <th>TCGA-IG-A97I</th>\n      <th>TCGA-91-6840</th>\n      <th>TCGA-CG-4469</th>\n      <th>TCGA-DU-7010</th>\n      <th>TCGA-43-3394</th>\n      <th>TCGA-BR-4369</th>\n      <th>TCGA-06-0128</th>\n      <th>TCGA-FI-A2CY</th>\n      <th>TCGA-E2-A1LL</th>\n      <th>TCGA-IG-A3YB</th>\n      <th>TCGA-L5-A4OJ</th>\n      <th>TCGA-BW-A5NO</th>\n      <th>TCGA-05-5715</th>\n      <th>TCGA-BC-A217</th>\n      <th>TCGA-GV-A3JZ</th>\n      <th>TCGA-C8-A130</th>\n      <th>TCGA-BR-4357</th>\n      <th>TCGA-CG-4449</th>\n      <th>TCGA-05-4422</th>\n      <th>TCGA-IK-7675</th>\n      <th>TCGA-CN-4729</th>\n      <th>TCGA-49-4510</th>\n      <th>...</th>\n      <th>TCGA-KN-8429</th>\n      <th>TCGA-KN-8431</th>\n      <th>TCGA-KN-8437</th>\n      <th>TCGA-KO-8405</th>\n      <th>TCGA-KO-8406</th>\n      <th>TCGA-KO-8407</th>\n      <th>TCGA-KO-8409</th>\n      <th>TCGA-KO-8410</th>\n      <th>TCGA-KO-8411</th>\n      <th>TCGA-KO-8417</th>\n      <th>TCGA-L6-A4ET</th>\n      <th>TCGA-MH-A55W</th>\n      <th>TCGA-MH-A560</th>\n      <th>TCGA-MH-A562</th>\n      <th>TCGA-MR-A520</th>\n      <th>TCGA-V3-A9ZY</th>\n      <th>TCGA-V4-A9E5</th>\n      <th>TCGA-V4-A9E8</th>\n      <th>TCGA-V4-A9EC</th>\n      <th>TCGA-V4-A9ED</th>\n      <th>TCGA-V4-A9EF</th>\n      <th>TCGA-V4-A9EJ</th>\n      <th>TCGA-V4-A9EM</th>\n      <th>TCGA-V4-A9EO</th>\n      <th>TCGA-V4-A9ES</th>\n      <th>TCGA-V4-A9EZ</th>\n      <th>TCGA-V4-A9F0</th>\n      <th>TCGA-V4-A9F2</th>\n      <th>TCGA-V4-A9F7</th>\n      <th>TCGA-V4-A9F8</th>\n      <th>TCGA-VD-A8K7</th>\n      <th>TCGA-VD-A8KA</th>\n      <th>TCGA-VD-A8KD</th>\n      <th>TCGA-VD-A8KE</th>\n      <th>TCGA-VD-A8KF</th>\n      <th>TCGA-VD-A8KH</th>\n      <th>TCGA-VD-A8KL</th>\n      <th>TCGA-VD-A8KN</th>\n      <th>TCGA-VD-AA8O</th>\n      <th>TCGA-VD-AA8P</th>\n    </tr>\n  </thead>\n  <tbody>\n    <tr>\n      <th>252</th>\n      <td>APC</td>\n      <td>FUSION</td>\n      <td>NaN</td>\n      <td>NaN</td>\n      <td>NaN</td>\n      <td>NaN</td>\n      <td>NaN</td>\n      <td>NaN</td>\n      <td>NaN</td>\n      <td>NaN</td>\n      <td>NaN</td>\n      <td>NaN</td>\n      <td>NaN</td>\n      <td>NaN</td>\n      <td>NaN</td>\n      <td>NaN</td>\n      <td>NaN</td>\n      <td>NaN</td>\n      <td>NaN</td>\n      <td>NaN</td>\n      <td>NaN</td>\n      <td>NaN</td>\n      <td>NaN</td>\n      <td>NaN</td>\n      <td>NaN</td>\n      <td>NaN</td>\n      <td>NaN</td>\n      <td>NaN</td>\n      <td>NaN</td>\n      <td>NaN</td>\n      <td>NaN</td>\n      <td>NaN</td>\n      <td>NaN</td>\n      <td>NaN</td>\n      <td>NaN</td>\n      <td>NaN</td>\n      <td>NaN</td>\n      <td>NaN</td>\n      <td>NaN</td>\n      <td>NaN</td>\n      <td>...</td>\n      <td>NaN</td>\n      <td>NaN</td>\n      <td>NaN</td>\n      <td>NaN</td>\n      <td>NaN</td>\n      <td>NaN</td>\n      <td>NaN</td>\n      <td>NaN</td>\n      <td>NaN</td>\n      <td>NaN</td>\n      <td>NaN</td>\n      <td>NaN</td>\n      <td>NaN</td>\n      <td>NaN</td>\n      <td>NaN</td>\n      <td>NaN</td>\n      <td>NaN</td>\n      <td>NaN</td>\n      <td>NaN</td>\n      <td>NaN</td>\n      <td>NaN</td>\n      <td>NaN</td>\n      <td>NaN</td>\n      <td>NaN</td>\n      <td>NaN</td>\n      <td>NaN</td>\n      <td>NaN</td>\n      <td>NaN</td>\n      <td>NaN</td>\n      <td>NaN</td>\n      <td>NaN</td>\n      <td>NaN</td>\n      <td>NaN</td>\n      <td>NaN</td>\n      <td>NaN</td>\n      <td>NaN</td>\n      <td>NaN</td>\n      <td>NaN</td>\n      <td>NaN</td>\n      <td>NaN</td>\n    </tr>\n    <tr>\n      <th>253</th>\n      <td>ARHGEF12</td>\n      <td>FUSION</td>\n      <td>NaN</td>\n      <td>NaN</td>\n      <td>NaN</td>\n      <td>NaN</td>\n      <td>NaN</td>\n      <td>NaN</td>\n      <td>NaN</td>\n      <td>NaN</td>\n      <td>NaN</td>\n      <td>NaN</td>\n      <td>NaN</td>\n      <td>NaN</td>\n      <td>NaN</td>\n      <td>NaN</td>\n      <td>NaN</td>\n      <td>NaN</td>\n      <td>NaN</td>\n      <td>NaN</td>\n      <td>NaN</td>\n      <td>NaN</td>\n      <td>NaN</td>\n      <td>NaN</td>\n      <td>NaN</td>\n      <td>NaN</td>\n      <td>NaN</td>\n      <td>NaN</td>\n      <td>NaN</td>\n      <td>NaN</td>\n      <td>NaN</td>\n      <td>NaN</td>\n      <td>NaN</td>\n      <td>NaN</td>\n      <td>NaN</td>\n      <td>NaN</td>\n      <td>NaN</td>\n      <td>NaN</td>\n      <td>NaN</td>\n      <td>NaN</td>\n      <td>...</td>\n      <td>NaN</td>\n      <td>NaN</td>\n      <td>NaN</td>\n      <td>NaN</td>\n      <td>NaN</td>\n      <td>NaN</td>\n      <td>NaN</td>\n      <td>NaN</td>\n      <td>NaN</td>\n      <td>NaN</td>\n      <td>NaN</td>\n      <td>NaN</td>\n      <td>NaN</td>\n      <td>NaN</td>\n      <td>NaN</td>\n      <td>NaN</td>\n      <td>NaN</td>\n      <td>NaN</td>\n      <td>NaN</td>\n      <td>NaN</td>\n      <td>NaN</td>\n      <td>NaN</td>\n      <td>NaN</td>\n      <td>NaN</td>\n      <td>NaN</td>\n      <td>NaN</td>\n      <td>NaN</td>\n      <td>NaN</td>\n      <td>NaN</td>\n      <td>NaN</td>\n      <td>NaN</td>\n      <td>NaN</td>\n      <td>NaN</td>\n      <td>NaN</td>\n      <td>NaN</td>\n      <td>NaN</td>\n      <td>NaN</td>\n      <td>NaN</td>\n      <td>NaN</td>\n      <td>NaN</td>\n    </tr>\n    <tr>\n      <th>254</th>\n      <td>ATM</td>\n      <td>FUSION</td>\n      <td>NaN</td>\n      <td>NaN</td>\n      <td>NaN</td>\n      <td>NaN</td>\n      <td>NaN</td>\n      <td>NaN</td>\n      <td>NaN</td>\n      <td>NaN</td>\n      <td>NaN</td>\n      <td>NaN</td>\n      <td>NaN</td>\n      <td>NaN</td>\n      <td>NaN</td>\n      <td>NaN</td>\n      <td>NaN</td>\n      <td>NaN</td>\n      <td>NaN</td>\n      <td>NaN</td>\n      <td>NaN</td>\n      <td>NaN</td>\n      <td>NaN</td>\n      <td>NaN</td>\n      <td>NaN</td>\n      <td>NaN</td>\n      <td>NaN</td>\n      <td>NaN</td>\n      <td>NaN</td>\n      <td>NaN</td>\n      <td>NaN</td>\n      <td>NaN</td>\n      <td>NaN</td>\n      <td>NaN</td>\n      <td>NaN</td>\n      <td>NaN</td>\n      <td>NaN</td>\n      <td>NaN</td>\n      <td>NaN</td>\n      <td>NaN</td>\n      <td>...</td>\n      <td>NaN</td>\n      <td>NaN</td>\n      <td>NaN</td>\n      <td>NaN</td>\n      <td>NaN</td>\n      <td>NaN</td>\n      <td>NaN</td>\n      <td>NaN</td>\n      <td>NaN</td>\n      <td>NaN</td>\n      <td>NaN</td>\n      <td>NaN</td>\n      <td>NaN</td>\n      <td>NaN</td>\n      <td>NaN</td>\n      <td>NaN</td>\n      <td>NaN</td>\n      <td>NaN</td>\n      <td>NaN</td>\n      <td>NaN</td>\n      <td>NaN</td>\n      <td>NaN</td>\n      <td>NaN</td>\n      <td>NaN</td>\n      <td>NaN</td>\n      <td>NaN</td>\n      <td>NaN</td>\n      <td>NaN</td>\n      <td>NaN</td>\n      <td>NaN</td>\n      <td>NaN</td>\n      <td>NaN</td>\n      <td>NaN</td>\n      <td>NaN</td>\n      <td>NaN</td>\n      <td>NaN</td>\n      <td>NaN</td>\n      <td>NaN</td>\n      <td>NaN</td>\n      <td>NaN</td>\n    </tr>\n    <tr>\n      <th>255</th>\n      <td>BCL11B</td>\n      <td>FUSION</td>\n      <td>NaN</td>\n      <td>NaN</td>\n      <td>NaN</td>\n      <td>NaN</td>\n      <td>NaN</td>\n      <td>NaN</td>\n      <td>NaN</td>\n      <td>NaN</td>\n      <td>NaN</td>\n      <td>NaN</td>\n      <td>NaN</td>\n      <td>NaN</td>\n      <td>NaN</td>\n      <td>NaN</td>\n      <td>NaN</td>\n      <td>NaN</td>\n      <td>NaN</td>\n      <td>NaN</td>\n      <td>NaN</td>\n      <td>NaN</td>\n      <td>NaN</td>\n      <td>NaN</td>\n      <td>NaN</td>\n      <td>NaN</td>\n      <td>NaN</td>\n      <td>NaN</td>\n      <td>NaN</td>\n      <td>NaN</td>\n      <td>NaN</td>\n      <td>NaN</td>\n      <td>NaN</td>\n      <td>NaN</td>\n      <td>NaN</td>\n      <td>NaN</td>\n      <td>NaN</td>\n      <td>NaN</td>\n      <td>NaN</td>\n      <td>NaN</td>\n      <td>...</td>\n      <td>NaN</td>\n      <td>NaN</td>\n      <td>NaN</td>\n      <td>NaN</td>\n      <td>NaN</td>\n      <td>NaN</td>\n      <td>NaN</td>\n      <td>NaN</td>\n      <td>NaN</td>\n      <td>NaN</td>\n      <td>NaN</td>\n      <td>NaN</td>\n      <td>NaN</td>\n      <td>NaN</td>\n      <td>NaN</td>\n      <td>NaN</td>\n      <td>NaN</td>\n      <td>NaN</td>\n      <td>NaN</td>\n      <td>NaN</td>\n      <td>NaN</td>\n      <td>NaN</td>\n      <td>NaN</td>\n      <td>NaN</td>\n      <td>NaN</td>\n      <td>NaN</td>\n      <td>NaN</td>\n      <td>NaN</td>\n      <td>NaN</td>\n      <td>NaN</td>\n      <td>NaN</td>\n      <td>NaN</td>\n      <td>NaN</td>\n      <td>NaN</td>\n      <td>NaN</td>\n      <td>NaN</td>\n      <td>NaN</td>\n      <td>NaN</td>\n      <td>NaN</td>\n      <td>NaN</td>\n    </tr>\n    <tr>\n      <th>256</th>\n      <td>BLM</td>\n      <td>FUSION</td>\n      <td>NaN</td>\n      <td>NaN</td>\n      <td>NaN</td>\n      <td>NaN</td>\n      <td>NaN</td>\n      <td>NaN</td>\n      <td>NaN</td>\n      <td>NaN</td>\n      <td>NaN</td>\n      <td>NaN</td>\n      <td>NaN</td>\n      <td>NaN</td>\n      <td>NaN</td>\n      <td>NaN</td>\n      <td>NaN</td>\n      <td>NaN</td>\n      <td>NaN</td>\n      <td>NaN</td>\n      <td>NaN</td>\n      <td>NaN</td>\n      <td>NaN</td>\n      <td>NaN</td>\n      <td>NaN</td>\n      <td>NaN</td>\n      <td>NaN</td>\n      <td>NaN</td>\n      <td>NaN</td>\n      <td>NaN</td>\n      <td>NaN</td>\n      <td>NaN</td>\n      <td>NaN</td>\n      <td>NaN</td>\n      <td>NaN</td>\n      <td>NaN</td>\n      <td>NaN</td>\n      <td>NaN</td>\n      <td>NaN</td>\n      <td>NaN</td>\n      <td>...</td>\n      <td>NaN</td>\n      <td>NaN</td>\n      <td>NaN</td>\n      <td>NaN</td>\n      <td>NaN</td>\n      <td>NaN</td>\n      <td>NaN</td>\n      <td>NaN</td>\n      <td>NaN</td>\n      <td>NaN</td>\n      <td>NaN</td>\n      <td>NaN</td>\n      <td>NaN</td>\n      <td>NaN</td>\n      <td>NaN</td>\n      <td>NaN</td>\n      <td>NaN</td>\n      <td>NaN</td>\n      <td>NaN</td>\n      <td>NaN</td>\n      <td>NaN</td>\n      <td>NaN</td>\n      <td>NaN</td>\n      <td>NaN</td>\n      <td>NaN</td>\n      <td>NaN</td>\n      <td>NaN</td>\n      <td>NaN</td>\n      <td>NaN</td>\n      <td>NaN</td>\n      <td>NaN</td>\n      <td>NaN</td>\n      <td>NaN</td>\n      <td>NaN</td>\n      <td>NaN</td>\n      <td>NaN</td>\n      <td>NaN</td>\n      <td>NaN</td>\n      <td>NaN</td>\n      <td>NaN</td>\n    </tr>\n  </tbody>\n</table>\n<p>5 rows × 1378 columns</p>\n</div>"
     },
     "metadata": {},
     "execution_count": 261
    }
   ],
   "source": [
    "fusion = df2[df2['track_type'] == 'FUSION']\n",
    "print(fusion.shape)\n",
    "fusion.head()"
   ]
  },
  {
   "source": [
    "i.e.    ecDNA+ | ecDNA-  \n",
    " Loss | #1 in +         | #1 in -    \n",
    " Not  | n_pos - #1in +  | n_neg - #1in-\n",
    " \n",
    "          |. sample1 | sample2 | sample |.   \n",
    "  gene |         "
   ],
   "cell_type": "markdown",
   "metadata": {}
  },
  {
   "cell_type": "code",
   "execution_count": 264,
   "metadata": {},
   "outputs": [
    {
     "output_type": "execute_result",
     "data": {
      "text/plain": [
       "63"
      ]
     },
     "metadata": {},
     "execution_count": 264
    }
   ],
   "source": [
    "genes = df2['track_name'].unique()\n",
    "n_gene = len(genes)\n",
    "n_gene"
   ]
  },
  {
   "cell_type": "code",
   "execution_count": 271,
   "metadata": {},
   "outputs": [
    {
     "output_type": "execute_result",
     "data": {
      "text/plain": [
       "(335, 1041, 1376)"
      ]
     },
     "metadata": {},
     "execution_count": 271
    }
   ],
   "source": [
    "n_pos, n_neg, n_pos + n_neg"
   ]
  },
  {
   "cell_type": "code",
   "execution_count": 279,
   "metadata": {},
   "outputs": [
    {
     "output_type": "execute_result",
     "data": {
      "text/plain": [
       "(1376,)"
      ]
     },
     "metadata": {},
     "execution_count": 279
    }
   ],
   "source": [
    "F = np.zeros(n_pos + n_neg)\n",
    "F.shape"
   ]
  },
  {
   "cell_type": "code",
   "execution_count": 280,
   "metadata": {},
   "outputs": [],
   "source": [
    "for j in range(2, len(fusion.columns)):\n",
    "    if fusion[fusion.columns[j]].notna().any() == True: F[j-2] = 1"
   ]
  },
  {
   "cell_type": "code",
   "execution_count": 281,
   "metadata": {},
   "outputs": [
    {
     "output_type": "execute_result",
     "data": {
      "text/plain": [
       "array([0., 0., 0., 0., 0., 0., 0., 0., 0., 0., 0., 0., 0., 0., 0., 0., 0.,\n",
       "       0., 0., 0.])"
      ]
     },
     "metadata": {},
     "execution_count": 281
    }
   ],
   "source": [
    "F[:20]"
   ]
  },
  {
   "cell_type": "code",
   "execution_count": 283,
   "metadata": {},
   "outputs": [
    {
     "output_type": "execute_result",
     "data": {
      "text/plain": [
       "(20.0, 31.0)"
      ]
     },
     "metadata": {},
     "execution_count": 283
    }
   ],
   "source": [
    "sum(F[:n_pos]), sum(F[n_pos:])"
   ]
  },
  {
   "cell_type": "code",
   "execution_count": 284,
   "metadata": {},
   "outputs": [
    {
     "output_type": "execute_result",
     "data": {
      "text/plain": [
       "array([[  20.,   31.],\n",
       "       [ 315., 1010.]])"
      ]
     },
     "metadata": {},
     "execution_count": 284
    }
   ],
   "source": [
    "fusion_pos, fusion_neg = sum(F[:n_pos]), sum(F[n_pos:])\n",
    "cont_table = np.array([[fusion_pos, fusion_neg], [n_pos - fusion_pos, n_neg - fusion_neg]])\n",
    "cont_table"
   ]
  },
  {
   "cell_type": "code",
   "execution_count": 288,
   "metadata": {},
   "outputs": [
    {
     "output_type": "execute_result",
     "data": {
      "text/plain": [
       "(0.01861709933210781, 0.018509606036505456)"
      ]
     },
     "metadata": {},
     "execution_count": 288
    }
   ],
   "source": [
    "_, fisher_fusion = stats.fisher_exact(cont_table)\n",
    "_, chi2_fusion, _, _ = stats.chi2_contingency(cont_table)\n",
    "fisher_fusion, chi2_fusion"
   ]
  },
  {
   "cell_type": "code",
   "execution_count": 287,
   "metadata": {},
   "outputs": [
    {
     "output_type": "execute_result",
     "data": {
      "text/plain": [
       "0.011753467717489731"
      ]
     },
     "metadata": {},
     "execution_count": 287
    }
   ],
   "source": [
    "_, fisher_fusion_onetail = stats.fisher_exact(cont_table, alternative='greater')\n",
    "fisher_fusion_onetail"
   ]
  },
  {
   "cell_type": "code",
   "execution_count": 291,
   "metadata": {},
   "outputs": [
    {
     "output_type": "execute_result",
     "data": {
      "text/plain": [
       "-4.699351302366429"
      ]
     },
     "metadata": {},
     "execution_count": 291
    }
   ],
   "source": [
    "mag_fusion = np.log2(sum(F) / (n_pos + n_neg - sum(F)))\n",
    "mag_fusion"
   ]
  },
  {
   "cell_type": "code",
   "execution_count": null,
   "metadata": {},
   "outputs": [],
   "source": []
  }
 ]
}